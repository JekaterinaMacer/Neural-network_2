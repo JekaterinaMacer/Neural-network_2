{
  "nbformat": 4,
  "nbformat_minor": 0,
  "metadata": {
    "colab": {
      "name": "Pytorch. Часть #1",
      "provenance": [],
      "collapsed_sections": []
    },
    "kernelspec": {
      "name": "python3",
      "display_name": "Python 3"
    },
    "widgets": {
      "application/vnd.jupyter.widget-state+json": {
        "dee9ab424cec43c0849f5084272768b1": {
          "model_module": "@jupyter-widgets/controls",
          "model_name": "HBoxModel",
          "model_module_version": "1.5.0",
          "state": {
            "_dom_classes": [],
            "_model_module": "@jupyter-widgets/controls",
            "_model_module_version": "1.5.0",
            "_model_name": "HBoxModel",
            "_view_count": null,
            "_view_module": "@jupyter-widgets/controls",
            "_view_module_version": "1.5.0",
            "_view_name": "HBoxView",
            "box_style": "",
            "children": [
              "IPY_MODEL_bbd29e4fdf794c2493c644d50232e358",
              "IPY_MODEL_e969c7a147ce47868d489de65fe2127b",
              "IPY_MODEL_27db2d4b36884f6290d1757ffc72badf"
            ],
            "layout": "IPY_MODEL_fd0ff76683544f378f4d6850a41d2e13"
          }
        },
        "bbd29e4fdf794c2493c644d50232e358": {
          "model_module": "@jupyter-widgets/controls",
          "model_name": "HTMLModel",
          "model_module_version": "1.5.0",
          "state": {
            "_dom_classes": [],
            "_model_module": "@jupyter-widgets/controls",
            "_model_module_version": "1.5.0",
            "_model_name": "HTMLModel",
            "_view_count": null,
            "_view_module": "@jupyter-widgets/controls",
            "_view_module_version": "1.5.0",
            "_view_name": "HTMLView",
            "description": "",
            "description_tooltip": null,
            "layout": "IPY_MODEL_cc1aacbb3eea42cba2932941e28d61a5",
            "placeholder": "​",
            "style": "IPY_MODEL_47bfd8fb70c04c7ba6e897c85472e1a2",
            "value": ""
          }
        },
        "e969c7a147ce47868d489de65fe2127b": {
          "model_module": "@jupyter-widgets/controls",
          "model_name": "FloatProgressModel",
          "model_module_version": "1.5.0",
          "state": {
            "_dom_classes": [],
            "_model_module": "@jupyter-widgets/controls",
            "_model_module_version": "1.5.0",
            "_model_name": "FloatProgressModel",
            "_view_count": null,
            "_view_module": "@jupyter-widgets/controls",
            "_view_module_version": "1.5.0",
            "_view_name": "ProgressView",
            "bar_style": "success",
            "description": "",
            "description_tooltip": null,
            "layout": "IPY_MODEL_8f01d401e810418392149fc17167cd96",
            "max": 170498071,
            "min": 0,
            "orientation": "horizontal",
            "style": "IPY_MODEL_ec7a26a291a14453afcdcffa4ac55c86",
            "value": 170498071
          }
        },
        "27db2d4b36884f6290d1757ffc72badf": {
          "model_module": "@jupyter-widgets/controls",
          "model_name": "HTMLModel",
          "model_module_version": "1.5.0",
          "state": {
            "_dom_classes": [],
            "_model_module": "@jupyter-widgets/controls",
            "_model_module_version": "1.5.0",
            "_model_name": "HTMLModel",
            "_view_count": null,
            "_view_module": "@jupyter-widgets/controls",
            "_view_module_version": "1.5.0",
            "_view_name": "HTMLView",
            "description": "",
            "description_tooltip": null,
            "layout": "IPY_MODEL_69b90a5007194a15adc15180ef4aa681",
            "placeholder": "​",
            "style": "IPY_MODEL_562bef1f9b5b4ef29ce01fed8127fd8e",
            "value": " 170499072/? [00:02&lt;00:00, 58654165.95it/s]"
          }
        },
        "fd0ff76683544f378f4d6850a41d2e13": {
          "model_module": "@jupyter-widgets/base",
          "model_name": "LayoutModel",
          "model_module_version": "1.2.0",
          "state": {
            "_model_module": "@jupyter-widgets/base",
            "_model_module_version": "1.2.0",
            "_model_name": "LayoutModel",
            "_view_count": null,
            "_view_module": "@jupyter-widgets/base",
            "_view_module_version": "1.2.0",
            "_view_name": "LayoutView",
            "align_content": null,
            "align_items": null,
            "align_self": null,
            "border": null,
            "bottom": null,
            "display": null,
            "flex": null,
            "flex_flow": null,
            "grid_area": null,
            "grid_auto_columns": null,
            "grid_auto_flow": null,
            "grid_auto_rows": null,
            "grid_column": null,
            "grid_gap": null,
            "grid_row": null,
            "grid_template_areas": null,
            "grid_template_columns": null,
            "grid_template_rows": null,
            "height": null,
            "justify_content": null,
            "justify_items": null,
            "left": null,
            "margin": null,
            "max_height": null,
            "max_width": null,
            "min_height": null,
            "min_width": null,
            "object_fit": null,
            "object_position": null,
            "order": null,
            "overflow": null,
            "overflow_x": null,
            "overflow_y": null,
            "padding": null,
            "right": null,
            "top": null,
            "visibility": null,
            "width": null
          }
        },
        "cc1aacbb3eea42cba2932941e28d61a5": {
          "model_module": "@jupyter-widgets/base",
          "model_name": "LayoutModel",
          "model_module_version": "1.2.0",
          "state": {
            "_model_module": "@jupyter-widgets/base",
            "_model_module_version": "1.2.0",
            "_model_name": "LayoutModel",
            "_view_count": null,
            "_view_module": "@jupyter-widgets/base",
            "_view_module_version": "1.2.0",
            "_view_name": "LayoutView",
            "align_content": null,
            "align_items": null,
            "align_self": null,
            "border": null,
            "bottom": null,
            "display": null,
            "flex": null,
            "flex_flow": null,
            "grid_area": null,
            "grid_auto_columns": null,
            "grid_auto_flow": null,
            "grid_auto_rows": null,
            "grid_column": null,
            "grid_gap": null,
            "grid_row": null,
            "grid_template_areas": null,
            "grid_template_columns": null,
            "grid_template_rows": null,
            "height": null,
            "justify_content": null,
            "justify_items": null,
            "left": null,
            "margin": null,
            "max_height": null,
            "max_width": null,
            "min_height": null,
            "min_width": null,
            "object_fit": null,
            "object_position": null,
            "order": null,
            "overflow": null,
            "overflow_x": null,
            "overflow_y": null,
            "padding": null,
            "right": null,
            "top": null,
            "visibility": null,
            "width": null
          }
        },
        "47bfd8fb70c04c7ba6e897c85472e1a2": {
          "model_module": "@jupyter-widgets/controls",
          "model_name": "DescriptionStyleModel",
          "model_module_version": "1.5.0",
          "state": {
            "_model_module": "@jupyter-widgets/controls",
            "_model_module_version": "1.5.0",
            "_model_name": "DescriptionStyleModel",
            "_view_count": null,
            "_view_module": "@jupyter-widgets/base",
            "_view_module_version": "1.2.0",
            "_view_name": "StyleView",
            "description_width": ""
          }
        },
        "8f01d401e810418392149fc17167cd96": {
          "model_module": "@jupyter-widgets/base",
          "model_name": "LayoutModel",
          "model_module_version": "1.2.0",
          "state": {
            "_model_module": "@jupyter-widgets/base",
            "_model_module_version": "1.2.0",
            "_model_name": "LayoutModel",
            "_view_count": null,
            "_view_module": "@jupyter-widgets/base",
            "_view_module_version": "1.2.0",
            "_view_name": "LayoutView",
            "align_content": null,
            "align_items": null,
            "align_self": null,
            "border": null,
            "bottom": null,
            "display": null,
            "flex": null,
            "flex_flow": null,
            "grid_area": null,
            "grid_auto_columns": null,
            "grid_auto_flow": null,
            "grid_auto_rows": null,
            "grid_column": null,
            "grid_gap": null,
            "grid_row": null,
            "grid_template_areas": null,
            "grid_template_columns": null,
            "grid_template_rows": null,
            "height": null,
            "justify_content": null,
            "justify_items": null,
            "left": null,
            "margin": null,
            "max_height": null,
            "max_width": null,
            "min_height": null,
            "min_width": null,
            "object_fit": null,
            "object_position": null,
            "order": null,
            "overflow": null,
            "overflow_x": null,
            "overflow_y": null,
            "padding": null,
            "right": null,
            "top": null,
            "visibility": null,
            "width": null
          }
        },
        "ec7a26a291a14453afcdcffa4ac55c86": {
          "model_module": "@jupyter-widgets/controls",
          "model_name": "ProgressStyleModel",
          "model_module_version": "1.5.0",
          "state": {
            "_model_module": "@jupyter-widgets/controls",
            "_model_module_version": "1.5.0",
            "_model_name": "ProgressStyleModel",
            "_view_count": null,
            "_view_module": "@jupyter-widgets/base",
            "_view_module_version": "1.2.0",
            "_view_name": "StyleView",
            "bar_color": null,
            "description_width": ""
          }
        },
        "69b90a5007194a15adc15180ef4aa681": {
          "model_module": "@jupyter-widgets/base",
          "model_name": "LayoutModel",
          "model_module_version": "1.2.0",
          "state": {
            "_model_module": "@jupyter-widgets/base",
            "_model_module_version": "1.2.0",
            "_model_name": "LayoutModel",
            "_view_count": null,
            "_view_module": "@jupyter-widgets/base",
            "_view_module_version": "1.2.0",
            "_view_name": "LayoutView",
            "align_content": null,
            "align_items": null,
            "align_self": null,
            "border": null,
            "bottom": null,
            "display": null,
            "flex": null,
            "flex_flow": null,
            "grid_area": null,
            "grid_auto_columns": null,
            "grid_auto_flow": null,
            "grid_auto_rows": null,
            "grid_column": null,
            "grid_gap": null,
            "grid_row": null,
            "grid_template_areas": null,
            "grid_template_columns": null,
            "grid_template_rows": null,
            "height": null,
            "justify_content": null,
            "justify_items": null,
            "left": null,
            "margin": null,
            "max_height": null,
            "max_width": null,
            "min_height": null,
            "min_width": null,
            "object_fit": null,
            "object_position": null,
            "order": null,
            "overflow": null,
            "overflow_x": null,
            "overflow_y": null,
            "padding": null,
            "right": null,
            "top": null,
            "visibility": null,
            "width": null
          }
        },
        "562bef1f9b5b4ef29ce01fed8127fd8e": {
          "model_module": "@jupyter-widgets/controls",
          "model_name": "DescriptionStyleModel",
          "model_module_version": "1.5.0",
          "state": {
            "_model_module": "@jupyter-widgets/controls",
            "_model_module_version": "1.5.0",
            "_model_name": "DescriptionStyleModel",
            "_view_count": null,
            "_view_module": "@jupyter-widgets/base",
            "_view_module_version": "1.2.0",
            "_view_name": "StyleView",
            "description_width": ""
          }
        },
        "79efb22bc8b0494fa326b444ec3366b2": {
          "model_module": "@jupyter-widgets/controls",
          "model_name": "HBoxModel",
          "model_module_version": "1.5.0",
          "state": {
            "_dom_classes": [],
            "_model_module": "@jupyter-widgets/controls",
            "_model_module_version": "1.5.0",
            "_model_name": "HBoxModel",
            "_view_count": null,
            "_view_module": "@jupyter-widgets/controls",
            "_view_module_version": "1.5.0",
            "_view_name": "HBoxView",
            "box_style": "",
            "children": [
              "IPY_MODEL_4a36644c7222465e82036d02f2c84307",
              "IPY_MODEL_f520e64e6640418aac1304ed91dbb5ee",
              "IPY_MODEL_8261d80010764e4ea04016075da1dde5"
            ],
            "layout": "IPY_MODEL_cf799e483e354b168f61f0f07226753f"
          }
        },
        "4a36644c7222465e82036d02f2c84307": {
          "model_module": "@jupyter-widgets/controls",
          "model_name": "HTMLModel",
          "model_module_version": "1.5.0",
          "state": {
            "_dom_classes": [],
            "_model_module": "@jupyter-widgets/controls",
            "_model_module_version": "1.5.0",
            "_model_name": "HTMLModel",
            "_view_count": null,
            "_view_module": "@jupyter-widgets/controls",
            "_view_module_version": "1.5.0",
            "_view_name": "HTMLView",
            "description": "",
            "description_tooltip": null,
            "layout": "IPY_MODEL_2d27ff867ce5461cbcaafbcc5b859bf0",
            "placeholder": "​",
            "style": "IPY_MODEL_1dada95f08264f6a8e44f2f99b270dc2",
            "value": ""
          }
        },
        "f520e64e6640418aac1304ed91dbb5ee": {
          "model_module": "@jupyter-widgets/controls",
          "model_name": "FloatProgressModel",
          "model_module_version": "1.5.0",
          "state": {
            "_dom_classes": [],
            "_model_module": "@jupyter-widgets/controls",
            "_model_module_version": "1.5.0",
            "_model_name": "FloatProgressModel",
            "_view_count": null,
            "_view_module": "@jupyter-widgets/controls",
            "_view_module_version": "1.5.0",
            "_view_name": "ProgressView",
            "bar_style": "success",
            "description": "",
            "description_tooltip": null,
            "layout": "IPY_MODEL_bd402eb5c6064fab93d18d6c6b935435",
            "max": 9912422,
            "min": 0,
            "orientation": "horizontal",
            "style": "IPY_MODEL_a3c1044b37db4d95940f744a06aaa9eb",
            "value": 9912422
          }
        },
        "8261d80010764e4ea04016075da1dde5": {
          "model_module": "@jupyter-widgets/controls",
          "model_name": "HTMLModel",
          "model_module_version": "1.5.0",
          "state": {
            "_dom_classes": [],
            "_model_module": "@jupyter-widgets/controls",
            "_model_module_version": "1.5.0",
            "_model_name": "HTMLModel",
            "_view_count": null,
            "_view_module": "@jupyter-widgets/controls",
            "_view_module_version": "1.5.0",
            "_view_name": "HTMLView",
            "description": "",
            "description_tooltip": null,
            "layout": "IPY_MODEL_543875832d464917b936796c7e8efdfd",
            "placeholder": "​",
            "style": "IPY_MODEL_a2944096215c44448b718a1cebc28cd8",
            "value": " 9913344/? [00:00&lt;00:00, 25862010.14it/s]"
          }
        },
        "cf799e483e354b168f61f0f07226753f": {
          "model_module": "@jupyter-widgets/base",
          "model_name": "LayoutModel",
          "model_module_version": "1.2.0",
          "state": {
            "_model_module": "@jupyter-widgets/base",
            "_model_module_version": "1.2.0",
            "_model_name": "LayoutModel",
            "_view_count": null,
            "_view_module": "@jupyter-widgets/base",
            "_view_module_version": "1.2.0",
            "_view_name": "LayoutView",
            "align_content": null,
            "align_items": null,
            "align_self": null,
            "border": null,
            "bottom": null,
            "display": null,
            "flex": null,
            "flex_flow": null,
            "grid_area": null,
            "grid_auto_columns": null,
            "grid_auto_flow": null,
            "grid_auto_rows": null,
            "grid_column": null,
            "grid_gap": null,
            "grid_row": null,
            "grid_template_areas": null,
            "grid_template_columns": null,
            "grid_template_rows": null,
            "height": null,
            "justify_content": null,
            "justify_items": null,
            "left": null,
            "margin": null,
            "max_height": null,
            "max_width": null,
            "min_height": null,
            "min_width": null,
            "object_fit": null,
            "object_position": null,
            "order": null,
            "overflow": null,
            "overflow_x": null,
            "overflow_y": null,
            "padding": null,
            "right": null,
            "top": null,
            "visibility": null,
            "width": null
          }
        },
        "2d27ff867ce5461cbcaafbcc5b859bf0": {
          "model_module": "@jupyter-widgets/base",
          "model_name": "LayoutModel",
          "model_module_version": "1.2.0",
          "state": {
            "_model_module": "@jupyter-widgets/base",
            "_model_module_version": "1.2.0",
            "_model_name": "LayoutModel",
            "_view_count": null,
            "_view_module": "@jupyter-widgets/base",
            "_view_module_version": "1.2.0",
            "_view_name": "LayoutView",
            "align_content": null,
            "align_items": null,
            "align_self": null,
            "border": null,
            "bottom": null,
            "display": null,
            "flex": null,
            "flex_flow": null,
            "grid_area": null,
            "grid_auto_columns": null,
            "grid_auto_flow": null,
            "grid_auto_rows": null,
            "grid_column": null,
            "grid_gap": null,
            "grid_row": null,
            "grid_template_areas": null,
            "grid_template_columns": null,
            "grid_template_rows": null,
            "height": null,
            "justify_content": null,
            "justify_items": null,
            "left": null,
            "margin": null,
            "max_height": null,
            "max_width": null,
            "min_height": null,
            "min_width": null,
            "object_fit": null,
            "object_position": null,
            "order": null,
            "overflow": null,
            "overflow_x": null,
            "overflow_y": null,
            "padding": null,
            "right": null,
            "top": null,
            "visibility": null,
            "width": null
          }
        },
        "1dada95f08264f6a8e44f2f99b270dc2": {
          "model_module": "@jupyter-widgets/controls",
          "model_name": "DescriptionStyleModel",
          "model_module_version": "1.5.0",
          "state": {
            "_model_module": "@jupyter-widgets/controls",
            "_model_module_version": "1.5.0",
            "_model_name": "DescriptionStyleModel",
            "_view_count": null,
            "_view_module": "@jupyter-widgets/base",
            "_view_module_version": "1.2.0",
            "_view_name": "StyleView",
            "description_width": ""
          }
        },
        "bd402eb5c6064fab93d18d6c6b935435": {
          "model_module": "@jupyter-widgets/base",
          "model_name": "LayoutModel",
          "model_module_version": "1.2.0",
          "state": {
            "_model_module": "@jupyter-widgets/base",
            "_model_module_version": "1.2.0",
            "_model_name": "LayoutModel",
            "_view_count": null,
            "_view_module": "@jupyter-widgets/base",
            "_view_module_version": "1.2.0",
            "_view_name": "LayoutView",
            "align_content": null,
            "align_items": null,
            "align_self": null,
            "border": null,
            "bottom": null,
            "display": null,
            "flex": null,
            "flex_flow": null,
            "grid_area": null,
            "grid_auto_columns": null,
            "grid_auto_flow": null,
            "grid_auto_rows": null,
            "grid_column": null,
            "grid_gap": null,
            "grid_row": null,
            "grid_template_areas": null,
            "grid_template_columns": null,
            "grid_template_rows": null,
            "height": null,
            "justify_content": null,
            "justify_items": null,
            "left": null,
            "margin": null,
            "max_height": null,
            "max_width": null,
            "min_height": null,
            "min_width": null,
            "object_fit": null,
            "object_position": null,
            "order": null,
            "overflow": null,
            "overflow_x": null,
            "overflow_y": null,
            "padding": null,
            "right": null,
            "top": null,
            "visibility": null,
            "width": null
          }
        },
        "a3c1044b37db4d95940f744a06aaa9eb": {
          "model_module": "@jupyter-widgets/controls",
          "model_name": "ProgressStyleModel",
          "model_module_version": "1.5.0",
          "state": {
            "_model_module": "@jupyter-widgets/controls",
            "_model_module_version": "1.5.0",
            "_model_name": "ProgressStyleModel",
            "_view_count": null,
            "_view_module": "@jupyter-widgets/base",
            "_view_module_version": "1.2.0",
            "_view_name": "StyleView",
            "bar_color": null,
            "description_width": ""
          }
        },
        "543875832d464917b936796c7e8efdfd": {
          "model_module": "@jupyter-widgets/base",
          "model_name": "LayoutModel",
          "model_module_version": "1.2.0",
          "state": {
            "_model_module": "@jupyter-widgets/base",
            "_model_module_version": "1.2.0",
            "_model_name": "LayoutModel",
            "_view_count": null,
            "_view_module": "@jupyter-widgets/base",
            "_view_module_version": "1.2.0",
            "_view_name": "LayoutView",
            "align_content": null,
            "align_items": null,
            "align_self": null,
            "border": null,
            "bottom": null,
            "display": null,
            "flex": null,
            "flex_flow": null,
            "grid_area": null,
            "grid_auto_columns": null,
            "grid_auto_flow": null,
            "grid_auto_rows": null,
            "grid_column": null,
            "grid_gap": null,
            "grid_row": null,
            "grid_template_areas": null,
            "grid_template_columns": null,
            "grid_template_rows": null,
            "height": null,
            "justify_content": null,
            "justify_items": null,
            "left": null,
            "margin": null,
            "max_height": null,
            "max_width": null,
            "min_height": null,
            "min_width": null,
            "object_fit": null,
            "object_position": null,
            "order": null,
            "overflow": null,
            "overflow_x": null,
            "overflow_y": null,
            "padding": null,
            "right": null,
            "top": null,
            "visibility": null,
            "width": null
          }
        },
        "a2944096215c44448b718a1cebc28cd8": {
          "model_module": "@jupyter-widgets/controls",
          "model_name": "DescriptionStyleModel",
          "model_module_version": "1.5.0",
          "state": {
            "_model_module": "@jupyter-widgets/controls",
            "_model_module_version": "1.5.0",
            "_model_name": "DescriptionStyleModel",
            "_view_count": null,
            "_view_module": "@jupyter-widgets/base",
            "_view_module_version": "1.2.0",
            "_view_name": "StyleView",
            "description_width": ""
          }
        },
        "16d13aa38abf47d5830dd0413f8b1f26": {
          "model_module": "@jupyter-widgets/controls",
          "model_name": "HBoxModel",
          "model_module_version": "1.5.0",
          "state": {
            "_dom_classes": [],
            "_model_module": "@jupyter-widgets/controls",
            "_model_module_version": "1.5.0",
            "_model_name": "HBoxModel",
            "_view_count": null,
            "_view_module": "@jupyter-widgets/controls",
            "_view_module_version": "1.5.0",
            "_view_name": "HBoxView",
            "box_style": "",
            "children": [
              "IPY_MODEL_0cc9faa2e4c64ff08c2a6b70109a155d",
              "IPY_MODEL_a0c53b0ceb084e0b91f70f99a0b9ea9f",
              "IPY_MODEL_1d80a20d91f64181b8020f5ea5791720"
            ],
            "layout": "IPY_MODEL_c9430876bbca410fa9f9198d3b43faf9"
          }
        },
        "0cc9faa2e4c64ff08c2a6b70109a155d": {
          "model_module": "@jupyter-widgets/controls",
          "model_name": "HTMLModel",
          "model_module_version": "1.5.0",
          "state": {
            "_dom_classes": [],
            "_model_module": "@jupyter-widgets/controls",
            "_model_module_version": "1.5.0",
            "_model_name": "HTMLModel",
            "_view_count": null,
            "_view_module": "@jupyter-widgets/controls",
            "_view_module_version": "1.5.0",
            "_view_name": "HTMLView",
            "description": "",
            "description_tooltip": null,
            "layout": "IPY_MODEL_3e6d151afbb442539730e44ab2fe7337",
            "placeholder": "​",
            "style": "IPY_MODEL_eedf4f945cb04fc8bafff68219943c87",
            "value": ""
          }
        },
        "a0c53b0ceb084e0b91f70f99a0b9ea9f": {
          "model_module": "@jupyter-widgets/controls",
          "model_name": "FloatProgressModel",
          "model_module_version": "1.5.0",
          "state": {
            "_dom_classes": [],
            "_model_module": "@jupyter-widgets/controls",
            "_model_module_version": "1.5.0",
            "_model_name": "FloatProgressModel",
            "_view_count": null,
            "_view_module": "@jupyter-widgets/controls",
            "_view_module_version": "1.5.0",
            "_view_name": "ProgressView",
            "bar_style": "success",
            "description": "",
            "description_tooltip": null,
            "layout": "IPY_MODEL_f1ff46ace4174531b6ccaa2567c9509a",
            "max": 28881,
            "min": 0,
            "orientation": "horizontal",
            "style": "IPY_MODEL_9f75b0dddcd141f5a4eacd4445d40cba",
            "value": 28881
          }
        },
        "1d80a20d91f64181b8020f5ea5791720": {
          "model_module": "@jupyter-widgets/controls",
          "model_name": "HTMLModel",
          "model_module_version": "1.5.0",
          "state": {
            "_dom_classes": [],
            "_model_module": "@jupyter-widgets/controls",
            "_model_module_version": "1.5.0",
            "_model_name": "HTMLModel",
            "_view_count": null,
            "_view_module": "@jupyter-widgets/controls",
            "_view_module_version": "1.5.0",
            "_view_name": "HTMLView",
            "description": "",
            "description_tooltip": null,
            "layout": "IPY_MODEL_0dd033c9b8664446a30537469dbce2d2",
            "placeholder": "​",
            "style": "IPY_MODEL_79a3fe85ab5448888f18638f2eac442b",
            "value": " 29696/? [00:00&lt;00:00, 755372.04it/s]"
          }
        },
        "c9430876bbca410fa9f9198d3b43faf9": {
          "model_module": "@jupyter-widgets/base",
          "model_name": "LayoutModel",
          "model_module_version": "1.2.0",
          "state": {
            "_model_module": "@jupyter-widgets/base",
            "_model_module_version": "1.2.0",
            "_model_name": "LayoutModel",
            "_view_count": null,
            "_view_module": "@jupyter-widgets/base",
            "_view_module_version": "1.2.0",
            "_view_name": "LayoutView",
            "align_content": null,
            "align_items": null,
            "align_self": null,
            "border": null,
            "bottom": null,
            "display": null,
            "flex": null,
            "flex_flow": null,
            "grid_area": null,
            "grid_auto_columns": null,
            "grid_auto_flow": null,
            "grid_auto_rows": null,
            "grid_column": null,
            "grid_gap": null,
            "grid_row": null,
            "grid_template_areas": null,
            "grid_template_columns": null,
            "grid_template_rows": null,
            "height": null,
            "justify_content": null,
            "justify_items": null,
            "left": null,
            "margin": null,
            "max_height": null,
            "max_width": null,
            "min_height": null,
            "min_width": null,
            "object_fit": null,
            "object_position": null,
            "order": null,
            "overflow": null,
            "overflow_x": null,
            "overflow_y": null,
            "padding": null,
            "right": null,
            "top": null,
            "visibility": null,
            "width": null
          }
        },
        "3e6d151afbb442539730e44ab2fe7337": {
          "model_module": "@jupyter-widgets/base",
          "model_name": "LayoutModel",
          "model_module_version": "1.2.0",
          "state": {
            "_model_module": "@jupyter-widgets/base",
            "_model_module_version": "1.2.0",
            "_model_name": "LayoutModel",
            "_view_count": null,
            "_view_module": "@jupyter-widgets/base",
            "_view_module_version": "1.2.0",
            "_view_name": "LayoutView",
            "align_content": null,
            "align_items": null,
            "align_self": null,
            "border": null,
            "bottom": null,
            "display": null,
            "flex": null,
            "flex_flow": null,
            "grid_area": null,
            "grid_auto_columns": null,
            "grid_auto_flow": null,
            "grid_auto_rows": null,
            "grid_column": null,
            "grid_gap": null,
            "grid_row": null,
            "grid_template_areas": null,
            "grid_template_columns": null,
            "grid_template_rows": null,
            "height": null,
            "justify_content": null,
            "justify_items": null,
            "left": null,
            "margin": null,
            "max_height": null,
            "max_width": null,
            "min_height": null,
            "min_width": null,
            "object_fit": null,
            "object_position": null,
            "order": null,
            "overflow": null,
            "overflow_x": null,
            "overflow_y": null,
            "padding": null,
            "right": null,
            "top": null,
            "visibility": null,
            "width": null
          }
        },
        "eedf4f945cb04fc8bafff68219943c87": {
          "model_module": "@jupyter-widgets/controls",
          "model_name": "DescriptionStyleModel",
          "model_module_version": "1.5.0",
          "state": {
            "_model_module": "@jupyter-widgets/controls",
            "_model_module_version": "1.5.0",
            "_model_name": "DescriptionStyleModel",
            "_view_count": null,
            "_view_module": "@jupyter-widgets/base",
            "_view_module_version": "1.2.0",
            "_view_name": "StyleView",
            "description_width": ""
          }
        },
        "f1ff46ace4174531b6ccaa2567c9509a": {
          "model_module": "@jupyter-widgets/base",
          "model_name": "LayoutModel",
          "model_module_version": "1.2.0",
          "state": {
            "_model_module": "@jupyter-widgets/base",
            "_model_module_version": "1.2.0",
            "_model_name": "LayoutModel",
            "_view_count": null,
            "_view_module": "@jupyter-widgets/base",
            "_view_module_version": "1.2.0",
            "_view_name": "LayoutView",
            "align_content": null,
            "align_items": null,
            "align_self": null,
            "border": null,
            "bottom": null,
            "display": null,
            "flex": null,
            "flex_flow": null,
            "grid_area": null,
            "grid_auto_columns": null,
            "grid_auto_flow": null,
            "grid_auto_rows": null,
            "grid_column": null,
            "grid_gap": null,
            "grid_row": null,
            "grid_template_areas": null,
            "grid_template_columns": null,
            "grid_template_rows": null,
            "height": null,
            "justify_content": null,
            "justify_items": null,
            "left": null,
            "margin": null,
            "max_height": null,
            "max_width": null,
            "min_height": null,
            "min_width": null,
            "object_fit": null,
            "object_position": null,
            "order": null,
            "overflow": null,
            "overflow_x": null,
            "overflow_y": null,
            "padding": null,
            "right": null,
            "top": null,
            "visibility": null,
            "width": null
          }
        },
        "9f75b0dddcd141f5a4eacd4445d40cba": {
          "model_module": "@jupyter-widgets/controls",
          "model_name": "ProgressStyleModel",
          "model_module_version": "1.5.0",
          "state": {
            "_model_module": "@jupyter-widgets/controls",
            "_model_module_version": "1.5.0",
            "_model_name": "ProgressStyleModel",
            "_view_count": null,
            "_view_module": "@jupyter-widgets/base",
            "_view_module_version": "1.2.0",
            "_view_name": "StyleView",
            "bar_color": null,
            "description_width": ""
          }
        },
        "0dd033c9b8664446a30537469dbce2d2": {
          "model_module": "@jupyter-widgets/base",
          "model_name": "LayoutModel",
          "model_module_version": "1.2.0",
          "state": {
            "_model_module": "@jupyter-widgets/base",
            "_model_module_version": "1.2.0",
            "_model_name": "LayoutModel",
            "_view_count": null,
            "_view_module": "@jupyter-widgets/base",
            "_view_module_version": "1.2.0",
            "_view_name": "LayoutView",
            "align_content": null,
            "align_items": null,
            "align_self": null,
            "border": null,
            "bottom": null,
            "display": null,
            "flex": null,
            "flex_flow": null,
            "grid_area": null,
            "grid_auto_columns": null,
            "grid_auto_flow": null,
            "grid_auto_rows": null,
            "grid_column": null,
            "grid_gap": null,
            "grid_row": null,
            "grid_template_areas": null,
            "grid_template_columns": null,
            "grid_template_rows": null,
            "height": null,
            "justify_content": null,
            "justify_items": null,
            "left": null,
            "margin": null,
            "max_height": null,
            "max_width": null,
            "min_height": null,
            "min_width": null,
            "object_fit": null,
            "object_position": null,
            "order": null,
            "overflow": null,
            "overflow_x": null,
            "overflow_y": null,
            "padding": null,
            "right": null,
            "top": null,
            "visibility": null,
            "width": null
          }
        },
        "79a3fe85ab5448888f18638f2eac442b": {
          "model_module": "@jupyter-widgets/controls",
          "model_name": "DescriptionStyleModel",
          "model_module_version": "1.5.0",
          "state": {
            "_model_module": "@jupyter-widgets/controls",
            "_model_module_version": "1.5.0",
            "_model_name": "DescriptionStyleModel",
            "_view_count": null,
            "_view_module": "@jupyter-widgets/base",
            "_view_module_version": "1.2.0",
            "_view_name": "StyleView",
            "description_width": ""
          }
        },
        "0596c19cc5b3478f987a3677ce8190f6": {
          "model_module": "@jupyter-widgets/controls",
          "model_name": "HBoxModel",
          "model_module_version": "1.5.0",
          "state": {
            "_dom_classes": [],
            "_model_module": "@jupyter-widgets/controls",
            "_model_module_version": "1.5.0",
            "_model_name": "HBoxModel",
            "_view_count": null,
            "_view_module": "@jupyter-widgets/controls",
            "_view_module_version": "1.5.0",
            "_view_name": "HBoxView",
            "box_style": "",
            "children": [
              "IPY_MODEL_0f84319930ab46c7bfad81539c46ccb9",
              "IPY_MODEL_79048c2895314250a533d498c81d3a58",
              "IPY_MODEL_cddab7f33461472c8d1a846d052bc5f9"
            ],
            "layout": "IPY_MODEL_9bf87276826c4b9490e68e11b1e78a7a"
          }
        },
        "0f84319930ab46c7bfad81539c46ccb9": {
          "model_module": "@jupyter-widgets/controls",
          "model_name": "HTMLModel",
          "model_module_version": "1.5.0",
          "state": {
            "_dom_classes": [],
            "_model_module": "@jupyter-widgets/controls",
            "_model_module_version": "1.5.0",
            "_model_name": "HTMLModel",
            "_view_count": null,
            "_view_module": "@jupyter-widgets/controls",
            "_view_module_version": "1.5.0",
            "_view_name": "HTMLView",
            "description": "",
            "description_tooltip": null,
            "layout": "IPY_MODEL_a01aa3a065324af1a8476813d1189283",
            "placeholder": "​",
            "style": "IPY_MODEL_3b79ae91ba394e539d993d0fc5d4a239",
            "value": ""
          }
        },
        "79048c2895314250a533d498c81d3a58": {
          "model_module": "@jupyter-widgets/controls",
          "model_name": "FloatProgressModel",
          "model_module_version": "1.5.0",
          "state": {
            "_dom_classes": [],
            "_model_module": "@jupyter-widgets/controls",
            "_model_module_version": "1.5.0",
            "_model_name": "FloatProgressModel",
            "_view_count": null,
            "_view_module": "@jupyter-widgets/controls",
            "_view_module_version": "1.5.0",
            "_view_name": "ProgressView",
            "bar_style": "success",
            "description": "",
            "description_tooltip": null,
            "layout": "IPY_MODEL_b5055dcc5cab49a4ae2fdb5bf0a04ec4",
            "max": 1648877,
            "min": 0,
            "orientation": "horizontal",
            "style": "IPY_MODEL_5aa2bc50f4664a5cbde8e6aea836e8d1",
            "value": 1648877
          }
        },
        "cddab7f33461472c8d1a846d052bc5f9": {
          "model_module": "@jupyter-widgets/controls",
          "model_name": "HTMLModel",
          "model_module_version": "1.5.0",
          "state": {
            "_dom_classes": [],
            "_model_module": "@jupyter-widgets/controls",
            "_model_module_version": "1.5.0",
            "_model_name": "HTMLModel",
            "_view_count": null,
            "_view_module": "@jupyter-widgets/controls",
            "_view_module_version": "1.5.0",
            "_view_name": "HTMLView",
            "description": "",
            "description_tooltip": null,
            "layout": "IPY_MODEL_8e8949e64dc2489991c6782d198f813b",
            "placeholder": "​",
            "style": "IPY_MODEL_13759935a5fe4000860b7e096d038a78",
            "value": " 1649664/? [00:00&lt;00:00, 17107573.49it/s]"
          }
        },
        "9bf87276826c4b9490e68e11b1e78a7a": {
          "model_module": "@jupyter-widgets/base",
          "model_name": "LayoutModel",
          "model_module_version": "1.2.0",
          "state": {
            "_model_module": "@jupyter-widgets/base",
            "_model_module_version": "1.2.0",
            "_model_name": "LayoutModel",
            "_view_count": null,
            "_view_module": "@jupyter-widgets/base",
            "_view_module_version": "1.2.0",
            "_view_name": "LayoutView",
            "align_content": null,
            "align_items": null,
            "align_self": null,
            "border": null,
            "bottom": null,
            "display": null,
            "flex": null,
            "flex_flow": null,
            "grid_area": null,
            "grid_auto_columns": null,
            "grid_auto_flow": null,
            "grid_auto_rows": null,
            "grid_column": null,
            "grid_gap": null,
            "grid_row": null,
            "grid_template_areas": null,
            "grid_template_columns": null,
            "grid_template_rows": null,
            "height": null,
            "justify_content": null,
            "justify_items": null,
            "left": null,
            "margin": null,
            "max_height": null,
            "max_width": null,
            "min_height": null,
            "min_width": null,
            "object_fit": null,
            "object_position": null,
            "order": null,
            "overflow": null,
            "overflow_x": null,
            "overflow_y": null,
            "padding": null,
            "right": null,
            "top": null,
            "visibility": null,
            "width": null
          }
        },
        "a01aa3a065324af1a8476813d1189283": {
          "model_module": "@jupyter-widgets/base",
          "model_name": "LayoutModel",
          "model_module_version": "1.2.0",
          "state": {
            "_model_module": "@jupyter-widgets/base",
            "_model_module_version": "1.2.0",
            "_model_name": "LayoutModel",
            "_view_count": null,
            "_view_module": "@jupyter-widgets/base",
            "_view_module_version": "1.2.0",
            "_view_name": "LayoutView",
            "align_content": null,
            "align_items": null,
            "align_self": null,
            "border": null,
            "bottom": null,
            "display": null,
            "flex": null,
            "flex_flow": null,
            "grid_area": null,
            "grid_auto_columns": null,
            "grid_auto_flow": null,
            "grid_auto_rows": null,
            "grid_column": null,
            "grid_gap": null,
            "grid_row": null,
            "grid_template_areas": null,
            "grid_template_columns": null,
            "grid_template_rows": null,
            "height": null,
            "justify_content": null,
            "justify_items": null,
            "left": null,
            "margin": null,
            "max_height": null,
            "max_width": null,
            "min_height": null,
            "min_width": null,
            "object_fit": null,
            "object_position": null,
            "order": null,
            "overflow": null,
            "overflow_x": null,
            "overflow_y": null,
            "padding": null,
            "right": null,
            "top": null,
            "visibility": null,
            "width": null
          }
        },
        "3b79ae91ba394e539d993d0fc5d4a239": {
          "model_module": "@jupyter-widgets/controls",
          "model_name": "DescriptionStyleModel",
          "model_module_version": "1.5.0",
          "state": {
            "_model_module": "@jupyter-widgets/controls",
            "_model_module_version": "1.5.0",
            "_model_name": "DescriptionStyleModel",
            "_view_count": null,
            "_view_module": "@jupyter-widgets/base",
            "_view_module_version": "1.2.0",
            "_view_name": "StyleView",
            "description_width": ""
          }
        },
        "b5055dcc5cab49a4ae2fdb5bf0a04ec4": {
          "model_module": "@jupyter-widgets/base",
          "model_name": "LayoutModel",
          "model_module_version": "1.2.0",
          "state": {
            "_model_module": "@jupyter-widgets/base",
            "_model_module_version": "1.2.0",
            "_model_name": "LayoutModel",
            "_view_count": null,
            "_view_module": "@jupyter-widgets/base",
            "_view_module_version": "1.2.0",
            "_view_name": "LayoutView",
            "align_content": null,
            "align_items": null,
            "align_self": null,
            "border": null,
            "bottom": null,
            "display": null,
            "flex": null,
            "flex_flow": null,
            "grid_area": null,
            "grid_auto_columns": null,
            "grid_auto_flow": null,
            "grid_auto_rows": null,
            "grid_column": null,
            "grid_gap": null,
            "grid_row": null,
            "grid_template_areas": null,
            "grid_template_columns": null,
            "grid_template_rows": null,
            "height": null,
            "justify_content": null,
            "justify_items": null,
            "left": null,
            "margin": null,
            "max_height": null,
            "max_width": null,
            "min_height": null,
            "min_width": null,
            "object_fit": null,
            "object_position": null,
            "order": null,
            "overflow": null,
            "overflow_x": null,
            "overflow_y": null,
            "padding": null,
            "right": null,
            "top": null,
            "visibility": null,
            "width": null
          }
        },
        "5aa2bc50f4664a5cbde8e6aea836e8d1": {
          "model_module": "@jupyter-widgets/controls",
          "model_name": "ProgressStyleModel",
          "model_module_version": "1.5.0",
          "state": {
            "_model_module": "@jupyter-widgets/controls",
            "_model_module_version": "1.5.0",
            "_model_name": "ProgressStyleModel",
            "_view_count": null,
            "_view_module": "@jupyter-widgets/base",
            "_view_module_version": "1.2.0",
            "_view_name": "StyleView",
            "bar_color": null,
            "description_width": ""
          }
        },
        "8e8949e64dc2489991c6782d198f813b": {
          "model_module": "@jupyter-widgets/base",
          "model_name": "LayoutModel",
          "model_module_version": "1.2.0",
          "state": {
            "_model_module": "@jupyter-widgets/base",
            "_model_module_version": "1.2.0",
            "_model_name": "LayoutModel",
            "_view_count": null,
            "_view_module": "@jupyter-widgets/base",
            "_view_module_version": "1.2.0",
            "_view_name": "LayoutView",
            "align_content": null,
            "align_items": null,
            "align_self": null,
            "border": null,
            "bottom": null,
            "display": null,
            "flex": null,
            "flex_flow": null,
            "grid_area": null,
            "grid_auto_columns": null,
            "grid_auto_flow": null,
            "grid_auto_rows": null,
            "grid_column": null,
            "grid_gap": null,
            "grid_row": null,
            "grid_template_areas": null,
            "grid_template_columns": null,
            "grid_template_rows": null,
            "height": null,
            "justify_content": null,
            "justify_items": null,
            "left": null,
            "margin": null,
            "max_height": null,
            "max_width": null,
            "min_height": null,
            "min_width": null,
            "object_fit": null,
            "object_position": null,
            "order": null,
            "overflow": null,
            "overflow_x": null,
            "overflow_y": null,
            "padding": null,
            "right": null,
            "top": null,
            "visibility": null,
            "width": null
          }
        },
        "13759935a5fe4000860b7e096d038a78": {
          "model_module": "@jupyter-widgets/controls",
          "model_name": "DescriptionStyleModel",
          "model_module_version": "1.5.0",
          "state": {
            "_model_module": "@jupyter-widgets/controls",
            "_model_module_version": "1.5.0",
            "_model_name": "DescriptionStyleModel",
            "_view_count": null,
            "_view_module": "@jupyter-widgets/base",
            "_view_module_version": "1.2.0",
            "_view_name": "StyleView",
            "description_width": ""
          }
        },
        "8e85a80bf83d473099679d7a67e96e11": {
          "model_module": "@jupyter-widgets/controls",
          "model_name": "HBoxModel",
          "model_module_version": "1.5.0",
          "state": {
            "_dom_classes": [],
            "_model_module": "@jupyter-widgets/controls",
            "_model_module_version": "1.5.0",
            "_model_name": "HBoxModel",
            "_view_count": null,
            "_view_module": "@jupyter-widgets/controls",
            "_view_module_version": "1.5.0",
            "_view_name": "HBoxView",
            "box_style": "",
            "children": [
              "IPY_MODEL_3a6f0507d0854784a5a889056a071d9a",
              "IPY_MODEL_737dfb9f327a4eb3a3c1f2b50891f71c",
              "IPY_MODEL_ebe5643c2b324a9e9366389f467062c8"
            ],
            "layout": "IPY_MODEL_c92ae8f9303d4bec90c09774335a4098"
          }
        },
        "3a6f0507d0854784a5a889056a071d9a": {
          "model_module": "@jupyter-widgets/controls",
          "model_name": "HTMLModel",
          "model_module_version": "1.5.0",
          "state": {
            "_dom_classes": [],
            "_model_module": "@jupyter-widgets/controls",
            "_model_module_version": "1.5.0",
            "_model_name": "HTMLModel",
            "_view_count": null,
            "_view_module": "@jupyter-widgets/controls",
            "_view_module_version": "1.5.0",
            "_view_name": "HTMLView",
            "description": "",
            "description_tooltip": null,
            "layout": "IPY_MODEL_a6559b5997c64452888658fab2def03b",
            "placeholder": "​",
            "style": "IPY_MODEL_a8ee0f5b5d0e4ed4abf393f294921bbe",
            "value": ""
          }
        },
        "737dfb9f327a4eb3a3c1f2b50891f71c": {
          "model_module": "@jupyter-widgets/controls",
          "model_name": "FloatProgressModel",
          "model_module_version": "1.5.0",
          "state": {
            "_dom_classes": [],
            "_model_module": "@jupyter-widgets/controls",
            "_model_module_version": "1.5.0",
            "_model_name": "FloatProgressModel",
            "_view_count": null,
            "_view_module": "@jupyter-widgets/controls",
            "_view_module_version": "1.5.0",
            "_view_name": "ProgressView",
            "bar_style": "success",
            "description": "",
            "description_tooltip": null,
            "layout": "IPY_MODEL_a3e7daab450b44af89ccffdf4ecf1df9",
            "max": 4542,
            "min": 0,
            "orientation": "horizontal",
            "style": "IPY_MODEL_7a140546659d409f988bdf5f48d0d18b",
            "value": 4542
          }
        },
        "ebe5643c2b324a9e9366389f467062c8": {
          "model_module": "@jupyter-widgets/controls",
          "model_name": "HTMLModel",
          "model_module_version": "1.5.0",
          "state": {
            "_dom_classes": [],
            "_model_module": "@jupyter-widgets/controls",
            "_model_module_version": "1.5.0",
            "_model_name": "HTMLModel",
            "_view_count": null,
            "_view_module": "@jupyter-widgets/controls",
            "_view_module_version": "1.5.0",
            "_view_name": "HTMLView",
            "description": "",
            "description_tooltip": null,
            "layout": "IPY_MODEL_cf0dae0e2c6a4b6999e379a654b8bfc3",
            "placeholder": "​",
            "style": "IPY_MODEL_ddf4706bb4ae4c04ad988523d90f1706",
            "value": " 5120/? [00:00&lt;00:00, 138975.92it/s]"
          }
        },
        "c92ae8f9303d4bec90c09774335a4098": {
          "model_module": "@jupyter-widgets/base",
          "model_name": "LayoutModel",
          "model_module_version": "1.2.0",
          "state": {
            "_model_module": "@jupyter-widgets/base",
            "_model_module_version": "1.2.0",
            "_model_name": "LayoutModel",
            "_view_count": null,
            "_view_module": "@jupyter-widgets/base",
            "_view_module_version": "1.2.0",
            "_view_name": "LayoutView",
            "align_content": null,
            "align_items": null,
            "align_self": null,
            "border": null,
            "bottom": null,
            "display": null,
            "flex": null,
            "flex_flow": null,
            "grid_area": null,
            "grid_auto_columns": null,
            "grid_auto_flow": null,
            "grid_auto_rows": null,
            "grid_column": null,
            "grid_gap": null,
            "grid_row": null,
            "grid_template_areas": null,
            "grid_template_columns": null,
            "grid_template_rows": null,
            "height": null,
            "justify_content": null,
            "justify_items": null,
            "left": null,
            "margin": null,
            "max_height": null,
            "max_width": null,
            "min_height": null,
            "min_width": null,
            "object_fit": null,
            "object_position": null,
            "order": null,
            "overflow": null,
            "overflow_x": null,
            "overflow_y": null,
            "padding": null,
            "right": null,
            "top": null,
            "visibility": null,
            "width": null
          }
        },
        "a6559b5997c64452888658fab2def03b": {
          "model_module": "@jupyter-widgets/base",
          "model_name": "LayoutModel",
          "model_module_version": "1.2.0",
          "state": {
            "_model_module": "@jupyter-widgets/base",
            "_model_module_version": "1.2.0",
            "_model_name": "LayoutModel",
            "_view_count": null,
            "_view_module": "@jupyter-widgets/base",
            "_view_module_version": "1.2.0",
            "_view_name": "LayoutView",
            "align_content": null,
            "align_items": null,
            "align_self": null,
            "border": null,
            "bottom": null,
            "display": null,
            "flex": null,
            "flex_flow": null,
            "grid_area": null,
            "grid_auto_columns": null,
            "grid_auto_flow": null,
            "grid_auto_rows": null,
            "grid_column": null,
            "grid_gap": null,
            "grid_row": null,
            "grid_template_areas": null,
            "grid_template_columns": null,
            "grid_template_rows": null,
            "height": null,
            "justify_content": null,
            "justify_items": null,
            "left": null,
            "margin": null,
            "max_height": null,
            "max_width": null,
            "min_height": null,
            "min_width": null,
            "object_fit": null,
            "object_position": null,
            "order": null,
            "overflow": null,
            "overflow_x": null,
            "overflow_y": null,
            "padding": null,
            "right": null,
            "top": null,
            "visibility": null,
            "width": null
          }
        },
        "a8ee0f5b5d0e4ed4abf393f294921bbe": {
          "model_module": "@jupyter-widgets/controls",
          "model_name": "DescriptionStyleModel",
          "model_module_version": "1.5.0",
          "state": {
            "_model_module": "@jupyter-widgets/controls",
            "_model_module_version": "1.5.0",
            "_model_name": "DescriptionStyleModel",
            "_view_count": null,
            "_view_module": "@jupyter-widgets/base",
            "_view_module_version": "1.2.0",
            "_view_name": "StyleView",
            "description_width": ""
          }
        },
        "a3e7daab450b44af89ccffdf4ecf1df9": {
          "model_module": "@jupyter-widgets/base",
          "model_name": "LayoutModel",
          "model_module_version": "1.2.0",
          "state": {
            "_model_module": "@jupyter-widgets/base",
            "_model_module_version": "1.2.0",
            "_model_name": "LayoutModel",
            "_view_count": null,
            "_view_module": "@jupyter-widgets/base",
            "_view_module_version": "1.2.0",
            "_view_name": "LayoutView",
            "align_content": null,
            "align_items": null,
            "align_self": null,
            "border": null,
            "bottom": null,
            "display": null,
            "flex": null,
            "flex_flow": null,
            "grid_area": null,
            "grid_auto_columns": null,
            "grid_auto_flow": null,
            "grid_auto_rows": null,
            "grid_column": null,
            "grid_gap": null,
            "grid_row": null,
            "grid_template_areas": null,
            "grid_template_columns": null,
            "grid_template_rows": null,
            "height": null,
            "justify_content": null,
            "justify_items": null,
            "left": null,
            "margin": null,
            "max_height": null,
            "max_width": null,
            "min_height": null,
            "min_width": null,
            "object_fit": null,
            "object_position": null,
            "order": null,
            "overflow": null,
            "overflow_x": null,
            "overflow_y": null,
            "padding": null,
            "right": null,
            "top": null,
            "visibility": null,
            "width": null
          }
        },
        "7a140546659d409f988bdf5f48d0d18b": {
          "model_module": "@jupyter-widgets/controls",
          "model_name": "ProgressStyleModel",
          "model_module_version": "1.5.0",
          "state": {
            "_model_module": "@jupyter-widgets/controls",
            "_model_module_version": "1.5.0",
            "_model_name": "ProgressStyleModel",
            "_view_count": null,
            "_view_module": "@jupyter-widgets/base",
            "_view_module_version": "1.2.0",
            "_view_name": "StyleView",
            "bar_color": null,
            "description_width": ""
          }
        },
        "cf0dae0e2c6a4b6999e379a654b8bfc3": {
          "model_module": "@jupyter-widgets/base",
          "model_name": "LayoutModel",
          "model_module_version": "1.2.0",
          "state": {
            "_model_module": "@jupyter-widgets/base",
            "_model_module_version": "1.2.0",
            "_model_name": "LayoutModel",
            "_view_count": null,
            "_view_module": "@jupyter-widgets/base",
            "_view_module_version": "1.2.0",
            "_view_name": "LayoutView",
            "align_content": null,
            "align_items": null,
            "align_self": null,
            "border": null,
            "bottom": null,
            "display": null,
            "flex": null,
            "flex_flow": null,
            "grid_area": null,
            "grid_auto_columns": null,
            "grid_auto_flow": null,
            "grid_auto_rows": null,
            "grid_column": null,
            "grid_gap": null,
            "grid_row": null,
            "grid_template_areas": null,
            "grid_template_columns": null,
            "grid_template_rows": null,
            "height": null,
            "justify_content": null,
            "justify_items": null,
            "left": null,
            "margin": null,
            "max_height": null,
            "max_width": null,
            "min_height": null,
            "min_width": null,
            "object_fit": null,
            "object_position": null,
            "order": null,
            "overflow": null,
            "overflow_x": null,
            "overflow_y": null,
            "padding": null,
            "right": null,
            "top": null,
            "visibility": null,
            "width": null
          }
        },
        "ddf4706bb4ae4c04ad988523d90f1706": {
          "model_module": "@jupyter-widgets/controls",
          "model_name": "DescriptionStyleModel",
          "model_module_version": "1.5.0",
          "state": {
            "_model_module": "@jupyter-widgets/controls",
            "_model_module_version": "1.5.0",
            "_model_name": "DescriptionStyleModel",
            "_view_count": null,
            "_view_module": "@jupyter-widgets/base",
            "_view_module_version": "1.2.0",
            "_view_name": "StyleView",
            "description_width": ""
          }
        }
      }
    },
    "accelerator": "GPU"
  },
  "cells": [
    {
      "cell_type": "code",
      "metadata": {
        "id": "7AowGFGi8Oah"
      },
      "source": [
        "# Этим блоком будем визуализировать\n",
        "import numpy as np\n",
        "import matplotlib.pyplot as plt\n",
        "%matplotlib inline\n",
        "from PIL import Image\n",
        "import scipy\n",
        "\n",
        "# Библиотеки Pytorch\n",
        "import torch \n",
        "import torchvision # здесь лежат mnist, cifar и много других датасетов и трансформаций для картинок\n",
        "import torch.nn as nn # здесь лежат все слои\n",
        "import torch.utils.data as data # работа с загрузчиком данных\n",
        "import torchvision.transforms as transforms # библиотека для преобразования изображений\n",
        "import torchvision.datasets as dsets # работа с классом Датасет\n",
        "\n",
        "# Вывод информации о модели\n",
        "from torchsummary import summary\n",
        "\n",
        "# Визуализации графа\n",
        "from torch.utils.tensorboard import SummaryWriter \n",
        "import datetime, os\n",
        "import time"
      ],
      "execution_count": null,
      "outputs": []
    },
    {
      "cell_type": "code",
      "metadata": {
        "id": "hRGETiVsiI5b",
        "colab": {
          "base_uri": "https://localhost:8080/"
        },
        "outputId": "14ca9909-acae-44dd-b32a-144333c117b2"
      },
      "source": [
        "from google.colab import drive\n",
        "drive.mount('/content/drive')"
      ],
      "execution_count": null,
      "outputs": [
        {
          "output_type": "stream",
          "name": "stdout",
          "text": [
            "Mounted at /content/drive\n"
          ]
        }
      ]
    },
    {
      "cell_type": "markdown",
      "metadata": {
        "id": "JiKgzdBd8Oan"
      },
      "source": [
        "# Базовые понятия\n",
        "\n"
      ]
    },
    {
      "cell_type": "markdown",
      "metadata": {
        "id": "TN9WVntKVpmW"
      },
      "source": [
        "Тензоры"
      ]
    },
    {
      "cell_type": "markdown",
      "metadata": {
        "id": "7LIQYr_v539i"
      },
      "source": [
        "torch.tensor или torch.FloatTensor - тензор с типом данных float32\n",
        "\n",
        "torch.HalfTensor - тензор с типом данных float16\n",
        "\n",
        "torch.DoubleTensor - тензор с типом данных float64\n",
        "\n",
        "torch.ShortTensor - тензор с типом данных int16\n",
        "\n",
        "torch.IntTensor - тензор с типом данных int32\n",
        "\n",
        "torch.LongTensor - тензор с типом данных int64\n",
        "\n",
        "torch.CharTensor - тензор с типом данных int8\n",
        "\n",
        "torch.ByteTensor - тензор с типом данных uint8\n",
        "\n",
        "torch.BoolTensor - тензор с типом данных bool"
      ]
    },
    {
      "cell_type": "code",
      "metadata": {
        "id": "w1ay1sft6WPQ",
        "colab": {
          "base_uri": "https://localhost:8080/"
        },
        "outputId": "1375c909-6c90-4183-a2c4-42a4a54982ab"
      },
      "source": [
        "# Создание Тензора\n",
        "x = torch.tensor(5.) # Создаем скаляр\n",
        "y = torch.FloatTensor([5.1]) # Список типа float\n",
        "z = torch.FloatTensor(6, 3) # Список типа float из шести значений\n",
        "print(x)\n",
        "print(y)\n",
        "print(z)"
      ],
      "execution_count": null,
      "outputs": [
        {
          "output_type": "stream",
          "name": "stdout",
          "text": [
            "tensor(5.)\n",
            "tensor([5.1000])\n",
            "tensor([[-2.7654e+20,  3.0756e-41,  7.0065e-44],\n",
            "        [ 7.0065e-44,  6.3058e-44,  6.7262e-44],\n",
            "        [ 7.1466e-44,  6.3058e-44,  7.0065e-44],\n",
            "        [ 7.7071e-44,  1.1771e-43,  6.7262e-44],\n",
            "        [ 7.7071e-44,  8.1275e-44,  7.1466e-44],\n",
            "        [ 7.5670e-44,  8.1275e-44,  7.1466e-44]])\n"
          ]
        }
      ]
    },
    {
      "cell_type": "code",
      "metadata": {
        "id": "1vDqqAZ68nSP",
        "colab": {
          "base_uri": "https://localhost:8080/"
        },
        "outputId": "143c0b06-ef33-4107-db3d-0c88b7984fdd"
      },
      "source": [
        "# Индексирование\n",
        "print(z[0])\n",
        "print(z[::2])"
      ],
      "execution_count": null,
      "outputs": [
        {
          "output_type": "stream",
          "name": "stdout",
          "text": [
            "tensor([-2.7654e+20,  3.0756e-41,  7.0065e-44])\n",
            "tensor([[-2.7654e+20,  3.0756e-41,  7.0065e-44],\n",
            "        [ 7.1466e-44,  6.3058e-44,  7.0065e-44],\n",
            "        [ 7.7071e-44,  8.1275e-44,  7.1466e-44]])\n"
          ]
        }
      ]
    },
    {
      "cell_type": "code",
      "metadata": {
        "id": "AiO9wwkK9Z78",
        "colab": {
          "base_uri": "https://localhost:8080/"
        },
        "outputId": "ff8c82c0-81ac-442e-e5a1-6a66d9989915"
      },
      "source": [
        "# Информация о тензоре\n",
        "print(z.dim()) # Размерность тезора\n",
        "print(z.size()) # Размер или форма тензора (аналог .shape)\n",
        "print(z.type()) # Тип элементов\n",
        "print(z.data_ptr()) # Место в памяти, где хранится тензор"
      ],
      "execution_count": null,
      "outputs": [
        {
          "output_type": "stream",
          "name": "stdout",
          "text": [
            "2\n",
            "torch.Size([6, 3])\n",
            "torch.FloatTensor\n",
            "94269724417024\n"
          ]
        }
      ]
    },
    {
      "cell_type": "markdown",
      "metadata": {
        "id": "yWFyrSSv_5n2"
      },
      "source": [
        "**Операции над тензорами**\n",
        "\n",
        "\n"
      ]
    },
    {
      "cell_type": "code",
      "metadata": {
        "id": "qXZLFv4396ar",
        "colab": {
          "base_uri": "https://localhost:8080/"
        },
        "outputId": "39e4176c-9430-4a81-b019-3485b016bafc"
      },
      "source": [
        "# Виды функций\n",
        "# Immutable function (exp(), abs())\n",
        "\n",
        "y = torch.IntTensor([-1, 2,-3]) # Создаем тензор\n",
        "x = y.abs() # Вызываем метод получения модуля (Immutable)\n",
        "print(y) # Выводим y\n",
        "print(x) # Выводим x"
      ],
      "execution_count": null,
      "outputs": [
        {
          "output_type": "stream",
          "name": "stdout",
          "text": [
            "tensor([-1,  2, -3], dtype=torch.int32)\n",
            "tensor([1, 2, 3], dtype=torch.int32)\n"
          ]
        }
      ]
    },
    {
      "cell_type": "code",
      "metadata": {
        "id": "afFhh11v_pG3",
        "colab": {
          "base_uri": "https://localhost:8080/"
        },
        "outputId": "b4a6213c-ddfb-422a-92c6-889880774547"
      },
      "source": [
        "# Mutable function\n",
        "y = torch.IntTensor([-1, 2, -3]) # Создаем тензор \n",
        "x = y.abs_()  # Вызываем метод получения модуля (Mutable)\n",
        "print(y) # Выводим y\n",
        "print(x) # Выводим x"
      ],
      "execution_count": null,
      "outputs": [
        {
          "output_type": "stream",
          "name": "stdout",
          "text": [
            "tensor([1, 2, 3], dtype=torch.int32)\n",
            "tensor([1, 2, 3], dtype=torch.int32)\n"
          ]
        }
      ]
    },
    {
      "cell_type": "code",
      "metadata": {
        "id": "bVnUK2lE_uy7",
        "colab": {
          "base_uri": "https://localhost:8080/"
        },
        "outputId": "c9ceaab7-224c-4948-ea3f-664ab6d3f5ad"
      },
      "source": [
        "print(x.data_ptr(), y.data_ptr())"
      ],
      "execution_count": null,
      "outputs": [
        {
          "output_type": "stream",
          "name": "stdout",
          "text": [
            "94269728203136 94269728203136\n"
          ]
        }
      ]
    },
    {
      "cell_type": "code",
      "metadata": {
        "id": "uG1XrP9R_11T",
        "colab": {
          "base_uri": "https://localhost:8080/"
        },
        "outputId": "3bf319b9-86ec-4c30-cd78-651093f74689"
      },
      "source": [
        "x = torch.FloatTensor(2, 3) # Создаем тензор размерностью 2 на 3\n",
        "x.zero_() # Заполняем его нулями\n",
        "print(x) # Выводим x"
      ],
      "execution_count": null,
      "outputs": [
        {
          "output_type": "stream",
          "name": "stdout",
          "text": [
            "tensor([[0., 0., 0.],\n",
            "        [0., 0., 0.]])\n"
          ]
        }
      ]
    },
    {
      "cell_type": "code",
      "metadata": {
        "id": "bJuiZEuZANLJ",
        "colab": {
          "base_uri": "https://localhost:8080/"
        },
        "outputId": "0b2b787f-bb45-4f16-8cb6-56840bdf702a"
      },
      "source": [
        "y = torch.FloatTensor(2, 3).zero_() # Создаем тензор размерностью 2 на 3 и заполняем нулями\n",
        "print(y) # Выводим y"
      ],
      "execution_count": null,
      "outputs": [
        {
          "output_type": "stream",
          "name": "stdout",
          "text": [
            "tensor([[0., 0., 0.],\n",
            "        [0., 0., 0.]])\n"
          ]
        }
      ]
    },
    {
      "cell_type": "code",
      "metadata": {
        "id": "LB2SJZANAVOm",
        "colab": {
          "base_uri": "https://localhost:8080/"
        },
        "outputId": "8f6079f2-dcba-41c3-d6d5-a4008e841161"
      },
      "source": [
        "x = torch.tensor(3.) # Создаем тензор\n",
        "y = torch.tensor(7.) # Создаем тензор\n",
        "z1 = x.add(y) # Складываем x и y И записываем результат в z1\n",
        "z2 = torch.add(x, y) # Складываем x и y И записываем результат в z2\n",
        "x.add_(y) # Складываем x и y И записываем результат в x\n",
        "print(z1, z2, x) # Выводим z1, z2, x"
      ],
      "execution_count": null,
      "outputs": [
        {
          "output_type": "stream",
          "name": "stdout",
          "text": [
            "tensor(10.) tensor(10.) tensor(10.)\n"
          ]
        }
      ]
    },
    {
      "cell_type": "code",
      "metadata": {
        "id": "ZiJr-JDScOTt",
        "colab": {
          "base_uri": "https://localhost:8080/"
        },
        "outputId": "8d4302ad-2d4d-4b83-a164-4f7977db6ea1"
      },
      "source": [
        "x = torch.tensor(3.) # Создаем тензор\n",
        "y = torch.tensor(7.) # Создаем тензор\n",
        "x += y\n",
        "print(x)"
      ],
      "execution_count": null,
      "outputs": [
        {
          "output_type": "stream",
          "name": "stdout",
          "text": [
            "tensor(10.)\n"
          ]
        }
      ]
    },
    {
      "cell_type": "markdown",
      "metadata": {
        "id": "xJWgx4VTAuoH"
      },
      "source": [
        "**NumPy**\n",
        "\n"
      ]
    },
    {
      "cell_type": "code",
      "metadata": {
        "id": "KX8YOqyzAwIW",
        "colab": {
          "base_uri": "https://localhost:8080/"
        },
        "outputId": "4fcd1cbb-8580-4ddf-d92a-ca91269fcc33"
      },
      "source": [
        "a = np.random.rand(2, 2) # Сорздаем numpy массив размерностью 2 на 2 из случайных чисел\n",
        "a # Выводим a"
      ],
      "execution_count": null,
      "outputs": [
        {
          "output_type": "execute_result",
          "data": {
            "text/plain": [
              "array([[0.69205377, 0.44131559],\n",
              "       [0.34894059, 0.55332916]])"
            ]
          },
          "metadata": {},
          "execution_count": 13
        }
      ]
    },
    {
      "cell_type": "code",
      "metadata": {
        "id": "-yO_w26kA_sB",
        "colab": {
          "base_uri": "https://localhost:8080/"
        },
        "outputId": "d855ebb9-d4af-4542-8bd2-3a39a54239aa"
      },
      "source": [
        "# NumPy -> Torch\n",
        "b = torch.from_numpy(a) # Переводим Numpy в Torch\n",
        "b # Выводим b"
      ],
      "execution_count": null,
      "outputs": [
        {
          "output_type": "execute_result",
          "data": {
            "text/plain": [
              "tensor([[0.6921, 0.4413],\n",
              "        [0.3489, 0.5533]], dtype=torch.float64)"
            ]
          },
          "metadata": {},
          "execution_count": 14
        }
      ]
    },
    {
      "cell_type": "code",
      "metadata": {
        "id": "8GLPsWVtBFnH",
        "colab": {
          "base_uri": "https://localhost:8080/"
        },
        "outputId": "83d00c32-e3d7-460b-aad6-5ee61bad9906"
      },
      "source": [
        "# Torch -> Numpy\n",
        "c = b.numpy() # Переводим Torch в Numpy\n",
        "c # Выводим c"
      ],
      "execution_count": null,
      "outputs": [
        {
          "output_type": "execute_result",
          "data": {
            "text/plain": [
              "array([[0.69205377, 0.44131559],\n",
              "       [0.34894059, 0.55332916]])"
            ]
          },
          "metadata": {},
          "execution_count": 15
        }
      ]
    },
    {
      "cell_type": "markdown",
      "metadata": {
        "id": "wYBVbXW5CLVM"
      },
      "source": [
        "**CUDA**\n",
        "\n",
        "\n"
      ]
    },
    {
      "cell_type": "code",
      "metadata": {
        "id": "XY0z44LacLI7",
        "colab": {
          "base_uri": "https://localhost:8080/"
        },
        "outputId": "2e8bdb2d-9b57-4dac-cb35-72aa2e255515"
      },
      "source": [
        "x.is_cuda # Проверяем где размещен тензор"
      ],
      "execution_count": null,
      "outputs": [
        {
          "output_type": "execute_result",
          "data": {
            "text/plain": [
              "False"
            ]
          },
          "metadata": {},
          "execution_count": 16
        }
      ]
    },
    {
      "cell_type": "code",
      "metadata": {
        "id": "Ovf9kKpeqnRq",
        "colab": {
          "base_uri": "https://localhost:8080/"
        },
        "outputId": "a5f14d0f-e9bf-4e27-b076-2a46875460bb"
      },
      "source": [
        "!nvidia-smi # Утилита для вывода информации о GPU"
      ],
      "execution_count": null,
      "outputs": [
        {
          "output_type": "stream",
          "name": "stdout",
          "text": [
            "Sun Mar 27 07:36:46 2022       \n",
            "+-----------------------------------------------------------------------------+\n",
            "| NVIDIA-SMI 460.32.03    Driver Version: 460.32.03    CUDA Version: 11.2     |\n",
            "|-------------------------------+----------------------+----------------------+\n",
            "| GPU  Name        Persistence-M| Bus-Id        Disp.A | Volatile Uncorr. ECC |\n",
            "| Fan  Temp  Perf  Pwr:Usage/Cap|         Memory-Usage | GPU-Util  Compute M. |\n",
            "|                               |                      |               MIG M. |\n",
            "|===============================+======================+======================|\n",
            "|   0  Tesla K80           Off  | 00000000:00:04.0 Off |                    0 |\n",
            "| N/A   32C    P8    28W / 149W |      0MiB / 11441MiB |      0%      Default |\n",
            "|                               |                      |                  N/A |\n",
            "+-------------------------------+----------------------+----------------------+\n",
            "                                                                               \n",
            "+-----------------------------------------------------------------------------+\n",
            "| Processes:                                                                  |\n",
            "|  GPU   GI   CI        PID   Type   Process name                  GPU Memory |\n",
            "|        ID   ID                                                   Usage      |\n",
            "|=============================================================================|\n",
            "|  No running processes found                                                 |\n",
            "+-----------------------------------------------------------------------------+\n"
          ]
        }
      ]
    },
    {
      "cell_type": "code",
      "metadata": {
        "id": "14v7m9wfKLn4",
        "colab": {
          "base_uri": "https://localhost:8080/"
        },
        "outputId": "d17141f2-03a7-4160-e262-7caa6002b6c6"
      },
      "source": [
        "if not x.is_cuda: # Если не на GPU\n",
        "  x = x.cuda() # Размещаем на GPU (создаем копию)\n",
        "print(x.is_cuda) # Проверям: размещен ли тензор на GPU"
      ],
      "execution_count": null,
      "outputs": [
        {
          "output_type": "stream",
          "name": "stdout",
          "text": [
            "True\n"
          ]
        }
      ]
    },
    {
      "cell_type": "code",
      "metadata": {
        "id": "dIz1Z07RcYoO",
        "colab": {
          "base_uri": "https://localhost:8080/"
        },
        "outputId": "d99844ac-0e57-4fb3-e026-7b32eec51e44"
      },
      "source": [
        "!nvidia-smi"
      ],
      "execution_count": null,
      "outputs": [
        {
          "output_type": "stream",
          "name": "stdout",
          "text": [
            "Sun Mar 27 07:37:39 2022       \n",
            "+-----------------------------------------------------------------------------+\n",
            "| NVIDIA-SMI 460.32.03    Driver Version: 460.32.03    CUDA Version: 11.2     |\n",
            "|-------------------------------+----------------------+----------------------+\n",
            "| GPU  Name        Persistence-M| Bus-Id        Disp.A | Volatile Uncorr. ECC |\n",
            "| Fan  Temp  Perf  Pwr:Usage/Cap|         Memory-Usage | GPU-Util  Compute M. |\n",
            "|                               |                      |               MIG M. |\n",
            "|===============================+======================+======================|\n",
            "|   0  Tesla K80           Off  | 00000000:00:04.0 Off |                    0 |\n",
            "| N/A   34C    P0    56W / 149W |    517MiB / 11441MiB |      4%      Default |\n",
            "|                               |                      |                  N/A |\n",
            "+-------------------------------+----------------------+----------------------+\n",
            "                                                                               \n",
            "+-----------------------------------------------------------------------------+\n",
            "| Processes:                                                                  |\n",
            "|  GPU   GI   CI        PID   Type   Process name                  GPU Memory |\n",
            "|        ID   ID                                                   Usage      |\n",
            "|=============================================================================|\n",
            "+-----------------------------------------------------------------------------+\n"
          ]
        }
      ]
    },
    {
      "cell_type": "code",
      "metadata": {
        "colab": {
          "base_uri": "https://localhost:8080/"
        },
        "id": "sh6iVB4136KW",
        "outputId": "64e4736c-939b-4868-a4e6-964454ea6487"
      },
      "source": [
        "torch.cuda.is_available() # Проверяем доступна ли в текущем сеансе GPU"
      ],
      "execution_count": null,
      "outputs": [
        {
          "output_type": "execute_result",
          "data": {
            "text/plain": [
              "True"
            ]
          },
          "metadata": {},
          "execution_count": 20
        }
      ]
    },
    {
      "cell_type": "code",
      "metadata": {
        "colab": {
          "base_uri": "https://localhost:8080/",
          "height": 35
        },
        "id": "jpVyS1Tr2XyJ",
        "outputId": "af11fd3c-3a81-4576-bcb0-25793375d826"
      },
      "source": [
        "# Создадим переменную, в которой будет храниться тип устройства (GPU или CPU)\n",
        "device = 'cuda' if torch.cuda.is_available() else 'cpu'\n",
        "device"
      ],
      "execution_count": null,
      "outputs": [
        {
          "output_type": "execute_result",
          "data": {
            "text/plain": [
              "'cuda'"
            ],
            "application/vnd.google.colaboratory.intrinsic+json": {
              "type": "string"
            }
          },
          "metadata": {},
          "execution_count": 21
        }
      ]
    },
    {
      "cell_type": "code",
      "metadata": {
        "colab": {
          "base_uri": "https://localhost:8080/"
        },
        "id": "sIpt1cn65NiQ",
        "outputId": "940ebfb3-fb4a-47b6-9254-a15519634fec"
      },
      "source": [
        "x.to(device) # Отправляем тензор на устройство\n",
        "x.is_cuda"
      ],
      "execution_count": null,
      "outputs": [
        {
          "output_type": "execute_result",
          "data": {
            "text/plain": [
              "True"
            ]
          },
          "metadata": {},
          "execution_count": 22
        }
      ]
    },
    {
      "cell_type": "markdown",
      "metadata": {
        "id": "V5-uHr_uDGsV"
      },
      "source": [
        "**AD (automatic differentiation)**\n",
        "\n",
        "\n"
      ]
    },
    {
      "cell_type": "code",
      "metadata": {
        "id": "EagAc4kF8Oaq"
      },
      "source": [
        "# Создаем тензоры\n",
        "x = torch.tensor(5.)\n",
        "w = torch.tensor(2., requires_grad=True) # requires_grad=True означает, что для тензора будет сохранена история операций над ним\n",
        "b = torch.tensor(3., requires_grad=True)"
      ],
      "execution_count": null,
      "outputs": []
    },
    {
      "cell_type": "code",
      "metadata": {
        "id": "p29P6gytGc5t",
        "colab": {
          "base_uri": "https://localhost:8080/"
        },
        "outputId": "82708ea1-d08e-47c2-e125-b64c694746c1"
      },
      "source": [
        "# Строим вычислительный граф\n",
        "y = w.mul(x).add(b)    # y = w * 5 + b\n",
        "y"
      ],
      "execution_count": null,
      "outputs": [
        {
          "output_type": "execute_result",
          "data": {
            "text/plain": [
              "tensor(13., grad_fn=<AddBackward0>)"
            ]
          },
          "metadata": {},
          "execution_count": 24
        }
      ]
    },
    {
      "cell_type": "code",
      "metadata": {
        "colab": {
          "base_uri": "https://localhost:8080/"
        },
        "id": "JatUgJ7-crQX",
        "outputId": "856e0fe8-ce93-4793-ca32-33cb181ebc83"
      },
      "source": [
        "y.grad_fn"
      ],
      "execution_count": null,
      "outputs": [
        {
          "output_type": "execute_result",
          "data": {
            "text/plain": [
              "<AddBackward0 at 0x7f70411e0fd0>"
            ]
          },
          "metadata": {},
          "execution_count": 25
        }
      ]
    },
    {
      "cell_type": "code",
      "metadata": {
        "id": "njwqI1g9HiSW"
      },
      "source": [
        "# Вычисляем градиенты (выполняем обратный проход и получаем производную всех переменных)\n",
        "y.backward()"
      ],
      "execution_count": null,
      "outputs": []
    },
    {
      "cell_type": "code",
      "metadata": {
        "id": "JXIInTLc8Oav",
        "colab": {
          "base_uri": "https://localhost:8080/"
        },
        "outputId": "3c687ee8-ae0e-4e95-ee4d-0ca3d5858cec"
      },
      "source": [
        "# Посмотрим градиенты для каждого из задействованных тензоров\n",
        "print(x.grad)    \n",
        "print(w.grad)    \n",
        "print(b.grad)    "
      ],
      "execution_count": null,
      "outputs": [
        {
          "output_type": "stream",
          "name": "stdout",
          "text": [
            "None\n",
            "tensor(5.)\n",
            "tensor(1.)\n"
          ]
        }
      ]
    },
    {
      "cell_type": "markdown",
      "metadata": {
        "id": "1hJrkBnfjjeZ"
      },
      "source": [
        "# Пишем первый нейрон\n",
        "\n"
      ]
    },
    {
      "cell_type": "code",
      "metadata": {
        "id": "h5F1UIrJ8ObI",
        "colab": {
          "base_uri": "https://localhost:8080/"
        },
        "outputId": "ca35e41f-7166-4abd-c1be-fec1841ea0df"
      },
      "source": [
        "# Создаем тензоры\n",
        "x = torch.randn(1) # входные данные для будущей модели (матрица случайных значений, соответствующих нормальному распределению)\n",
        "y = torch.randn(1) # тензор с правильными ответами (матрица случайных значений, соответствующих нормальному распределению)\n",
        "print(x)\n",
        "print(y)"
      ],
      "execution_count": null,
      "outputs": [
        {
          "output_type": "stream",
          "name": "stdout",
          "text": [
            "tensor([0.2665])\n",
            "tensor([0.6617])\n"
          ]
        }
      ]
    },
    {
      "cell_type": "code",
      "metadata": {
        "id": "PuGxwYT38ObU",
        "colab": {
          "base_uri": "https://localhost:8080/"
        },
        "outputId": "a0d5fd38-6f65-442a-e74f-d8a4a7806dd7"
      },
      "source": [
        "# Создаем 1 линейный слой (по сути, является нашей нейронной сетью из одного слоя)\n",
        "# y = w * x + b\n",
        "linear = nn.Linear(in_features = 1, out_features = 1, bias = False) # Linear это аналог Dense в Keras\n",
        "print('веса: ', linear.weight)"
      ],
      "execution_count": null,
      "outputs": [
        {
          "output_type": "stream",
          "name": "stdout",
          "text": [
            "веса:  Parameter containing:\n",
            "tensor([[0.9891]], requires_grad=True)\n"
          ]
        }
      ]
    },
    {
      "cell_type": "code",
      "metadata": {
        "id": "T0VVpnASlIPL",
        "colab": {
          "base_uri": "https://localhost:8080/"
        },
        "outputId": "a5466a25-061e-43d9-af62-0f45dd133602"
      },
      "source": [
        "list(linear.parameters())"
      ],
      "execution_count": null,
      "outputs": [
        {
          "output_type": "execute_result",
          "data": {
            "text/plain": [
              "[Parameter containing:\n",
              " tensor([[0.9891]], requires_grad=True)]"
            ]
          },
          "metadata": {},
          "execution_count": 30
        }
      ]
    },
    {
      "cell_type": "code",
      "metadata": {
        "id": "H8165JrM8Obx",
        "colab": {
          "base_uri": "https://localhost:8080/"
        },
        "outputId": "621ca72d-4ab7-4a19-f3f1-481444fa4506"
      },
      "source": [
        "# Применяем слой для x (прогоняем через нашу сетку)\n",
        "pred = linear(x)\n",
        "print(pred)"
      ],
      "execution_count": null,
      "outputs": [
        {
          "output_type": "stream",
          "name": "stdout",
          "text": [
            "tensor([0.2636], grad_fn=<SqueezeBackward3>)\n"
          ]
        }
      ]
    },
    {
      "cell_type": "code",
      "metadata": {
        "id": "-CJBd1ru8Ob7",
        "colab": {
          "base_uri": "https://localhost:8080/"
        },
        "outputId": "261f111e-3e63-4e87-e096-56610b3687f7"
      },
      "source": [
        "# Функция ошибки (средне-квадратичное отклонение)\n",
        "criterion = nn.MSELoss()\n",
        "# mse = (y_true - y_pred)**2 / n\n",
        " \n",
        "# Оптимизатор, первый аргумент которого это параметры нейронной сети (в нашем случае линейный слой)\n",
        "optimizer = torch.optim.SGD(linear.parameters(), lr=0.01) \n",
        "print(optimizer.param_groups) # выведем информацию об оптимизаторе"
      ],
      "execution_count": null,
      "outputs": [
        {
          "output_type": "stream",
          "name": "stdout",
          "text": [
            "[{'params': [Parameter containing:\n",
            "tensor([[0.9891]], requires_grad=True)], 'lr': 0.01, 'momentum': 0, 'dampening': 0, 'weight_decay': 0, 'nesterov': False}]\n"
          ]
        }
      ]
    },
    {
      "cell_type": "code",
      "metadata": {
        "colab": {
          "base_uri": "https://localhost:8080/"
        },
        "id": "IOgmpDdkkZPO",
        "outputId": "5e2b9528-1851-4d0d-f3d7-c3f4ac318216"
      },
      "source": [
        "loss = criterion(pred, y) # Считаем ошибку\n",
        "print(loss)\n",
        "print('ошибка: ', loss.item()) # метод item() используется для получения числа из тензора, содержащего одно значение"
      ],
      "execution_count": null,
      "outputs": [
        {
          "output_type": "stream",
          "name": "stdout",
          "text": [
            "tensor(0.1585, grad_fn=<MseLossBackward0>)\n",
            "ошибка:  0.15845069289207458\n"
          ]
        }
      ]
    },
    {
      "cell_type": "code",
      "metadata": {
        "id": "6d8Ekc-J8OcF",
        "colab": {
          "base_uri": "https://localhost:8080/"
        },
        "outputId": "5aa35e29-3c12-4d38-ad49-40f78ffa574a"
      },
      "source": [
        "# Обратное распространение \n",
        "loss.backward()\n",
        "\n",
        "# Посмотрим на наши градиенты\n",
        "print ('dL/dw: ', linear.weight.grad)"
      ],
      "execution_count": null,
      "outputs": [
        {
          "output_type": "stream",
          "name": "stdout",
          "text": [
            "dL/dw:  tensor([[-0.2122]])\n"
          ]
        }
      ]
    },
    {
      "cell_type": "code",
      "metadata": {
        "id": "9e0tIjllgmRi",
        "colab": {
          "base_uri": "https://localhost:8080/"
        },
        "outputId": "ebde8823-5f96-467b-b108-d91cf1048b2d"
      },
      "source": [
        "-2 * x * (y - linear.weight * x)"
      ],
      "execution_count": null,
      "outputs": [
        {
          "output_type": "execute_result",
          "data": {
            "text/plain": [
              "tensor([[-0.2122]], grad_fn=<MulBackward0>)"
            ]
          },
          "metadata": {},
          "execution_count": 35
        }
      ]
    },
    {
      "cell_type": "code",
      "metadata": {
        "id": "rxH8BsZ58OcT",
        "colab": {
          "base_uri": "https://localhost:8080/"
        },
        "outputId": "f4af993c-a60d-4f75-80fd-fa2fed2bddda"
      },
      "source": [
        "# Делаем шаг градиентного спуска w = w - lr*grad\n",
        "optimizer.step()\n",
        "print(optimizer.param_groups)\n",
        "\n",
        "# Оптимизацию можно осуществлять также и на более низком уровне:\n",
        "# linear.weight.data.sub_(0.01 * linear.weight.grad.data)\n",
        "# linear.bias.data.sub_(0.01 * linear.bias.grad.data)\n",
        "\n",
        "# Ошибка после оптимизации\n",
        "pred = linear(x) \n",
        "loss = criterion(pred, y)\n",
        "print('ошибка после шага оптимизации: ', loss.item())"
      ],
      "execution_count": null,
      "outputs": [
        {
          "output_type": "stream",
          "name": "stdout",
          "text": [
            "[{'params': [Parameter containing:\n",
            "tensor([[0.9912]], requires_grad=True)], 'lr': 0.01, 'momentum': 0, 'dampening': 0, 'weight_decay': 0, 'nesterov': False}]\n",
            "ошибка после шага оптимизации:  0.15800073742866516\n"
          ]
        }
      ]
    },
    {
      "cell_type": "code",
      "metadata": {
        "colab": {
          "base_uri": "https://localhost:8080/"
        },
        "id": "R02i9GN3RTKZ",
        "outputId": "c62242b4-8d03-412e-8a6b-5cff61deef2f"
      },
      "source": [
        "print(linear.weight.grad)     # вывод текущего градиента\n",
        "for i in range(10):\n",
        "    pred = linear(x)          # предсказание модели\n",
        "    loss = criterion(pred, y) # вычисляем ошибку\n",
        "    loss.backward()           # обратное распространение ошибки\n",
        "    print(linear.weight.grad) # вывод обновленного градиента\n",
        "    optimizer.step()          # шаг оптимизации"
      ],
      "execution_count": null,
      "outputs": [
        {
          "output_type": "stream",
          "name": "stdout",
          "text": [
            "tensor([[-0.2122]])\n",
            "tensor([[-0.4241]])\n",
            "tensor([[-0.6354]])\n",
            "tensor([[-0.8458]])\n",
            "tensor([[-1.0550]])\n",
            "tensor([[-1.2627]])\n",
            "tensor([[-1.4686]])\n",
            "tensor([[-1.6724]])\n",
            "tensor([[-1.8738]])\n",
            "tensor([[-2.0726]])\n",
            "tensor([[-2.2684]])\n"
          ]
        }
      ]
    },
    {
      "cell_type": "code",
      "metadata": {
        "id": "-73duJPnRZRc"
      },
      "source": [
        "optimizer.zero_grad() # обнуляем градиент"
      ],
      "execution_count": null,
      "outputs": []
    },
    {
      "cell_type": "code",
      "metadata": {
        "colab": {
          "base_uri": "https://localhost:8080/"
        },
        "id": "rPuoKCFkS-2i",
        "outputId": "e40b4fb1-e5f7-4df5-9b8a-745163ca7a17"
      },
      "source": [
        "linear.weight.grad # вывод текущего градиента"
      ],
      "execution_count": null,
      "outputs": [
        {
          "output_type": "execute_result",
          "data": {
            "text/plain": [
              "tensor([[0.]])"
            ]
          },
          "metadata": {},
          "execution_count": 39
        }
      ]
    },
    {
      "cell_type": "code",
      "metadata": {
        "id": "0HOt8d4r8Ocg",
        "colab": {
          "base_uri": "https://localhost:8080/"
        },
        "outputId": "19c743ae-65db-4486-8993-aa03a2c16ec9"
      },
      "source": [
        "# Обычно прогонка сети составляет больше одной эпохи.\n",
        "# Прогоним ее 100 эпох\n",
        "for i in range(100): \n",
        "    # Обнуляем вручную градиент на каждой итерации\n",
        "    optimizer.zero_grad()\n",
        "\n",
        "    # Прогоняем переменную через сеть\n",
        "    pred = linear(x) \n",
        "\n",
        "    # Считаем функцию ошибки\n",
        "    loss = criterion(pred,y)\n",
        "\n",
        "    # Обратное распространение ошибки\n",
        "    loss.backward()\n",
        "\n",
        "    # Делаем шаг градиентного спуска\n",
        "    optimizer.step()\n",
        "    if i%10 ==0:\n",
        "        print(loss.detach()) # .detach() отделяет тензор от вычислительного графа. Используется всегда при выводе значений"
      ],
      "execution_count": null,
      "outputs": [
        {
          "output_type": "stream",
          "name": "stdout",
          "text": [
            "tensor(0.1305)\n",
            "tensor(0.1269)\n",
            "tensor(0.1233)\n",
            "tensor(0.1199)\n",
            "tensor(0.1165)\n",
            "tensor(0.1132)\n",
            "tensor(0.1101)\n",
            "tensor(0.1070)\n",
            "tensor(0.1040)\n",
            "tensor(0.1011)\n"
          ]
        }
      ]
    },
    {
      "cell_type": "code",
      "metadata": {
        "id": "xKztzp3KR2gH",
        "colab": {
          "base_uri": "https://localhost:8080/"
        },
        "outputId": "e08338a7-9672-4225-9528-e29c26e2ceea"
      },
      "source": [
        "linear.weight # Веса"
      ],
      "execution_count": null,
      "outputs": [
        {
          "output_type": "execute_result",
          "data": {
            "text/plain": [
              "Parameter containing:\n",
              "tensor([[1.3066]], requires_grad=True)"
            ]
          },
          "metadata": {},
          "execution_count": 41
        }
      ]
    },
    {
      "cell_type": "code",
      "metadata": {
        "id": "X-2HwRoLV0_Z",
        "colab": {
          "base_uri": "https://localhost:8080/"
        },
        "outputId": "459d27d5-941c-4b13-d727-9965e2c2cbcd"
      },
      "source": [
        "pred = linear(x) # финальное предсказание\n",
        "print('Предсказание: ', pred.item())\n",
        "print('Правильный ответ: ', y.item())"
      ],
      "execution_count": null,
      "outputs": [
        {
          "output_type": "stream",
          "name": "stdout",
          "text": [
            "Предсказание:  0.3482736349105835\n",
            "Правильный ответ:  0.6616868376731873\n"
          ]
        }
      ]
    },
    {
      "cell_type": "markdown",
      "metadata": {
        "id": "Nx4e2QVl8Oc4"
      },
      "source": [
        "# Подготовка данных\n",
        "\n"
      ]
    },
    {
      "cell_type": "code",
      "metadata": {
        "id": "RN7Pk0Is8Oc7",
        "colab": {
          "base_uri": "https://localhost:8080/",
          "height": 84,
          "referenced_widgets": [
            "dee9ab424cec43c0849f5084272768b1",
            "bbd29e4fdf794c2493c644d50232e358",
            "e969c7a147ce47868d489de65fe2127b",
            "27db2d4b36884f6290d1757ffc72badf",
            "fd0ff76683544f378f4d6850a41d2e13",
            "cc1aacbb3eea42cba2932941e28d61a5",
            "47bfd8fb70c04c7ba6e897c85472e1a2",
            "8f01d401e810418392149fc17167cd96",
            "ec7a26a291a14453afcdcffa4ac55c86",
            "69b90a5007194a15adc15180ef4aa681",
            "562bef1f9b5b4ef29ce01fed8127fd8e"
          ]
        },
        "outputId": "0d033349-55fc-4ebf-e9a3-ce3685ee85fd"
      },
      "source": [
        "# Скачиваем готовые данные и создаем датасет\n",
        "trainDataset = dsets.CIFAR10(root='./data/',                   # путь, где лежат данные\n",
        "                             train=True,                       # создание данных из тренировочной выборки\n",
        "                             transform=transforms.ToTensor(),  # здесь функция, превращающая PIL картинку в тензор\n",
        "                             download=True)                    # True - данные скачиваются и помещаются в указанный путь"
      ],
      "execution_count": null,
      "outputs": [
        {
          "output_type": "stream",
          "name": "stdout",
          "text": [
            "Downloading https://www.cs.toronto.edu/~kriz/cifar-10-python.tar.gz to ./data/cifar-10-python.tar.gz\n"
          ]
        },
        {
          "output_type": "display_data",
          "data": {
            "text/plain": [
              "  0%|          | 0/170498071 [00:00<?, ?it/s]"
            ],
            "application/vnd.jupyter.widget-view+json": {
              "version_major": 2,
              "version_minor": 0,
              "model_id": "dee9ab424cec43c0849f5084272768b1"
            }
          },
          "metadata": {}
        },
        {
          "output_type": "stream",
          "name": "stdout",
          "text": [
            "Extracting ./data/cifar-10-python.tar.gz to ./data/\n"
          ]
        }
      ]
    },
    {
      "cell_type": "code",
      "metadata": {
        "id": "3DlSWei28OdF",
        "colab": {
          "base_uri": "https://localhost:8080/"
        },
        "outputId": "d34a4523-c1e4-4316-bf83-840aa80608c3"
      },
      "source": [
        "# Возьмем пару картинка-метка из всего набора\n",
        "image, label = trainDataset[9]\n",
        "print(image.size())\n",
        "print(image[1].size())\n",
        "print(type(image)) \n",
        "print(label)"
      ],
      "execution_count": null,
      "outputs": [
        {
          "output_type": "stream",
          "name": "stdout",
          "text": [
            "torch.Size([3, 32, 32])\n",
            "torch.Size([32, 32])\n",
            "<class 'torch.Tensor'>\n",
            "3\n"
          ]
        }
      ]
    },
    {
      "cell_type": "code",
      "metadata": {
        "colab": {
          "base_uri": "https://localhost:8080/",
          "height": 266
        },
        "id": "IAyctkMSBppm",
        "outputId": "19952953-1d36-4c0f-f73b-b6b1a885bc8b"
      },
      "source": [
        "# Вывод картинки (способ 1). Обратная трансформация\n",
        "to_pil_image = transforms.ToPILImage() # Создаем трансформацию в PIL\n",
        "img = to_pil_image(image.cpu()) # Преобразуем обратно в PIL\n",
        "plt.imshow(img)\n",
        "plt.show()"
      ],
      "execution_count": null,
      "outputs": [
        {
          "output_type": "display_data",
          "data": {
            "text/plain": [
              "<Figure size 432x288 with 1 Axes>"
            ],
            "image/png": "[encoded data removed]"
          },
          "metadata": {
            "needs_background": "light"
          }
        }
      ]
    },
    {
      "cell_type": "code",
      "metadata": {
        "colab": {
          "base_uri": "https://localhost:8080/",
          "height": 301
        },
        "id": "PD5333szBjud",
        "outputId": "e6f08ca5-1150-43a8-b4a2-8ed47ea51cac"
      },
      "source": [
        "# Вывод картинки (способ 2). Через numpy\n",
        "img = image.cpu().numpy() # Превращаем тензор в numpy-массив\n",
        "print(img.shape)\n",
        "img = np.transpose(img, (1,2,0)) # Меняем местами оси\n",
        "print(img.shape)\n",
        "plt.imshow(img)\n",
        "plt.show() "
      ],
      "execution_count": null,
      "outputs": [
        {
          "output_type": "stream",
          "name": "stdout",
          "text": [
            "(3, 32, 32)\n",
            "(32, 32, 3)\n"
          ]
        },
        {
          "output_type": "display_data",
          "data": {
            "text/plain": [
              "<Figure size 432x288 with 1 Axes>"
            ],
            "image/png": "[encoded data removed]"
          },
          "metadata": {
            "needs_background": "light"
          }
        }
      ]
    },
    {
      "cell_type": "code",
      "metadata": {
        "id": "WMNklZz08OdX",
        "colab": {
          "base_uri": "https://localhost:8080/"
        },
        "outputId": "77146e1f-622d-4052-bedb-75ebb9ae0401"
      },
      "source": [
        "# Data Loader (наиболее эффективный способ загружать данные)\n",
        "trainLoader = torch.utils.data.DataLoader(dataset=trainDataset,\n",
        "                                          batch_size=100, \n",
        "                                          shuffle=True, # перемешивание данных \n",
        "                                          num_workers = 4) # сколько подпроцессов использовать для загрузки данных. 0 - по умолчанию - в основном процессе\n",
        "\n",
        "# Когда начнется итерация, по очереди начнут выгружаться файлы из сета\n",
        "dataIter = iter(trainLoader) \n",
        "\n",
        "# Мини batch картинок и меток\n",
        "images, labels = dataIter.next()\n",
        "\n",
        "# Обычно train_loader используется так:\n",
        "for images, labels in trainLoader:\n",
        "    # здесь ваш код\n",
        "    pass"
      ],
      "execution_count": null,
      "outputs": [
        {
          "output_type": "stream",
          "name": "stderr",
          "text": [
            "/usr/local/lib/python3.7/dist-packages/torch/utils/data/dataloader.py:481: UserWarning: This DataLoader will create 4 worker processes in total. Our suggested max number of worker in current system is 2, which is smaller than what this DataLoader is going to create. Please be aware that excessive worker creation might get DataLoader running slow or even freeze, lower the worker number to avoid potential slowness/freeze if necessary.\n",
            "  cpuset_checked))\n"
          ]
        }
      ]
    },
    {
      "cell_type": "code",
      "metadata": {
        "id": "lrrB8jlXevhN",
        "colab": {
          "base_uri": "https://localhost:8080/"
        },
        "outputId": "8c60a70c-6ed6-4df8-9a4e-ce9d0eaadef7"
      },
      "source": [
        "images.shape"
      ],
      "execution_count": null,
      "outputs": [
        {
          "output_type": "execute_result",
          "data": {
            "text/plain": [
              "torch.Size([100, 3, 32, 32])"
            ]
          },
          "metadata": {},
          "execution_count": 48
        }
      ]
    },
    {
      "cell_type": "code",
      "metadata": {
        "id": "N-7QGJOyn--Y",
        "colab": {
          "base_uri": "https://localhost:8080/"
        },
        "outputId": "b7138707-c8ab-4543-fa7b-d2a4710d334d"
      },
      "source": [
        "labels.shape"
      ],
      "execution_count": null,
      "outputs": [
        {
          "output_type": "execute_result",
          "data": {
            "text/plain": [
              "torch.Size([100])"
            ]
          },
          "metadata": {},
          "execution_count": 49
        }
      ]
    },
    {
      "cell_type": "markdown",
      "metadata": {
        "id": "F3Dgrpt48Ocn"
      },
      "source": [
        "# Создание собственного набора данных"
      ]
    },
    {
      "cell_type": "markdown",
      "metadata": {
        "id": "mOnkkW778OeL"
      },
      "source": [
        "# Подготовка собственных данных\n",
        "\n"
      ]
    },
    {
      "cell_type": "code",
      "metadata": {
        "id": "B3AteEXkbGvw"
      },
      "source": [
        "# Используем готовый data loader от torch\n",
        "path = '/content/drive/My Drive/УИИ/Lessons/PyTorch/example/' \n",
        "listID = os.listdir(path)\n",
        "labels = [0,1,2]\n",
        "print(listID)"
      ],
      "execution_count": null,
      "outputs": []
    },
    {
      "cell_type": "code",
      "metadata": {
        "id": "7WVeXW0gjeQe",
        "colab": {
          "base_uri": "https://localhost:8080/",
          "height": 773
        },
        "outputId": "1b6ee35b-3d7a-4472-b87b-33a0ebc7674a"
      },
      "source": [
        "for i in listID:\n",
        "  plt.imshow(Image.open(path + i))\n",
        "  plt.show()"
      ],
      "execution_count": null,
      "outputs": [
        {
          "output_type": "display_data",
          "data": {
            "image/png": "[encoded data removed]",
            "text/plain": [
              "<Figure size 432x288 with 1 Axes>"
            ]
          },
          "metadata": {
            "tags": [],
            "needs_background": "light"
          }
        },
        {
          "output_type": "display_data",
          "data": {
            "image/png": "[encoded data removed]",
            "text/plain": [
              "<Figure size 432x288 with 1 Axes>"
            ]
          },
          "metadata": {
            "tags": [],
            "needs_background": "light"
          }
        },
        {
          "output_type": "display_data",
          "data": {
            "image/png": "[encoded data removed]",
            "text/plain": [
              "<Figure size 432x288 with 1 Axes>"
            ]
          },
          "metadata": {
            "tags": [],
            "needs_background": "light"
          }
        }
      ]
    },
    {
      "cell_type": "code",
      "metadata": {
        "id": "PzYqcWmS8OeN"
      },
      "source": [
        "# Создаем класс для собственных данных, наследуя свойства стандартного датасета\n",
        "class CustomDataset(data.Dataset):\n",
        "    def __init__(self, listID, labels, path, transforms = None): \n",
        "        # Инициализируем атрибуты (они абсолютно произвольные. У вас они могут быть совсем другими)\n",
        "        self.listID = listID # listID список имен каждого экземпляра\n",
        "        self.labels = labels # labels - то, что скормим как yTrain\n",
        "        self.transforms = transforms # если нужны какие-то преобразования\n",
        "        self.path = path # путь, где лежат данные\n",
        "        \n",
        "\n",
        "    def __getitem__(self, index):        \n",
        "        # В этом методе указывается то, как будут извлекаться данные при очередном обращении в цикле обучения\n",
        "        # Открываем папку с данными (можно использовать numpy.fromfile, PIL.Image.open)\n",
        "        ID = self.listID[index] # итерируем по каждому элементу в списке\n",
        "        image = Image.open(path + ID) # извлекаем картинку по его ID\n",
        "\n",
        "        # Если transforms заполнено, то:\n",
        "        if self.transforms:\n",
        "            image = self.transforms(image) # то, что лежит в transforms применяем к картинку\n",
        "        trainX = image # наша картинка уходит в xTrain для этой итерации\n",
        "        trainY = self.labels[index] # лейбл для этой картинки уходит в yTrain\n",
        "        \n",
        "        # Возвращаем пару экзмепляр-метка\n",
        "        return trainX, trainY\n",
        "\n",
        "    def __len__(self):\n",
        "        # Здесь общий размер вашего датасета\n",
        "        return len(listID)"
      ],
      "execution_count": null,
      "outputs": []
    },
    {
      "cell_type": "code",
      "metadata": {
        "id": "64iukHDvbMtM"
      },
      "source": [
        "# Пример последовательности трансфорирмирования для изображений\n",
        "transform = transforms.Compose([\n",
        "        transforms.RandomResizedCrop((30,30)), # произвольное обрезание картинки\n",
        "        transforms.ToTensor()]) # преобразование в тензор (иначе никак)\n"
      ],
      "execution_count": null,
      "outputs": []
    },
    {
      "cell_type": "code",
      "metadata": {
        "id": "elJ1w2_xbInb"
      },
      "source": [
        "customData = CustomDataset(listID,labels,path,transform)\n",
        "\n",
        "trainLoader = torch.utils.data.DataLoader(dataset=customData,\n",
        "                                           batch_size=2, \n",
        "                                           shuffle=True,\n",
        "                                           num_workers=4)"
      ],
      "execution_count": null,
      "outputs": []
    },
    {
      "cell_type": "code",
      "metadata": {
        "id": "5aJTL64arDW-",
        "colab": {
          "base_uri": "https://localhost:8080/"
        },
        "outputId": "4c3d3499-ee39-444c-8959-32ec2e9c4fcb"
      },
      "source": [
        "dataiter = iter(trainLoader)\n",
        "images = dataiter.next()\n",
        "images[0].shape"
      ],
      "execution_count": null,
      "outputs": [
        {
          "output_type": "execute_result",
          "data": {
            "text/plain": [
              "torch.Size([2, 3, 30, 30])"
            ]
          },
          "metadata": {
            "tags": []
          },
          "execution_count": 58
        }
      ]
    },
    {
      "cell_type": "code",
      "metadata": {
        "id": "8oci-n6ojpZZ",
        "colab": {
          "base_uri": "https://localhost:8080/"
        },
        "outputId": "eb7107f5-a467-4d2e-dc22-f2d0685b6104"
      },
      "source": [
        "images = dataiter.next()\n",
        "images[0].shape"
      ],
      "execution_count": null,
      "outputs": [
        {
          "output_type": "execute_result",
          "data": {
            "text/plain": [
              "torch.Size([1, 3, 30, 30])"
            ]
          },
          "metadata": {
            "tags": []
          },
          "execution_count": 59
        }
      ]
    },
    {
      "cell_type": "markdown",
      "metadata": {
        "id": "ecdY-Slj8Oec"
      },
      "source": [
        "# Сохранение и загрузка модели\n",
        "\n"
      ]
    },
    {
      "cell_type": "code",
      "metadata": {
        "id": "pXMBWFbr8Oee"
      },
      "source": [
        "# Сохранение и загрузка всей модели\n",
        "torch.save(linear, 'model.pkl')\n",
        "model = torch.load('model.pkl') # сохраняются даже состояния оптимизатора, результата эпох и т.д.\n",
        "\n",
        "# Рекомендуется сохранение только параметров модели (в целях безопасности)\n",
        "torch.save(linear.state_dict(), 'params.pkl')\n",
        "linear.load_state_dict(torch.load('params.pkl'))"
      ],
      "execution_count": null,
      "outputs": []
    },
    {
      "cell_type": "markdown",
      "metadata": {
        "id": "x9vbolfh8T0F"
      },
      "source": [
        "# **Классифицируем MNIST**\n",
        "\n"
      ]
    },
    {
      "cell_type": "markdown",
      "metadata": {
        "id": "FQ-M3IiR8T0b"
      },
      "source": [
        "Задаем параметры"
      ]
    },
    {
      "cell_type": "code",
      "metadata": {
        "id": "_I_TTnEc8T0x"
      },
      "source": [
        "inputSize = 784      # Размер входных данных\n",
        "numClasses = 10      # Количество классов\n",
        "numEpochs = 10       # Количество эпох\n",
        "learningRate = 0.001 # Скорость обучения\n",
        "hidden = 500         # Размер скрытого слоя"
      ],
      "execution_count": null,
      "outputs": []
    },
    {
      "cell_type": "markdown",
      "metadata": {
        "id": "Ba2SL_ub8T04"
      },
      "source": [
        "Загружаем данные "
      ]
    },
    {
      "cell_type": "code",
      "metadata": {
        "id": "Dk5f1SjP8T07",
        "colab": {
          "base_uri": "https://localhost:8080/",
          "height": 423,
          "referenced_widgets": [
            "79efb22bc8b0494fa326b444ec3366b2",
            "4a36644c7222465e82036d02f2c84307",
            "f520e64e6640418aac1304ed91dbb5ee",
            "8261d80010764e4ea04016075da1dde5",
            "cf799e483e354b168f61f0f07226753f",
            "2d27ff867ce5461cbcaafbcc5b859bf0",
            "1dada95f08264f6a8e44f2f99b270dc2",
            "bd402eb5c6064fab93d18d6c6b935435",
            "a3c1044b37db4d95940f744a06aaa9eb",
            "543875832d464917b936796c7e8efdfd",
            "a2944096215c44448b718a1cebc28cd8",
            "16d13aa38abf47d5830dd0413f8b1f26",
            "0cc9faa2e4c64ff08c2a6b70109a155d",
            "a0c53b0ceb084e0b91f70f99a0b9ea9f",
            "1d80a20d91f64181b8020f5ea5791720",
            "c9430876bbca410fa9f9198d3b43faf9",
            "3e6d151afbb442539730e44ab2fe7337",
            "eedf4f945cb04fc8bafff68219943c87",
            "f1ff46ace4174531b6ccaa2567c9509a",
            "9f75b0dddcd141f5a4eacd4445d40cba",
            "0dd033c9b8664446a30537469dbce2d2",
            "79a3fe85ab5448888f18638f2eac442b",
            "0596c19cc5b3478f987a3677ce8190f6",
            "0f84319930ab46c7bfad81539c46ccb9",
            "79048c2895314250a533d498c81d3a58",
            "cddab7f33461472c8d1a846d052bc5f9",
            "9bf87276826c4b9490e68e11b1e78a7a",
            "a01aa3a065324af1a8476813d1189283",
            "3b79ae91ba394e539d993d0fc5d4a239",
            "b5055dcc5cab49a4ae2fdb5bf0a04ec4",
            "5aa2bc50f4664a5cbde8e6aea836e8d1",
            "8e8949e64dc2489991c6782d198f813b",
            "13759935a5fe4000860b7e096d038a78",
            "8e85a80bf83d473099679d7a67e96e11",
            "3a6f0507d0854784a5a889056a071d9a",
            "737dfb9f327a4eb3a3c1f2b50891f71c",
            "ebe5643c2b324a9e9366389f467062c8",
            "c92ae8f9303d4bec90c09774335a4098",
            "a6559b5997c64452888658fab2def03b",
            "a8ee0f5b5d0e4ed4abf393f294921bbe",
            "a3e7daab450b44af89ccffdf4ecf1df9",
            "7a140546659d409f988bdf5f48d0d18b",
            "cf0dae0e2c6a4b6999e379a654b8bfc3",
            "ddf4706bb4ae4c04ad988523d90f1706"
          ]
        },
        "outputId": "68f3ce48-64d7-4aac-f0f1-fddb36d5c5bb"
      },
      "source": [
        "# Загрузим MNIST\n",
        "batchSize = 100\n",
        "\n",
        "# Обучающая выборка\n",
        "trainDataset = dsets.MNIST(root='./data',\n",
        "                           train=True,\n",
        "                           transform=transforms.ToTensor(),\n",
        "                           download=True)\n",
        "\n",
        "# Тестовая выборка\n",
        "testDataset = dsets.MNIST(root='./data', \n",
        "                          train=False, \n",
        "                          transform=transforms.ToTensor())\n",
        "\n",
        "# Dataset Loader (подготовка данных для сети)\n",
        "trainLoader = torch.utils.data.DataLoader(dataset=trainDataset, # Какой датасет\n",
        "                                          batch_size=batchSize, # На сколько batch разделен\n",
        "                                          shuffle=True) \n",
        "\n",
        "testLoader = torch.utils.data.DataLoader(dataset=testDataset, #  Какой датасет\n",
        "                                         batch_size=batchSize, # На сколько batch разделен\n",
        "                                         shuffle=False)\n"
      ],
      "execution_count": null,
      "outputs": [
        {
          "output_type": "stream",
          "name": "stdout",
          "text": [
            "Downloading http://yann.lecun.com/exdb/mnist/train-images-idx3-ubyte.gz\n",
            "Downloading http://yann.lecun.com/exdb/mnist/train-images-idx3-ubyte.gz to ./data/MNIST/raw/train-images-idx3-ubyte.gz\n"
          ]
        },
        {
          "output_type": "display_data",
          "data": {
            "text/plain": [
              "  0%|          | 0/9912422 [00:00<?, ?it/s]"
            ],
            "application/vnd.jupyter.widget-view+json": {
              "version_major": 2,
              "version_minor": 0,
              "model_id": "79efb22bc8b0494fa326b444ec3366b2"
            }
          },
          "metadata": {}
        },
        {
          "output_type": "stream",
          "name": "stdout",
          "text": [
            "Extracting ./data/MNIST/raw/train-images-idx3-ubyte.gz to ./data/MNIST/raw\n",
            "\n",
            "Downloading http://yann.lecun.com/exdb/mnist/train-labels-idx1-ubyte.gz\n",
            "Downloading http://yann.lecun.com/exdb/mnist/train-labels-idx1-ubyte.gz to ./data/MNIST/raw/train-labels-idx1-ubyte.gz\n"
          ]
        },
        {
          "output_type": "display_data",
          "data": {
            "text/plain": [
              "  0%|          | 0/28881 [00:00<?, ?it/s]"
            ],
            "application/vnd.jupyter.widget-view+json": {
              "version_major": 2,
              "version_minor": 0,
              "model_id": "16d13aa38abf47d5830dd0413f8b1f26"
            }
          },
          "metadata": {}
        },
        {
          "output_type": "stream",
          "name": "stdout",
          "text": [
            "Extracting ./data/MNIST/raw/train-labels-idx1-ubyte.gz to ./data/MNIST/raw\n",
            "\n",
            "Downloading http://yann.lecun.com/exdb/mnist/t10k-images-idx3-ubyte.gz\n",
            "Downloading http://yann.lecun.com/exdb/mnist/t10k-images-idx3-ubyte.gz to ./data/MNIST/raw/t10k-images-idx3-ubyte.gz\n"
          ]
        },
        {
          "output_type": "display_data",
          "data": {
            "text/plain": [
              "  0%|          | 0/1648877 [00:00<?, ?it/s]"
            ],
            "application/vnd.jupyter.widget-view+json": {
              "version_major": 2,
              "version_minor": 0,
              "model_id": "0596c19cc5b3478f987a3677ce8190f6"
            }
          },
          "metadata": {}
        },
        {
          "output_type": "stream",
          "name": "stdout",
          "text": [
            "Extracting ./data/MNIST/raw/t10k-images-idx3-ubyte.gz to ./data/MNIST/raw\n",
            "\n",
            "Downloading http://yann.lecun.com/exdb/mnist/t10k-labels-idx1-ubyte.gz\n",
            "Downloading http://yann.lecun.com/exdb/mnist/t10k-labels-idx1-ubyte.gz to ./data/MNIST/raw/t10k-labels-idx1-ubyte.gz\n"
          ]
        },
        {
          "output_type": "display_data",
          "data": {
            "text/plain": [
              "  0%|          | 0/4542 [00:00<?, ?it/s]"
            ],
            "application/vnd.jupyter.widget-view+json": {
              "version_major": 2,
              "version_minor": 0,
              "model_id": "8e85a80bf83d473099679d7a67e96e11"
            }
          },
          "metadata": {}
        },
        {
          "output_type": "stream",
          "name": "stdout",
          "text": [
            "Extracting ./data/MNIST/raw/t10k-labels-idx1-ubyte.gz to ./data/MNIST/raw\n",
            "\n"
          ]
        }
      ]
    },
    {
      "cell_type": "code",
      "metadata": {
        "id": "hFTMCZfL8T3B"
      },
      "source": [
        "# Посмотрим на нашу выборку\n",
        "dataIter = iter(trainLoader) # По какой выборке пройдемся\n",
        "trainX, trainY = dataIter.next() # Присваиваем текущий batch"
      ],
      "execution_count": null,
      "outputs": []
    },
    {
      "cell_type": "code",
      "metadata": {
        "id": "hluWse_zdL-k",
        "colab": {
          "base_uri": "https://localhost:8080/"
        },
        "outputId": "a3e1ee7b-0c7c-4a08-b193-8c9cc9f7d355"
      },
      "source": [
        "trainX.shape"
      ],
      "execution_count": null,
      "outputs": [
        {
          "output_type": "execute_result",
          "data": {
            "text/plain": [
              "torch.Size([100, 1, 28, 28])"
            ]
          },
          "metadata": {},
          "execution_count": 54
        }
      ]
    },
    {
      "cell_type": "code",
      "metadata": {
        "id": "KZLeoVjn8T3V",
        "colab": {
          "base_uri": "https://localhost:8080/",
          "height": 282
        },
        "outputId": "969ff8bc-e73f-4767-b859-e3bbf1bc08ea"
      },
      "source": [
        "plt.imshow(trainX[1, 0])"
      ],
      "execution_count": null,
      "outputs": [
        {
          "output_type": "execute_result",
          "data": {
            "text/plain": [
              "<matplotlib.image.AxesImage at 0x7f703c8adb10>"
            ]
          },
          "metadata": {},
          "execution_count": 55
        },
        {
          "output_type": "display_data",
          "data": {
            "text/plain": [
              "<Figure size 432x288 with 1 Axes>"
            ],
            "image/png": "[encoded data removed]"
          },
          "metadata": {
            "needs_background": "light"
          }
        }
      ]
    },
    {
      "cell_type": "markdown",
      "metadata": {
        "id": "CBFoY69Z8T3d"
      },
      "source": [
        "# Архитектура модели\n",
        "\n"
      ]
    },
    {
      "cell_type": "code",
      "metadata": {
        "id": "gVSCXosz8T3o"
      },
      "source": [
        "# Создаем класс\n",
        "class Classification(nn.Module):\n",
        "    def __init__(self, input_size, hidden_size, num_classes):\n",
        "        super().__init__() # наследуем все свойства + добавляем свое\n",
        "        self.layer1 = nn.Linear(inputSize, hidden_size) # первый слой - линейный\n",
        "        self.relu = nn.ReLU() \n",
        "        self.layer2 = nn.Linear(hidden_size, num_classes)\n",
        "        self.softmax = nn.Softmax(dim=1) # Поскольку задача классификации, то используется функция активации softmax\n",
        "\n",
        "    def forward(self, x): # Здесь мы прописываем принципы, по которым данные будут проходить через сеть\n",
        "        out = self.layer1(x)  # выход первого слоя\n",
        "        out = self.relu(out) # применяем функцию активации к выходу первого слоя\n",
        "        out = self.layer2(out) # передаем это во второй слой\n",
        "        out = self.softmax(out) # применяем функцию активации ко второму слою\n",
        "        return out\n",
        "\n",
        "model = Classification(inputSize, hidden, numClasses).to(device) # Создаем объект нашей полносвязной сети"
      ],
      "execution_count": null,
      "outputs": []
    },
    {
      "cell_type": "code",
      "metadata": {
        "colab": {
          "base_uri": "https://localhost:8080/"
        },
        "id": "UeEaz9TwxWEu",
        "outputId": "d3b54939-3faf-4a13-a677-e94e9e544d2d"
      },
      "source": [
        "summary(model, (inputSize,))"
      ],
      "execution_count": null,
      "outputs": [
        {
          "output_type": "stream",
          "name": "stdout",
          "text": [
            "----------------------------------------------------------------\n",
            "        Layer (type)               Output Shape         Param #\n",
            "================================================================\n",
            "            Linear-1                  [-1, 500]         392,500\n",
            "              ReLU-2                  [-1, 500]               0\n",
            "            Linear-3                   [-1, 10]           5,010\n",
            "           Softmax-4                   [-1, 10]               0\n",
            "================================================================\n",
            "Total params: 397,510\n",
            "Trainable params: 397,510\n",
            "Non-trainable params: 0\n",
            "----------------------------------------------------------------\n",
            "Input size (MB): 0.00\n",
            "Forward/backward pass size (MB): 0.01\n",
            "Params size (MB): 1.52\n",
            "Estimated Total Size (MB): 1.53\n",
            "----------------------------------------------------------------\n"
          ]
        }
      ]
    },
    {
      "cell_type": "code",
      "metadata": {
        "id": "3VmEfJ1gRve2"
      },
      "source": [
        "class Static_model(nn.Module):\n",
        "  def __init__(self):\n",
        "    super().__init__()\n",
        "    self.layer1 = nn.Linear(784, 200)\n",
        "    self.layer2 = nn.Linear(200, 10)\n",
        "    self.relu = nn.ReLU()\n",
        "    self.softmax = nn.Softmax(dim=1)\n",
        "    self.tanh = nn.Tanh()\n",
        "\n",
        "  def forward(self, x):\n",
        "\n",
        "    x = self.layer1(x)\n",
        "    x = self.relu(x)\n",
        "    x = self.softmax(self.layer2(x))\n",
        "    return x"
      ],
      "execution_count": null,
      "outputs": []
    },
    {
      "cell_type": "code",
      "metadata": {
        "id": "WBLm1RXd8T3t",
        "colab": {
          "base_uri": "https://localhost:8080/"
        },
        "outputId": "df64aa22-6913-4a1a-9455-0d0a889f27b1"
      },
      "source": [
        "trainX.view(-1, 28*28).shape # view операция идентичная reshape, за исключением, что она меняет размер массива только для данной итерации"
      ],
      "execution_count": null,
      "outputs": [
        {
          "output_type": "execute_result",
          "data": {
            "text/plain": [
              "torch.Size([100, 784])"
            ]
          },
          "metadata": {},
          "execution_count": 59
        }
      ]
    },
    {
      "cell_type": "code",
      "metadata": {
        "id": "rOCnak6V2nik",
        "colab": {
          "base_uri": "https://localhost:8080/"
        },
        "outputId": "ccb0312b-6313-46c0-b805-f80d7b11a267"
      },
      "source": [
        "trainX.size()"
      ],
      "execution_count": null,
      "outputs": [
        {
          "output_type": "execute_result",
          "data": {
            "text/plain": [
              "torch.Size([100, 1, 28, 28])"
            ]
          },
          "metadata": {},
          "execution_count": 60
        }
      ]
    },
    {
      "cell_type": "markdown",
      "metadata": {
        "id": "zjhHlFLC8T5f"
      },
      "source": [
        "# Функция ошибки и оптимизатор\n",
        "\n"
      ]
    },
    {
      "cell_type": "code",
      "metadata": {
        "id": "7ilFKNqoJvT8",
        "colab": {
          "base_uri": "https://localhost:8080/"
        },
        "outputId": "9032d59f-11e7-4fc8-f980-8b8915be02f2"
      },
      "source": [
        "criterion = nn.CrossEntropyLoss() # функция ошибки\n",
        "optimizer = torch.optim.SGD(model.parameters(), lr=learningRate) # оптимизатор\n",
        "losses = [] # сюда будет добавляться средняя ошибка. Список будем использовать для построения графика\n",
        "model.train() # переход в режим обучения"
      ],
      "execution_count": null,
      "outputs": [
        {
          "output_type": "execute_result",
          "data": {
            "text/plain": [
              "Classification(\n",
              "  (layer1): Linear(in_features=784, out_features=500, bias=True)\n",
              "  (relu): ReLU()\n",
              "  (layer2): Linear(in_features=500, out_features=10, bias=True)\n",
              "  (softmax): Softmax(dim=1)\n",
              ")"
            ]
          },
          "metadata": {},
          "execution_count": 76
        }
      ]
    },
    {
      "cell_type": "markdown",
      "metadata": {
        "id": "p3l7UxjXJvzq"
      },
      "source": [
        "# Обучаем модель\n",
        "\n"
      ]
    },
    {
      "cell_type": "code",
      "metadata": {
        "id": "i7fyIoGW8T5h",
        "colab": {
          "base_uri": "https://localhost:8080/",
          "height": 456
        },
        "outputId": "8bd702ee-16ed-459b-bb31-ad49915712d5"
      },
      "source": [
        "for epoch in range(numEpochs): # количество эпох\n",
        "    lossTot = 0 # потери в совокупности\n",
        "\n",
        "    for i, (images, labels) in enumerate(trainLoader): # проходимся по всем данным в batch\n",
        "        images = images.view(-1, 28*28).to(device)     # приводим к правильному формату для сетки\n",
        "        labels = labels.to(device)                    # отправляем метки на используемое устройство\n",
        "        optimizer.zero_grad()                          # обнуляем градиент\n",
        "        outputs = model(images)                        # здесь наше предсказание\n",
        "        loss = criterion(outputs.log(), labels)        # считаем ошибку \n",
        "        loss.backward()                                # обратное распространение ошибки \n",
        "                                                       # x.grad += dloss/dx для всех параметров x\n",
        "\n",
        "        lossTot += loss.cpu().detach().data # инкремент ошибки\n",
        "        \n",
        "        optimizer.step() # следующий шаг спуска\n",
        "\n",
        "    losses.append(lossTot/len(trainDataset)) # вычисляем среднюю ошибку и добавляем в список\n",
        "    print('Эпоха: [%d/%d], Ошибка: %.4f' \n",
        "           % (epoch+1, numEpochs, loss))\n",
        "plt.plot(losses) # График нашего обучения"
      ],
      "execution_count": null,
      "outputs": [
        {
          "output_type": "stream",
          "name": "stdout",
          "text": [
            "Эпоха: [1/10], Ошибка: 0.3839\n",
            "Эпоха: [2/10], Ошибка: 0.3997\n",
            "Эпоха: [3/10], Ошибка: 0.3994\n",
            "Эпоха: [4/10], Ошибка: 0.3801\n",
            "Эпоха: [5/10], Ошибка: 0.4387\n",
            "Эпоха: [6/10], Ошибка: 0.3090\n",
            "Эпоха: [7/10], Ошибка: 0.4831\n",
            "Эпоха: [8/10], Ошибка: 0.4721\n",
            "Эпоха: [9/10], Ошибка: 0.5127\n",
            "Эпоха: [10/10], Ошибка: 0.3883\n"
          ]
        },
        {
          "output_type": "execute_result",
          "data": {
            "text/plain": [
              "[<matplotlib.lines.Line2D at 0x7f703ca6f790>]"
            ]
          },
          "metadata": {},
          "execution_count": 78
        },
        {
          "output_type": "display_data",
          "data": {
            "text/plain": [
              "<Figure size 432x288 with 1 Axes>"
            ],
            "image/png": "[encoded data removed]"
          },
          "metadata": {
            "needs_background": "light"
          }
        }
      ]
    },
    {
      "cell_type": "code",
      "metadata": {
        "id": "wNz5bq798T50",
        "colab": {
          "base_uri": "https://localhost:8080/",
          "height": 282
        },
        "outputId": "d4cee273-5869-4090-fd5a-555dcca7c25f"
      },
      "source": [
        "plt.imshow(trainX[9, 0]), trainY[9]"
      ],
      "execution_count": null,
      "outputs": [
        {
          "output_type": "execute_result",
          "data": {
            "text/plain": [
              "(<matplotlib.image.AxesImage at 0x7f70411e6f90>, tensor(4))"
            ]
          },
          "metadata": {},
          "execution_count": 79
        },
        {
          "output_type": "display_data",
          "data": {
            "text/plain": [
              "<Figure size 432x288 with 1 Axes>"
            ],
            "image/png": "[encoded data removed]"
          },
          "metadata": {
            "needs_background": "light"
          }
        }
      ]
    },
    {
      "cell_type": "code",
      "metadata": {
        "id": "n5quBTF88T57",
        "colab": {
          "base_uri": "https://localhost:8080/"
        },
        "outputId": "0d1a96eb-81be-4fca-f0ac-9cf88eb14aa8"
      },
      "source": [
        "x = model(trainX[9].view(-1, 784).to(device)).detach()\n",
        "print(x.data)\n",
        "print(torch.max(x.data,dim=1)) # ответ в виде вероятностей\n"
      ],
      "execution_count": null,
      "outputs": [
        {
          "output_type": "stream",
          "name": "stdout",
          "text": [
            "tensor([[0.0052, 0.0053, 0.0231, 0.0016, 0.6337, 0.0132, 0.0727, 0.0440, 0.0438,\n",
            "         0.1575]], device='cuda:0')\n",
            "torch.return_types.max(\n",
            "values=tensor([0.6337], device='cuda:0'),\n",
            "indices=tensor([4], device='cuda:0'))\n"
          ]
        }
      ]
    },
    {
      "cell_type": "markdown",
      "metadata": {
        "id": "dbDg-OmsL-uS"
      },
      "source": [
        "# Проверка работы модели\n",
        "\n",
        "\n",
        "\n"
      ]
    },
    {
      "cell_type": "code",
      "metadata": {
        "id": "odBwDCz-8T7_",
        "colab": {
          "base_uri": "https://localhost:8080/"
        },
        "outputId": "28fd8514-15b7-4509-d5f1-d6d53ff7b88a"
      },
      "source": [
        "correct = 0\n",
        "total = 0\n",
        "\n",
        "model.eval() # режим проверки\n",
        "\n",
        "with torch.no_grad():                               # отключаем автоматическое дифференцирование\n",
        "    for images, labels in testLoader:               # итерируем по проверочному датасету\n",
        "        images = images.view(-1, 28*28).to(device)  # приводим к нужному формату\n",
        "        labels = labels.to(device)                  # отправляем метки на используемое устройство\n",
        "        outputs = model(images)                     # делаем прогноз\n",
        "        _, predicted = torch.max(outputs.data, 1)   # _ максимальное значение пропускаем, нас интересует, что это за цифра\n",
        "        total += labels.size(0)                     # размер тензора с метками (0 - первое/единственное значение)\n",
        "        correct += (predicted == labels).sum()      # подсчет количества верных ответов в батче\n",
        "    \n",
        "print('Точность для 10000 картинок: %d %%' % (100 * correct / total))"
      ],
      "execution_count": null,
      "outputs": [
        {
          "output_type": "stream",
          "name": "stdout",
          "text": [
            "Точность для 10000 картинок: 89 %\n"
          ]
        }
      ]
    },
    {
      "cell_type": "code",
      "metadata": {
        "id": "qdo88SB6juGo",
        "colab": {
          "base_uri": "https://localhost:8080/"
        },
        "outputId": "68cda464-a4cf-4154-b8be-8d1636493b8c"
      },
      "source": [
        "print(outputs[0], torch.max(outputs.data, 1))\n",
        "print(labels)"
      ],
      "execution_count": null,
      "outputs": [
        {
          "output_type": "stream",
          "name": "stdout",
          "text": [
            "tensor([0.0024, 0.0480, 0.0323, 0.0338, 0.0029, 0.0481, 0.0070, 0.0015, 0.8197,\n",
            "        0.0043], device='cuda:0') torch.return_types.max(\n",
            "values=tensor([0.8197, 0.6131, 0.7757, 0.7257, 0.2647, 0.5418, 0.6757, 0.4030, 0.9845,\n",
            "        0.9420, 0.6421, 0.8992, 0.5250, 0.7322, 0.5654, 0.9435, 0.7075, 0.9685,\n",
            "        0.6977, 0.7614, 0.9504, 0.8519, 0.5154, 0.9370, 0.4906, 0.2469, 0.4361,\n",
            "        0.8529, 0.7142, 0.9064, 0.9675, 0.9602, 0.7327, 0.8793, 0.7725, 0.9282,\n",
            "        0.7522, 0.5240, 0.9723, 0.9486, 0.5436, 0.5036, 0.9099, 0.3429, 0.4902,\n",
            "        0.6045, 0.9491, 0.7740, 0.7497, 0.9406, 0.9287, 0.8241, 0.9261, 0.5910,\n",
            "        0.4446, 0.4562, 0.8589, 0.7929, 0.7645, 0.2768, 0.8254, 0.9751, 0.7420,\n",
            "        0.9403, 0.8855, 0.8467, 0.9268, 0.6952, 0.9744, 0.9464, 0.6846, 0.9078,\n",
            "        0.9220, 0.6282, 0.9581, 0.5606, 0.8692, 0.9027, 0.8930, 0.9047, 0.5457,\n",
            "        0.7155, 0.6083, 0.9885, 0.9390, 0.4081, 0.5062, 0.9373, 0.9181, 0.9959,\n",
            "        0.9720, 0.7474, 0.5024, 0.8428, 0.9778, 0.9951, 0.9948, 0.7873, 0.5215,\n",
            "        0.9960], device='cuda:0'),\n",
            "indices=tensor([8, 9, 0, 1, 2, 7, 4, 5, 6, 7, 8, 0, 1, 2, 3, 4, 7, 8, 9, 7, 8, 6, 4, 1,\n",
            "        9, 8, 8, 4, 4, 7, 0, 1, 9, 2, 8, 7, 8, 2, 6, 0, 0, 6, 3, 8, 8, 9, 1, 4,\n",
            "        0, 6, 1, 0, 0, 0, 2, 1, 1, 7, 7, 3, 4, 6, 0, 7, 0, 3, 6, 8, 7, 1, 3, 2,\n",
            "        4, 9, 4, 2, 6, 4, 1, 7, 3, 6, 2, 0, 1, 2, 3, 4, 5, 6, 7, 8, 4, 0, 1, 2,\n",
            "        3, 4, 5, 6], device='cuda:0'))\n",
            "tensor([8, 9, 0, 1, 2, 3, 4, 5, 6, 7, 8, 0, 1, 2, 3, 4, 7, 8, 9, 7, 8, 6, 4, 1,\n",
            "        9, 3, 8, 4, 4, 7, 0, 1, 9, 2, 8, 7, 8, 2, 6, 0, 6, 5, 3, 3, 3, 9, 1, 4,\n",
            "        0, 6, 1, 0, 0, 6, 2, 1, 1, 7, 7, 8, 4, 6, 0, 7, 0, 3, 6, 8, 7, 1, 5, 2,\n",
            "        4, 9, 4, 3, 6, 4, 1, 7, 2, 6, 5, 0, 1, 2, 3, 4, 5, 6, 7, 8, 9, 0, 1, 2,\n",
            "        3, 4, 5, 6], device='cuda:0')\n"
          ]
        }
      ]
    },
    {
      "cell_type": "markdown",
      "metadata": {
        "id": "ZA1GCTJRwRST"
      },
      "source": [
        "# Сверточная сеть\n",
        "\n",
        "\n"
      ]
    },
    {
      "cell_type": "code",
      "metadata": {
        "id": "lNp7E92DwSyk"
      },
      "source": [
        "class CNN(nn.Module):\n",
        "    def __init__(self):\n",
        "        super(CNN, self).__init__()\n",
        "        # nn.Sequential позволяет создать последовательность слоев и записать это в одну переменную\n",
        "        self.layer1 = nn.Sequential(\n",
        "            nn.Conv2d(1, 16, kernel_size=5, padding = 2),   # сверточный слой\n",
        "            nn.BatchNorm2d(16),                             # слой батч-нормализации\n",
        "            nn.ReLU(),                                      # функция активации relu\n",
        "            nn.MaxPool2d(2))                                # слой пуллинга\n",
        "        self.layer2 = nn.Sequential(\n",
        "            nn.Conv2d(16, 32, kernel_size=5, padding = 2),  # сверточный слой\n",
        "            nn.BatchNorm2d(32),                             # слой батч-нормализации\n",
        "            nn.ReLU(),                                      # функция активации relu\n",
        "            nn.MaxPool2d(2))                                # слой пуллинга\n",
        "        self.fc = nn.Linear(7*7*32, numClasses)             # выходной слой\n",
        "        \n",
        "    def forward(self, x):\n",
        "        out = self.layer1(x)                                # выход первого сверточного слоя\n",
        "        out = self.layer2(out)                              # выход второго сверточного слоя\n",
        "        out = out.view(out.size(0), -1)                     # вытягиваем карты признаков в векторы для подачи в полносвязный слой\n",
        "        out = self.fc(out)                                  # выход полносвязного слоя\n",
        "        return out                                          # возвращаем результат работы сети\n",
        "\n",
        "model = CNN().to(device) # создаем модель"
      ],
      "execution_count": null,
      "outputs": []
    },
    {
      "cell_type": "code",
      "metadata": {
        "colab": {
          "base_uri": "https://localhost:8080/"
        },
        "id": "40uJ3bpb2SDQ",
        "outputId": "03dcf5ea-542e-4e5d-d277-410a9c51a3f5"
      },
      "source": [
        "summary(model, (1,28,28))"
      ],
      "execution_count": null,
      "outputs": [
        {
          "output_type": "stream",
          "name": "stdout",
          "text": [
            "----------------------------------------------------------------\n",
            "        Layer (type)               Output Shape         Param #\n",
            "================================================================\n",
            "            Conv2d-1           [-1, 16, 28, 28]             416\n",
            "       BatchNorm2d-2           [-1, 16, 28, 28]              32\n",
            "              ReLU-3           [-1, 16, 28, 28]               0\n",
            "         MaxPool2d-4           [-1, 16, 14, 14]               0\n",
            "            Conv2d-5           [-1, 32, 14, 14]          12,832\n",
            "       BatchNorm2d-6           [-1, 32, 14, 14]              64\n",
            "              ReLU-7           [-1, 32, 14, 14]               0\n",
            "         MaxPool2d-8             [-1, 32, 7, 7]               0\n",
            "            Linear-9                   [-1, 10]          15,690\n",
            "================================================================\n",
            "Total params: 29,034\n",
            "Trainable params: 29,034\n",
            "Non-trainable params: 0\n",
            "----------------------------------------------------------------\n",
            "Input size (MB): 0.00\n",
            "Forward/backward pass size (MB): 0.47\n",
            "Params size (MB): 0.11\n",
            "Estimated Total Size (MB): 0.58\n",
            "----------------------------------------------------------------\n"
          ]
        }
      ]
    },
    {
      "cell_type": "code",
      "metadata": {
        "id": "vBMWvFt8wVOU",
        "colab": {
          "base_uri": "https://localhost:8080/"
        },
        "outputId": "9d65824b-8f59-4825-e9ab-34b519d280ce"
      },
      "source": [
        "# Ошибка и оптимизатор\n",
        "criterion = nn.CrossEntropyLoss() # функция ошибки\n",
        "optimizer = torch.optim.Adam(model.parameters(), lr=learningRate) # оптимизатор\n",
        "model.train() # переход в режим обучения"
      ],
      "execution_count": null,
      "outputs": [
        {
          "output_type": "execute_result",
          "data": {
            "text/plain": [
              "CNN(\n",
              "  (layer1): Sequential(\n",
              "    (0): Conv2d(1, 16, kernel_size=(5, 5), stride=(1, 1), padding=(2, 2))\n",
              "    (1): BatchNorm2d(16, eps=1e-05, momentum=0.1, affine=True, track_running_stats=True)\n",
              "    (2): ReLU()\n",
              "    (3): MaxPool2d(kernel_size=2, stride=2, padding=0, dilation=1, ceil_mode=False)\n",
              "  )\n",
              "  (layer2): Sequential(\n",
              "    (0): Conv2d(16, 32, kernel_size=(5, 5), stride=(1, 1), padding=(2, 2))\n",
              "    (1): BatchNorm2d(32, eps=1e-05, momentum=0.1, affine=True, track_running_stats=True)\n",
              "    (2): ReLU()\n",
              "    (3): MaxPool2d(kernel_size=2, stride=2, padding=0, dilation=1, ceil_mode=False)\n",
              "  )\n",
              "  (fc): Linear(in_features=1568, out_features=10, bias=True)\n",
              ")"
            ]
          },
          "metadata": {},
          "execution_count": 85
        }
      ]
    },
    {
      "cell_type": "code",
      "metadata": {
        "id": "1Da2wT7MwbUc",
        "colab": {
          "base_uri": "https://localhost:8080/"
        },
        "outputId": "1270a1f4-913a-49bd-9e1d-12da6de462b3"
      },
      "source": [
        "# Обучение модели\n",
        "curTime = time.time()\n",
        "for epoch in range(numEpochs):\n",
        "    for i, (images, labels) in enumerate(trainLoader):        \n",
        "        images = images.to(device)\n",
        "        labels = labels.to(device)\n",
        "        optimizer.zero_grad() # обнуляем градиент\n",
        "        outputs = model(images) # делаем предсказание\n",
        "        loss = criterion(outputs, labels) # считаем ошибку \n",
        "        loss.backward() # обратное распространение ошибки\n",
        "        optimizer.step() # шаг оптимизации\n",
        "        \n",
        "        if (i+1) % 100 == 0:\n",
        "            print('Эпоха: [%d/%d], Шаг: [%d/%d], Ошибка: %.4f' \n",
        "                  % (epoch+1, numEpochs, i+1, len(trainDataset)//batchSize, loss))\n",
        "print('Время обработки: ', round(time.time() - curTime))"
      ],
      "execution_count": null,
      "outputs": [
        {
          "output_type": "stream",
          "name": "stdout",
          "text": [
            "Эпоха: [1/10], Шаг: [100/600], Ошибка: 0.1303\n",
            "Эпоха: [1/10], Шаг: [200/600], Ошибка: 0.1438\n",
            "Эпоха: [1/10], Шаг: [300/600], Ошибка: 0.0190\n",
            "Эпоха: [1/10], Шаг: [400/600], Ошибка: 0.0655\n",
            "Эпоха: [1/10], Шаг: [500/600], Ошибка: 0.1333\n",
            "Эпоха: [1/10], Шаг: [600/600], Ошибка: 0.1355\n",
            "Эпоха: [2/10], Шаг: [100/600], Ошибка: 0.1020\n",
            "Эпоха: [2/10], Шаг: [200/600], Ошибка: 0.0331\n",
            "Эпоха: [2/10], Шаг: [300/600], Ошибка: 0.0444\n",
            "Эпоха: [2/10], Шаг: [400/600], Ошибка: 0.0440\n",
            "Эпоха: [2/10], Шаг: [500/600], Ошибка: 0.1069\n",
            "Эпоха: [2/10], Шаг: [600/600], Ошибка: 0.0270\n",
            "Эпоха: [3/10], Шаг: [100/600], Ошибка: 0.0213\n",
            "Эпоха: [3/10], Шаг: [200/600], Ошибка: 0.0624\n",
            "Эпоха: [3/10], Шаг: [300/600], Ошибка: 0.0030\n",
            "Эпоха: [3/10], Шаг: [400/600], Ошибка: 0.0153\n",
            "Эпоха: [3/10], Шаг: [500/600], Ошибка: 0.0050\n",
            "Эпоха: [3/10], Шаг: [600/600], Ошибка: 0.0482\n",
            "Эпоха: [4/10], Шаг: [100/600], Ошибка: 0.0078\n",
            "Эпоха: [4/10], Шаг: [200/600], Ошибка: 0.0107\n",
            "Эпоха: [4/10], Шаг: [300/600], Ошибка: 0.0055\n",
            "Эпоха: [4/10], Шаг: [400/600], Ошибка: 0.0378\n",
            "Эпоха: [4/10], Шаг: [500/600], Ошибка: 0.0418\n",
            "Эпоха: [4/10], Шаг: [600/600], Ошибка: 0.0089\n",
            "Эпоха: [5/10], Шаг: [100/600], Ошибка: 0.0054\n",
            "Эпоха: [5/10], Шаг: [200/600], Ошибка: 0.0148\n",
            "Эпоха: [5/10], Шаг: [300/600], Ошибка: 0.0067\n",
            "Эпоха: [5/10], Шаг: [400/600], Ошибка: 0.0312\n",
            "Эпоха: [5/10], Шаг: [500/600], Ошибка: 0.1071\n",
            "Эпоха: [5/10], Шаг: [600/600], Ошибка: 0.0240\n",
            "Эпоха: [6/10], Шаг: [100/600], Ошибка: 0.0029\n",
            "Эпоха: [6/10], Шаг: [200/600], Ошибка: 0.0355\n",
            "Эпоха: [6/10], Шаг: [300/600], Ошибка: 0.0178\n",
            "Эпоха: [6/10], Шаг: [400/600], Ошибка: 0.0139\n",
            "Эпоха: [6/10], Шаг: [500/600], Ошибка: 0.0013\n",
            "Эпоха: [6/10], Шаг: [600/600], Ошибка: 0.0080\n",
            "Эпоха: [7/10], Шаг: [100/600], Ошибка: 0.0241\n",
            "Эпоха: [7/10], Шаг: [200/600], Ошибка: 0.0216\n",
            "Эпоха: [7/10], Шаг: [300/600], Ошибка: 0.0030\n",
            "Эпоха: [7/10], Шаг: [400/600], Ошибка: 0.0220\n",
            "Эпоха: [7/10], Шаг: [500/600], Ошибка: 0.0032\n",
            "Эпоха: [7/10], Шаг: [600/600], Ошибка: 0.0126\n",
            "Эпоха: [8/10], Шаг: [100/600], Ошибка: 0.0379\n",
            "Эпоха: [8/10], Шаг: [200/600], Ошибка: 0.0057\n",
            "Эпоха: [8/10], Шаг: [300/600], Ошибка: 0.0059\n",
            "Эпоха: [8/10], Шаг: [400/600], Ошибка: 0.0058\n",
            "Эпоха: [8/10], Шаг: [500/600], Ошибка: 0.0163\n",
            "Эпоха: [8/10], Шаг: [600/600], Ошибка: 0.0164\n",
            "Эпоха: [9/10], Шаг: [100/600], Ошибка: 0.0053\n",
            "Эпоха: [9/10], Шаг: [200/600], Ошибка: 0.0033\n",
            "Эпоха: [9/10], Шаг: [300/600], Ошибка: 0.0221\n",
            "Эпоха: [9/10], Шаг: [400/600], Ошибка: 0.0290\n",
            "Эпоха: [9/10], Шаг: [500/600], Ошибка: 0.0327\n",
            "Эпоха: [9/10], Шаг: [600/600], Ошибка: 0.0055\n",
            "Эпоха: [10/10], Шаг: [100/600], Ошибка: 0.0027\n",
            "Эпоха: [10/10], Шаг: [200/600], Ошибка: 0.0182\n",
            "Эпоха: [10/10], Шаг: [300/600], Ошибка: 0.0204\n",
            "Эпоха: [10/10], Шаг: [400/600], Ошибка: 0.0199\n",
            "Эпоха: [10/10], Шаг: [500/600], Ошибка: 0.0076\n",
            "Эпоха: [10/10], Шаг: [600/600], Ошибка: 0.0024\n",
            "Время обработки:  101\n"
          ]
        }
      ]
    },
    {
      "cell_type": "code",
      "metadata": {
        "id": "mgFK8ZtOwfcI",
        "colab": {
          "base_uri": "https://localhost:8080/"
        },
        "outputId": "51054103-f7ff-4ada-9ab0-3e80e7a40967"
      },
      "source": [
        "# Проверка результатов\n",
        "model.eval()  # включаем режим проверки\n",
        "correct = 0\n",
        "total = 0\n",
        "\n",
        "with torch.no_grad():                              # отключаем автоматическое дифференцирование\n",
        "    for images, labels in testLoader:              # итерируем по проверочному датасету\n",
        "        images = images.to(device)\n",
        "        labels = labels.to(device)\n",
        "        outputs = model(images)                    # делаем прогноз\n",
        "        _, predicted = torch.max(outputs.data, 1)  # _ максимальное значение пропускаем, нас интересует, что это за цифра\n",
        "        total += labels.size(0)                    # размер тензора с метками (0 - первое/единственное значение)\n",
        "        correct += (predicted == labels).sum()     # подсчет количества верных ответов в батче\n",
        "    \n",
        "print('Точность для 10000 картинок: %d %%' % (100 * correct / total))"
      ],
      "execution_count": null,
      "outputs": [
        {
          "output_type": "stream",
          "name": "stdout",
          "text": [
            "Точность для 10000 картинок: 99 %\n"
          ]
        }
      ]
    },
    {
      "cell_type": "markdown",
      "metadata": {
        "id": "GpLaEJpoKAHP"
      },
      "source": [
        "# **Глоссарий**\n",
        "*   **train dataset** - объект, включающий в себя ваш набор данных. На выходе такого объекта всегда должен быть тензор.\n",
        "*   **train loader** - объект, в который вы подгружаете ваш train dataset, и который используете при обучении нейронной сети для итерирования по всему набору данных. \n",
        "*   **optimizer.zero_grad()** - обнуляет результат дифференциирования.\n",
        "*   **loss.backward()** - считает градиент для обратного распространения ошибки. \n",
        "*   **optimizer.step()** - принимает (автоматически) посчитанные градиенты и делает шаг оптимизации.\n",
        "*   **nn.Module** - базовый класс нейронной сети, на котором строится собственная нейронная сеть.\n",
        "*   **def forward(self,x)** - функция-движитель. Связывает инициализированные слои. На вход принимается х (batch) и передается дальше по всем слоям.\n",
        "*   **data.Dataset** -  базовый класс дата сета, на котором строится собственный датасет.\n",
        "*   **.view()** - функция, интерпретирующая размер объекта для данной итерации в том виде, который указан в качестве параметра.\n",
        "*   **.data** - получить исключительно статичные данные из тензора.\n",
        "*   **.detach()** - открепить тензор от вычислительного графа.\n",
        "*   **model.train()** - перевести объект нейронки в обучающи режим.\n",
        "*   **model.eval()** - перевести объект нейронки в режим оценки."
      ]
    },
    {
      "cell_type": "markdown",
      "metadata": {
        "id": "_DX1J6qXM3mR"
      },
      "source": [
        "# **Обратите внимание**\n",
        "\n",
        "*   В параметрах тензора вы можете вручную прописать поддержку дифференциирования\n",
        "*   Для удобства всегда создавайте DataLoader. Для DataLoader необходим Dataset\n",
        "*   Dataset всегда можно прописать \"вручную\"\n",
        "*   Прописываете архитектуру модели через отдельный класс\n",
        "*   Выбирая функцию ошибки, смотрите, какой формат должен подаваться на вход\n",
        "*   Во время обучения не забывайте о последовательности .zero_grad -> .backward -> .step\n",
        "*   Режимы тренировочный и оценочный являются *разными* для Pytorch. Не забывайте указывать это в начале.    \n",
        "\n",
        "\n"
      ]
    }
  ]
}