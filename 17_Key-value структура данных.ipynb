{
  "nbformat": 4,
  "nbformat_minor": 0,
  "metadata": {
    "colab": {
      "name": "Key-Value структура данных.ipynb",
      "provenance": [],
      "collapsed_sections": []
    },
    "kernelspec": {
      "name": "python2",
      "display_name": "Python 2"
    }
  },
  "cells": [
    {
      "cell_type": "markdown",
      "metadata": {
        "id": "aYzXlLKcpn0k"
      },
      "source": [
        "## Описание Use Case:\n",
        "Имеется система, состоящая из 1 млн. элементов (например сервера) по каждому элементу у нас задано 4 KPI:\n",
        "- Среднее значение метрик за последние 20 отсчетов\n",
        "- Медианное значение метрик за весь период\n",
        "- Количество не нулевых метрик\n",
        "- Количество метрик превышающих среднее по всем элементам\n",
        "\n",
        "Всистему постоянно поступают данные (Например статистика по сиполняемым на серверах приложениям) по закону пуассоновского потока (не известно в какой момент времени придут данные и по какому элементу)\n",
        "\n",
        "Данные требуется хранить в детальном виде, все метрики необхоимо расчитывать \"на лету\" при запросе"
      ]
    },
    {
      "cell_type": "code",
      "metadata": {
        "id": "NCxI_W_-AptV",
        "colab": {
          "base_uri": "https://localhost:8080/",
          "height": 34
        },
        "outputId": "3741a79d-0962-4d7a-9739-284a53d97eed"
      },
      "source": [
        "# Создадим Key-Value (HashTable) storage на 1 млн объектов\n",
        "# Ключем будет являтс id объекта от 0 до 1.000.000, значением будет являтся пустой массив\n",
        "kv_storage = {i:[] for i in range(1000000)}\n",
        "len(kv_storage)"
      ],
      "execution_count": null,
      "outputs": [
        {
          "output_type": "execute_result",
          "data": {
            "text/plain": [
              "1000000"
            ]
          },
          "metadata": {
            "tags": []
          },
          "execution_count": 10
        }
      ]
    },
    {
      "cell_type": "code",
      "metadata": {
        "id": "Oq5-Bz5pBbQE",
        "colab": {
          "base_uri": "https://localhost:8080/",
          "height": 34
        },
        "outputId": "e5a911b7-d1d2-4b96-8ef3-35f91d0ddadb"
      },
      "source": [
        "# На текущий момент наше хранилище пусто\n",
        "kv_storage[0]"
      ],
      "execution_count": null,
      "outputs": [
        {
          "output_type": "execute_result",
          "data": {
            "text/plain": [
              "[]"
            ]
          },
          "metadata": {
            "tags": []
          },
          "execution_count": 4
        }
      ]
    },
    {
      "cell_type": "code",
      "metadata": {
        "id": "GFymWzNaBRwL"
      },
      "source": [
        "# Заполним наше ПУСТОЕ хранилище для каждого ключа произвольным количеством событий со случайными знаяениями:\n",
        "import numpy as np\n",
        "for k in kv_storage.keys():\n",
        "  num_events = np.random.randint(0,320)\n",
        "  new_val = np.random.uniform(low=0,high=50,size=num_events).tolist()\n",
        "  kv_storage[k].extend(new_val)"
      ],
      "execution_count": null,
      "outputs": []
    },
    {
      "cell_type": "code",
      "metadata": {
        "id": "7WN3-VWmDC1_",
        "colab": {
          "base_uri": "https://localhost:8080/",
          "height": 1000
        },
        "outputId": "fa45c1f0-b2f6-47ee-9d9e-21366448d8a4"
      },
      "source": [
        "# Теперь у нас есть данные вхранилище\n",
        "kv_storage[0]"
      ],
      "execution_count": null,
      "outputs": [
        {
          "output_type": "execute_result",
          "data": {
            "text/plain": [
              "[5.740670599935848,\n",
              " 10.948260676297068,\n",
              " 27.492018566407957,\n",
              " 49.18444902183643,\n",
              " 40.94120348257702,\n",
              " 26.580212065682023,\n",
              " 34.79536982744799,\n",
              " 40.08304006560846,\n",
              " 20.67082168430561,\n",
              " 8.13169382721924,\n",
              " 24.219171974493108,\n",
              " 45.87152193456262,\n",
              " 33.243416089711985,\n",
              " 4.091091498170263,\n",
              " 5.724553362442619,\n",
              " 35.699402946309434,\n",
              " 18.75135571378249,\n",
              " 35.69992715840923,\n",
              " 37.19044780956082,\n",
              " 46.21089004219686,\n",
              " 48.68260442800144,\n",
              " 25.0494713405596,\n",
              " 48.42455602827356,\n",
              " 12.996752230310882,\n",
              " 44.40272724014333,\n",
              " 40.86227363066401,\n",
              " 23.706022956393753,\n",
              " 47.205897823629186,\n",
              " 9.890046014112286,\n",
              " 6.007544395871401,\n",
              " 33.558863436370096,\n",
              " 1.764040269907724,\n",
              " 21.35281133438979,\n",
              " 27.81420999466768,\n",
              " 48.258078315522965,\n",
              " 3.887024678679285,\n",
              " 30.853542799174537,\n",
              " 29.592385584878144,\n",
              " 8.719283698825453,\n",
              " 16.228077527149715,\n",
              " 13.886891821746245,\n",
              " 35.3970270106454,\n",
              " 9.466372066197831,\n",
              " 30.750983750309846,\n",
              " 8.936835720496733,\n",
              " 4.106970043209962,\n",
              " 34.21507305423267,\n",
              " 1.6618591980099573,\n",
              " 1.7109089540813638,\n",
              " 33.51085465234944,\n",
              " 47.964784101637456,\n",
              " 18.857257814669865,\n",
              " 41.153862922775396,\n",
              " 10.546611064404377,\n",
              " 8.655487089068881,\n",
              " 36.942716860957546,\n",
              " 49.329374337049224,\n",
              " 46.24532205439323,\n",
              " 37.154593111646456,\n",
              " 25.600162664717885,\n",
              " 17.731168271957593,\n",
              " 8.42363572827498,\n",
              " 16.332975349395507,\n",
              " 39.23575378590141,\n",
              " 2.3470408638569973,\n",
              " 30.257700479207312,\n",
              " 16.949365906941598,\n",
              " 27.825461961024132,\n",
              " 17.12467341594287,\n",
              " 47.90933277397796,\n",
              " 49.75622963697393,\n",
              " 9.226207646329199,\n",
              " 25.50963625090803,\n",
              " 47.00766065969273,\n",
              " 19.956865651584682,\n",
              " 1.1566779619204048,\n",
              " 22.052817654544537,\n",
              " 0.30488819303270964,\n",
              " 23.57267073644965,\n",
              " 6.3903428878389015,\n",
              " 45.479430289275776,\n",
              " 8.273913759092622,\n",
              " 32.84048297282713,\n",
              " 16.027117520692467,\n",
              " 6.467546866463181,\n",
              " 11.770316688616544,\n",
              " 13.481344976655302,\n",
              " 3.7419165448365597,\n",
              " 41.86328683349735,\n",
              " 5.620024952198621,\n",
              " 6.499980475294698,\n",
              " 9.084689251119226,\n",
              " 40.03003718284183,\n",
              " 7.213745648381298,\n",
              " 12.492694178929181,\n",
              " 48.56830919339779,\n",
              " 13.597158702623624,\n",
              " 29.316246936375336,\n",
              " 14.05246491265692,\n",
              " 45.233194382717905,\n",
              " 23.522198826012396,\n",
              " 7.278696246818256,\n",
              " 21.162070472968246,\n",
              " 38.497540811240135,\n",
              " 8.864325242248993,\n",
              " 5.133327642872016,\n",
              " 37.134037619755404,\n",
              " 28.244683609919434,\n",
              " 12.225402250815264,\n",
              " 48.7212717035417,\n",
              " 38.82400448787177,\n",
              " 4.804375417042516,\n",
              " 41.078855632953626,\n",
              " 14.614770627999036,\n",
              " 9.383073826665523,\n",
              " 38.283085825037226,\n",
              " 46.79705118978069,\n",
              " 40.91443662337593,\n",
              " 18.838320817263384,\n",
              " 12.827877083082006,\n",
              " 14.341002180962187,\n",
              " 10.04190761818206,\n",
              " 5.561920744088178,\n",
              " 11.273325632496462,\n",
              " 11.304047198915452,\n",
              " 14.568102459561484,\n",
              " 3.470040162271065,\n",
              " 37.36367022021824,\n",
              " 29.792775040804887,\n",
              " 47.40978827510971,\n",
              " 6.868981955557779,\n",
              " 48.862082841193285,\n",
              " 26.454588382424653,\n",
              " 0.9662860354648084,\n",
              " 14.928275340716846,\n",
              " 44.87865606704069,\n",
              " 9.166049845892383,\n",
              " 40.48725106983076,\n",
              " 23.95911827515771,\n",
              " 6.4566421107539735,\n",
              " 7.594954511687135,\n",
              " 21.897198691810015,\n",
              " 32.66909036940946,\n",
              " 24.34335555441654,\n",
              " 16.81357193354314,\n",
              " 7.891499145176933,\n",
              " 0.23447017515988433,\n",
              " 42.77838059547318,\n",
              " 25.702343293451108,\n",
              " 31.620835970077714,\n",
              " 25.497075271195342,\n",
              " 31.40159634397623,\n",
              " 43.40509252448542,\n",
              " 42.617088488281475,\n",
              " 23.447535191012086,\n",
              " 0.9235278766203558,\n",
              " 48.77297251948975,\n",
              " 22.56868185517088,\n",
              " 24.077094052754777,\n",
              " 6.153244215533088,\n",
              " 27.69433794244101,\n",
              " 32.113129426299075,\n",
              " 1.1509814510977323,\n",
              " 14.368659057835554,\n",
              " 36.91360627249602,\n",
              " 14.258039510325998,\n",
              " 18.00150857092424,\n",
              " 2.5119346742110915,\n",
              " 27.920391216607015,\n",
              " 30.722001157638967,\n",
              " 46.9125917402701,\n",
              " 42.89040362840867,\n",
              " 17.152136059139018,\n",
              " 45.421598188384124,\n",
              " 10.797201058366756,\n",
              " 5.233706314536551,\n",
              " 25.282471268975794,\n",
              " 3.0342880049418044,\n",
              " 32.797785256757386,\n",
              " 38.59184963774029,\n",
              " 33.593900809353606,\n",
              " 3.765304541931508,\n",
              " 6.969765542398076,\n",
              " 23.700611271530438,\n",
              " 19.108182783229605,\n",
              " 44.3024978973287,\n",
              " 9.512954187845352,\n",
              " 32.31028165939948,\n",
              " 10.997429637259826,\n",
              " 29.23719480955722,\n",
              " 30.07006682186728,\n",
              " 20.364405359182964,\n",
              " 36.176550291398485,\n",
              " 12.451848850135566,\n",
              " 24.90060131061364,\n",
              " 29.56882499834209,\n",
              " 46.16780126197607,\n",
              " 37.622202692784555,\n",
              " 27.071825860311368,\n",
              " 36.296272970754266,\n",
              " 37.82136135698321,\n",
              " 17.997599709203815,\n",
              " 2.6904562274929655,\n",
              " 18.601877156288953,\n",
              " 35.60152773028456,\n",
              " 40.607004903915254,\n",
              " 46.94785782032186,\n",
              " 18.628094041976794,\n",
              " 21.339964446551562,\n",
              " 8.262473279303006,\n",
              " 12.853691627014435,\n",
              " 28.77840311658088,\n",
              " 34.10967508054294,\n",
              " 35.25337752306413,\n",
              " 34.87434180308508,\n",
              " 41.43175786657427,\n",
              " 22.230009149434927,\n",
              " 48.268478853376735,\n",
              " 13.384717574823046,\n",
              " 48.94882712514533,\n",
              " 44.00315387266325,\n",
              " 47.08046538160745,\n",
              " 25.300406355220417,\n",
              " 15.647811696512598,\n",
              " 6.678214016478629,\n",
              " 27.270676179618203,\n",
              " 23.122279279753833,\n",
              " 27.155411638613998,\n",
              " 39.04225756036696,\n",
              " 32.75710696083892,\n",
              " 33.02822032138246]"
            ]
          },
          "metadata": {
            "tags": []
          },
          "execution_count": 15
        }
      ]
    },
    {
      "cell_type": "code",
      "metadata": {
        "id": "oPi2CJgcDI0A",
        "colab": {
          "base_uri": "https://localhost:8080/",
          "height": 51
        },
        "outputId": "259efadb-24cc-4801-f126-dcee52d0cecb"
      },
      "source": [
        "#Проверим скорость доступа к случайному ключу\n",
        "%%timeit\n",
        "kv_storage[np.random.randint(0,1000000)]"
      ],
      "execution_count": null,
      "outputs": [
        {
          "output_type": "stream",
          "text": [
            "The slowest run took 242.71 times longer than the fastest. This could mean that an intermediate result is being cached.\n",
            "1000000 loops, best of 3: 1.39 µs per loop\n"
          ],
          "name": "stdout"
        }
      ]
    },
    {
      "cell_type": "code",
      "metadata": {
        "id": "vAVmR6WiC2ow"
      },
      "source": [
        "#Теперь напишем простенький класс для расчета KPI\n",
        "class KpiBuilder():\n",
        "  def __init__(self, key):\n",
        "        self.key = key\n",
        "\n",
        "  def get(self):\n",
        "    return kv_storage.get(self.key)\n",
        "\n",
        "  def mean_20(self):\n",
        "    return sum(self.get()[:-20])/20.\n",
        "\n",
        "  def median(self):\n",
        "    m_ = self.get()\n",
        "    m_.sort()\n",
        "    if len(m_)%2==1:\n",
        "      return m_[(len(m_)/2)]\n",
        "    else:\n",
        "      return sum(m_[(len(m_)/2)-1:(len(m_)/2)+1])/2.\n",
        "\n",
        "  def non_zero_cnt(self):\n",
        "    v = self.get()\n",
        "    return len([x for x in v if x > 0])\n",
        "\n",
        "  def cnt_above_mean(self):\n",
        "    v = self.get()\n",
        "    m_ = kv_storage['sum_el']/ float(kv_storage['len_el'])\n",
        "\n",
        "    print (\"Mean across all elements: \",m_)\n",
        "    return len([x for x in v if x > m_])\n",
        "\n",
        "\n",
        "\n",
        "\n",
        "# Количество метрик превышающих среднее по всем элементам\n"
      ],
      "execution_count": null,
      "outputs": []
    },
    {
      "cell_type": "code",
      "metadata": {
        "id": "QUSk2nLmL_2L"
      },
      "source": [
        "# Инициализируем вспомогательное значение sum_el/ len_el суммой элементов\n",
        "v_len = len([item for sublist in kv_storage.values() for item in sublist])\n",
        "v_sum = sum([item for sublist in kv_storage.values() for item in sublist])\n",
        "\n",
        "kv_storage['len_el']=v_len\n",
        "kv_storage['sum_el']=v_sum\n"
      ],
      "execution_count": null,
      "outputs": []
    },
    {
      "cell_type": "code",
      "metadata": {
        "id": "vtY2ldBAHCke"
      },
      "source": [
        "key_123 = KpiBuilder(123)"
      ],
      "execution_count": null,
      "outputs": []
    },
    {
      "cell_type": "code",
      "metadata": {
        "id": "z9nh5ulSHdSP",
        "colab": {
          "base_uri": "https://localhost:8080/",
          "height": 34
        },
        "outputId": "ef00271e-f2d4-4ae0-8897-a8a73c23d908"
      },
      "source": [
        "key_123.mean_20()"
      ],
      "execution_count": null,
      "outputs": [
        {
          "output_type": "execute_result",
          "data": {
            "text/plain": [
              "1.2511955801978718"
            ]
          },
          "metadata": {
            "tags": []
          },
          "execution_count": 15
        }
      ]
    },
    {
      "cell_type": "code",
      "metadata": {
        "id": "AZLh26LkKNs2",
        "colab": {
          "base_uri": "https://localhost:8080/",
          "height": 34
        },
        "outputId": "54ab130d-bb6e-484d-e54a-031f229e0046"
      },
      "source": [
        "key_123.median()"
      ],
      "execution_count": null,
      "outputs": [
        {
          "output_type": "execute_result",
          "data": {
            "text/plain": [
              "12.511955801978718"
            ]
          },
          "metadata": {
            "tags": []
          },
          "execution_count": 16
        }
      ]
    },
    {
      "cell_type": "code",
      "metadata": {
        "id": "7nZqpRgKKgaj",
        "colab": {
          "base_uri": "https://localhost:8080/",
          "height": 34
        },
        "outputId": "716d6b8a-3c16-40df-ae66-cd0a2cd83881"
      },
      "source": [
        "key_123.non_zero_cnt()"
      ],
      "execution_count": null,
      "outputs": [
        {
          "output_type": "execute_result",
          "data": {
            "text/plain": [
              "2"
            ]
          },
          "metadata": {
            "tags": []
          },
          "execution_count": 17
        }
      ]
    },
    {
      "cell_type": "code",
      "metadata": {
        "id": "zAgiYm1rLCm9",
        "colab": {
          "base_uri": "https://localhost:8080/",
          "height": 51
        },
        "outputId": "99109d21-50bb-4747-f5ad-2dc932f39e80"
      },
      "source": [
        "key_123.cnt_above_mean()"
      ],
      "execution_count": null,
      "outputs": [
        {
          "output_type": "stream",
          "text": [
            "('Mean across all elements: ', 25.000036117437052)\n"
          ],
          "name": "stdout"
        },
        {
          "output_type": "execute_result",
          "data": {
            "text/plain": [
              "0"
            ]
          },
          "metadata": {
            "tags": []
          },
          "execution_count": 18
        }
      ]
    },
    {
      "cell_type": "code",
      "metadata": {
        "id": "W69fml4EHJsq",
        "colab": {
          "base_uri": "https://localhost:8080/",
          "height": 34
        },
        "outputId": "899e4bbd-93d5-4945-8e07-0b7661107b92"
      },
      "source": [
        "key_123.get()"
      ],
      "execution_count": null,
      "outputs": [
        {
          "output_type": "execute_result",
          "data": {
            "text/plain": [
              "[1.2612581564067582, 23.76265344755068, 13.405550621391393]"
            ]
          },
          "metadata": {
            "tags": []
          },
          "execution_count": 33
        }
      ]
    },
    {
      "cell_type": "code",
      "metadata": {
        "id": "Vm_mOlbIHLGE"
      },
      "source": [
        "# Функция которая будет добавлять новые данные в key-value storage\n",
        "keys = [123]\n",
        "for k in keys:\n",
        "  num_events = np.random.randint(0,5)\n",
        "  new_val = np.random.uniform(low=0,high=50,size=num_events).tolist()\n",
        "  kv_storage[k].extend(new_val)\n",
        "  "
      ],
      "execution_count": null,
      "outputs": []
    },
    {
      "cell_type": "code",
      "metadata": {
        "id": "8UOysG4GPtvg",
        "colab": {
          "base_uri": "https://localhost:8080/",
          "height": 34
        },
        "outputId": "c2b6c5cc-f11a-493f-c667-ae623f14c53f"
      },
      "source": [
        "key_123.mean_20()"
      ],
      "execution_count": null,
      "outputs": [
        {
          "output_type": "execute_result",
          "data": {
            "text/plain": [
              "10.526204239451621"
            ]
          },
          "metadata": {
            "tags": []
          },
          "execution_count": 37
        }
      ]
    },
    {
      "cell_type": "code",
      "metadata": {
        "id": "v98Sq8MlQMKq",
        "colab": {
          "base_uri": "https://localhost:8080/",
          "height": 34
        },
        "outputId": "c526f571-7f26-47e2-cf9c-ad68fececc4a"
      },
      "source": [
        "key_123.median()"
      ],
      "execution_count": null,
      "outputs": [
        {
          "output_type": "execute_result",
          "data": {
            "text/plain": [
              "22.10742330171295"
            ]
          },
          "metadata": {
            "tags": []
          },
          "execution_count": 38
        }
      ]
    },
    {
      "cell_type": "code",
      "metadata": {
        "id": "OFxveZ4rQN6u",
        "colab": {
          "base_uri": "https://localhost:8080/",
          "height": 34
        },
        "outputId": "01e09320-2adb-4c32-cfa9-81a42baa51f2"
      },
      "source": [
        "key_123.non_zero_cnt()"
      ],
      "execution_count": null,
      "outputs": [
        {
          "output_type": "execute_result",
          "data": {
            "text/plain": [
              "9"
            ]
          },
          "metadata": {
            "tags": []
          },
          "execution_count": 39
        }
      ]
    },
    {
      "cell_type": "code",
      "metadata": {
        "id": "TlHZ-dW1QQH1",
        "colab": {
          "base_uri": "https://localhost:8080/",
          "height": 51
        },
        "outputId": "6c655cc2-f90f-4b5c-a0e6-9672137eedc1"
      },
      "source": [
        "key_123.cnt_above_mean()"
      ],
      "execution_count": null,
      "outputs": [
        {
          "output_type": "stream",
          "text": [
            "('Mean across all elements: ', 25.00003618324138)\n"
          ],
          "name": "stdout"
        },
        {
          "output_type": "execute_result",
          "data": {
            "text/plain": [
              "3"
            ]
          },
          "metadata": {
            "tags": []
          },
          "execution_count": 40
        }
      ]
    },
    {
      "cell_type": "code",
      "metadata": {
        "id": "qE9FL8npQSIm"
      },
      "source": [
        ""
      ],
      "execution_count": null,
      "outputs": []
    },
    {
      "cell_type": "markdown",
      "metadata": {
        "id": "yAfsvoY2Of5m"
      },
      "source": [
        "ДЗ Лайт\n",
        "\n",
        "Задание 1\n",
        "Используя код с занятия создайте key-value storage на 1 миллион ключей, заполните его случайными значениями. Придумайте 3 любые метрики по аналогии с метриками с урока, допишите в класс **KpiBuilder** функции, которые будут считать эти метрики, продемонстрируйте расчет. \n",
        "\n",
        "Задание 2\n",
        "Используя функцию с занятия: # Функция которая будет добавлять новые данные в key-value storage\n",
        "```\n",
        "keys = [123]\n",
        "for k in keys:\n",
        "  num_events = np.random.randint(0,5)\n",
        "  new_val = np.random.uniform(low=0,high=50,size=num_events).tolist()\n",
        "  kv_storage[k].extend(new_val)\n",
        "```\n",
        "Добавьте новые значения в key-value хранилище из Задания 1 для 1000 случайных ключей (из миллиона)\n",
        "Возьмите любой ключ, по которому были добавлены данные и выведите расчет метрик из Задания 1.\n",
        "\n",
        "Задание 3\n",
        "Модифицируйте функцию с занятия: # Функция которая будет добавлять новые данные в key-value storage\n",
        "\n",
        "```\n",
        "keys = [123]\n",
        "for k in keys:\n",
        "  num_events = np.random.randint(0,5)\n",
        "  new_val = np.random.uniform(low=0,high=50,size=num_events).tolist()\n",
        "  kv_storage[k].extend(new_val)\n",
        "```\n",
        "Таким образом чтобы при добавления любого нового значения ключи:\n",
        "\n",
        "- kv_storage['len_el'] # Количество всех значений в хранилище\n",
        "- kv_storage['sum_el'] # Сумма всех значений в хранилище\n",
        "\n",
        "обновляли сво значения таким образом, чтобы используя эти 2 ключа можно было посчитать среднее значения по всем values в хранилище.\n",
        "Сравните свой результат с*\n",
        "- v_len = len([item for sublist in kv_storage.values() for item in sublist])\n",
        "- v_sum = sum([item for sublist in kv_storage.values() for item in sublist])\n",
        "\n",
        "*- Постарайтесь придумать альтернативный способ обновления ключей kv_storage['len_el'] и kv_storage['sum_el'] без необходимости проходить по всем значениям в хранилище.\n",
        "\n",
        "\n",
        "Про\n",
        "\n",
        "Используя код ниже:\n",
        "```\n",
        "import bisect\n",
        "import hashlib\n",
        "\n",
        "class ConsistentHash:\n",
        "\n",
        "  def __init__(self,num_machines=1,num_replicas=1):\n",
        "    self.num_machines = num_machines\n",
        "    self.num_replicas = num_replicas\n",
        "    hash_tuples = [(j,k,my_hash(str(j)+\"_\"+str(k))) \\\n",
        "                   for j in range(self.num_machines) \\\n",
        "                   for k in range(self.num_replicas)]\n",
        "\n",
        "    hash_tuples.sort(lambda x,y: cmp(x[2],y[2]))\n",
        "    self.hash_tuples = hash_tuples\n",
        "\n",
        "  def get_machine(self,key):\n",
        "\n",
        "    h = my_hash(key)\n",
        "    # Закальцовываем хэши\n",
        "    if h > self.hash_tuples[-1][2]: return self.hash_tuples[0][0]\n",
        "    hash_values = map(lambda x: x[2],self.hash_tuples)\n",
        "    index = bisect.bisect_left(hash_values,h)\n",
        "    return self.hash_tuples[index][0]\n",
        "\n",
        "def my_hash(key):\n",
        "  return (int(hashlib.md5(key).hexdigest(),16) % 1000000)/1000000.0\n",
        "  ```\n",
        "Напишите функцию которая на вход будет принимать количество машин в кластере , коэфициент репликации и значение ключа, а на выходе сообщать на какой машине находится ключ. Попробуйте заменить функцию из примера на какой-нибудь питоновский пакет со схожими функциями (например: uhashring), протестируйте что получилось, напишите вывод.\n"
      ]
    },
    {
      "cell_type": "code",
      "metadata": {
        "id": "WJtNSmdsrtqw"
      },
      "source": [
        ""
      ],
      "execution_count": null,
      "outputs": []
    }
  ]
}