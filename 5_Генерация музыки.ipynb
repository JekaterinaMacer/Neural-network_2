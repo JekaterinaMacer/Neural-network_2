{
  "nbformat": 4,
  "nbformat_minor": 0,
  "metadata": {
    "accelerator": "GPU",
    "colab": {
      "name": "Нейронные сети - 27 -  Генерация музыки",
      "provenance": [],
      "collapsed_sections": []
    },
    "kernelspec": {
      "display_name": "Python 3",
      "name": "python3"
    }
  },
  "cells": [
    {
      "cell_type": "markdown",
      "metadata": {
        "id": "y9VhIFBNcyLi"
      },
      "source": [
        "*Разбор данного раздела:* https://youtu.be/VS6DHal1xYw?t=467"
      ]
    },
    {
      "cell_type": "code",
      "metadata": {
        "id": "eVe8Rw8EuFuD"
      },
      "source": [
        "import pandas as pd\n",
        "import numpy as np\n",
        "import keras\n",
        "from keras import Sequential\n",
        "from keras.layers import LSTM, Dropout, Dense, Activation\n",
        "from keras.callbacks import ModelCheckpoint\n",
        "from google.colab import files, drive\n",
        "from matplotlib import pyplot as plt\n",
        "from music21 import *\n",
        "import glob\n",
        "import pickle\n",
        "from IPython.display import clear_output\n",
        "from IPython.display import Audio"
      ],
      "execution_count": null,
      "outputs": []
    },
    {
      "cell_type": "code",
      "metadata": {
        "colab": {
          "base_uri": "https://localhost:8080/"
        },
        "id": "VjUTXq7nuKzR",
        "outputId": "b700b899-ebcf-4872-c01c-877c955cd4d5"
      },
      "source": [
        "drive.mount('/content/drive') # Монтируем гугл диск"
      ],
      "execution_count": null,
      "outputs": [
        {
          "output_type": "stream",
          "name": "stdout",
          "text": [
            "Drive already mounted at /content/drive; to attempt to forcibly remount, call drive.mount(\"/content/drive\", force_remount=True).\n"
          ]
        }
      ]
    },
    {
      "cell_type": "markdown",
      "metadata": {
        "id": "2LjZ63rnMVUL"
      },
      "source": [
        "# Как устроен midi файл\n",
        "\n",
        "*Разбор данного раздела:* https://youtu.be/VS6DHal1xYw?t=581"
      ]
    },
    {
      "cell_type": "code",
      "metadata": {
        "id": "9L9kprh2qw3O",
        "colab": {
          "base_uri": "https://localhost:8080/"
        },
        "outputId": "ae416b3d-12d2-47d5-da7b-a0853ccc4a5e"
      },
      "source": [
        "!unzip '/content/drive/MyDrive/Базы/Музыка midi (81)/class.zip' -d './data/'\n",
        "clear_output()"
      ],
      "execution_count": null,
      "outputs": [
        {
          "output_type": "stream",
          "name": "stdout",
          "text": [
            "unzip:  cannot find or open /content/drive/MyDrive/Базы/Музыка midi (81)/class.zip, /content/drive/MyDrive/Базы/Музыка midi (81)/class.zip.zip or /content/drive/MyDrive/Базы/Музыка midi (81)/class.zip.ZIP.\n"
          ]
        }
      ]
    },
    {
      "cell_type": "code",
      "metadata": {
        "colab": {
          "base_uri": "https://localhost:8080/",
          "height": 328
        },
        "id": "_0gRV2Rn-Qfk",
        "outputId": "b08201be-276b-476d-ac75-6e14030c8fd3"
      },
      "source": [
        "midi = converter.parse('/content/data/alb_esp1.mid') # Функция парсит MIDI файл в удобный для работы формат\n",
        "midi"
      ],
      "execution_count": null,
      "outputs": [
        {
          "output_type": "error",
          "ename": "ConverterException",
          "evalue": "ignored",
          "traceback": [
            "\u001b[0;31m---------------------------------------------------------------------------\u001b[0m",
            "\u001b[0;31mConverterException\u001b[0m                        Traceback (most recent call last)",
            "\u001b[0;32m<ipython-input-11-d9c48c82828a>\u001b[0m in \u001b[0;36m<module>\u001b[0;34m()\u001b[0m\n\u001b[0;32m----> 1\u001b[0;31m \u001b[0mmidi\u001b[0m \u001b[0;34m=\u001b[0m \u001b[0mconverter\u001b[0m\u001b[0;34m.\u001b[0m\u001b[0mparse\u001b[0m\u001b[0;34m(\u001b[0m\u001b[0;34m'/content/data/alb_esp1.mid'\u001b[0m\u001b[0;34m)\u001b[0m \u001b[0;31m# Функция парсит MIDI файл в удобный для работы формат\u001b[0m\u001b[0;34m\u001b[0m\u001b[0;34m\u001b[0m\u001b[0m\n\u001b[0m\u001b[1;32m      2\u001b[0m \u001b[0mmidi\u001b[0m\u001b[0;34m\u001b[0m\u001b[0;34m\u001b[0m\u001b[0m\n",
            "\u001b[0;32m/usr/local/lib/python3.7/dist-packages/music21/converter/__init__.py\u001b[0m in \u001b[0;36mparse\u001b[0;34m(value, *args, **keywords)\u001b[0m\n\u001b[1;32m   1139\u001b[0m         \u001b[0;32mraise\u001b[0m \u001b[0mFileNotFoundError\u001b[0m\u001b[0;34m(\u001b[0m\u001b[0;34m'Cannot find file in {:s}'\u001b[0m\u001b[0;34m.\u001b[0m\u001b[0mformat\u001b[0m\u001b[0;34m(\u001b[0m\u001b[0mstr\u001b[0m\u001b[0;34m(\u001b[0m\u001b[0mvalue\u001b[0m\u001b[0;34m)\u001b[0m\u001b[0;34m)\u001b[0m\u001b[0;34m)\u001b[0m\u001b[0;34m\u001b[0m\u001b[0;34m\u001b[0m\u001b[0m\n\u001b[1;32m   1140\u001b[0m     \u001b[0;32melse\u001b[0m\u001b[0;34m:\u001b[0m\u001b[0;34m\u001b[0m\u001b[0;34m\u001b[0m\u001b[0m\n\u001b[0;32m-> 1141\u001b[0;31m         \u001b[0;32mreturn\u001b[0m \u001b[0mparseData\u001b[0m\u001b[0;34m(\u001b[0m\u001b[0mvalue\u001b[0m\u001b[0;34m,\u001b[0m \u001b[0mnumber\u001b[0m\u001b[0;34m=\u001b[0m\u001b[0mnumber\u001b[0m\u001b[0;34m,\u001b[0m \u001b[0mformat\u001b[0m\u001b[0;34m=\u001b[0m\u001b[0mm21Format\u001b[0m\u001b[0;34m,\u001b[0m \u001b[0;34m**\u001b[0m\u001b[0mkeywords\u001b[0m\u001b[0;34m)\u001b[0m\u001b[0;34m\u001b[0m\u001b[0;34m\u001b[0m\u001b[0m\n\u001b[0m\u001b[1;32m   1142\u001b[0m \u001b[0;34m\u001b[0m\u001b[0m\n\u001b[1;32m   1143\u001b[0m \u001b[0;34m\u001b[0m\u001b[0m\n",
            "\u001b[0;32m/usr/local/lib/python3.7/dist-packages/music21/converter/__init__.py\u001b[0m in \u001b[0;36mparseData\u001b[0;34m(dataStr, number, format, **keywords)\u001b[0m\n\u001b[1;32m   1015\u001b[0m     '''\n\u001b[1;32m   1016\u001b[0m     \u001b[0mv\u001b[0m \u001b[0;34m=\u001b[0m \u001b[0mConverter\u001b[0m\u001b[0;34m(\u001b[0m\u001b[0;34m)\u001b[0m\u001b[0;34m\u001b[0m\u001b[0;34m\u001b[0m\u001b[0m\n\u001b[0;32m-> 1017\u001b[0;31m     \u001b[0mv\u001b[0m\u001b[0;34m.\u001b[0m\u001b[0mparseData\u001b[0m\u001b[0;34m(\u001b[0m\u001b[0mdataStr\u001b[0m\u001b[0;34m,\u001b[0m \u001b[0mnumber\u001b[0m\u001b[0;34m=\u001b[0m\u001b[0mnumber\u001b[0m\u001b[0;34m,\u001b[0m \u001b[0mformat\u001b[0m\u001b[0;34m=\u001b[0m\u001b[0mformat\u001b[0m\u001b[0;34m,\u001b[0m \u001b[0;34m**\u001b[0m\u001b[0mkeywords\u001b[0m\u001b[0;34m)\u001b[0m\u001b[0;34m\u001b[0m\u001b[0;34m\u001b[0m\u001b[0m\n\u001b[0m\u001b[1;32m   1018\u001b[0m     \u001b[0;32mreturn\u001b[0m \u001b[0mv\u001b[0m\u001b[0;34m.\u001b[0m\u001b[0mstream\u001b[0m\u001b[0;34m\u001b[0m\u001b[0;34m\u001b[0m\u001b[0m\n\u001b[1;32m   1019\u001b[0m \u001b[0;34m\u001b[0m\u001b[0m\n",
            "\u001b[0;32m/usr/local/lib/python3.7/dist-packages/music21/converter/__init__.py\u001b[0m in \u001b[0;36mparseData\u001b[0;34m(self, dataStr, number, format, forceSource, **keywords)\u001b[0m\n\u001b[1;32m    604\u001b[0m             \u001b[0;32melse\u001b[0m\u001b[0;34m:\u001b[0m\u001b[0;34m\u001b[0m\u001b[0;34m\u001b[0m\u001b[0m\n\u001b[1;32m    605\u001b[0m                 raise ConverterException('File not found or no such format found for: %s' %\n\u001b[0;32m--> 606\u001b[0;31m                                          dataStrMakeStr)\n\u001b[0m\u001b[1;32m    607\u001b[0m \u001b[0;34m\u001b[0m\u001b[0m\n\u001b[1;32m    608\u001b[0m         \u001b[0mself\u001b[0m\u001b[0;34m.\u001b[0m\u001b[0msetSubconverterFromFormat\u001b[0m\u001b[0;34m(\u001b[0m\u001b[0museFormat\u001b[0m\u001b[0;34m)\u001b[0m\u001b[0;34m\u001b[0m\u001b[0;34m\u001b[0m\u001b[0m\n",
            "\u001b[0;31mConverterException\u001b[0m: File not found or no such format found for: /content/data/alb_esp1.mid"
          ]
        }
      ]
    },
    {
      "cell_type": "code",
      "metadata": {
        "id": "x5kweFn1_c79",
        "colab": {
          "base_uri": "https://localhost:8080/"
        },
        "outputId": "7b31c3ed-75c9-435a-8e68-4c5b3e7352b3"
      },
      "source": [
        "notes_to_parse = midi.flat.notes  # Функция, позволяющая получить список нот и аккордов в файле\n",
        "for element in notes_to_parse[0:40]:\n",
        "  print(element, element.offset) # Оффсет(смещение) позволяет проигрывать ноты в разное время"
      ],
      "execution_count": null,
      "outputs": [
        {
          "output_type": "stream",
          "text": [
            "<music21.note.Note A> 0.5\n",
            "<music21.note.Note A> 0.5\n",
            "<music21.note.Note E> 1.0\n",
            "<music21.note.Note E> 1.0\n",
            "<music21.note.Note D> 4.25\n",
            "<music21.note.Note D> 4.25\n",
            "<music21.note.Note E> 13/3\n",
            "<music21.note.Note E> 13/3\n",
            "<music21.note.Note D> 4.5\n",
            "<music21.note.Note D> 4.5\n",
            "<music21.note.Note C> 5.0\n",
            "<music21.note.Note C> 5.0\n",
            "<music21.note.Note D> 5.5\n",
            "<music21.note.Note D> 5.5\n",
            "<music21.note.Note E> 6.0\n",
            "<music21.note.Note E> 6.0\n",
            "<music21.note.Note F> 6.5\n",
            "<music21.note.Note F> 6.5\n",
            "<music21.note.Note G> 7.0\n",
            "<music21.note.Note G> 7.0\n",
            "<music21.note.Note E> 7.5\n",
            "<music21.note.Note E> 7.5\n",
            "<music21.note.Note F> 8.0\n",
            "<music21.note.Note F> 8.0\n",
            "<music21.note.Note E> 8.5\n",
            "<music21.note.Note E> 8.5\n",
            "<music21.note.Note D> 8.75\n",
            "<music21.note.Note E> 8.75\n",
            "<music21.note.Note D> 8.75\n",
            "<music21.note.Note E> 8.75\n",
            "<music21.note.Note D> 9.0\n",
            "<music21.note.Note D> 9.0\n",
            "<music21.note.Note C> 10.0\n",
            "<music21.note.Note C> 10.0\n",
            "<music21.note.Note B-> 11.0\n",
            "<music21.note.Note B-> 11.0\n",
            "<music21.note.Note A> 12.0\n",
            "<music21.note.Note A> 12.5\n",
            "<music21.note.Note E> 12.5\n",
            "<music21.note.Note C#> 13.0\n"
          ],
          "name": "stdout"
        }
      ]
    },
    {
      "cell_type": "code",
      "metadata": {
        "colab": {
          "base_uri": "https://localhost:8080/"
        },
        "id": "oZoACrR2Cy4I",
        "outputId": "a722a6da-6628-4ab0-d975-edb8bf0c0b45"
      },
      "source": [
        "s2 = instrument.partitionByInstrument(midi) # Если в файле есть несколько инструментов\n",
        "s2.parts[0] # Берем только часть с пианино"
      ],
      "execution_count": null,
      "outputs": [
        {
          "output_type": "execute_result",
          "data": {
            "text/plain": [
              "<music21.stream.Part Piano>"
            ]
          },
          "metadata": {
            "tags": []
          },
          "execution_count": 116
        }
      ]
    },
    {
      "cell_type": "markdown",
      "metadata": {
        "id": "9tBCSvfUMm5n"
      },
      "source": [
        "## Собираем список нот\n",
        "\n",
        "*Разбор данного раздела:* https://youtu.be/VS6DHal1xYw?t=858"
      ]
    },
    {
      "cell_type": "code",
      "metadata": {
        "colab": {
          "base_uri": "https://localhost:8080/"
        },
        "id": "Dz5vYd8bFy83",
        "outputId": "56b29f6f-9277-45ea-8c98-e02f9cd75adc"
      },
      "source": [
        "notes = [] # Здесь будут храниться все ноты из всех файлов\n",
        "for i, file in enumerate(glob.glob(\"/content/data/*.mid\")):\n",
        "  midi = converter.parse(file) \n",
        "  print('\\r', 'Обрабатывается файл', i, \" \",file, end='')\n",
        "  notes_to_parse = None\n",
        "  try: # Если в файле нет разных иструментов \n",
        "    notes_to_parse = midi.flat.notes\n",
        "  except: # Если есть разные инструменты\n",
        "    s2 = instrument.partitionByInstrument(midi)\n",
        "    notes_to_parse = s2.parts[0].recurse() # Итератор\n",
        "\n",
        "\n",
        "  for element in notes_to_parse: # Добавляем в список ноту или аккорд\n",
        "    if isinstance(element, note.Note): # Если нота, просто добавляем ее\n",
        "      notes.append(str(element.pitch)) \n",
        "    elif isinstance(element, chord.Chord): # Если аккорд, то записываем числовой вариант всех нот через точку\n",
        "      notes.append('.'.join(str(n) for n in element.normalOrder))"
      ],
      "execution_count": null,
      "outputs": [
        {
          "output_type": "stream",
          "text": [
            " Обрабатывается файл 80   /content/data/chpn-p21.mid"
          ],
          "name": "stdout"
        }
      ]
    },
    {
      "cell_type": "code",
      "metadata": {
        "id": "ET-nWijjbsr8"
      },
      "source": [
        "notes_ = []\n",
        "midi = converter.parse('/content/data/alb_esp1.mid') \n",
        "s2 = instrument.partitionByInstrument(midi)\n",
        "notes_to_parse = s2.parts[0].recurse() # Итератор\n",
        "for element in notes_to_parse: # Добавляем в список ноту или аккорд\n",
        "    # if isinstance(element, note.Note): # Если нота, просто добавляем ее\n",
        "    #     notes_.append(str(element.pitch)) \n",
        "    if isinstance(element, chord.Chord): # Если аккорд, то записываем числовой вариант всех нот через точку\n",
        "        notes_.append('.'.join(str(n) for n in element.normalOrder))"
      ],
      "execution_count": null,
      "outputs": []
    },
    {
      "cell_type": "code",
      "metadata": {
        "colab": {
          "base_uri": "https://localhost:8080/"
        },
        "id": "TNiC8DLUa5_c",
        "outputId": "6c5275ef-93e1-4983-b206-09e2e6ce64cb"
      },
      "source": [
        "notes_[:10]"
      ],
      "execution_count": null,
      "outputs": [
        {
          "output_type": "execute_result",
          "data": {
            "text/plain": [
              "['1.4', '10.2.4', '1.4', '10.2.4', '4.10', '2.8', '4.9', '9.1.4']"
            ]
          },
          "metadata": {
            "tags": []
          },
          "execution_count": 19
        }
      ]
    },
    {
      "cell_type": "markdown",
      "metadata": {
        "id": "YBmFq3JDlW8Y"
      },
      "source": [
        "## Сохраняем полученный список на диск и загружаем\n",
        "\n",
        "*Разбор данного раздела:* https://youtu.be/VS6DHal1xYw?t=1200\n",
        "\n",
        "\n"
      ]
    },
    {
      "cell_type": "markdown",
      "metadata": {
        "id": "JVK7EOyplpz_"
      },
      "source": [
        "Сохранение"
      ]
    },
    {
      "cell_type": "code",
      "metadata": {
        "id": "enBKo7JwJo5V"
      },
      "source": [
        "with open('notes', 'wb') as filepath:\n",
        "  pickle.dump(notes, filepath)"
      ],
      "execution_count": null,
      "outputs": []
    },
    {
      "cell_type": "markdown",
      "metadata": {
        "id": "mnDgeFV-l2FT"
      },
      "source": [
        "Загрузка"
      ]
    },
    {
      "cell_type": "code",
      "metadata": {
        "id": "YQvDcg_illjy"
      },
      "source": [
        "with open ('/content/drive/MyDrive/Предобученные сети/Генерация музыки/notes', 'rb') as file:\n",
        "  notes = pickle.load(file)"
      ],
      "execution_count": null,
      "outputs": []
    },
    {
      "cell_type": "markdown",
      "metadata": {
        "id": "XaJiOPdRlgGA"
      },
      "source": [
        "# Подготовка данных"
      ]
    },
    {
      "cell_type": "code",
      "metadata": {
        "colab": {
          "base_uri": "https://localhost:8080/"
        },
        "id": "bBPGdbY5YPTn",
        "outputId": "f72e84f2-81fb-49d0-d401-4f89bb060190"
      },
      "source": [
        "notes[510:520]"
      ],
      "execution_count": null,
      "outputs": [
        {
          "output_type": "execute_result",
          "data": {
            "text/plain": [
              "['G4', '1.4', 'F4', 'G4', 'F4', 'G4', '2.5', 'F4', 'C5', 'B-2']"
            ]
          },
          "metadata": {
            "tags": []
          },
          "execution_count": 126
        }
      ]
    },
    {
      "cell_type": "code",
      "metadata": {
        "colab": {
          "base_uri": "https://localhost:8080/"
        },
        "id": "rtcFhb99Yhb_",
        "outputId": "23e9b18e-a4a5-4879-f837-ccd9c4bd8f2e"
      },
      "source": [
        "len(notes)"
      ],
      "execution_count": null,
      "outputs": [
        {
          "output_type": "execute_result",
          "data": {
            "text/plain": [
              "139269"
            ]
          },
          "metadata": {
            "tags": []
          },
          "execution_count": 128
        }
      ]
    },
    {
      "cell_type": "code",
      "metadata": {
        "colab": {
          "base_uri": "https://localhost:8080/"
        },
        "id": "10A_xfLtNAFz",
        "outputId": "edbd49b1-6201-4075-8ff8-ce4c2fcb1942"
      },
      "source": [
        "n_list = set(notes) # Уникальные ноты и аккорды\n",
        "len(n_list) # Их количество"
      ],
      "execution_count": null,
      "outputs": [
        {
          "output_type": "execute_result",
          "data": {
            "text/plain": [
              "351"
            ]
          },
          "metadata": {
            "tags": []
          },
          "execution_count": 127
        }
      ]
    },
    {
      "cell_type": "code",
      "metadata": {
        "id": "oSF7rgV-Nhtj"
      },
      "source": [
        "sequence_length = 100 # длина последовательности нот/аккордов, по которой сеть будет делать предсказания\n",
        "\n",
        "# Получаем отсортированный список всех уникальных нот и аккордов\n",
        "pitchnames = sorted(n_list)\n",
        "\n",
        "# Создаем словарь, сопоставляющий ноту/аккорд числу(int)\n",
        "note_to_int = dict((note, number) for number, note in enumerate(pitchnames)) \n",
        "\n",
        "network_input = [] # Список со всеми последовательностями\n",
        "network_output = [] # Список со всеми элементами, идущими после последовательности\n",
        "\n",
        "# Создаем обучающую выборку\n",
        "for i in range(0, len(notes) - sequence_length, 1):\n",
        "  sequence_in = notes[i:i + sequence_length] # Выбираем последовательность длины sequence_length\n",
        "  sequence_out = notes[i + sequence_length]  # Следующий за последовательностью элемент\n",
        "  network_input.append([note_to_int[char] for char in sequence_in]) # Добавляем в список последовательность, предварительно переведя все ноты/аккорды в числа\n",
        "  network_output.append(note_to_int[sequence_out]) # Добавляем в список следующий за последовательностью элемент, переведя его в число\n",
        "\n",
        "n_patterns = len(network_input) # Количество полученных последовательностей\n",
        "\n",
        "# Делаем решейп, чтобы сеть могла обучаться\n",
        "network_input = np.reshape(network_input, (n_patterns, sequence_length, 1))\n",
        "# Нормализируем входные данные\n",
        "network_input = network_input / float(len(n_list))\n",
        "# Выходые данные преобразуем в one-hot encoding\n",
        "network_output = np.array(network_output)\n",
        "# network_output = keras.utils.to_categorical(network_output)"
      ],
      "execution_count": null,
      "outputs": []
    },
    {
      "cell_type": "code",
      "metadata": {
        "colab": {
          "base_uri": "https://localhost:8080/"
        },
        "id": "oo3yxV9GUCbg",
        "outputId": "f2ba41a1-b6e3-499e-ab10-39e7d00ef333"
      },
      "source": [
        "network_input.shape"
      ],
      "execution_count": null,
      "outputs": [
        {
          "output_type": "execute_result",
          "data": {
            "text/plain": [
              "(139169, 100, 1)"
            ]
          },
          "metadata": {
            "tags": []
          },
          "execution_count": 49
        }
      ]
    },
    {
      "cell_type": "markdown",
      "metadata": {
        "id": "fChlLNWmbRsj"
      },
      "source": [
        "# Архитектура сети\n",
        "\n",
        "*Разбор данного раздела:* https://youtu.be/VS6DHal1xYw?t=1557"
      ]
    },
    {
      "cell_type": "code",
      "metadata": {
        "id": "1d1pQ2vqLkCc"
      },
      "source": [
        "def create_network(network_input, n_list, dropout=0.3):\n",
        "\n",
        "    model = Sequential()\n",
        "    model.add(LSTM(\n",
        "                        256,\n",
        "                        input_shape=(network_input.shape[1], network_input.shape[2]),\n",
        "                        return_sequences=True \n",
        "                        ))\n",
        "    model.add(Dropout(dropout))\n",
        "    model.add(LSTM(256, return_sequences=True))\n",
        "    model.add(Dropout(dropout))\n",
        "    model.add(LSTM(256))\n",
        "    model.add(Dense(128))\n",
        "    model.add(Dropout(dropout))\n",
        "    model.add(Dense(len(n_list)))\n",
        "    model.add(Activation('softmax'))\n",
        "    model.compile(loss='sparse_categorical_crossentropy', optimizer='rmsprop', metrics=['accuracy'])\n",
        "\n",
        "    return model"
      ],
      "execution_count": null,
      "outputs": []
    },
    {
      "cell_type": "code",
      "metadata": {
        "colab": {
          "base_uri": "https://localhost:8080/"
        },
        "id": "XvWJBRxoCQic",
        "outputId": "ebdf7797-9e42-4983-99d3-a45cdf544360"
      },
      "source": [
        "model = create_network(network_input, n_list)\n",
        "model.summary()"
      ],
      "execution_count": null,
      "outputs": [
        {
          "output_type": "stream",
          "text": [
            "Model: \"sequential_1\"\n",
            "_________________________________________________________________\n",
            "Layer (type)                 Output Shape              Param #   \n",
            "=================================================================\n",
            "lstm_3 (LSTM)                (None, 100, 256)          264192    \n",
            "_________________________________________________________________\n",
            "dropout_3 (Dropout)          (None, 100, 256)          0         \n",
            "_________________________________________________________________\n",
            "lstm_4 (LSTM)                (None, 100, 256)          525312    \n",
            "_________________________________________________________________\n",
            "dropout_4 (Dropout)          (None, 100, 256)          0         \n",
            "_________________________________________________________________\n",
            "lstm_5 (LSTM)                (None, 256)               525312    \n",
            "_________________________________________________________________\n",
            "dense_2 (Dense)              (None, 128)               32896     \n",
            "_________________________________________________________________\n",
            "dropout_5 (Dropout)          (None, 128)               0         \n",
            "_________________________________________________________________\n",
            "dense_3 (Dense)              (None, 351)               45279     \n",
            "_________________________________________________________________\n",
            "activation_1 (Activation)    (None, 351)               0         \n",
            "=================================================================\n",
            "Total params: 1,392,991\n",
            "Trainable params: 1,392,991\n",
            "Non-trainable params: 0\n",
            "_________________________________________________________________\n"
          ],
          "name": "stdout"
        }
      ]
    },
    {
      "cell_type": "markdown",
      "metadata": {
        "id": "_OwUG51Jb47Y"
      },
      "source": [
        "Для обучения сети использовался ModelCheckpoint, позволяющий сохранять веса в процессе обучения"
      ]
    },
    {
      "cell_type": "code",
      "metadata": {
        "colab": {
          "base_uri": "https://localhost:8080/"
        },
        "id": "AcaSjOqO3KId",
        "outputId": "9b47424b-3132-449a-acf3-12f2feb98937"
      },
      "source": [
        "filepath = \"/content/drive/MyDrive/Предобученные сети/Генерация музыки/weights-improvement-{epoch:02d}-{loss:.4f}.hdf5\"    # Где и с каким именем сохраняются веса\n",
        "checkpoint = ModelCheckpoint(filepath,\n",
        "                            monitor='loss',\n",
        "                            verbose=0,\n",
        "                            save_weights_only = True, # Сохраняем только веса   \n",
        "                            save_best_only=True,      # Сохраняем только при уменьшении ошибки\n",
        "                            mode='min',\n",
        "                            )    \n",
        "callbacks_list = [checkpoint]   \n",
        "\n",
        "model.fit(network_input, network_output, epochs=200, \n",
        "          batch_size=128, callbacks=callbacks_list)"
      ],
      "execution_count": null,
      "outputs": [
        {
          "output_type": "stream",
          "text": [
            "Epoch 1/200\n",
            "1088/1088 [==============================] - 36s 33ms/step - loss: 4.6147 - accuracy: 0.0282\n",
            "Epoch 2/200\n",
            "1088/1088 [==============================] - 36s 33ms/step - loss: 4.5472 - accuracy: 0.0295\n",
            "Epoch 3/200\n",
            "1088/1088 [==============================] - 36s 33ms/step - loss: 4.5078 - accuracy: 0.0329\n",
            "Epoch 4/200\n",
            "1088/1088 [==============================] - 36s 33ms/step - loss: 4.4831 - accuracy: 0.0365\n",
            "Epoch 5/200\n",
            "1088/1088 [==============================] - 36s 33ms/step - loss: 4.4573 - accuracy: 0.0392\n",
            "Epoch 6/200\n",
            "1088/1088 [==============================] - 36s 33ms/step - loss: 4.4193 - accuracy: 0.0459\n",
            "Epoch 7/200\n",
            "1088/1088 [==============================] - 36s 33ms/step - loss: 4.3667 - accuracy: 0.0534\n",
            "Epoch 8/200\n",
            "1088/1088 [==============================] - 36s 33ms/step - loss: 4.2919 - accuracy: 0.0631\n",
            "Epoch 9/200\n",
            "1088/1088 [==============================] - 36s 33ms/step - loss: 4.2012 - accuracy: 0.0766\n",
            "Epoch 10/200\n",
            "1088/1088 [==============================] - 36s 33ms/step - loss: 4.0927 - accuracy: 0.0916\n",
            "Epoch 11/200\n",
            "1088/1088 [==============================] - 36s 33ms/step - loss: 3.9867 - accuracy: 0.1070\n",
            "Epoch 12/200\n",
            "1088/1088 [==============================] - 36s 33ms/step - loss: 3.8795 - accuracy: 0.1214\n",
            "Epoch 13/200\n",
            "1088/1088 [==============================] - 36s 33ms/step - loss: 3.7748 - accuracy: 0.1365\n",
            "Epoch 14/200\n",
            "1088/1088 [==============================] - 36s 33ms/step - loss: 3.6820 - accuracy: 0.1502\n",
            "Epoch 15/200\n",
            "1088/1088 [==============================] - 37s 34ms/step - loss: 3.5958 - accuracy: 0.1630\n",
            "Epoch 16/200\n",
            "1088/1088 [==============================] - 36s 33ms/step - loss: 3.5201 - accuracy: 0.1755\n",
            "Epoch 17/200\n",
            "1088/1088 [==============================] - 37s 34ms/step - loss: 3.4514 - accuracy: 0.1888\n",
            "Epoch 18/200\n",
            "1088/1088 [==============================] - 36s 33ms/step - loss: 3.3839 - accuracy: 0.1993\n",
            "Epoch 19/200\n",
            "1088/1088 [==============================] - 36s 33ms/step - loss: 3.3289 - accuracy: 0.2100\n",
            "Epoch 20/200\n",
            "1088/1088 [==============================] - 37s 34ms/step - loss: 3.2713 - accuracy: 0.2205\n",
            "Epoch 21/200\n",
            "1088/1088 [==============================] - 36s 33ms/step - loss: 3.2198 - accuracy: 0.2303\n",
            "Epoch 22/200\n",
            "1088/1088 [==============================] - 37s 34ms/step - loss: 3.1682 - accuracy: 0.2397\n",
            "Epoch 23/200\n",
            "1088/1088 [==============================] - 36s 33ms/step - loss: 3.1181 - accuracy: 0.2494\n",
            "Epoch 24/200\n",
            "1088/1088 [==============================] - 36s 33ms/step - loss: 3.0705 - accuracy: 0.2597\n",
            "Epoch 25/200\n",
            "1088/1088 [==============================] - 37s 34ms/step - loss: 3.0294 - accuracy: 0.2665\n",
            "Epoch 26/200\n",
            "1088/1088 [==============================] - 36s 33ms/step - loss: 2.9855 - accuracy: 0.2762\n",
            "Epoch 27/200\n",
            "1088/1088 [==============================] - 36s 33ms/step - loss: 2.9506 - accuracy: 0.2803\n",
            "Epoch 28/200\n",
            "1088/1088 [==============================] - 36s 33ms/step - loss: 2.9094 - accuracy: 0.2887\n",
            "Epoch 29/200\n",
            "1088/1088 [==============================] - 36s 33ms/step - loss: 2.8702 - accuracy: 0.2950\n",
            "Epoch 30/200\n",
            "1088/1088 [==============================] - 36s 33ms/step - loss: 2.8355 - accuracy: 0.3034\n",
            "Epoch 31/200\n",
            "1088/1088 [==============================] - 36s 33ms/step - loss: 2.8019 - accuracy: 0.3100\n",
            "Epoch 32/200\n",
            "1088/1088 [==============================] - 37s 34ms/step - loss: 2.7771 - accuracy: 0.3139\n",
            "Epoch 33/200\n",
            "1088/1088 [==============================] - 36s 33ms/step - loss: 2.7480 - accuracy: 0.3226\n",
            "Epoch 34/200\n",
            "1088/1088 [==============================] - 36s 33ms/step - loss: 2.7195 - accuracy: 0.3284\n",
            "Epoch 35/200\n",
            "1088/1088 [==============================] - 37s 34ms/step - loss: 2.6940 - accuracy: 0.3332\n",
            "Epoch 36/200\n",
            "1088/1088 [==============================] - 36s 33ms/step - loss: 2.6615 - accuracy: 0.3395\n",
            "Epoch 37/200\n",
            "1088/1088 [==============================] - 37s 34ms/step - loss: 2.6339 - accuracy: 0.3445\n",
            "Epoch 38/200\n",
            "1088/1088 [==============================] - 36s 33ms/step - loss: 2.6172 - accuracy: 0.3505\n",
            "Epoch 39/200\n",
            "1088/1088 [==============================] - 36s 33ms/step - loss: 2.5907 - accuracy: 0.3560\n",
            "Epoch 40/200\n",
            "1088/1088 [==============================] - 37s 34ms/step - loss: 2.5692 - accuracy: 0.3570\n",
            "Epoch 41/200\n",
            "1088/1088 [==============================] - 36s 33ms/step - loss: 2.5510 - accuracy: 0.3625\n",
            "Epoch 42/200\n",
            "1088/1088 [==============================] - 36s 33ms/step - loss: 2.5341 - accuracy: 0.3676\n",
            "Epoch 43/200\n",
            "1088/1088 [==============================] - 36s 33ms/step - loss: 2.5067 - accuracy: 0.3733\n",
            "Epoch 44/200\n",
            "1088/1088 [==============================] - 36s 33ms/step - loss: 2.4900 - accuracy: 0.3756\n",
            "Epoch 45/200\n",
            "1088/1088 [==============================] - 36s 33ms/step - loss: 2.4725 - accuracy: 0.3789\n",
            "Epoch 46/200\n",
            "1088/1088 [==============================] - 36s 33ms/step - loss: 2.4577 - accuracy: 0.3822\n",
            "Epoch 47/200\n",
            "1088/1088 [==============================] - 36s 33ms/step - loss: 2.4469 - accuracy: 0.3857\n",
            "Epoch 48/200\n",
            "1088/1088 [==============================] - 36s 33ms/step - loss: 2.4239 - accuracy: 0.3914\n",
            "Epoch 49/200\n",
            "1088/1088 [==============================] - 36s 33ms/step - loss: 2.4125 - accuracy: 0.3939\n",
            "Epoch 50/200\n",
            "1088/1088 [==============================] - 36s 33ms/step - loss: 2.4009 - accuracy: 0.3964\n",
            "Epoch 51/200\n",
            "1088/1088 [==============================] - 36s 33ms/step - loss: 2.3791 - accuracy: 0.4002\n",
            "Epoch 52/200\n",
            "1088/1088 [==============================] - 36s 33ms/step - loss: 2.3690 - accuracy: 0.4053\n",
            "Epoch 53/200\n",
            "1088/1088 [==============================] - 38s 35ms/step - loss: 2.3572 - accuracy: 0.4048\n",
            "Epoch 54/200\n",
            "1088/1088 [==============================] - 36s 33ms/step - loss: 2.3436 - accuracy: 0.4093\n",
            "Epoch 55/200\n",
            "1088/1088 [==============================] - 38s 35ms/step - loss: 2.3345 - accuracy: 0.4094\n",
            "Epoch 56/200\n",
            "1088/1088 [==============================] - 36s 33ms/step - loss: 2.3171 - accuracy: 0.4153\n",
            "Epoch 57/200\n",
            "1088/1088 [==============================] - 38s 35ms/step - loss: 2.3049 - accuracy: 0.4175\n",
            "Epoch 58/200\n",
            "1088/1088 [==============================] - 36s 33ms/step - loss: 2.2923 - accuracy: 0.4201\n",
            "Epoch 59/200\n",
            "1088/1088 [==============================] - 36s 33ms/step - loss: 2.2858 - accuracy: 0.4215\n",
            "Epoch 60/200\n",
            "1088/1088 [==============================] - 38s 35ms/step - loss: 2.2741 - accuracy: 0.4251\n",
            "Epoch 61/200\n",
            "1088/1088 [==============================] - 36s 33ms/step - loss: 2.2658 - accuracy: 0.4285\n",
            "Epoch 62/200\n",
            "1088/1088 [==============================] - 38s 35ms/step - loss: 2.2497 - accuracy: 0.4298\n",
            "Epoch 63/200\n",
            "1088/1088 [==============================] - 36s 33ms/step - loss: 2.2445 - accuracy: 0.4323\n",
            "Epoch 64/200\n",
            "1088/1088 [==============================] - 37s 34ms/step - loss: 2.2305 - accuracy: 0.4350\n",
            "Epoch 65/200\n",
            "1088/1088 [==============================] - 38s 35ms/step - loss: 2.2253 - accuracy: 0.4362\n",
            "Epoch 66/200\n",
            "1088/1088 [==============================] - 37s 34ms/step - loss: 2.2139 - accuracy: 0.4388\n",
            "Epoch 67/200\n",
            "1088/1088 [==============================] - 37s 34ms/step - loss: 2.2130 - accuracy: 0.4388\n",
            "Epoch 68/200\n",
            "1088/1088 [==============================] - 36s 33ms/step - loss: 2.2007 - accuracy: 0.4415\n",
            "Epoch 69/200\n",
            "1088/1088 [==============================] - 36s 33ms/step - loss: 2.1866 - accuracy: 0.4438\n",
            "Epoch 70/200\n",
            "1088/1088 [==============================] - 36s 33ms/step - loss: 2.1877 - accuracy: 0.4440\n",
            "Epoch 71/200\n",
            "1088/1088 [==============================] - 38s 34ms/step - loss: 2.1762 - accuracy: 0.4484\n",
            "Epoch 72/200\n",
            "1088/1088 [==============================] - 37s 34ms/step - loss: 2.1634 - accuracy: 0.4495\n",
            "Epoch 73/200\n",
            "1088/1088 [==============================] - 36s 33ms/step - loss: 2.1572 - accuracy: 0.4501\n",
            "Epoch 74/200\n",
            "1088/1088 [==============================] - 38s 35ms/step - loss: 2.1502 - accuracy: 0.4517\n",
            "Epoch 75/200\n",
            "1088/1088 [==============================] - 36s 33ms/step - loss: 2.1465 - accuracy: 0.4544\n",
            "Epoch 76/200\n",
            "1088/1088 [==============================] - 36s 33ms/step - loss: 2.1370 - accuracy: 0.4563\n",
            "Epoch 77/200\n",
            "1088/1088 [==============================] - 36s 33ms/step - loss: 2.1253 - accuracy: 0.4576\n",
            "Epoch 78/200\n",
            "1088/1088 [==============================] - 36s 33ms/step - loss: 2.1197 - accuracy: 0.4593\n",
            "Epoch 79/200\n",
            "1088/1088 [==============================] - 36s 33ms/step - loss: 2.1125 - accuracy: 0.4621\n",
            "Epoch 80/200\n",
            "1088/1088 [==============================] - 36s 33ms/step - loss: 2.1061 - accuracy: 0.4626\n",
            "Epoch 81/200\n",
            "1088/1088 [==============================] - 39s 36ms/step - loss: 2.0992 - accuracy: 0.4639\n",
            "Epoch 82/200\n",
            "1088/1088 [==============================] - 37s 34ms/step - loss: 2.0873 - accuracy: 0.4682\n",
            "Epoch 83/200\n",
            "1088/1088 [==============================] - 37s 34ms/step - loss: 2.0884 - accuracy: 0.4675\n",
            "Epoch 84/200\n",
            "1088/1088 [==============================] - 38s 35ms/step - loss: 2.0767 - accuracy: 0.4696\n",
            "Epoch 85/200\n",
            "1088/1088 [==============================] - 36s 33ms/step - loss: 2.0780 - accuracy: 0.4694\n",
            "Epoch 86/200\n",
            "1088/1088 [==============================] - 36s 33ms/step - loss: 2.0726 - accuracy: 0.4708\n",
            "Epoch 87/200\n",
            "1088/1088 [==============================] - 38s 35ms/step - loss: 2.0606 - accuracy: 0.4748\n",
            "Epoch 88/200\n",
            "1088/1088 [==============================] - 36s 33ms/step - loss: 2.0554 - accuracy: 0.4744\n",
            "Epoch 89/200\n",
            "1088/1088 [==============================] - 36s 33ms/step - loss: 2.0488 - accuracy: 0.4769\n",
            "Epoch 90/200\n",
            "1088/1088 [==============================] - 38s 35ms/step - loss: 2.0472 - accuracy: 0.4761\n",
            "Epoch 91/200\n",
            "1088/1088 [==============================] - 38s 35ms/step - loss: 2.0410 - accuracy: 0.4783\n",
            "Epoch 92/200\n",
            "1088/1088 [==============================] - 36s 33ms/step - loss: 2.0337 - accuracy: 0.4804\n",
            "Epoch 93/200\n",
            "1088/1088 [==============================] - 36s 33ms/step - loss: 2.0290 - accuracy: 0.4810\n",
            "Epoch 94/200\n",
            "1088/1088 [==============================] - 38s 35ms/step - loss: 2.0289 - accuracy: 0.4808\n",
            "Epoch 95/200\n",
            "1088/1088 [==============================] - 36s 33ms/step - loss: 2.0227 - accuracy: 0.4818\n",
            "Epoch 96/200\n",
            "1088/1088 [==============================] - 36s 33ms/step - loss: 2.0113 - accuracy: 0.4851\n",
            "Epoch 97/200\n",
            "1088/1088 [==============================] - 38s 35ms/step - loss: 2.0087 - accuracy: 0.4861\n",
            "Epoch 98/200\n",
            "1088/1088 [==============================] - 36s 33ms/step - loss: 1.9996 - accuracy: 0.4867\n",
            "Epoch 99/200\n",
            "1088/1088 [==============================] - 39s 36ms/step - loss: 1.9999 - accuracy: 0.4900\n",
            "Epoch 100/200\n",
            "1088/1088 [==============================] - 36s 33ms/step - loss: 1.9933 - accuracy: 0.4903\n",
            "Epoch 101/200\n",
            "1088/1088 [==============================] - 39s 36ms/step - loss: 1.9824 - accuracy: 0.4923\n",
            "Epoch 102/200\n",
            "1088/1088 [==============================] - 36s 33ms/step - loss: 1.9888 - accuracy: 0.4904\n",
            "Epoch 103/200\n",
            "1088/1088 [==============================] - 36s 33ms/step - loss: 1.9809 - accuracy: 0.4917\n",
            "Epoch 104/200\n",
            "1088/1088 [==============================] - 36s 34ms/step - loss: 1.9686 - accuracy: 0.4937\n",
            "Epoch 105/200\n",
            "1077/1088 [============================>.] - ETA: 0s - loss: 1.9662 - accuracy: 0.4960Buffered data was truncated after reaching the output size limit."
          ],
          "name": "stdout"
        }
      ]
    },
    {
      "cell_type": "code",
      "metadata": {
        "id": "Oy588XlX3KIi"
      },
      "source": [
        "weights = \"/content/drive/MyDrive/Предобученные сети/Генерация музыки/weights-improvement-200-1.6791.hdf5\" # Загружаем натренированные веса, так как сеть довольно долго обучается\n",
        "if(len(weights)>0): model.load_weights(weights)"
      ],
      "execution_count": null,
      "outputs": []
    },
    {
      "cell_type": "code",
      "metadata": {
        "colab": {
          "base_uri": "https://localhost:8080/"
        },
        "id": "2208Z4PibExJ",
        "outputId": "aa92c611-54cd-4cc0-e6dc-b6dd74675843"
      },
      "source": [
        "filepath = \"/content/drive/MyDrive/Предобученные сети/Генерация музыки/weights-improvement_1-{epoch:02d}-{loss:.4f}.hdf5\"    # Где и с каким именем сохраняются веса\n",
        "checkpoint = ModelCheckpoint(filepath,\n",
        "                            monitor='loss',\n",
        "                            verbose=0,\n",
        "                            save_weights_only = True, # Сохраняем только веса   \n",
        "                            save_best_only=True,      # Сохраняем только при уменьшении ошибки\n",
        "                            mode='min',\n",
        "                            )    \n",
        "callbacks_list = [checkpoint]   \n",
        "\n",
        "model.fit(network_input, network_output, epochs=200, \n",
        "          batch_size=128, callbacks=callbacks_list)"
      ],
      "execution_count": null,
      "outputs": [
        {
          "output_type": "stream",
          "text": [
            "Epoch 1/200\n",
            "1088/1088 [==============================] - 44s 33ms/step - loss: 1.6969 - accuracy: 0.5590\n",
            "Epoch 2/200\n",
            "1088/1088 [==============================] - 36s 33ms/step - loss: 1.6501 - accuracy: 0.5690\n",
            "Epoch 3/200\n",
            "1088/1088 [==============================] - 36s 33ms/step - loss: 1.6463 - accuracy: 0.5693\n",
            "Epoch 4/200\n",
            "1088/1088 [==============================] - 36s 33ms/step - loss: 1.6465 - accuracy: 0.5711\n",
            "Epoch 5/200\n",
            "1088/1088 [==============================] - 37s 34ms/step - loss: 1.6342 - accuracy: 0.5735\n",
            "Epoch 6/200\n",
            "1088/1088 [==============================] - 36s 33ms/step - loss: 1.6453 - accuracy: 0.5722\n",
            "Epoch 7/200\n",
            "1088/1088 [==============================] - 36s 33ms/step - loss: 1.6440 - accuracy: 0.5736\n",
            "Epoch 8/200\n",
            "1088/1088 [==============================] - 36s 33ms/step - loss: 1.6491 - accuracy: 0.5732\n",
            "Epoch 9/200\n",
            "1088/1088 [==============================] - 36s 33ms/step - loss: 1.6410 - accuracy: 0.5706\n",
            "Epoch 10/200\n",
            "1088/1088 [==============================] - 37s 34ms/step - loss: 1.6408 - accuracy: 0.5718\n",
            "Epoch 11/200\n",
            "1088/1088 [==============================] - 36s 33ms/step - loss: 1.6135 - accuracy: 0.5781\n",
            "Epoch 12/200\n",
            "1088/1088 [==============================] - 36s 33ms/step - loss: 1.6268 - accuracy: 0.5737\n",
            "Epoch 13/200\n",
            "1088/1088 [==============================] - 37s 34ms/step - loss: 1.6261 - accuracy: 0.5759\n",
            "Epoch 14/200\n",
            "1088/1088 [==============================] - 36s 33ms/step - loss: 1.6242 - accuracy: 0.5759\n",
            "Epoch 15/200\n",
            "1088/1088 [==============================] - 37s 34ms/step - loss: 1.6172 - accuracy: 0.5760\n",
            "Epoch 16/200\n",
            "1088/1088 [==============================] - 36s 33ms/step - loss: 1.6232 - accuracy: 0.5759\n",
            "Epoch 17/200\n",
            "1088/1088 [==============================] - 36s 33ms/step - loss: 1.6231 - accuracy: 0.5744\n",
            "Epoch 18/200\n",
            "1088/1088 [==============================] - 37s 34ms/step - loss: 1.6164 - accuracy: 0.5766\n",
            "Epoch 19/200\n",
            "1088/1088 [==============================] - 36s 33ms/step - loss: 1.6071 - accuracy: 0.5794\n",
            "Epoch 20/200\n",
            "1088/1088 [==============================] - 37s 34ms/step - loss: 1.6164 - accuracy: 0.5780\n",
            "Epoch 21/200\n",
            "1088/1088 [==============================] - 36s 33ms/step - loss: 1.6008 - accuracy: 0.5799\n",
            "Epoch 22/200\n",
            "1088/1088 [==============================] - 36s 33ms/step - loss: 1.6040 - accuracy: 0.5815\n",
            "Epoch 23/200\n",
            "1088/1088 [==============================] - 37s 34ms/step - loss: 1.6050 - accuracy: 0.5793\n",
            "Epoch 24/200\n",
            "1088/1088 [==============================] - 36s 33ms/step - loss: 1.6023 - accuracy: 0.5810\n",
            "Epoch 25/200\n",
            "1088/1088 [==============================] - 37s 34ms/step - loss: 1.6043 - accuracy: 0.5787\n",
            "Epoch 26/200\n",
            "1088/1088 [==============================] - 36s 33ms/step - loss: 1.5937 - accuracy: 0.5837\n",
            "Epoch 27/200\n",
            "1088/1088 [==============================] - 36s 33ms/step - loss: 1.6070 - accuracy: 0.5796\n",
            "Epoch 28/200\n",
            "1088/1088 [==============================] - 37s 34ms/step - loss: 1.5921 - accuracy: 0.5832\n",
            "Epoch 29/200\n",
            "1088/1088 [==============================] - 36s 33ms/step - loss: 1.5860 - accuracy: 0.5829\n",
            "Epoch 30/200\n",
            "1088/1088 [==============================] - 36s 33ms/step - loss: 1.5859 - accuracy: 0.5838\n",
            "Epoch 31/200\n",
            "1088/1088 [==============================] - 37s 34ms/step - loss: 1.5973 - accuracy: 0.5825\n",
            "Epoch 32/200\n",
            "1088/1088 [==============================] - 36s 33ms/step - loss: 1.5894 - accuracy: 0.5836\n",
            "Epoch 33/200\n",
            "1088/1088 [==============================] - 38s 35ms/step - loss: 1.5881 - accuracy: 0.5866\n",
            "Epoch 34/200\n",
            "1088/1088 [==============================] - 36s 33ms/step - loss: 1.5779 - accuracy: 0.5838\n",
            "Epoch 35/200\n",
            "1088/1088 [==============================] - 36s 33ms/step - loss: 1.5757 - accuracy: 0.5884\n",
            "Epoch 36/200\n",
            "1088/1088 [==============================] - 37s 34ms/step - loss: 1.5881 - accuracy: 0.5863\n",
            "Epoch 37/200\n",
            "1088/1088 [==============================] - 36s 33ms/step - loss: 1.5735 - accuracy: 0.5869\n",
            "Epoch 38/200\n",
            "1088/1088 [==============================] - 37s 34ms/step - loss: 1.5780 - accuracy: 0.5872\n",
            "Epoch 39/200\n",
            "1088/1088 [==============================] - 36s 33ms/step - loss: 1.5707 - accuracy: 0.5883\n",
            "Epoch 40/200\n",
            "1088/1088 [==============================] - 36s 33ms/step - loss: 1.5794 - accuracy: 0.5863\n",
            "Epoch 41/200\n",
            "1088/1088 [==============================] - 36s 33ms/step - loss: 1.5798 - accuracy: 0.5866\n",
            "Epoch 42/200\n",
            "1088/1088 [==============================] - 37s 34ms/step - loss: 1.5692 - accuracy: 0.5865\n",
            "Epoch 43/200\n",
            "1088/1088 [==============================] - 36s 33ms/step - loss: 1.5664 - accuracy: 0.5880\n",
            "Epoch 44/200\n",
            "1088/1088 [==============================] - 36s 33ms/step - loss: 1.5697 - accuracy: 0.5895\n",
            "Epoch 45/200\n",
            "1088/1088 [==============================] - 36s 33ms/step - loss: 1.5578 - accuracy: 0.5889\n",
            "Epoch 46/200\n",
            "1088/1088 [==============================] - 36s 33ms/step - loss: 1.5528 - accuracy: 0.5921\n",
            "Epoch 47/200\n",
            "1088/1088 [==============================] - 36s 33ms/step - loss: 1.5602 - accuracy: 0.5890\n",
            "Epoch 48/200\n",
            "1088/1088 [==============================] - 37s 34ms/step - loss: 1.5496 - accuracy: 0.5916\n",
            "Epoch 49/200\n",
            "1088/1088 [==============================] - 36s 33ms/step - loss: 1.5548 - accuracy: 0.5905\n",
            "Epoch 50/200\n",
            "1088/1088 [==============================] - 37s 34ms/step - loss: 1.5487 - accuracy: 0.5935\n",
            "Epoch 51/200\n",
            "1088/1088 [==============================] - 36s 33ms/step - loss: 1.5538 - accuracy: 0.5928\n",
            "Epoch 52/200\n",
            "1088/1088 [==============================] - 36s 33ms/step - loss: 1.5512 - accuracy: 0.5930\n",
            "Epoch 53/200\n",
            "1088/1088 [==============================] - 38s 35ms/step - loss: 1.5468 - accuracy: 0.5933\n",
            "Epoch 54/200\n",
            "1088/1088 [==============================] - 36s 33ms/step - loss: 1.5456 - accuracy: 0.5957\n",
            "Epoch 55/200\n",
            "1088/1088 [==============================] - 37s 34ms/step - loss: 1.5461 - accuracy: 0.5947\n",
            "Epoch 56/200\n",
            "1088/1088 [==============================] - 36s 33ms/step - loss: 1.5375 - accuracy: 0.5971\n",
            "Epoch 57/200\n",
            "1088/1088 [==============================] - 36s 33ms/step - loss: 1.5458 - accuracy: 0.5953\n",
            "Epoch 58/200\n",
            "1088/1088 [==============================] - 36s 33ms/step - loss: 1.5387 - accuracy: 0.5932\n",
            "Epoch 59/200\n",
            "1088/1088 [==============================] - 37s 34ms/step - loss: 1.5385 - accuracy: 0.5942\n",
            "Epoch 60/200\n",
            "1088/1088 [==============================] - 38s 35ms/step - loss: 1.5344 - accuracy: 0.5953\n",
            "Epoch 61/200\n",
            "1088/1088 [==============================] - 36s 34ms/step - loss: 1.5363 - accuracy: 0.5979\n",
            "Epoch 62/200\n",
            "1088/1088 [==============================] - 36s 33ms/step - loss: 1.5314 - accuracy: 0.6006\n",
            "Epoch 63/200\n",
            "1088/1088 [==============================] - 37s 34ms/step - loss: 1.5399 - accuracy: 0.5981\n",
            "Epoch 64/200\n",
            "1088/1088 [==============================] - 36s 33ms/step - loss: 1.5295 - accuracy: 0.5962\n",
            "Epoch 65/200\n",
            "1088/1088 [==============================] - 38s 35ms/step - loss: 1.5284 - accuracy: 0.5985\n",
            "Epoch 66/200\n",
            "1088/1088 [==============================] - 36s 33ms/step - loss: 1.5185 - accuracy: 0.6010\n",
            "Epoch 67/200\n",
            "1088/1088 [==============================] - 36s 33ms/step - loss: 1.5243 - accuracy: 0.6009\n",
            "Epoch 68/200\n",
            "1088/1088 [==============================] - 38s 35ms/step - loss: 1.5302 - accuracy: 0.5998\n",
            "Epoch 69/200\n",
            "1088/1088 [==============================] - 36s 33ms/step - loss: 1.5206 - accuracy: 0.5987\n",
            "Epoch 70/200\n",
            "1088/1088 [==============================] - 36s 33ms/step - loss: 1.5113 - accuracy: 0.6027\n",
            "Epoch 71/200\n",
            "1088/1088 [==============================] - 36s 34ms/step - loss: 1.5216 - accuracy: 0.5993\n",
            "Epoch 72/200\n",
            "1088/1088 [==============================] - 36s 33ms/step - loss: 1.5138 - accuracy: 0.6017\n",
            "Epoch 73/200\n",
            "1088/1088 [==============================] - 38s 35ms/step - loss: 1.5093 - accuracy: 0.6013\n",
            "Epoch 74/200\n",
            "1088/1088 [==============================] - 36s 33ms/step - loss: 1.5125 - accuracy: 0.6019\n",
            "Epoch 75/200\n",
            "1088/1088 [==============================] - 36s 33ms/step - loss: 1.5126 - accuracy: 0.6004\n",
            "Epoch 76/200\n",
            "1088/1088 [==============================] - 38s 35ms/step - loss: 1.5102 - accuracy: 0.6026\n",
            "Epoch 77/200\n",
            "1088/1088 [==============================] - 36s 33ms/step - loss: 1.5018 - accuracy: 0.6033\n",
            "Epoch 78/200\n",
            "1088/1088 [==============================] - 36s 33ms/step - loss: 1.5013 - accuracy: 0.6051\n",
            "Epoch 79/200\n",
            "1088/1088 [==============================] - 39s 35ms/step - loss: 1.4990 - accuracy: 0.6072\n",
            "Epoch 80/200\n",
            "1088/1088 [==============================] - 36s 33ms/step - loss: 1.5047 - accuracy: 0.6064\n",
            "Epoch 81/200\n",
            "1088/1088 [==============================] - 36s 34ms/step - loss: 1.4948 - accuracy: 0.6080\n",
            "Epoch 82/200\n",
            "1088/1088 [==============================] - 38s 35ms/step - loss: 1.4967 - accuracy: 0.6050\n",
            "Epoch 83/200\n",
            "1088/1088 [==============================] - 36s 34ms/step - loss: 1.4833 - accuracy: 0.6111\n",
            "Epoch 84/200\n",
            "1088/1088 [==============================] - 39s 36ms/step - loss: 1.4976 - accuracy: 0.6075\n",
            "Epoch 85/200\n",
            "1088/1088 [==============================] - 36s 33ms/step - loss: 1.4866 - accuracy: 0.6074\n",
            "Epoch 86/200\n",
            "1088/1088 [==============================] - 36s 33ms/step - loss: 1.4835 - accuracy: 0.6097\n",
            "Epoch 87/200\n",
            "1088/1088 [==============================] - 36s 34ms/step - loss: 1.4881 - accuracy: 0.6064\n",
            "Epoch 88/200\n",
            "1088/1088 [==============================] - 39s 36ms/step - loss: 1.4915 - accuracy: 0.6079\n",
            "Epoch 89/200\n",
            "1088/1088 [==============================] - 36s 34ms/step - loss: 1.4849 - accuracy: 0.6090\n",
            "Epoch 90/200\n",
            "1088/1088 [==============================] - 36s 33ms/step - loss: 1.4850 - accuracy: 0.6093\n",
            "Epoch 91/200\n",
            "1088/1088 [==============================] - 36s 33ms/step - loss: 1.4717 - accuracy: 0.6135\n",
            "Epoch 92/200\n",
            "1088/1088 [==============================] - 38s 35ms/step - loss: 1.4710 - accuracy: 0.6118\n",
            "Epoch 93/200\n",
            "1088/1088 [==============================] - 37s 34ms/step - loss: 1.4707 - accuracy: 0.6124\n",
            "Epoch 94/200\n",
            "1088/1088 [==============================] - 36s 33ms/step - loss: 1.4779 - accuracy: 0.6109\n",
            "Epoch 95/200\n",
            "1088/1088 [==============================] - 36s 33ms/step - loss: 1.4749 - accuracy: 0.6102\n",
            "Epoch 96/200\n",
            "1088/1088 [==============================] - 36s 33ms/step - loss: 1.4722 - accuracy: 0.6101\n",
            "Epoch 97/200\n",
            "1088/1088 [==============================] - 36s 33ms/step - loss: 1.4669 - accuracy: 0.6122\n",
            "Epoch 98/200\n",
            "1088/1088 [==============================] - 36s 33ms/step - loss: 1.4748 - accuracy: 0.6120\n",
            "Epoch 99/200\n",
            "1088/1088 [==============================] - 36s 34ms/step - loss: 1.4748 - accuracy: 0.6127\n",
            "Epoch 100/200\n",
            "1088/1088 [==============================] - 36s 33ms/step - loss: 1.4586 - accuracy: 0.6147\n",
            "Epoch 101/200\n",
            "1088/1088 [==============================] - 36s 34ms/step - loss: 1.4616 - accuracy: 0.6156\n",
            "Epoch 102/200\n",
            "1088/1088 [==============================] - 39s 36ms/step - loss: 1.4683 - accuracy: 0.6125\n",
            "Epoch 103/200\n",
            "1088/1088 [==============================] - 36s 33ms/step - loss: 1.4556 - accuracy: 0.6191\n",
            "Epoch 104/200\n",
            "1088/1088 [==============================] - 39s 35ms/step - loss: 1.4573 - accuracy: 0.6176\n",
            "Epoch 105/200\n",
            " 990/1088 [==========================>...] - ETA: 3s - loss: 1.4553 - accuracy: 0.6144Buffered data was truncated after reaching the output size limit."
          ],
          "name": "stdout"
        }
      ]
    },
    {
      "cell_type": "code",
      "metadata": {
        "id": "yRepvYGfbE3T"
      },
      "source": [
        "weights = \"/content/drive/MyDrive/Предобученные сети/Генерация музыки/weights-improvement_1-198-1.3536.hdf5\" # Загружаем натренированные веса, так как сеть довольно долго обучается\n",
        "if(len(weights)>0): model.load_weights(weights)"
      ],
      "execution_count": null,
      "outputs": []
    },
    {
      "cell_type": "code",
      "metadata": {
        "colab": {
          "base_uri": "https://localhost:8080/"
        },
        "id": "21LFAEuw322O",
        "outputId": "827ec7a3-3927-4e11-c154-da18acd96e2d"
      },
      "source": [
        "model.fit(network_input, network_output, epochs=1, \n",
        "          batch_size=128)"
      ],
      "execution_count": null,
      "outputs": [
        {
          "output_type": "stream",
          "text": [
            "1088/1088 [==============================] - 39s 33ms/step - loss: 1.3748 - accuracy: 0.6391\n"
          ],
          "name": "stdout"
        },
        {
          "output_type": "execute_result",
          "data": {
            "text/plain": [
              "<tensorflow.python.keras.callbacks.History at 0x7f1f38f22d30>"
            ]
          },
          "metadata": {
            "tags": []
          },
          "execution_count": 53
        }
      ]
    },
    {
      "cell_type": "markdown",
      "metadata": {
        "id": "l45n7InPK4jz"
      },
      "source": [
        "## Генерация музыки\n",
        "\n",
        "*Разбор данного раздела:* https://youtu.be/VS6DHal1xYw?t=1637"
      ]
    },
    {
      "cell_type": "markdown",
      "metadata": {
        "id": "ol4WuNnbeNU9"
      },
      "source": [
        "Для генерации музыки будем использовать следующий подход:\n",
        "\n",
        "1. Выбираем случайную последовательность из обучающей выборки (далее паттерн)\n",
        "2. Передаем паттерн модели для генерации нового элемента\n",
        "3. Добавляем полученный элемент в финальный список и в конец паттерна\n",
        "4. Удаляем первый элемент в паттерне\n",
        "5. Возвращаемся к шагу 2"
      ]
    },
    {
      "cell_type": "code",
      "metadata": {
        "colab": {
          "base_uri": "https://localhost:8080/"
        },
        "id": "d1Xg7_Q4WKlO",
        "outputId": "1b8ab194-8866-47a5-f04b-84181bd8c496"
      },
      "source": [
        "# Выбираем случайную последовательность\n",
        "start = np.random.randint(0, len(network_input)-1)\n",
        "int_to_note = dict((number, note) for number, note in enumerate(pitchnames)) # Словарь для перевода чисел в ноты/аккорды\n",
        "pattern = list(network_input[start])\n",
        "prediction_output = [] # Список, в котором будет храниться сгенерированная последовательность элементов\n",
        "\n",
        "# Генерируем 500 нот/аккордов (около 2 минут композиция)\n",
        "for i,note_index in enumerate(range(500)):\n",
        "    prediction_input = np.reshape(pattern, (1, len(pattern), 1)) # Решейп паттерна для сети\n",
        "    prediction_input = prediction_input / float(len(n_list)) # Нормализация\n",
        "    prediction = model.predict(prediction_input.astype('float32'), verbose=0)\n",
        "    index = np.argmax(prediction)\n",
        "    result = int_to_note[index] # Полученный результат\n",
        "    print('\\r', 'Предсказано ', i, \" \",result, end='')\n",
        "    prediction_output.append(result)\n",
        "    pattern.append(index)\n",
        "    pattern = pattern[1:len(pattern)]"
      ],
      "execution_count": null,
      "outputs": [
        {
          "output_type": "stream",
          "text": [
            "\r Предсказано  0   6\r Предсказано  1   6\r Предсказано  2   6\r Предсказано  3   6\r Предсказано  4   3\r Предсказано  5   3"
          ],
          "name": "stdout"
        },
        {
          "output_type": "stream",
          "text": [
            "/usr/local/lib/python3.6/dist-packages/numpy/core/_asarray.py:83: VisibleDeprecationWarning: Creating an ndarray from ragged nested sequences (which is a list-or-tuple of lists-or-tuples-or ndarrays with different lengths or shapes) is deprecated. If you meant to do this, you must specify 'dtype=object' when creating the ndarray\n",
            "  return array(a, dtype, copy=False, order=order)\n"
          ],
          "name": "stderr"
        },
        {
          "output_type": "stream",
          "text": [
            " Предсказано  499   10.1"
          ],
          "name": "stdout"
        }
      ]
    },
    {
      "cell_type": "markdown",
      "metadata": {
        "id": "sgDfiSM0iLEA"
      },
      "source": [
        "В нашей сети мы не учитывали оффсет(смещение), поэтому после каждой ноты будем просто увеличивать его на 0.5"
      ]
    },
    {
      "cell_type": "code",
      "metadata": {
        "id": "Wu5IrJ1yWLIh"
      },
      "source": [
        "offset = 0\n",
        "output_notes = [] # список нот и аккордов\n",
        "\n",
        "# Создаем список нот/аккордов из полученных от сети элементов\n",
        "for pattern in prediction_output:\n",
        "    # Если элемент - аккорд\n",
        "    if ('.' in pattern) or pattern.isdigit():\n",
        "        notes_in_chord = pattern.split('.') # Получаем список всех нот в аккорде\n",
        "        notes = [] # Здесь будут храниться все ноты в аккорде\n",
        "        for current_note in notes_in_chord:\n",
        "            new_note = note.Note(int(current_note)) # Создаем объект ноты\n",
        "            new_note.storedInstrument = instrument.Piano()  # Указываем инструмент, который должен сыграть ноту\n",
        "            notes.append(new_note) # Добавляем полученную ноту в список\n",
        "        new_chord = chord.Chord(notes) # Создаем объект аккорда\n",
        "        new_chord.offset = offset # Добавляем смещение\n",
        "        output_notes.append(new_chord) # Добавляем полученный аккорд в output_notes\n",
        "    # Если элемент - нота\n",
        "    else:\n",
        "        new_note = note.Note(pattern) # Создаем объект ноты\n",
        "        new_note.offset = offset # Добавляем смещение\n",
        "        new_note.storedInstrument = instrument.Piano() # Указываем инструмент, который должен сыграть ноту\n",
        "        output_notes.append(new_note) # Добавляем полученную ноту в output_notes\n",
        "\n",
        "    # Увеличиваем смещение чтобы ноты не наслаивались\n",
        "    offset += 0.5\n",
        "\n",
        "midi_stream = stream.Stream(output_notes) # Создаем stream объект из списка нот/аккордов"
      ],
      "execution_count": null,
      "outputs": []
    },
    {
      "cell_type": "markdown",
      "metadata": {
        "id": "I4HNXFzXoV7W"
      },
      "source": [
        "## Графики\n",
        "\n",
        "*Разбор данного раздела:* https://youtu.be/VS6DHal1xYw?t=1975"
      ]
    },
    {
      "cell_type": "code",
      "metadata": {
        "colab": {
          "base_uri": "https://localhost:8080/",
          "height": 399
        },
        "id": "0Y_y1QJydfqE",
        "outputId": "b0307446-ac2d-4ad1-caa9-4ef78d89435f"
      },
      "source": [
        "midi_stream.plot() # Вся композиция"
      ],
      "execution_count": null,
      "outputs": [
        {
          "output_type": "display_data",
          "data": {
            "image/png": "[encoded data removed]",
            "text/plain": [
              "<Figure size 720x432 with 1 Axes>"
            ]
          },
          "metadata": {
            "tags": [],
            "image/png": {
              "height": 382,
              "width": 594
            }
          }
        }
      ]
    },
    {
      "cell_type": "code",
      "metadata": {
        "colab": {
          "base_uri": "https://localhost:8080/",
          "height": 399
        },
        "id": "VbO6VZamoDjZ",
        "outputId": "27c917f4-e090-4ee2-b56c-85d76ce2df3e"
      },
      "source": [
        "midi_stream[100:200].plot() # Часть композиции"
      ],
      "execution_count": null,
      "outputs": [
        {
          "output_type": "display_data",
          "data": {
            "image/png": "[encoded data removed]",
            "text/plain": [
              "<Figure size 720x432 with 1 Axes>"
            ]
          },
          "metadata": {
            "tags": [],
            "image/png": {
              "height": 382,
              "width": 594
            }
          }
        }
      ]
    },
    {
      "cell_type": "code",
      "metadata": {
        "colab": {
          "base_uri": "https://localhost:8080/",
          "height": 399
        },
        "id": "ZKFrrz1wcabs",
        "outputId": "5b2b64d4-6b63-45c2-8608-97aa049abc5b"
      },
      "source": [
        "midi_stream.plot('histogram', 'pitch') # Гистограмма с количеством нот"
      ],
      "execution_count": null,
      "outputs": [
        {
          "output_type": "display_data",
          "data": {
            "image/png": "[encoded data removed]",
            "text/plain": [
              "<Figure size 720x432 with 1 Axes>"
            ]
          },
          "metadata": {
            "tags": [],
            "image/png": {
              "height": 382,
              "width": 583
            }
          }
        }
      ]
    },
    {
      "cell_type": "markdown",
      "metadata": {
        "id": "fzLfQsEwa9a9"
      },
      "source": [
        "## Прослушиваем\n",
        "\n",
        "*Разбор данного раздела:* https://youtu.be/VS6DHal1xYw?t=2007"
      ]
    },
    {
      "cell_type": "code",
      "metadata": {
        "id": "llwbvpTxa8es"
      },
      "source": [
        "!apt install fluidsynth \n",
        "!cp /usr/share/sounds/sf2/FluidR3_GM.sf2 ./font.sf2\n",
        "clear_output()"
      ],
      "execution_count": null,
      "outputs": []
    },
    {
      "cell_type": "code",
      "metadata": {
        "colab": {
          "background_save": true,
          "base_uri": "https://localhost:8080/"
        },
        "id": "MRLSoWAU05li",
        "outputId": "4cb6e1cc-228a-47b3-97d4-6282c1dbd0a3"
      },
      "source": [
        "midi_stream.write('midi', fp='test_output.mid') # Сохраняем midi файл на диск \n",
        "!fluidsynth -ni font.sf2 '/content/test_output.mid' -F 'output.wav' -r 44100 # Перекодируем в wav c частотой дискретизации 44100\n",
        "Audio('output.wav')"
      ],
      "execution_count": null,
      "outputs": []
    },
    {
      "cell_type": "markdown",
      "metadata": {
        "id": "XRdaqgM-oX8P"
      },
      "source": [
        "## Cкачиваем файл"
      ]
    },
    {
      "cell_type": "markdown",
      "metadata": {
        "id": "nMD4si6QHRc3"
      },
      "source": [
        "Midi"
      ]
    },
    {
      "cell_type": "code",
      "metadata": {
        "id": "KkCM6O3WPgri"
      },
      "source": [
        "files.download('test_output.mid')"
      ],
      "execution_count": null,
      "outputs": []
    },
    {
      "cell_type": "markdown",
      "metadata": {
        "id": "1JLDLJHsHTXf"
      },
      "source": [
        "Wav"
      ]
    },
    {
      "cell_type": "code",
      "metadata": {
        "id": "uA-aq46LHUl4"
      },
      "source": [
        "files.download('output.wav')"
      ],
      "execution_count": null,
      "outputs": []
    },
    {
      "cell_type": "markdown",
      "metadata": {
        "id": "EC8DoHzLaQx6"
      },
      "source": [
        "# Библиотека от Google - Magenta\n"
      ]
    },
    {
      "cell_type": "markdown",
      "metadata": {
        "id": "0o3V2uDVsVYx"
      },
      "source": [
        "## Готовим последовательность на вход\n",
        "\n",
        "*Разбор данного раздела:* https://youtu.be/VS6DHal1xYw?t=2165"
      ]
    },
    {
      "cell_type": "code",
      "metadata": {
        "id": "S9UT8P9lmGaK"
      },
      "source": [
        "!apt-get update -qq && apt-get install -qq libfluidsynth1 fluid-soundfont-gm build-essential libasound2-dev libjack-dev\n",
        "!pip install -qU pyfluidsynth pretty_midi\n",
        "import ctypes.util\n",
        "orig_ctypes_util_find_library = ctypes.util.find_library\n",
        "def proxy_find_library(lib):\n",
        "  if lib == 'fluidsynth':\n",
        "    return 'libfluidsynth.so.1'\n",
        "  else:\n",
        "    return orig_ctypes_util_find_library(lib)\n",
        "ctypes.util.find_library = proxy_find_library\n",
        "!pip install -qU magenta\n",
        "import magenta\n",
        "import note_seq\n",
        "import tensorflow\n",
        "from note_seq.protobuf import music_pb2\n",
        "from magenta.models.melody_rnn import melody_rnn_sequence_generator\n",
        "from magenta.models.shared import sequence_generator_bundle\n",
        "from note_seq.protobuf import generator_pb2\n",
        "clear_output()"
      ],
      "execution_count": null,
      "outputs": []
    },
    {
      "cell_type": "code",
      "metadata": {
        "colab": {
          "base_uri": "https://localhost:8080/",
          "height": 275
        },
        "id": "71dgCmmBli-s",
        "outputId": "1bba5db9-2728-42a9-8c54-3ee6aeb9850b"
      },
      "source": [
        "# Создаем свою последовательность с помощью note_seq\n",
        "\n",
        "teapot = music_pb2.NoteSequence()\n",
        "teapot.notes.add(pitch=69, start_time=0, end_time=0.5, velocity=80)\n",
        "teapot.notes.add(pitch=71, start_time=0.5, end_time=1, velocity=80)\n",
        "teapot.notes.add(pitch=73, start_time=1, end_time=1.5, velocity=80)\n",
        "teapot.notes.add(pitch=74, start_time=1.5, end_time=2, velocity=80)\n",
        "teapot.notes.add(pitch=76, start_time=2, end_time=2.5, velocity=80)\n",
        "teapot.notes.add(pitch=81, start_time=3, end_time=4, velocity=80)\n",
        "teapot.notes.add(pitch=78, start_time=4, end_time=5, velocity=80)\n",
        "teapot.notes.add(pitch=81, start_time=5, end_time=6, velocity=80)\n",
        "teapot.notes.add(pitch=76, start_time=6, end_time=8, velocity=80)\n",
        "teapot.total_time = 8\n",
        "\n",
        "teapot.tempos.add(qpm=60);\n",
        "\n",
        "note_seq.plot_sequence(teapot)\n",
        "note_seq.play_sequence(teapot,synth=note_seq.synthesize)"
      ],
      "execution_count": null,
      "outputs": [
        {
          "output_type": "display_data",
          "data": {
            "application/javascript": [
              "\n",
              "(function(root) {\n",
              "  function now() {\n",
              "    return new Date();\n",
              "  }\n",
              "\n",
              "  var force = true;\n",
              "\n",
              "  if (typeof root._bokeh_onload_callbacks === \"undefined\" || force === true) {\n",
              "    root._bokeh_onload_callbacks = [];\n",
              "    root._bokeh_is_loading = undefined;\n",
              "  }\n",
              "\n",
              "  var JS_MIME_TYPE = 'application/javascript';\n",
              "  var HTML_MIME_TYPE = 'text/html';\n",
              "  var EXEC_MIME_TYPE = 'application/vnd.bokehjs_exec.v0+json';\n",
              "  var CLASS_NAME = 'output_bokeh rendered_html';\n",
              "\n",
              "  /**\n",
              "   * Render data to the DOM node\n",
              "   */\n",
              "  function render(props, node) {\n",
              "    var script = document.createElement(\"script\");\n",
              "    node.appendChild(script);\n",
              "  }\n",
              "\n",
              "  /**\n",
              "   * Handle when an output is cleared or removed\n",
              "   */\n",
              "  function handleClearOutput(event, handle) {\n",
              "    var cell = handle.cell;\n",
              "\n",
              "    var id = cell.output_area._bokeh_element_id;\n",
              "    var server_id = cell.output_area._bokeh_server_id;\n",
              "    // Clean up Bokeh references\n",
              "    if (id != null && id in Bokeh.index) {\n",
              "      Bokeh.index[id].model.document.clear();\n",
              "      delete Bokeh.index[id];\n",
              "    }\n",
              "\n",
              "    if (server_id !== undefined) {\n",
              "      // Clean up Bokeh references\n",
              "      var cmd = \"from bokeh.io.state import curstate; print(curstate().uuid_to_server['\" + server_id + \"'].get_sessions()[0].document.roots[0]._id)\";\n",
              "      cell.notebook.kernel.execute(cmd, {\n",
              "        iopub: {\n",
              "          output: function(msg) {\n",
              "            var id = msg.content.text.trim();\n",
              "            if (id in Bokeh.index) {\n",
              "              Bokeh.index[id].model.document.clear();\n",
              "              delete Bokeh.index[id];\n",
              "            }\n",
              "          }\n",
              "        }\n",
              "      });\n",
              "      // Destroy server and session\n",
              "      var cmd = \"import bokeh.io.notebook as ion; ion.destroy_server('\" + server_id + \"')\";\n",
              "      cell.notebook.kernel.execute(cmd);\n",
              "    }\n",
              "  }\n",
              "\n",
              "  /**\n",
              "   * Handle when a new output is added\n",
              "   */\n",
              "  function handleAddOutput(event, handle) {\n",
              "    var output_area = handle.output_area;\n",
              "    var output = handle.output;\n",
              "\n",
              "    // limit handleAddOutput to display_data with EXEC_MIME_TYPE content only\n",
              "    if ((output.output_type != \"display_data\") || (!output.data.hasOwnProperty(EXEC_MIME_TYPE))) {\n",
              "      return\n",
              "    }\n",
              "\n",
              "    var toinsert = output_area.element.find(\".\" + CLASS_NAME.split(' ')[0]);\n",
              "\n",
              "    if (output.metadata[EXEC_MIME_TYPE][\"id\"] !== undefined) {\n",
              "      toinsert[toinsert.length - 1].firstChild.textContent = output.data[JS_MIME_TYPE];\n",
              "      // store reference to embed id on output_area\n",
              "      output_area._bokeh_element_id = output.metadata[EXEC_MIME_TYPE][\"id\"];\n",
              "    }\n",
              "    if (output.metadata[EXEC_MIME_TYPE][\"server_id\"] !== undefined) {\n",
              "      var bk_div = document.createElement(\"div\");\n",
              "      bk_div.innerHTML = output.data[HTML_MIME_TYPE];\n",
              "      var script_attrs = bk_div.children[0].attributes;\n",
              "      for (var i = 0; i < script_attrs.length; i++) {\n",
              "        toinsert[toinsert.length - 1].firstChild.setAttribute(script_attrs[i].name, script_attrs[i].value);\n",
              "        toinsert[toinsert.length - 1].firstChild.textContent = bk_div.children[0].textContent\n",
              "      }\n",
              "      // store reference to server id on output_area\n",
              "      output_area._bokeh_server_id = output.metadata[EXEC_MIME_TYPE][\"server_id\"];\n",
              "    }\n",
              "  }\n",
              "\n",
              "  function register_renderer(events, OutputArea) {\n",
              "\n",
              "    function append_mime(data, metadata, element) {\n",
              "      // create a DOM node to render to\n",
              "      var toinsert = this.create_output_subarea(\n",
              "        metadata,\n",
              "        CLASS_NAME,\n",
              "        EXEC_MIME_TYPE\n",
              "      );\n",
              "      this.keyboard_manager.register_events(toinsert);\n",
              "      // Render to node\n",
              "      var props = {data: data, metadata: metadata[EXEC_MIME_TYPE]};\n",
              "      render(props, toinsert[toinsert.length - 1]);\n",
              "      element.append(toinsert);\n",
              "      return toinsert\n",
              "    }\n",
              "\n",
              "    /* Handle when an output is cleared or removed */\n",
              "    events.on('clear_output.CodeCell', handleClearOutput);\n",
              "    events.on('delete.Cell', handleClearOutput);\n",
              "\n",
              "    /* Handle when a new output is added */\n",
              "    events.on('output_added.OutputArea', handleAddOutput);\n",
              "\n",
              "    /**\n",
              "     * Register the mime type and append_mime function with output_area\n",
              "     */\n",
              "    OutputArea.prototype.register_mime_type(EXEC_MIME_TYPE, append_mime, {\n",
              "      /* Is output safe? */\n",
              "      safe: true,\n",
              "      /* Index of renderer in `output_area.display_order` */\n",
              "      index: 0\n",
              "    });\n",
              "  }\n",
              "\n",
              "  // register the mime type if in Jupyter Notebook environment and previously unregistered\n",
              "  if (root.Jupyter !== undefined) {\n",
              "    var events = require('base/js/events');\n",
              "    var OutputArea = require('notebook/js/outputarea').OutputArea;\n",
              "\n",
              "    if (OutputArea.prototype.mime_types().indexOf(EXEC_MIME_TYPE) == -1) {\n",
              "      register_renderer(events, OutputArea);\n",
              "    }\n",
              "  }\n",
              "\n",
              "  \n",
              "  if (typeof (root._bokeh_timeout) === \"undefined\" || force === true) {\n",
              "    root._bokeh_timeout = Date.now() + 5000;\n",
              "    root._bokeh_failed_load = false;\n",
              "  }\n",
              "\n",
              "  var NB_LOAD_WARNING = {'data': {'text/html':\n",
              "     \"<div style='background-color: #fdd'>\\n\"+\n",
              "     \"<p>\\n\"+\n",
              "     \"BokehJS does not appear to have successfully loaded. If loading BokehJS from CDN, this \\n\"+\n",
              "     \"may be due to a slow or bad network connection. Possible fixes:\\n\"+\n",
              "     \"</p>\\n\"+\n",
              "     \"<ul>\\n\"+\n",
              "     \"<li>re-rerun `output_notebook()` to attempt to load from CDN again, or</li>\\n\"+\n",
              "     \"<li>use INLINE resources instead, as so:</li>\\n\"+\n",
              "     \"</ul>\\n\"+\n",
              "     \"<code>\\n\"+\n",
              "     \"from bokeh.resources import INLINE\\n\"+\n",
              "     \"output_notebook(resources=INLINE)\\n\"+\n",
              "     \"</code>\\n\"+\n",
              "     \"</div>\"}};\n",
              "\n",
              "  function display_loaded() {\n",
              "    var el = document.getElementById(null);\n",
              "    if (el != null) {\n",
              "      el.textContent = \"BokehJS is loading...\";\n",
              "    }\n",
              "    if (root.Bokeh !== undefined) {\n",
              "      if (el != null) {\n",
              "        el.textContent = \"BokehJS \" + root.Bokeh.version + \" successfully loaded.\";\n",
              "      }\n",
              "    } else if (Date.now() < root._bokeh_timeout) {\n",
              "      setTimeout(display_loaded, 100)\n",
              "    }\n",
              "  }\n",
              "\n",
              "\n",
              "  function run_callbacks() {\n",
              "    try {\n",
              "      root._bokeh_onload_callbacks.forEach(function(callback) {\n",
              "        if (callback != null)\n",
              "          callback();\n",
              "      });\n",
              "    } finally {\n",
              "      delete root._bokeh_onload_callbacks\n",
              "    }\n",
              "    console.debug(\"Bokeh: all callbacks have finished\");\n",
              "  }\n",
              "\n",
              "  function load_libs(css_urls, js_urls, callback) {\n",
              "    if (css_urls == null) css_urls = [];\n",
              "    if (js_urls == null) js_urls = [];\n",
              "\n",
              "    root._bokeh_onload_callbacks.push(callback);\n",
              "    if (root._bokeh_is_loading > 0) {\n",
              "      console.debug(\"Bokeh: BokehJS is being loaded, scheduling callback at\", now());\n",
              "      return null;\n",
              "    }\n",
              "    if (js_urls == null || js_urls.length === 0) {\n",
              "      run_callbacks();\n",
              "      return null;\n",
              "    }\n",
              "    console.debug(\"Bokeh: BokehJS not loaded, scheduling load and callback at\", now());\n",
              "    root._bokeh_is_loading = css_urls.length + js_urls.length;\n",
              "\n",
              "    function on_load() {\n",
              "      root._bokeh_is_loading--;\n",
              "      if (root._bokeh_is_loading === 0) {\n",
              "        console.debug(\"Bokeh: all BokehJS libraries/stylesheets loaded\");\n",
              "        run_callbacks()\n",
              "      }\n",
              "    }\n",
              "\n",
              "    function on_error() {\n",
              "      console.error(\"failed to load \" + url);\n",
              "    }\n",
              "\n",
              "    for (var i = 0; i < css_urls.length; i++) {\n",
              "      var url = css_urls[i];\n",
              "      const element = document.createElement(\"link\");\n",
              "      element.onload = on_load;\n",
              "      element.onerror = on_error;\n",
              "      element.rel = \"stylesheet\";\n",
              "      element.type = \"text/css\";\n",
              "      element.href = url;\n",
              "      console.debug(\"Bokeh: injecting link tag for BokehJS stylesheet: \", url);\n",
              "      document.body.appendChild(element);\n",
              "    }\n",
              "\n",
              "    const hashes = {\"https://cdn.bokeh.org/bokeh/release/bokeh-2.1.1.min.js\": \"kLr4fYcqcSpbuI95brIH3vnnYCquzzSxHPU6XGQCIkQRGJwhg0StNbj1eegrHs12\", \"https://cdn.bokeh.org/bokeh/release/bokeh-widgets-2.1.1.min.js\": \"xIGPmVtaOm+z0BqfSOMn4lOR6ciex448GIKG4eE61LsAvmGj48XcMQZtKcE/UXZe\", \"https://cdn.bokeh.org/bokeh/release/bokeh-tables-2.1.1.min.js\": \"Dc9u1wF/0zApGIWoBbH77iWEHtdmkuYWG839Uzmv8y8yBLXebjO9ZnERsde5Ln/P\", \"https://cdn.bokeh.org/bokeh/release/bokeh-gl-2.1.1.min.js\": \"cT9JaBz7GiRXdENrJLZNSC6eMNF3nh3fa5fTF51Svp+ukxPdwcU5kGXGPBgDCa2j\"};\n",
              "\n",
              "    for (var i = 0; i < js_urls.length; i++) {\n",
              "      var url = js_urls[i];\n",
              "      var element = document.createElement('script');\n",
              "      element.onload = on_load;\n",
              "      element.onerror = on_error;\n",
              "      element.async = false;\n",
              "      element.src = url;\n",
              "      if (url in hashes) {\n",
              "        element.crossOrigin = \"anonymous\";\n",
              "        element.integrity = \"sha384-\" + hashes[url];\n",
              "      }\n",
              "      console.debug(\"Bokeh: injecting script tag for BokehJS library: \", url);\n",
              "      document.head.appendChild(element);\n",
              "    }\n",
              "  };\n",
              "\n",
              "  function inject_raw_css(css) {\n",
              "    const element = document.createElement(\"style\");\n",
              "    element.appendChild(document.createTextNode(css));\n",
              "    document.body.appendChild(element);\n",
              "  }\n",
              "\n",
              "  \n",
              "  var js_urls = [\"https://cdn.bokeh.org/bokeh/release/bokeh-2.1.1.min.js\", \"https://cdn.bokeh.org/bokeh/release/bokeh-widgets-2.1.1.min.js\", \"https://cdn.bokeh.org/bokeh/release/bokeh-tables-2.1.1.min.js\", \"https://cdn.bokeh.org/bokeh/release/bokeh-gl-2.1.1.min.js\"];\n",
              "  var css_urls = [];\n",
              "  \n",
              "\n",
              "  var inline_js = [\n",
              "    function(Bokeh) {\n",
              "      Bokeh.set_log_level(\"info\");\n",
              "    },\n",
              "    function(Bokeh) {\n",
              "    \n",
              "    \n",
              "    }\n",
              "  ];\n",
              "\n",
              "  function run_inline_js() {\n",
              "    \n",
              "    if (root.Bokeh !== undefined || force === true) {\n",
              "      \n",
              "    for (var i = 0; i < inline_js.length; i++) {\n",
              "      inline_js[i].call(root, root.Bokeh);\n",
              "    }\n",
              "    } else if (Date.now() < root._bokeh_timeout) {\n",
              "      setTimeout(run_inline_js, 100);\n",
              "    } else if (!root._bokeh_failed_load) {\n",
              "      console.log(\"Bokeh: BokehJS failed to load within specified timeout.\");\n",
              "      root._bokeh_failed_load = true;\n",
              "    } else if (force !== true) {\n",
              "      var cell = $(document.getElementById(null)).parents('.cell').data().cell;\n",
              "      cell.output_area.append_execute_result(NB_LOAD_WARNING)\n",
              "    }\n",
              "\n",
              "  }\n",
              "\n",
              "  if (root._bokeh_is_loading === 0) {\n",
              "    console.debug(\"Bokeh: BokehJS loaded, going straight to plotting\");\n",
              "    run_inline_js();\n",
              "  } else {\n",
              "    load_libs(css_urls, js_urls, function() {\n",
              "      console.debug(\"Bokeh: BokehJS plotting callback run at\", now());\n",
              "      run_inline_js();\n",
              "    });\n",
              "  }\n",
              "}(window));"
            ],
            "application/vnd.bokehjs_load.v0+json": "\n(function(root) {\n  function now() {\n    return new Date();\n  }\n\n  var force = true;\n\n  if (typeof root._bokeh_onload_callbacks === \"undefined\" || force === true) {\n    root._bokeh_onload_callbacks = [];\n    root._bokeh_is_loading = undefined;\n  }\n\n  \n\n  \n  if (typeof (root._bokeh_timeout) === \"undefined\" || force === true) {\n    root._bokeh_timeout = Date.now() + 5000;\n    root._bokeh_failed_load = false;\n  }\n\n  var NB_LOAD_WARNING = {'data': {'text/html':\n     \"<div style='background-color: #fdd'>\\n\"+\n     \"<p>\\n\"+\n     \"BokehJS does not appear to have successfully loaded. If loading BokehJS from CDN, this \\n\"+\n     \"may be due to a slow or bad network connection. Possible fixes:\\n\"+\n     \"</p>\\n\"+\n     \"<ul>\\n\"+\n     \"<li>re-rerun `output_notebook()` to attempt to load from CDN again, or</li>\\n\"+\n     \"<li>use INLINE resources instead, as so:</li>\\n\"+\n     \"</ul>\\n\"+\n     \"<code>\\n\"+\n     \"from bokeh.resources import INLINE\\n\"+\n     \"output_notebook(resources=INLINE)\\n\"+\n     \"</code>\\n\"+\n     \"</div>\"}};\n\n  function display_loaded() {\n    var el = document.getElementById(null);\n    if (el != null) {\n      el.textContent = \"BokehJS is loading...\";\n    }\n    if (root.Bokeh !== undefined) {\n      if (el != null) {\n        el.textContent = \"BokehJS \" + root.Bokeh.version + \" successfully loaded.\";\n      }\n    } else if (Date.now() < root._bokeh_timeout) {\n      setTimeout(display_loaded, 100)\n    }\n  }\n\n\n  function run_callbacks() {\n    try {\n      root._bokeh_onload_callbacks.forEach(function(callback) {\n        if (callback != null)\n          callback();\n      });\n    } finally {\n      delete root._bokeh_onload_callbacks\n    }\n    console.debug(\"Bokeh: all callbacks have finished\");\n  }\n\n  function load_libs(css_urls, js_urls, callback) {\n    if (css_urls == null) css_urls = [];\n    if (js_urls == null) js_urls = [];\n\n    root._bokeh_onload_callbacks.push(callback);\n    if (root._bokeh_is_loading > 0) {\n      console.debug(\"Bokeh: BokehJS is being loaded, scheduling callback at\", now());\n      return null;\n    }\n    if (js_urls == null || js_urls.length === 0) {\n      run_callbacks();\n      return null;\n    }\n    console.debug(\"Bokeh: BokehJS not loaded, scheduling load and callback at\", now());\n    root._bokeh_is_loading = css_urls.length + js_urls.length;\n\n    function on_load() {\n      root._bokeh_is_loading--;\n      if (root._bokeh_is_loading === 0) {\n        console.debug(\"Bokeh: all BokehJS libraries/stylesheets loaded\");\n        run_callbacks()\n      }\n    }\n\n    function on_error() {\n      console.error(\"failed to load \" + url);\n    }\n\n    for (var i = 0; i < css_urls.length; i++) {\n      var url = css_urls[i];\n      const element = document.createElement(\"link\");\n      element.onload = on_load;\n      element.onerror = on_error;\n      element.rel = \"stylesheet\";\n      element.type = \"text/css\";\n      element.href = url;\n      console.debug(\"Bokeh: injecting link tag for BokehJS stylesheet: \", url);\n      document.body.appendChild(element);\n    }\n\n    const hashes = {\"https://cdn.bokeh.org/bokeh/release/bokeh-2.1.1.min.js\": \"kLr4fYcqcSpbuI95brIH3vnnYCquzzSxHPU6XGQCIkQRGJwhg0StNbj1eegrHs12\", \"https://cdn.bokeh.org/bokeh/release/bokeh-widgets-2.1.1.min.js\": \"xIGPmVtaOm+z0BqfSOMn4lOR6ciex448GIKG4eE61LsAvmGj48XcMQZtKcE/UXZe\", \"https://cdn.bokeh.org/bokeh/release/bokeh-tables-2.1.1.min.js\": \"Dc9u1wF/0zApGIWoBbH77iWEHtdmkuYWG839Uzmv8y8yBLXebjO9ZnERsde5Ln/P\", \"https://cdn.bokeh.org/bokeh/release/bokeh-gl-2.1.1.min.js\": \"cT9JaBz7GiRXdENrJLZNSC6eMNF3nh3fa5fTF51Svp+ukxPdwcU5kGXGPBgDCa2j\"};\n\n    for (var i = 0; i < js_urls.length; i++) {\n      var url = js_urls[i];\n      var element = document.createElement('script');\n      element.onload = on_load;\n      element.onerror = on_error;\n      element.async = false;\n      element.src = url;\n      if (url in hashes) {\n        element.crossOrigin = \"anonymous\";\n        element.integrity = \"sha384-\" + hashes[url];\n      }\n      console.debug(\"Bokeh: injecting script tag for BokehJS library: \", url);\n      document.head.appendChild(element);\n    }\n  };\n\n  function inject_raw_css(css) {\n    const element = document.createElement(\"style\");\n    element.appendChild(document.createTextNode(css));\n    document.body.appendChild(element);\n  }\n\n  \n  var js_urls = [\"https://cdn.bokeh.org/bokeh/release/bokeh-2.1.1.min.js\", \"https://cdn.bokeh.org/bokeh/release/bokeh-widgets-2.1.1.min.js\", \"https://cdn.bokeh.org/bokeh/release/bokeh-tables-2.1.1.min.js\", \"https://cdn.bokeh.org/bokeh/release/bokeh-gl-2.1.1.min.js\"];\n  var css_urls = [];\n  \n\n  var inline_js = [\n    function(Bokeh) {\n      Bokeh.set_log_level(\"info\");\n    },\n    function(Bokeh) {\n    \n    \n    }\n  ];\n\n  function run_inline_js() {\n    \n    if (root.Bokeh !== undefined || force === true) {\n      \n    for (var i = 0; i < inline_js.length; i++) {\n      inline_js[i].call(root, root.Bokeh);\n    }\n    } else if (Date.now() < root._bokeh_timeout) {\n      setTimeout(run_inline_js, 100);\n    } else if (!root._bokeh_failed_load) {\n      console.log(\"Bokeh: BokehJS failed to load within specified timeout.\");\n      root._bokeh_failed_load = true;\n    } else if (force !== true) {\n      var cell = $(document.getElementById(null)).parents('.cell').data().cell;\n      cell.output_area.append_execute_result(NB_LOAD_WARNING)\n    }\n\n  }\n\n  if (root._bokeh_is_loading === 0) {\n    console.debug(\"Bokeh: BokehJS loaded, going straight to plotting\");\n    run_inline_js();\n  } else {\n    load_libs(css_urls, js_urls, function() {\n      console.debug(\"Bokeh: BokehJS plotting callback run at\", now());\n      run_inline_js();\n    });\n  }\n}(window));"
          },
          "metadata": {
            "tags": []
          }
        },
        {
          "output_type": "display_data",
          "data": {
            "text/html": [
              "\n",
              "\n",
              "\n",
              "\n",
              "\n",
              "\n",
              "  <div class=\"bk-root\" id=\"3a3b72dd-af2a-4d9c-8ae4-77658908d03d\" data-root-id=\"2207\"></div>\n"
            ]
          },
          "metadata": {
            "tags": []
          }
        },
        {
          "output_type": "display_data",
          "data": {
            "application/javascript": [
              "(function(root) {\n",
              "  function embed_document(root) {\n",
              "    \n",
              "  var docs_json = {\"eb5feff5-ca0a-467d-b290-3fed512ba156\":{\"roots\":{\"references\":[{\"attributes\":{\"below\":[{\"id\":\"2216\"}],\"center\":[{\"id\":\"2219\"},{\"id\":\"2223\"}],\"left\":[{\"id\":\"2220\"}],\"plot_height\":200,\"plot_width\":500,\"renderers\":[{\"id\":\"2243\"}],\"title\":{\"id\":\"2245\"},\"toolbar\":{\"id\":\"2230\"},\"x_range\":{\"id\":\"2208\"},\"x_scale\":{\"id\":\"2212\"},\"y_range\":{\"id\":\"2210\"},\"y_scale\":{\"id\":\"2214\"}},\"id\":\"2207\",\"subtype\":\"Figure\",\"type\":\"Plot\"},{\"attributes\":{\"bottom_units\":\"screen\",\"fill_alpha\":0.5,\"fill_color\":\"lightgrey\",\"left_units\":\"screen\",\"level\":\"overlay\",\"line_alpha\":1.0,\"line_color\":\"black\",\"line_dash\":[4,4],\"line_width\":2,\"right_units\":\"screen\",\"top_units\":\"screen\"},\"id\":\"2229\",\"type\":\"BoxAnnotation\"},{\"attributes\":{\"bottom\":{\"field\":\"bottom\"},\"fill_alpha\":{\"value\":0.1},\"fill_color\":{\"value\":\"#d53e4f\"},\"left\":{\"field\":\"start_time\"},\"line_alpha\":{\"value\":0.1},\"right\":{\"field\":\"end_time\"},\"top\":{\"field\":\"top\"}},\"id\":\"2242\",\"type\":\"Quad\"},{\"attributes\":{\"axis\":{\"id\":\"2220\"},\"dimension\":1,\"ticker\":{\"id\":\"2238\"}},\"id\":\"2223\",\"type\":\"Grid\"},{\"attributes\":{\"text\":\"\"},\"id\":\"2245\",\"type\":\"Title\"},{\"attributes\":{\"interval\":12},\"id\":\"2238\",\"type\":\"SingleIntervalTicker\"},{\"attributes\":{\"axis_label\":\"pitch (MIDI)\",\"formatter\":{\"id\":\"2247\"},\"ticker\":{\"id\":\"2236\"}},\"id\":\"2220\",\"type\":\"LinearAxis\"},{\"attributes\":{\"callback\":null,\"tooltips\":[[\"pitch\",\"@pitch\"],[\"program\",\"@program\"],[\"velo\",\"@velocity\"],[\"duration\",\"@duration\"],[\"start_time\",\"@start_time\"],[\"end_time\",\"@end_time\"],[\"velocity\",\"@velocity\"],[\"fill_alpha\",\"@fill_alpha\"]]},\"id\":\"2224\",\"type\":\"HoverTool\"},{\"attributes\":{\"axis\":{\"id\":\"2216\"},\"ticker\":null},\"id\":\"2219\",\"type\":\"Grid\"},{\"attributes\":{\"bottom\":{\"field\":\"bottom\"},\"fill_alpha\":{\"field\":\"fill_alpha\"},\"fill_color\":{\"value\":\"#d53e4f\"},\"left\":{\"field\":\"start_time\"},\"right\":{\"field\":\"end_time\"},\"top\":{\"field\":\"top\"}},\"id\":\"2241\",\"type\":\"Quad\"},{\"attributes\":{\"data_source\":{\"id\":\"2239\"},\"glyph\":{\"id\":\"2241\"},\"hover_glyph\":null,\"muted_glyph\":null,\"nonselection_glyph\":{\"id\":\"2242\"},\"selection_glyph\":null,\"view\":{\"id\":\"2244\"}},\"id\":\"2243\",\"type\":\"GlyphRenderer\"},{\"attributes\":{},\"id\":\"2217\",\"type\":\"BasicTicker\"},{\"attributes\":{\"source\":{\"id\":\"2239\"}},\"id\":\"2244\",\"type\":\"CDSView\"},{\"attributes\":{},\"id\":\"2225\",\"type\":\"PanTool\"},{\"attributes\":{\"axis_label\":\"time (sec)\",\"formatter\":{\"id\":\"2248\"},\"ticker\":{\"id\":\"2217\"}},\"id\":\"2216\",\"type\":\"LinearAxis\"},{\"attributes\":{},\"id\":\"2214\",\"type\":\"LinearScale\"},{\"attributes\":{\"data\":{\"bottom\":{\"__ndarray__\":\"ZmZmZmYmUUBmZmZmZqZRQGZmZmZmJlJAZmZmZmZmUkBmZmZmZuZSQGZmZmZmJlRAZmZmZmZmU0BmZmZmZiZUQGZmZmZm5lJA\",\"dtype\":\"float64\",\"order\":\"little\",\"shape\":[9]},\"duration\":{\"__ndarray__\":\"AAAAAAAA4D8AAAAAAADgPwAAAAAAAOA/AAAAAAAA4D8AAAAAAADgPwAAAAAAAPA/AAAAAAAA8D8AAAAAAADwPwAAAAAAAABA\",\"dtype\":\"float64\",\"order\":\"little\",\"shape\":[9]},\"end_time\":{\"__ndarray__\":\"AAAAAAAA4D8AAAAAAADwPwAAAAAAAPg/AAAAAAAAAEAAAAAAAAAEQAAAAAAAABBAAAAAAAAAFEAAAAAAAAAYQAAAAAAAACBA\",\"dtype\":\"float64\",\"order\":\"little\",\"shape\":[9]},\"fill_alpha\":{\"__ndarray__\":\"AAAAAAAA8D8AAAAAAADwPwAAAAAAAPA/AAAAAAAA8D8AAAAAAADwPwAAAAAAAPA/AAAAAAAA8D8AAAAAAADwPwAAAAAAAPA/\",\"dtype\":\"float64\",\"order\":\"little\",\"shape\":[9]},\"index\":[0,1,2,3,4,5,6,7,8],\"instrument\":[0,0,0,0,0,0,0,0,0],\"pitch\":[69,71,73,74,76,81,78,81,76],\"program\":[0,0,0,0,0,0,0,0,0],\"start_time\":{\"__ndarray__\":\"AAAAAAAAAAAAAAAAAADgPwAAAAAAAPA/AAAAAAAA+D8AAAAAAAAAQAAAAAAAAAhAAAAAAAAAEEAAAAAAAAAUQAAAAAAAABhA\",\"dtype\":\"float64\",\"order\":\"little\",\"shape\":[9]},\"top\":{\"__ndarray__\":\"mpmZmZlZUUCamZmZmdlRQJqZmZmZWVJAmpmZmZmZUkCamZmZmRlTQJqZmZmZWVRAmpmZmZmZU0CamZmZmVlUQJqZmZmZGVNA\",\"dtype\":\"float64\",\"order\":\"little\",\"shape\":[9]},\"velocity\":[80,80,80,80,80,80,80,80,80]},\"selected\":{\"id\":\"2251\"},\"selection_policy\":{\"id\":\"2250\"}},\"id\":\"2239\",\"type\":\"ColumnDataSource\"},{\"attributes\":{\"overlay\":{\"id\":\"2229\"}},\"id\":\"2226\",\"type\":\"BoxZoomTool\"},{\"attributes\":{},\"id\":\"2212\",\"type\":\"LinearScale\"},{\"attributes\":{},\"id\":\"2248\",\"type\":\"BasicTickFormatter\"},{\"attributes\":{},\"id\":\"2251\",\"type\":\"Selection\"},{\"attributes\":{},\"id\":\"2247\",\"type\":\"BasicTickFormatter\"},{\"attributes\":{},\"id\":\"2227\",\"type\":\"ResetTool\"},{\"attributes\":{},\"id\":\"2250\",\"type\":\"UnionRenderers\"},{\"attributes\":{\"interval\":12},\"id\":\"2236\",\"type\":\"SingleIntervalTicker\"},{\"attributes\":{},\"id\":\"2208\",\"type\":\"DataRange1d\"},{\"attributes\":{},\"id\":\"2228\",\"type\":\"SaveTool\"},{\"attributes\":{},\"id\":\"2210\",\"type\":\"DataRange1d\"},{\"attributes\":{\"active_drag\":\"auto\",\"active_inspect\":\"auto\",\"active_multi\":null,\"active_scroll\":\"auto\",\"active_tap\":\"auto\",\"tools\":[{\"id\":\"2224\"},{\"id\":\"2225\"},{\"id\":\"2226\"},{\"id\":\"2227\"},{\"id\":\"2228\"}]},\"id\":\"2230\",\"type\":\"Toolbar\"}],\"root_ids\":[\"2207\"]},\"title\":\"Bokeh Application\",\"version\":\"2.1.1\"}};\n",
              "  var render_items = [{\"docid\":\"eb5feff5-ca0a-467d-b290-3fed512ba156\",\"root_ids\":[\"2207\"],\"roots\":{\"2207\":\"3a3b72dd-af2a-4d9c-8ae4-77658908d03d\"}}];\n",
              "  root.Bokeh.embed.embed_items_notebook(docs_json, render_items);\n",
              "\n",
              "  }\n",
              "  if (root.Bokeh !== undefined) {\n",
              "    embed_document(root);\n",
              "  } else {\n",
              "    var attempts = 0;\n",
              "    var timer = setInterval(function(root) {\n",
              "      if (root.Bokeh !== undefined) {\n",
              "        clearInterval(timer);\n",
              "        embed_document(root);\n",
              "      } else {\n",
              "        attempts++;\n",
              "        if (attempts > 100) {\n",
              "          clearInterval(timer);\n",
              "          console.log(\"Bokeh: ERROR: Unable to run BokehJS code because BokehJS library is missing\");\n",
              "        }\n",
              "      }\n",
              "    }, 10, root)\n",
              "  }\n",
              "})(window);"
            ],
            "application/vnd.bokehjs_exec.v0+json": ""
          },
          "metadata": {
            "tags": [],
            "application/vnd.bokehjs_exec.v0+json": {
              "id": "2207"
            }
          }
        },
        {
          "output_type": "display_data",
          "data": {
            "text/html": [
              "<div id=\"id_10\"> </div>"
            ],
            "text/plain": [
              "<IPython.core.display.HTML object>"
            ]
          },
          "metadata": {
            "tags": []
          }
        }
      ]
    },
    {
      "cell_type": "code",
      "metadata": {
        "colab": {
          "base_uri": "https://localhost:8080/",
          "height": 275
        },
        "id": "DQLjca9SwOiI",
        "outputId": "cb093eec-0851-4e43-a13c-3f86b7a6a036"
      },
      "source": [
        "# Меняя pitch разные звуки\n",
        "\n",
        "drums = music_pb2.NoteSequence()\n",
        "drums.notes.add(pitch=36, start_time=0, end_time=0.125, is_drum=True, instrument=10, velocity=80)\n",
        "drums.notes.add(pitch=38, start_time=0, end_time=0.125, is_drum=True, instrument=10, velocity=80)\n",
        "drums.notes.add(pitch=42, start_time=0, end_time=0.125, is_drum=True, instrument=10, velocity=80)\n",
        "drums.notes.add(pitch=46, start_time=0, end_time=0.125, is_drum=True, instrument=10, velocity=80)\n",
        "drums.notes.add(pitch=42, start_time=0.25, end_time=0.375, is_drum=True, instrument=10, velocity=80)\n",
        "drums.notes.add(pitch=42, start_time=0.375, end_time=0.5, is_drum=True, instrument=10, velocity=80)\n",
        "drums.notes.add(pitch=42, start_time=0.5, end_time=0.625, is_drum=True, instrument=10, velocity=80)\n",
        "drums.notes.add(pitch=50, start_time=0.5, end_time=0.625, is_drum=True, instrument=10, velocity=80)\n",
        "drums.notes.add(pitch=36, start_time=0.75, end_time=0.875, is_drum=True, instrument=10, velocity=80)\n",
        "drums.notes.add(pitch=38, start_time=0.75, end_time=0.875, is_drum=True, instrument=10, velocity=80)\n",
        "drums.notes.add(pitch=42, start_time=0.75, end_time=0.875, is_drum=True, instrument=10, velocity=80)\n",
        "drums.notes.add(pitch=45, start_time=0.75, end_time=0.875, is_drum=True, instrument=10, velocity=80)\n",
        "drums.notes.add(pitch=36, start_time=1, end_time=1.125, is_drum=True, instrument=10, velocity=80)\n",
        "drums.notes.add(pitch=42, start_time=1, end_time=1.125, is_drum=True, instrument=10, velocity=80)\n",
        "drums.notes.add(pitch=46, start_time=1, end_time=1.125, is_drum=True, instrument=10, velocity=80)\n",
        "drums.notes.add(pitch=42, start_time=1.25, end_time=1.375, is_drum=True, instrument=10, velocity=80)\n",
        "drums.notes.add(pitch=48, start_time=1.25, end_time=1.375, is_drum=True, instrument=10, velocity=80)\n",
        "drums.notes.add(pitch=50, start_time=1.25, end_time=1.375, is_drum=True, instrument=10, velocity=80)\n",
        "drums.total_time = 1.375\n",
        "\n",
        "drums.tempos.add(qpm=60)\n",
        "\n",
        "# Визуализация результата\n",
        "note_seq.plot_sequence(drums)\n",
        "note_seq.play_sequence(drums,synth=note_seq.fluidsynth)"
      ],
      "execution_count": null,
      "outputs": [
        {
          "output_type": "display_data",
          "data": {
            "application/javascript": [
              "\n",
              "(function(root) {\n",
              "  function now() {\n",
              "    return new Date();\n",
              "  }\n",
              "\n",
              "  var force = true;\n",
              "\n",
              "  if (typeof root._bokeh_onload_callbacks === \"undefined\" || force === true) {\n",
              "    root._bokeh_onload_callbacks = [];\n",
              "    root._bokeh_is_loading = undefined;\n",
              "  }\n",
              "\n",
              "  var JS_MIME_TYPE = 'application/javascript';\n",
              "  var HTML_MIME_TYPE = 'text/html';\n",
              "  var EXEC_MIME_TYPE = 'application/vnd.bokehjs_exec.v0+json';\n",
              "  var CLASS_NAME = 'output_bokeh rendered_html';\n",
              "\n",
              "  /**\n",
              "   * Render data to the DOM node\n",
              "   */\n",
              "  function render(props, node) {\n",
              "    var script = document.createElement(\"script\");\n",
              "    node.appendChild(script);\n",
              "  }\n",
              "\n",
              "  /**\n",
              "   * Handle when an output is cleared or removed\n",
              "   */\n",
              "  function handleClearOutput(event, handle) {\n",
              "    var cell = handle.cell;\n",
              "\n",
              "    var id = cell.output_area._bokeh_element_id;\n",
              "    var server_id = cell.output_area._bokeh_server_id;\n",
              "    // Clean up Bokeh references\n",
              "    if (id != null && id in Bokeh.index) {\n",
              "      Bokeh.index[id].model.document.clear();\n",
              "      delete Bokeh.index[id];\n",
              "    }\n",
              "\n",
              "    if (server_id !== undefined) {\n",
              "      // Clean up Bokeh references\n",
              "      var cmd = \"from bokeh.io.state import curstate; print(curstate().uuid_to_server['\" + server_id + \"'].get_sessions()[0].document.roots[0]._id)\";\n",
              "      cell.notebook.kernel.execute(cmd, {\n",
              "        iopub: {\n",
              "          output: function(msg) {\n",
              "            var id = msg.content.text.trim();\n",
              "            if (id in Bokeh.index) {\n",
              "              Bokeh.index[id].model.document.clear();\n",
              "              delete Bokeh.index[id];\n",
              "            }\n",
              "          }\n",
              "        }\n",
              "      });\n",
              "      // Destroy server and session\n",
              "      var cmd = \"import bokeh.io.notebook as ion; ion.destroy_server('\" + server_id + \"')\";\n",
              "      cell.notebook.kernel.execute(cmd);\n",
              "    }\n",
              "  }\n",
              "\n",
              "  /**\n",
              "   * Handle when a new output is added\n",
              "   */\n",
              "  function handleAddOutput(event, handle) {\n",
              "    var output_area = handle.output_area;\n",
              "    var output = handle.output;\n",
              "\n",
              "    // limit handleAddOutput to display_data with EXEC_MIME_TYPE content only\n",
              "    if ((output.output_type != \"display_data\") || (!output.data.hasOwnProperty(EXEC_MIME_TYPE))) {\n",
              "      return\n",
              "    }\n",
              "\n",
              "    var toinsert = output_area.element.find(\".\" + CLASS_NAME.split(' ')[0]);\n",
              "\n",
              "    if (output.metadata[EXEC_MIME_TYPE][\"id\"] !== undefined) {\n",
              "      toinsert[toinsert.length - 1].firstChild.textContent = output.data[JS_MIME_TYPE];\n",
              "      // store reference to embed id on output_area\n",
              "      output_area._bokeh_element_id = output.metadata[EXEC_MIME_TYPE][\"id\"];\n",
              "    }\n",
              "    if (output.metadata[EXEC_MIME_TYPE][\"server_id\"] !== undefined) {\n",
              "      var bk_div = document.createElement(\"div\");\n",
              "      bk_div.innerHTML = output.data[HTML_MIME_TYPE];\n",
              "      var script_attrs = bk_div.children[0].attributes;\n",
              "      for (var i = 0; i < script_attrs.length; i++) {\n",
              "        toinsert[toinsert.length - 1].firstChild.setAttribute(script_attrs[i].name, script_attrs[i].value);\n",
              "        toinsert[toinsert.length - 1].firstChild.textContent = bk_div.children[0].textContent\n",
              "      }\n",
              "      // store reference to server id on output_area\n",
              "      output_area._bokeh_server_id = output.metadata[EXEC_MIME_TYPE][\"server_id\"];\n",
              "    }\n",
              "  }\n",
              "\n",
              "  function register_renderer(events, OutputArea) {\n",
              "\n",
              "    function append_mime(data, metadata, element) {\n",
              "      // create a DOM node to render to\n",
              "      var toinsert = this.create_output_subarea(\n",
              "        metadata,\n",
              "        CLASS_NAME,\n",
              "        EXEC_MIME_TYPE\n",
              "      );\n",
              "      this.keyboard_manager.register_events(toinsert);\n",
              "      // Render to node\n",
              "      var props = {data: data, metadata: metadata[EXEC_MIME_TYPE]};\n",
              "      render(props, toinsert[toinsert.length - 1]);\n",
              "      element.append(toinsert);\n",
              "      return toinsert\n",
              "    }\n",
              "\n",
              "    /* Handle when an output is cleared or removed */\n",
              "    events.on('clear_output.CodeCell', handleClearOutput);\n",
              "    events.on('delete.Cell', handleClearOutput);\n",
              "\n",
              "    /* Handle when a new output is added */\n",
              "    events.on('output_added.OutputArea', handleAddOutput);\n",
              "\n",
              "    /**\n",
              "     * Register the mime type and append_mime function with output_area\n",
              "     */\n",
              "    OutputArea.prototype.register_mime_type(EXEC_MIME_TYPE, append_mime, {\n",
              "      /* Is output safe? */\n",
              "      safe: true,\n",
              "      /* Index of renderer in `output_area.display_order` */\n",
              "      index: 0\n",
              "    });\n",
              "  }\n",
              "\n",
              "  // register the mime type if in Jupyter Notebook environment and previously unregistered\n",
              "  if (root.Jupyter !== undefined) {\n",
              "    var events = require('base/js/events');\n",
              "    var OutputArea = require('notebook/js/outputarea').OutputArea;\n",
              "\n",
              "    if (OutputArea.prototype.mime_types().indexOf(EXEC_MIME_TYPE) == -1) {\n",
              "      register_renderer(events, OutputArea);\n",
              "    }\n",
              "  }\n",
              "\n",
              "  \n",
              "  if (typeof (root._bokeh_timeout) === \"undefined\" || force === true) {\n",
              "    root._bokeh_timeout = Date.now() + 5000;\n",
              "    root._bokeh_failed_load = false;\n",
              "  }\n",
              "\n",
              "  var NB_LOAD_WARNING = {'data': {'text/html':\n",
              "     \"<div style='background-color: #fdd'>\\n\"+\n",
              "     \"<p>\\n\"+\n",
              "     \"BokehJS does not appear to have successfully loaded. If loading BokehJS from CDN, this \\n\"+\n",
              "     \"may be due to a slow or bad network connection. Possible fixes:\\n\"+\n",
              "     \"</p>\\n\"+\n",
              "     \"<ul>\\n\"+\n",
              "     \"<li>re-rerun `output_notebook()` to attempt to load from CDN again, or</li>\\n\"+\n",
              "     \"<li>use INLINE resources instead, as so:</li>\\n\"+\n",
              "     \"</ul>\\n\"+\n",
              "     \"<code>\\n\"+\n",
              "     \"from bokeh.resources import INLINE\\n\"+\n",
              "     \"output_notebook(resources=INLINE)\\n\"+\n",
              "     \"</code>\\n\"+\n",
              "     \"</div>\"}};\n",
              "\n",
              "  function display_loaded() {\n",
              "    var el = document.getElementById(null);\n",
              "    if (el != null) {\n",
              "      el.textContent = \"BokehJS is loading...\";\n",
              "    }\n",
              "    if (root.Bokeh !== undefined) {\n",
              "      if (el != null) {\n",
              "        el.textContent = \"BokehJS \" + root.Bokeh.version + \" successfully loaded.\";\n",
              "      }\n",
              "    } else if (Date.now() < root._bokeh_timeout) {\n",
              "      setTimeout(display_loaded, 100)\n",
              "    }\n",
              "  }\n",
              "\n",
              "\n",
              "  function run_callbacks() {\n",
              "    try {\n",
              "      root._bokeh_onload_callbacks.forEach(function(callback) {\n",
              "        if (callback != null)\n",
              "          callback();\n",
              "      });\n",
              "    } finally {\n",
              "      delete root._bokeh_onload_callbacks\n",
              "    }\n",
              "    console.debug(\"Bokeh: all callbacks have finished\");\n",
              "  }\n",
              "\n",
              "  function load_libs(css_urls, js_urls, callback) {\n",
              "    if (css_urls == null) css_urls = [];\n",
              "    if (js_urls == null) js_urls = [];\n",
              "\n",
              "    root._bokeh_onload_callbacks.push(callback);\n",
              "    if (root._bokeh_is_loading > 0) {\n",
              "      console.debug(\"Bokeh: BokehJS is being loaded, scheduling callback at\", now());\n",
              "      return null;\n",
              "    }\n",
              "    if (js_urls == null || js_urls.length === 0) {\n",
              "      run_callbacks();\n",
              "      return null;\n",
              "    }\n",
              "    console.debug(\"Bokeh: BokehJS not loaded, scheduling load and callback at\", now());\n",
              "    root._bokeh_is_loading = css_urls.length + js_urls.length;\n",
              "\n",
              "    function on_load() {\n",
              "      root._bokeh_is_loading--;\n",
              "      if (root._bokeh_is_loading === 0) {\n",
              "        console.debug(\"Bokeh: all BokehJS libraries/stylesheets loaded\");\n",
              "        run_callbacks()\n",
              "      }\n",
              "    }\n",
              "\n",
              "    function on_error() {\n",
              "      console.error(\"failed to load \" + url);\n",
              "    }\n",
              "\n",
              "    for (var i = 0; i < css_urls.length; i++) {\n",
              "      var url = css_urls[i];\n",
              "      const element = document.createElement(\"link\");\n",
              "      element.onload = on_load;\n",
              "      element.onerror = on_error;\n",
              "      element.rel = \"stylesheet\";\n",
              "      element.type = \"text/css\";\n",
              "      element.href = url;\n",
              "      console.debug(\"Bokeh: injecting link tag for BokehJS stylesheet: \", url);\n",
              "      document.body.appendChild(element);\n",
              "    }\n",
              "\n",
              "    const hashes = {\"https://cdn.bokeh.org/bokeh/release/bokeh-2.1.1.min.js\": \"kLr4fYcqcSpbuI95brIH3vnnYCquzzSxHPU6XGQCIkQRGJwhg0StNbj1eegrHs12\", \"https://cdn.bokeh.org/bokeh/release/bokeh-widgets-2.1.1.min.js\": \"xIGPmVtaOm+z0BqfSOMn4lOR6ciex448GIKG4eE61LsAvmGj48XcMQZtKcE/UXZe\", \"https://cdn.bokeh.org/bokeh/release/bokeh-tables-2.1.1.min.js\": \"Dc9u1wF/0zApGIWoBbH77iWEHtdmkuYWG839Uzmv8y8yBLXebjO9ZnERsde5Ln/P\", \"https://cdn.bokeh.org/bokeh/release/bokeh-gl-2.1.1.min.js\": \"cT9JaBz7GiRXdENrJLZNSC6eMNF3nh3fa5fTF51Svp+ukxPdwcU5kGXGPBgDCa2j\"};\n",
              "\n",
              "    for (var i = 0; i < js_urls.length; i++) {\n",
              "      var url = js_urls[i];\n",
              "      var element = document.createElement('script');\n",
              "      element.onload = on_load;\n",
              "      element.onerror = on_error;\n",
              "      element.async = false;\n",
              "      element.src = url;\n",
              "      if (url in hashes) {\n",
              "        element.crossOrigin = \"anonymous\";\n",
              "        element.integrity = \"sha384-\" + hashes[url];\n",
              "      }\n",
              "      console.debug(\"Bokeh: injecting script tag for BokehJS library: \", url);\n",
              "      document.head.appendChild(element);\n",
              "    }\n",
              "  };\n",
              "\n",
              "  function inject_raw_css(css) {\n",
              "    const element = document.createElement(\"style\");\n",
              "    element.appendChild(document.createTextNode(css));\n",
              "    document.body.appendChild(element);\n",
              "  }\n",
              "\n",
              "  \n",
              "  var js_urls = [\"https://cdn.bokeh.org/bokeh/release/bokeh-2.1.1.min.js\", \"https://cdn.bokeh.org/bokeh/release/bokeh-widgets-2.1.1.min.js\", \"https://cdn.bokeh.org/bokeh/release/bokeh-tables-2.1.1.min.js\", \"https://cdn.bokeh.org/bokeh/release/bokeh-gl-2.1.1.min.js\"];\n",
              "  var css_urls = [];\n",
              "  \n",
              "\n",
              "  var inline_js = [\n",
              "    function(Bokeh) {\n",
              "      Bokeh.set_log_level(\"info\");\n",
              "    },\n",
              "    function(Bokeh) {\n",
              "    \n",
              "    \n",
              "    }\n",
              "  ];\n",
              "\n",
              "  function run_inline_js() {\n",
              "    \n",
              "    if (root.Bokeh !== undefined || force === true) {\n",
              "      \n",
              "    for (var i = 0; i < inline_js.length; i++) {\n",
              "      inline_js[i].call(root, root.Bokeh);\n",
              "    }\n",
              "    } else if (Date.now() < root._bokeh_timeout) {\n",
              "      setTimeout(run_inline_js, 100);\n",
              "    } else if (!root._bokeh_failed_load) {\n",
              "      console.log(\"Bokeh: BokehJS failed to load within specified timeout.\");\n",
              "      root._bokeh_failed_load = true;\n",
              "    } else if (force !== true) {\n",
              "      var cell = $(document.getElementById(null)).parents('.cell').data().cell;\n",
              "      cell.output_area.append_execute_result(NB_LOAD_WARNING)\n",
              "    }\n",
              "\n",
              "  }\n",
              "\n",
              "  if (root._bokeh_is_loading === 0) {\n",
              "    console.debug(\"Bokeh: BokehJS loaded, going straight to plotting\");\n",
              "    run_inline_js();\n",
              "  } else {\n",
              "    load_libs(css_urls, js_urls, function() {\n",
              "      console.debug(\"Bokeh: BokehJS plotting callback run at\", now());\n",
              "      run_inline_js();\n",
              "    });\n",
              "  }\n",
              "}(window));"
            ],
            "application/vnd.bokehjs_load.v0+json": "\n(function(root) {\n  function now() {\n    return new Date();\n  }\n\n  var force = true;\n\n  if (typeof root._bokeh_onload_callbacks === \"undefined\" || force === true) {\n    root._bokeh_onload_callbacks = [];\n    root._bokeh_is_loading = undefined;\n  }\n\n  \n\n  \n  if (typeof (root._bokeh_timeout) === \"undefined\" || force === true) {\n    root._bokeh_timeout = Date.now() + 5000;\n    root._bokeh_failed_load = false;\n  }\n\n  var NB_LOAD_WARNING = {'data': {'text/html':\n     \"<div style='background-color: #fdd'>\\n\"+\n     \"<p>\\n\"+\n     \"BokehJS does not appear to have successfully loaded. If loading BokehJS from CDN, this \\n\"+\n     \"may be due to a slow or bad network connection. Possible fixes:\\n\"+\n     \"</p>\\n\"+\n     \"<ul>\\n\"+\n     \"<li>re-rerun `output_notebook()` to attempt to load from CDN again, or</li>\\n\"+\n     \"<li>use INLINE resources instead, as so:</li>\\n\"+\n     \"</ul>\\n\"+\n     \"<code>\\n\"+\n     \"from bokeh.resources import INLINE\\n\"+\n     \"output_notebook(resources=INLINE)\\n\"+\n     \"</code>\\n\"+\n     \"</div>\"}};\n\n  function display_loaded() {\n    var el = document.getElementById(null);\n    if (el != null) {\n      el.textContent = \"BokehJS is loading...\";\n    }\n    if (root.Bokeh !== undefined) {\n      if (el != null) {\n        el.textContent = \"BokehJS \" + root.Bokeh.version + \" successfully loaded.\";\n      }\n    } else if (Date.now() < root._bokeh_timeout) {\n      setTimeout(display_loaded, 100)\n    }\n  }\n\n\n  function run_callbacks() {\n    try {\n      root._bokeh_onload_callbacks.forEach(function(callback) {\n        if (callback != null)\n          callback();\n      });\n    } finally {\n      delete root._bokeh_onload_callbacks\n    }\n    console.debug(\"Bokeh: all callbacks have finished\");\n  }\n\n  function load_libs(css_urls, js_urls, callback) {\n    if (css_urls == null) css_urls = [];\n    if (js_urls == null) js_urls = [];\n\n    root._bokeh_onload_callbacks.push(callback);\n    if (root._bokeh_is_loading > 0) {\n      console.debug(\"Bokeh: BokehJS is being loaded, scheduling callback at\", now());\n      return null;\n    }\n    if (js_urls == null || js_urls.length === 0) {\n      run_callbacks();\n      return null;\n    }\n    console.debug(\"Bokeh: BokehJS not loaded, scheduling load and callback at\", now());\n    root._bokeh_is_loading = css_urls.length + js_urls.length;\n\n    function on_load() {\n      root._bokeh_is_loading--;\n      if (root._bokeh_is_loading === 0) {\n        console.debug(\"Bokeh: all BokehJS libraries/stylesheets loaded\");\n        run_callbacks()\n      }\n    }\n\n    function on_error() {\n      console.error(\"failed to load \" + url);\n    }\n\n    for (var i = 0; i < css_urls.length; i++) {\n      var url = css_urls[i];\n      const element = document.createElement(\"link\");\n      element.onload = on_load;\n      element.onerror = on_error;\n      element.rel = \"stylesheet\";\n      element.type = \"text/css\";\n      element.href = url;\n      console.debug(\"Bokeh: injecting link tag for BokehJS stylesheet: \", url);\n      document.body.appendChild(element);\n    }\n\n    const hashes = {\"https://cdn.bokeh.org/bokeh/release/bokeh-2.1.1.min.js\": \"kLr4fYcqcSpbuI95brIH3vnnYCquzzSxHPU6XGQCIkQRGJwhg0StNbj1eegrHs12\", \"https://cdn.bokeh.org/bokeh/release/bokeh-widgets-2.1.1.min.js\": \"xIGPmVtaOm+z0BqfSOMn4lOR6ciex448GIKG4eE61LsAvmGj48XcMQZtKcE/UXZe\", \"https://cdn.bokeh.org/bokeh/release/bokeh-tables-2.1.1.min.js\": \"Dc9u1wF/0zApGIWoBbH77iWEHtdmkuYWG839Uzmv8y8yBLXebjO9ZnERsde5Ln/P\", \"https://cdn.bokeh.org/bokeh/release/bokeh-gl-2.1.1.min.js\": \"cT9JaBz7GiRXdENrJLZNSC6eMNF3nh3fa5fTF51Svp+ukxPdwcU5kGXGPBgDCa2j\"};\n\n    for (var i = 0; i < js_urls.length; i++) {\n      var url = js_urls[i];\n      var element = document.createElement('script');\n      element.onload = on_load;\n      element.onerror = on_error;\n      element.async = false;\n      element.src = url;\n      if (url in hashes) {\n        element.crossOrigin = \"anonymous\";\n        element.integrity = \"sha384-\" + hashes[url];\n      }\n      console.debug(\"Bokeh: injecting script tag for BokehJS library: \", url);\n      document.head.appendChild(element);\n    }\n  };\n\n  function inject_raw_css(css) {\n    const element = document.createElement(\"style\");\n    element.appendChild(document.createTextNode(css));\n    document.body.appendChild(element);\n  }\n\n  \n  var js_urls = [\"https://cdn.bokeh.org/bokeh/release/bokeh-2.1.1.min.js\", \"https://cdn.bokeh.org/bokeh/release/bokeh-widgets-2.1.1.min.js\", \"https://cdn.bokeh.org/bokeh/release/bokeh-tables-2.1.1.min.js\", \"https://cdn.bokeh.org/bokeh/release/bokeh-gl-2.1.1.min.js\"];\n  var css_urls = [];\n  \n\n  var inline_js = [\n    function(Bokeh) {\n      Bokeh.set_log_level(\"info\");\n    },\n    function(Bokeh) {\n    \n    \n    }\n  ];\n\n  function run_inline_js() {\n    \n    if (root.Bokeh !== undefined || force === true) {\n      \n    for (var i = 0; i < inline_js.length; i++) {\n      inline_js[i].call(root, root.Bokeh);\n    }\n    } else if (Date.now() < root._bokeh_timeout) {\n      setTimeout(run_inline_js, 100);\n    } else if (!root._bokeh_failed_load) {\n      console.log(\"Bokeh: BokehJS failed to load within specified timeout.\");\n      root._bokeh_failed_load = true;\n    } else if (force !== true) {\n      var cell = $(document.getElementById(null)).parents('.cell').data().cell;\n      cell.output_area.append_execute_result(NB_LOAD_WARNING)\n    }\n\n  }\n\n  if (root._bokeh_is_loading === 0) {\n    console.debug(\"Bokeh: BokehJS loaded, going straight to plotting\");\n    run_inline_js();\n  } else {\n    load_libs(css_urls, js_urls, function() {\n      console.debug(\"Bokeh: BokehJS plotting callback run at\", now());\n      run_inline_js();\n    });\n  }\n}(window));"
          },
          "metadata": {
            "tags": []
          }
        },
        {
          "output_type": "display_data",
          "data": {
            "text/html": [
              "\n",
              "\n",
              "\n",
              "\n",
              "\n",
              "\n",
              "  <div class=\"bk-root\" id=\"51bf55bb-d7f6-489e-b038-6984f586e36b\" data-root-id=\"2381\"></div>\n"
            ]
          },
          "metadata": {
            "tags": []
          }
        },
        {
          "output_type": "display_data",
          "data": {
            "application/javascript": [
              "(function(root) {\n",
              "  function embed_document(root) {\n",
              "    \n",
              "  var docs_json = {\"3ac28b39-39eb-4de0-a1ce-f9a1a2964346\":{\"roots\":{\"references\":[{\"attributes\":{\"below\":[{\"id\":\"2390\"}],\"center\":[{\"id\":\"2393\"},{\"id\":\"2397\"}],\"left\":[{\"id\":\"2394\"}],\"plot_height\":200,\"plot_width\":500,\"renderers\":[{\"id\":\"2417\"}],\"title\":{\"id\":\"2419\"},\"toolbar\":{\"id\":\"2404\"},\"x_range\":{\"id\":\"2382\"},\"x_scale\":{\"id\":\"2386\"},\"y_range\":{\"id\":\"2384\"},\"y_scale\":{\"id\":\"2388\"}},\"id\":\"2381\",\"subtype\":\"Figure\",\"type\":\"Plot\"},{\"attributes\":{},\"id\":\"2422\",\"type\":\"BasicTickFormatter\"},{\"attributes\":{\"axis\":{\"id\":\"2390\"},\"ticker\":null},\"id\":\"2393\",\"type\":\"Grid\"},{\"attributes\":{},\"id\":\"2401\",\"type\":\"ResetTool\"},{\"attributes\":{},\"id\":\"2391\",\"type\":\"BasicTicker\"},{\"attributes\":{},\"id\":\"2421\",\"type\":\"BasicTickFormatter\"},{\"attributes\":{},\"id\":\"2384\",\"type\":\"DataRange1d\"},{\"attributes\":{\"interval\":12},\"id\":\"2410\",\"type\":\"SingleIntervalTicker\"},{\"attributes\":{\"data\":{\"bottom\":{\"__ndarray__\":\"zczMzMzMQUDNzMzMzMxCQM3MzMzMzERAzczMzMzMRkDNzMzMzMxEQM3MzMzMzERAzczMzMzMREDNzMzMzMxIQM3MzMzMzEFAzczMzMzMQkDNzMzMzMxEQM3MzMzMTEZAzczMzMzMQUDNzMzMzMxEQM3MzMzMzEZAzczMzMzMREDNzMzMzMxHQM3MzMzMzEhA\",\"dtype\":\"float64\",\"order\":\"little\",\"shape\":[18]},\"duration\":{\"__ndarray__\":\"AAAAAAAAwD8AAAAAAADAPwAAAAAAAMA/AAAAAAAAwD8AAAAAAADAPwAAAAAAAMA/AAAAAAAAwD8AAAAAAADAPwAAAAAAAMA/AAAAAAAAwD8AAAAAAADAPwAAAAAAAMA/AAAAAAAAwD8AAAAAAADAPwAAAAAAAMA/AAAAAAAAwD8AAAAAAADAPwAAAAAAAMA/\",\"dtype\":\"float64\",\"order\":\"little\",\"shape\":[18]},\"end_time\":{\"__ndarray__\":\"AAAAAAAAwD8AAAAAAADAPwAAAAAAAMA/AAAAAAAAwD8AAAAAAADYPwAAAAAAAOA/AAAAAAAA5D8AAAAAAADkPwAAAAAAAOw/AAAAAAAA7D8AAAAAAADsPwAAAAAAAOw/AAAAAAAA8j8AAAAAAADyPwAAAAAAAPI/AAAAAAAA9j8AAAAAAAD2PwAAAAAAAPY/\",\"dtype\":\"float64\",\"order\":\"little\",\"shape\":[18]},\"fill_alpha\":{\"__ndarray__\":\"AAAAAAAA8D8AAAAAAADwPwAAAAAAAPA/AAAAAAAA8D8AAAAAAADwPwAAAAAAAPA/AAAAAAAA8D8AAAAAAADwPwAAAAAAAPA/AAAAAAAA8D8AAAAAAADwPwAAAAAAAPA/AAAAAAAA8D8AAAAAAADwPwAAAAAAAPA/AAAAAAAA8D8AAAAAAADwPwAAAAAAAPA/\",\"dtype\":\"float64\",\"order\":\"little\",\"shape\":[18]},\"index\":[0,1,2,3,4,5,6,7,8,9,10,11,12,13,14,15,16,17],\"instrument\":[10,10,10,10,10,10,10,10,10,10,10,10,10,10,10,10,10,10],\"pitch\":[36,38,42,46,42,42,42,50,36,38,42,45,36,42,46,42,48,50],\"program\":[0,0,0,0,0,0,0,0,0,0,0,0,0,0,0,0,0,0],\"start_time\":{\"__ndarray__\":\"AAAAAAAAAAAAAAAAAAAAAAAAAAAAAAAAAAAAAAAAAAAAAAAAAADQPwAAAAAAANg/AAAAAAAA4D8AAAAAAADgPwAAAAAAAOg/AAAAAAAA6D8AAAAAAADoPwAAAAAAAOg/AAAAAAAA8D8AAAAAAADwPwAAAAAAAPA/AAAAAAAA9D8AAAAAAAD0PwAAAAAAAPQ/\",\"dtype\":\"float64\",\"order\":\"little\",\"shape\":[18]},\"top\":{\"__ndarray__\":\"MzMzMzMzQkAzMzMzMzNDQDMzMzMzM0VAMzMzMzMzR0AzMzMzMzNFQDMzMzMzM0VAMzMzMzMzRUAzMzMzMzNJQDMzMzMzM0JAMzMzMzMzQ0AzMzMzMzNFQDMzMzMzs0ZAMzMzMzMzQkAzMzMzMzNFQDMzMzMzM0dAMzMzMzMzRUAzMzMzMzNIQDMzMzMzM0lA\",\"dtype\":\"float64\",\"order\":\"little\",\"shape\":[18]},\"velocity\":[80,80,80,80,80,80,80,80,80,80,80,80,80,80,80,80,80,80]},\"selected\":{\"id\":\"2425\"},\"selection_policy\":{\"id\":\"2424\"}},\"id\":\"2413\",\"type\":\"ColumnDataSource\"},{\"attributes\":{},\"id\":\"2424\",\"type\":\"UnionRenderers\"},{\"attributes\":{},\"id\":\"2386\",\"type\":\"LinearScale\"},{\"attributes\":{},\"id\":\"2402\",\"type\":\"SaveTool\"},{\"attributes\":{\"axis_label\":\"pitch (MIDI)\",\"formatter\":{\"id\":\"2421\"},\"ticker\":{\"id\":\"2410\"}},\"id\":\"2394\",\"type\":\"LinearAxis\"},{\"attributes\":{},\"id\":\"2425\",\"type\":\"Selection\"},{\"attributes\":{\"axis_label\":\"time (sec)\",\"formatter\":{\"id\":\"2422\"},\"ticker\":{\"id\":\"2391\"}},\"id\":\"2390\",\"type\":\"LinearAxis\"},{\"attributes\":{},\"id\":\"2388\",\"type\":\"LinearScale\"},{\"attributes\":{\"text\":\"\"},\"id\":\"2419\",\"type\":\"Title\"},{\"attributes\":{\"active_drag\":\"auto\",\"active_inspect\":\"auto\",\"active_multi\":null,\"active_scroll\":\"auto\",\"active_tap\":\"auto\",\"tools\":[{\"id\":\"2398\"},{\"id\":\"2399\"},{\"id\":\"2400\"},{\"id\":\"2401\"},{\"id\":\"2402\"}]},\"id\":\"2404\",\"type\":\"Toolbar\"},{\"attributes\":{\"data_source\":{\"id\":\"2413\"},\"glyph\":{\"id\":\"2415\"},\"hover_glyph\":null,\"muted_glyph\":null,\"nonselection_glyph\":{\"id\":\"2416\"},\"selection_glyph\":null,\"view\":{\"id\":\"2418\"}},\"id\":\"2417\",\"type\":\"GlyphRenderer\"},{\"attributes\":{\"bottom\":{\"field\":\"bottom\"},\"fill_alpha\":{\"field\":\"fill_alpha\"},\"fill_color\":{\"value\":\"#d53e4f\"},\"left\":{\"field\":\"start_time\"},\"right\":{\"field\":\"end_time\"},\"top\":{\"field\":\"top\"}},\"id\":\"2415\",\"type\":\"Quad\"},{\"attributes\":{\"callback\":null,\"tooltips\":[[\"pitch\",\"@pitch\"],[\"program\",\"@program\"],[\"velo\",\"@velocity\"],[\"duration\",\"@duration\"],[\"start_time\",\"@start_time\"],[\"end_time\",\"@end_time\"],[\"velocity\",\"@velocity\"],[\"fill_alpha\",\"@fill_alpha\"]]},\"id\":\"2398\",\"type\":\"HoverTool\"},{\"attributes\":{\"bottom_units\":\"screen\",\"fill_alpha\":0.5,\"fill_color\":\"lightgrey\",\"left_units\":\"screen\",\"level\":\"overlay\",\"line_alpha\":1.0,\"line_color\":\"black\",\"line_dash\":[4,4],\"line_width\":2,\"right_units\":\"screen\",\"top_units\":\"screen\"},\"id\":\"2403\",\"type\":\"BoxAnnotation\"},{\"attributes\":{\"interval\":12},\"id\":\"2412\",\"type\":\"SingleIntervalTicker\"},{\"attributes\":{\"axis\":{\"id\":\"2394\"},\"dimension\":1,\"ticker\":{\"id\":\"2412\"}},\"id\":\"2397\",\"type\":\"Grid\"},{\"attributes\":{},\"id\":\"2399\",\"type\":\"PanTool\"},{\"attributes\":{},\"id\":\"2382\",\"type\":\"DataRange1d\"},{\"attributes\":{\"source\":{\"id\":\"2413\"}},\"id\":\"2418\",\"type\":\"CDSView\"},{\"attributes\":{\"bottom\":{\"field\":\"bottom\"},\"fill_alpha\":{\"value\":0.1},\"fill_color\":{\"value\":\"#d53e4f\"},\"left\":{\"field\":\"start_time\"},\"line_alpha\":{\"value\":0.1},\"right\":{\"field\":\"end_time\"},\"top\":{\"field\":\"top\"}},\"id\":\"2416\",\"type\":\"Quad\"},{\"attributes\":{\"overlay\":{\"id\":\"2403\"}},\"id\":\"2400\",\"type\":\"BoxZoomTool\"}],\"root_ids\":[\"2381\"]},\"title\":\"Bokeh Application\",\"version\":\"2.1.1\"}};\n",
              "  var render_items = [{\"docid\":\"3ac28b39-39eb-4de0-a1ce-f9a1a2964346\",\"root_ids\":[\"2381\"],\"roots\":{\"2381\":\"51bf55bb-d7f6-489e-b038-6984f586e36b\"}}];\n",
              "  root.Bokeh.embed.embed_items_notebook(docs_json, render_items);\n",
              "\n",
              "  }\n",
              "  if (root.Bokeh !== undefined) {\n",
              "    embed_document(root);\n",
              "  } else {\n",
              "    var attempts = 0;\n",
              "    var timer = setInterval(function(root) {\n",
              "      if (root.Bokeh !== undefined) {\n",
              "        clearInterval(timer);\n",
              "        embed_document(root);\n",
              "      } else {\n",
              "        attempts++;\n",
              "        if (attempts > 100) {\n",
              "          clearInterval(timer);\n",
              "          console.log(\"Bokeh: ERROR: Unable to run BokehJS code because BokehJS library is missing\");\n",
              "        }\n",
              "      }\n",
              "    }, 10, root)\n",
              "  }\n",
              "})(window);"
            ],
            "application/vnd.bokehjs_exec.v0+json": ""
          },
          "metadata": {
            "tags": [],
            "application/vnd.bokehjs_exec.v0+json": {
              "id": "2381"
            }
          }
        },
        {
          "output_type": "display_data",
          "data": {
            "text/html": [
              "<div id=\"id_11\"> </div>"
            ],
            "text/plain": [
              "<IPython.core.display.HTML object>"
            ]
          },
          "metadata": {
            "tags": []
          }
        }
      ]
    },
    {
      "cell_type": "code",
      "metadata": {
        "id": "EcmmAToP4WE3"
      },
      "source": [
        "# Создаем midi файл с именем sample_output.mid, содержащий звуки teapot\n",
        "note_seq.sequence_proto_to_midi_file(teapot, 'sample_output.mid')"
      ],
      "execution_count": null,
      "outputs": []
    },
    {
      "cell_type": "markdown",
      "metadata": {
        "id": "HcW4ohAtsoXT"
      },
      "source": [
        "## Модель\n",
        "\n",
        "*Разбор данного раздела:* https://youtu.be/VS6DHal1xYw?t=2378\n",
        "\n",
        "Magenta это целый набор разных предобученных моделей ([**список**](https://github.com/magenta/magenta/tree/master/magenta/models)) \n",
        "\n",
        "--------------\n",
        "Некотрые из них:\n",
        "\n",
        "- [**MelodyRNN**](https://github.com/magenta/magenta/tree/master/magenta/models/melody_rnn) - Мы подаем последовательность и она продолжает генерить в ее стиле.\n",
        "\n",
        "- [**MusicVAE**](https://github.com/magenta/magenta/tree/master/magenta/models/music_vae) - Генерирует новые последовательности нот или интерполирует их между двумя последовательностями.\n"
      ]
    },
    {
      "cell_type": "code",
      "metadata": {
        "colab": {
          "base_uri": "https://localhost:8080/"
        },
        "id": "7Y0VkNafNKLP",
        "outputId": "d7d60a5d-76be-4f03-beaf-c3083ba8581d"
      },
      "source": [
        "# =========\n",
        "# MelodyRNN\n",
        "# =========\n",
        "# https://arxiv.org/pdf/1712.05274.pdf\n",
        "\n",
        "\n",
        "# Загружаем basic_rnn.mag. Так же можно загружать любые другие модели от Magenta\n",
        "\n",
        "note_seq.notebook_utils.download_bundle('basic_rnn.mag', '/content/')\n",
        "\n",
        "bundle = sequence_generator_bundle.read_bundle_file('/content/basic_rnn.mag')\n",
        "generator_map = melody_rnn_sequence_generator.get_generator_map()\n",
        "melody_rnn = generator_map['basic_rnn'](checkpoint=None, bundle=bundle)\n",
        "melody_rnn.initialize()"
      ],
      "execution_count": null,
      "outputs": [
        {
          "output_type": "stream",
          "text": [
            "WARNING:tensorflow:The saved meta_graph is possibly from an older release:\n",
            "'model_variables' collection should be of type 'byte_list', but instead is of type 'node_list'.\n",
            "INFO:tensorflow:Restoring parameters from /tmp/tmprevywjlw/model.ckpt\n"
          ],
          "name": "stdout"
        }
      ]
    },
    {
      "cell_type": "code",
      "metadata": {
        "colab": {
          "base_uri": "https://localhost:8080/",
          "height": 292
        },
        "id": "LgREckzBmd-8",
        "outputId": "7f8b6135-f22e-4a67-d1da-3a6173ef1850"
      },
      "source": [
        "# Можем настроить количество шагов в новой последовательности\n",
        "# Также «температуру» результата - чем выше температура, тем более случайной (и менее похожей на ввод) будет наша последовательность.\n",
        "\n",
        "\n",
        "input_sequence = teapot # Последовательность\n",
        "num_steps = 128 # Длина новой последовательности\n",
        "temperature = 1.0 # Температура\n",
        "\n",
        "\n",
        "last_end_time = (max(n.end_time for n in input_sequence.notes)\n",
        "                  if input_sequence.notes else 0)\n",
        "qpm = input_sequence.tempos[0].qpm \n",
        "seconds_per_step = 60.0 / qpm / melody_rnn.steps_per_quarter\n",
        "total_seconds = num_steps * seconds_per_step\n",
        "\n",
        "generator_options = generator_pb2.GeneratorOptions()\n",
        "generator_options.args['temperature'].float_value = temperature\n",
        "generate_section = generator_options.generate_sections.add(\n",
        "    start_time=last_end_time + seconds_per_step,\n",
        "    end_time=total_seconds)\n",
        "\n",
        "# Сгенерируем последовательность по параметрам которые объявили выше.\n",
        "sequence = melody_rnn.generate(input_sequence, generator_options)\n",
        "\n",
        "note_seq.plot_sequence(sequence)\n",
        "note_seq.play_sequence(sequence, synth=note_seq.fluidsynth)"
      ],
      "execution_count": null,
      "outputs": [
        {
          "output_type": "stream",
          "text": [
            "INFO:tensorflow:Beam search yields sequence with log-likelihood: -115.746330 \n"
          ],
          "name": "stdout"
        },
        {
          "output_type": "display_data",
          "data": {
            "application/javascript": [
              "\n",
              "(function(root) {\n",
              "  function now() {\n",
              "    return new Date();\n",
              "  }\n",
              "\n",
              "  var force = true;\n",
              "\n",
              "  if (typeof root._bokeh_onload_callbacks === \"undefined\" || force === true) {\n",
              "    root._bokeh_onload_callbacks = [];\n",
              "    root._bokeh_is_loading = undefined;\n",
              "  }\n",
              "\n",
              "  var JS_MIME_TYPE = 'application/javascript';\n",
              "  var HTML_MIME_TYPE = 'text/html';\n",
              "  var EXEC_MIME_TYPE = 'application/vnd.bokehjs_exec.v0+json';\n",
              "  var CLASS_NAME = 'output_bokeh rendered_html';\n",
              "\n",
              "  /**\n",
              "   * Render data to the DOM node\n",
              "   */\n",
              "  function render(props, node) {\n",
              "    var script = document.createElement(\"script\");\n",
              "    node.appendChild(script);\n",
              "  }\n",
              "\n",
              "  /**\n",
              "   * Handle when an output is cleared or removed\n",
              "   */\n",
              "  function handleClearOutput(event, handle) {\n",
              "    var cell = handle.cell;\n",
              "\n",
              "    var id = cell.output_area._bokeh_element_id;\n",
              "    var server_id = cell.output_area._bokeh_server_id;\n",
              "    // Clean up Bokeh references\n",
              "    if (id != null && id in Bokeh.index) {\n",
              "      Bokeh.index[id].model.document.clear();\n",
              "      delete Bokeh.index[id];\n",
              "    }\n",
              "\n",
              "    if (server_id !== undefined) {\n",
              "      // Clean up Bokeh references\n",
              "      var cmd = \"from bokeh.io.state import curstate; print(curstate().uuid_to_server['\" + server_id + \"'].get_sessions()[0].document.roots[0]._id)\";\n",
              "      cell.notebook.kernel.execute(cmd, {\n",
              "        iopub: {\n",
              "          output: function(msg) {\n",
              "            var id = msg.content.text.trim();\n",
              "            if (id in Bokeh.index) {\n",
              "              Bokeh.index[id].model.document.clear();\n",
              "              delete Bokeh.index[id];\n",
              "            }\n",
              "          }\n",
              "        }\n",
              "      });\n",
              "      // Destroy server and session\n",
              "      var cmd = \"import bokeh.io.notebook as ion; ion.destroy_server('\" + server_id + \"')\";\n",
              "      cell.notebook.kernel.execute(cmd);\n",
              "    }\n",
              "  }\n",
              "\n",
              "  /**\n",
              "   * Handle when a new output is added\n",
              "   */\n",
              "  function handleAddOutput(event, handle) {\n",
              "    var output_area = handle.output_area;\n",
              "    var output = handle.output;\n",
              "\n",
              "    // limit handleAddOutput to display_data with EXEC_MIME_TYPE content only\n",
              "    if ((output.output_type != \"display_data\") || (!output.data.hasOwnProperty(EXEC_MIME_TYPE))) {\n",
              "      return\n",
              "    }\n",
              "\n",
              "    var toinsert = output_area.element.find(\".\" + CLASS_NAME.split(' ')[0]);\n",
              "\n",
              "    if (output.metadata[EXEC_MIME_TYPE][\"id\"] !== undefined) {\n",
              "      toinsert[toinsert.length - 1].firstChild.textContent = output.data[JS_MIME_TYPE];\n",
              "      // store reference to embed id on output_area\n",
              "      output_area._bokeh_element_id = output.metadata[EXEC_MIME_TYPE][\"id\"];\n",
              "    }\n",
              "    if (output.metadata[EXEC_MIME_TYPE][\"server_id\"] !== undefined) {\n",
              "      var bk_div = document.createElement(\"div\");\n",
              "      bk_div.innerHTML = output.data[HTML_MIME_TYPE];\n",
              "      var script_attrs = bk_div.children[0].attributes;\n",
              "      for (var i = 0; i < script_attrs.length; i++) {\n",
              "        toinsert[toinsert.length - 1].firstChild.setAttribute(script_attrs[i].name, script_attrs[i].value);\n",
              "        toinsert[toinsert.length - 1].firstChild.textContent = bk_div.children[0].textContent\n",
              "      }\n",
              "      // store reference to server id on output_area\n",
              "      output_area._bokeh_server_id = output.metadata[EXEC_MIME_TYPE][\"server_id\"];\n",
              "    }\n",
              "  }\n",
              "\n",
              "  function register_renderer(events, OutputArea) {\n",
              "\n",
              "    function append_mime(data, metadata, element) {\n",
              "      // create a DOM node to render to\n",
              "      var toinsert = this.create_output_subarea(\n",
              "        metadata,\n",
              "        CLASS_NAME,\n",
              "        EXEC_MIME_TYPE\n",
              "      );\n",
              "      this.keyboard_manager.register_events(toinsert);\n",
              "      // Render to node\n",
              "      var props = {data: data, metadata: metadata[EXEC_MIME_TYPE]};\n",
              "      render(props, toinsert[toinsert.length - 1]);\n",
              "      element.append(toinsert);\n",
              "      return toinsert\n",
              "    }\n",
              "\n",
              "    /* Handle when an output is cleared or removed */\n",
              "    events.on('clear_output.CodeCell', handleClearOutput);\n",
              "    events.on('delete.Cell', handleClearOutput);\n",
              "\n",
              "    /* Handle when a new output is added */\n",
              "    events.on('output_added.OutputArea', handleAddOutput);\n",
              "\n",
              "    /**\n",
              "     * Register the mime type and append_mime function with output_area\n",
              "     */\n",
              "    OutputArea.prototype.register_mime_type(EXEC_MIME_TYPE, append_mime, {\n",
              "      /* Is output safe? */\n",
              "      safe: true,\n",
              "      /* Index of renderer in `output_area.display_order` */\n",
              "      index: 0\n",
              "    });\n",
              "  }\n",
              "\n",
              "  // register the mime type if in Jupyter Notebook environment and previously unregistered\n",
              "  if (root.Jupyter !== undefined) {\n",
              "    var events = require('base/js/events');\n",
              "    var OutputArea = require('notebook/js/outputarea').OutputArea;\n",
              "\n",
              "    if (OutputArea.prototype.mime_types().indexOf(EXEC_MIME_TYPE) == -1) {\n",
              "      register_renderer(events, OutputArea);\n",
              "    }\n",
              "  }\n",
              "\n",
              "  \n",
              "  if (typeof (root._bokeh_timeout) === \"undefined\" || force === true) {\n",
              "    root._bokeh_timeout = Date.now() + 5000;\n",
              "    root._bokeh_failed_load = false;\n",
              "  }\n",
              "\n",
              "  var NB_LOAD_WARNING = {'data': {'text/html':\n",
              "     \"<div style='background-color: #fdd'>\\n\"+\n",
              "     \"<p>\\n\"+\n",
              "     \"BokehJS does not appear to have successfully loaded. If loading BokehJS from CDN, this \\n\"+\n",
              "     \"may be due to a slow or bad network connection. Possible fixes:\\n\"+\n",
              "     \"</p>\\n\"+\n",
              "     \"<ul>\\n\"+\n",
              "     \"<li>re-rerun `output_notebook()` to attempt to load from CDN again, or</li>\\n\"+\n",
              "     \"<li>use INLINE resources instead, as so:</li>\\n\"+\n",
              "     \"</ul>\\n\"+\n",
              "     \"<code>\\n\"+\n",
              "     \"from bokeh.resources import INLINE\\n\"+\n",
              "     \"output_notebook(resources=INLINE)\\n\"+\n",
              "     \"</code>\\n\"+\n",
              "     \"</div>\"}};\n",
              "\n",
              "  function display_loaded() {\n",
              "    var el = document.getElementById(null);\n",
              "    if (el != null) {\n",
              "      el.textContent = \"BokehJS is loading...\";\n",
              "    }\n",
              "    if (root.Bokeh !== undefined) {\n",
              "      if (el != null) {\n",
              "        el.textContent = \"BokehJS \" + root.Bokeh.version + \" successfully loaded.\";\n",
              "      }\n",
              "    } else if (Date.now() < root._bokeh_timeout) {\n",
              "      setTimeout(display_loaded, 100)\n",
              "    }\n",
              "  }\n",
              "\n",
              "\n",
              "  function run_callbacks() {\n",
              "    try {\n",
              "      root._bokeh_onload_callbacks.forEach(function(callback) {\n",
              "        if (callback != null)\n",
              "          callback();\n",
              "      });\n",
              "    } finally {\n",
              "      delete root._bokeh_onload_callbacks\n",
              "    }\n",
              "    console.debug(\"Bokeh: all callbacks have finished\");\n",
              "  }\n",
              "\n",
              "  function load_libs(css_urls, js_urls, callback) {\n",
              "    if (css_urls == null) css_urls = [];\n",
              "    if (js_urls == null) js_urls = [];\n",
              "\n",
              "    root._bokeh_onload_callbacks.push(callback);\n",
              "    if (root._bokeh_is_loading > 0) {\n",
              "      console.debug(\"Bokeh: BokehJS is being loaded, scheduling callback at\", now());\n",
              "      return null;\n",
              "    }\n",
              "    if (js_urls == null || js_urls.length === 0) {\n",
              "      run_callbacks();\n",
              "      return null;\n",
              "    }\n",
              "    console.debug(\"Bokeh: BokehJS not loaded, scheduling load and callback at\", now());\n",
              "    root._bokeh_is_loading = css_urls.length + js_urls.length;\n",
              "\n",
              "    function on_load() {\n",
              "      root._bokeh_is_loading--;\n",
              "      if (root._bokeh_is_loading === 0) {\n",
              "        console.debug(\"Bokeh: all BokehJS libraries/stylesheets loaded\");\n",
              "        run_callbacks()\n",
              "      }\n",
              "    }\n",
              "\n",
              "    function on_error() {\n",
              "      console.error(\"failed to load \" + url);\n",
              "    }\n",
              "\n",
              "    for (var i = 0; i < css_urls.length; i++) {\n",
              "      var url = css_urls[i];\n",
              "      const element = document.createElement(\"link\");\n",
              "      element.onload = on_load;\n",
              "      element.onerror = on_error;\n",
              "      element.rel = \"stylesheet\";\n",
              "      element.type = \"text/css\";\n",
              "      element.href = url;\n",
              "      console.debug(\"Bokeh: injecting link tag for BokehJS stylesheet: \", url);\n",
              "      document.body.appendChild(element);\n",
              "    }\n",
              "\n",
              "    const hashes = {\"https://cdn.bokeh.org/bokeh/release/bokeh-2.1.1.min.js\": \"kLr4fYcqcSpbuI95brIH3vnnYCquzzSxHPU6XGQCIkQRGJwhg0StNbj1eegrHs12\", \"https://cdn.bokeh.org/bokeh/release/bokeh-widgets-2.1.1.min.js\": \"xIGPmVtaOm+z0BqfSOMn4lOR6ciex448GIKG4eE61LsAvmGj48XcMQZtKcE/UXZe\", \"https://cdn.bokeh.org/bokeh/release/bokeh-tables-2.1.1.min.js\": \"Dc9u1wF/0zApGIWoBbH77iWEHtdmkuYWG839Uzmv8y8yBLXebjO9ZnERsde5Ln/P\", \"https://cdn.bokeh.org/bokeh/release/bokeh-gl-2.1.1.min.js\": \"cT9JaBz7GiRXdENrJLZNSC6eMNF3nh3fa5fTF51Svp+ukxPdwcU5kGXGPBgDCa2j\"};\n",
              "\n",
              "    for (var i = 0; i < js_urls.length; i++) {\n",
              "      var url = js_urls[i];\n",
              "      var element = document.createElement('script');\n",
              "      element.onload = on_load;\n",
              "      element.onerror = on_error;\n",
              "      element.async = false;\n",
              "      element.src = url;\n",
              "      if (url in hashes) {\n",
              "        element.crossOrigin = \"anonymous\";\n",
              "        element.integrity = \"sha384-\" + hashes[url];\n",
              "      }\n",
              "      console.debug(\"Bokeh: injecting script tag for BokehJS library: \", url);\n",
              "      document.head.appendChild(element);\n",
              "    }\n",
              "  };\n",
              "\n",
              "  function inject_raw_css(css) {\n",
              "    const element = document.createElement(\"style\");\n",
              "    element.appendChild(document.createTextNode(css));\n",
              "    document.body.appendChild(element);\n",
              "  }\n",
              "\n",
              "  \n",
              "  var js_urls = [\"https://cdn.bokeh.org/bokeh/release/bokeh-2.1.1.min.js\", \"https://cdn.bokeh.org/bokeh/release/bokeh-widgets-2.1.1.min.js\", \"https://cdn.bokeh.org/bokeh/release/bokeh-tables-2.1.1.min.js\", \"https://cdn.bokeh.org/bokeh/release/bokeh-gl-2.1.1.min.js\"];\n",
              "  var css_urls = [];\n",
              "  \n",
              "\n",
              "  var inline_js = [\n",
              "    function(Bokeh) {\n",
              "      Bokeh.set_log_level(\"info\");\n",
              "    },\n",
              "    function(Bokeh) {\n",
              "    \n",
              "    \n",
              "    }\n",
              "  ];\n",
              "\n",
              "  function run_inline_js() {\n",
              "    \n",
              "    if (root.Bokeh !== undefined || force === true) {\n",
              "      \n",
              "    for (var i = 0; i < inline_js.length; i++) {\n",
              "      inline_js[i].call(root, root.Bokeh);\n",
              "    }\n",
              "    } else if (Date.now() < root._bokeh_timeout) {\n",
              "      setTimeout(run_inline_js, 100);\n",
              "    } else if (!root._bokeh_failed_load) {\n",
              "      console.log(\"Bokeh: BokehJS failed to load within specified timeout.\");\n",
              "      root._bokeh_failed_load = true;\n",
              "    } else if (force !== true) {\n",
              "      var cell = $(document.getElementById(null)).parents('.cell').data().cell;\n",
              "      cell.output_area.append_execute_result(NB_LOAD_WARNING)\n",
              "    }\n",
              "\n",
              "  }\n",
              "\n",
              "  if (root._bokeh_is_loading === 0) {\n",
              "    console.debug(\"Bokeh: BokehJS loaded, going straight to plotting\");\n",
              "    run_inline_js();\n",
              "  } else {\n",
              "    load_libs(css_urls, js_urls, function() {\n",
              "      console.debug(\"Bokeh: BokehJS plotting callback run at\", now());\n",
              "      run_inline_js();\n",
              "    });\n",
              "  }\n",
              "}(window));"
            ],
            "application/vnd.bokehjs_load.v0+json": "\n(function(root) {\n  function now() {\n    return new Date();\n  }\n\n  var force = true;\n\n  if (typeof root._bokeh_onload_callbacks === \"undefined\" || force === true) {\n    root._bokeh_onload_callbacks = [];\n    root._bokeh_is_loading = undefined;\n  }\n\n  \n\n  \n  if (typeof (root._bokeh_timeout) === \"undefined\" || force === true) {\n    root._bokeh_timeout = Date.now() + 5000;\n    root._bokeh_failed_load = false;\n  }\n\n  var NB_LOAD_WARNING = {'data': {'text/html':\n     \"<div style='background-color: #fdd'>\\n\"+\n     \"<p>\\n\"+\n     \"BokehJS does not appear to have successfully loaded. If loading BokehJS from CDN, this \\n\"+\n     \"may be due to a slow or bad network connection. Possible fixes:\\n\"+\n     \"</p>\\n\"+\n     \"<ul>\\n\"+\n     \"<li>re-rerun `output_notebook()` to attempt to load from CDN again, or</li>\\n\"+\n     \"<li>use INLINE resources instead, as so:</li>\\n\"+\n     \"</ul>\\n\"+\n     \"<code>\\n\"+\n     \"from bokeh.resources import INLINE\\n\"+\n     \"output_notebook(resources=INLINE)\\n\"+\n     \"</code>\\n\"+\n     \"</div>\"}};\n\n  function display_loaded() {\n    var el = document.getElementById(null);\n    if (el != null) {\n      el.textContent = \"BokehJS is loading...\";\n    }\n    if (root.Bokeh !== undefined) {\n      if (el != null) {\n        el.textContent = \"BokehJS \" + root.Bokeh.version + \" successfully loaded.\";\n      }\n    } else if (Date.now() < root._bokeh_timeout) {\n      setTimeout(display_loaded, 100)\n    }\n  }\n\n\n  function run_callbacks() {\n    try {\n      root._bokeh_onload_callbacks.forEach(function(callback) {\n        if (callback != null)\n          callback();\n      });\n    } finally {\n      delete root._bokeh_onload_callbacks\n    }\n    console.debug(\"Bokeh: all callbacks have finished\");\n  }\n\n  function load_libs(css_urls, js_urls, callback) {\n    if (css_urls == null) css_urls = [];\n    if (js_urls == null) js_urls = [];\n\n    root._bokeh_onload_callbacks.push(callback);\n    if (root._bokeh_is_loading > 0) {\n      console.debug(\"Bokeh: BokehJS is being loaded, scheduling callback at\", now());\n      return null;\n    }\n    if (js_urls == null || js_urls.length === 0) {\n      run_callbacks();\n      return null;\n    }\n    console.debug(\"Bokeh: BokehJS not loaded, scheduling load and callback at\", now());\n    root._bokeh_is_loading = css_urls.length + js_urls.length;\n\n    function on_load() {\n      root._bokeh_is_loading--;\n      if (root._bokeh_is_loading === 0) {\n        console.debug(\"Bokeh: all BokehJS libraries/stylesheets loaded\");\n        run_callbacks()\n      }\n    }\n\n    function on_error() {\n      console.error(\"failed to load \" + url);\n    }\n\n    for (var i = 0; i < css_urls.length; i++) {\n      var url = css_urls[i];\n      const element = document.createElement(\"link\");\n      element.onload = on_load;\n      element.onerror = on_error;\n      element.rel = \"stylesheet\";\n      element.type = \"text/css\";\n      element.href = url;\n      console.debug(\"Bokeh: injecting link tag for BokehJS stylesheet: \", url);\n      document.body.appendChild(element);\n    }\n\n    const hashes = {\"https://cdn.bokeh.org/bokeh/release/bokeh-2.1.1.min.js\": \"kLr4fYcqcSpbuI95brIH3vnnYCquzzSxHPU6XGQCIkQRGJwhg0StNbj1eegrHs12\", \"https://cdn.bokeh.org/bokeh/release/bokeh-widgets-2.1.1.min.js\": \"xIGPmVtaOm+z0BqfSOMn4lOR6ciex448GIKG4eE61LsAvmGj48XcMQZtKcE/UXZe\", \"https://cdn.bokeh.org/bokeh/release/bokeh-tables-2.1.1.min.js\": \"Dc9u1wF/0zApGIWoBbH77iWEHtdmkuYWG839Uzmv8y8yBLXebjO9ZnERsde5Ln/P\", \"https://cdn.bokeh.org/bokeh/release/bokeh-gl-2.1.1.min.js\": \"cT9JaBz7GiRXdENrJLZNSC6eMNF3nh3fa5fTF51Svp+ukxPdwcU5kGXGPBgDCa2j\"};\n\n    for (var i = 0; i < js_urls.length; i++) {\n      var url = js_urls[i];\n      var element = document.createElement('script');\n      element.onload = on_load;\n      element.onerror = on_error;\n      element.async = false;\n      element.src = url;\n      if (url in hashes) {\n        element.crossOrigin = \"anonymous\";\n        element.integrity = \"sha384-\" + hashes[url];\n      }\n      console.debug(\"Bokeh: injecting script tag for BokehJS library: \", url);\n      document.head.appendChild(element);\n    }\n  };\n\n  function inject_raw_css(css) {\n    const element = document.createElement(\"style\");\n    element.appendChild(document.createTextNode(css));\n    document.body.appendChild(element);\n  }\n\n  \n  var js_urls = [\"https://cdn.bokeh.org/bokeh/release/bokeh-2.1.1.min.js\", \"https://cdn.bokeh.org/bokeh/release/bokeh-widgets-2.1.1.min.js\", \"https://cdn.bokeh.org/bokeh/release/bokeh-tables-2.1.1.min.js\", \"https://cdn.bokeh.org/bokeh/release/bokeh-gl-2.1.1.min.js\"];\n  var css_urls = [];\n  \n\n  var inline_js = [\n    function(Bokeh) {\n      Bokeh.set_log_level(\"info\");\n    },\n    function(Bokeh) {\n    \n    \n    }\n  ];\n\n  function run_inline_js() {\n    \n    if (root.Bokeh !== undefined || force === true) {\n      \n    for (var i = 0; i < inline_js.length; i++) {\n      inline_js[i].call(root, root.Bokeh);\n    }\n    } else if (Date.now() < root._bokeh_timeout) {\n      setTimeout(run_inline_js, 100);\n    } else if (!root._bokeh_failed_load) {\n      console.log(\"Bokeh: BokehJS failed to load within specified timeout.\");\n      root._bokeh_failed_load = true;\n    } else if (force !== true) {\n      var cell = $(document.getElementById(null)).parents('.cell').data().cell;\n      cell.output_area.append_execute_result(NB_LOAD_WARNING)\n    }\n\n  }\n\n  if (root._bokeh_is_loading === 0) {\n    console.debug(\"Bokeh: BokehJS loaded, going straight to plotting\");\n    run_inline_js();\n  } else {\n    load_libs(css_urls, js_urls, function() {\n      console.debug(\"Bokeh: BokehJS plotting callback run at\", now());\n      run_inline_js();\n    });\n  }\n}(window));"
          },
          "metadata": {
            "tags": []
          }
        },
        {
          "output_type": "display_data",
          "data": {
            "text/html": [
              "\n",
              "\n",
              "\n",
              "\n",
              "\n",
              "\n",
              "  <div class=\"bk-root\" id=\"55c4df79-68bb-494e-a3d0-fb00f0428540\" data-root-id=\"2041\"></div>\n"
            ]
          },
          "metadata": {
            "tags": []
          }
        },
        {
          "output_type": "display_data",
          "data": {
            "application/javascript": [
              "(function(root) {\n",
              "  function embed_document(root) {\n",
              "    \n",
              "  var docs_json = {\"4fc0482d-72bd-4572-82dc-a0901ae82dd6\":{\"roots\":{\"references\":[{\"attributes\":{\"below\":[{\"id\":\"2050\"}],\"center\":[{\"id\":\"2053\"},{\"id\":\"2057\"}],\"left\":[{\"id\":\"2054\"}],\"plot_height\":200,\"plot_width\":500,\"renderers\":[{\"id\":\"2077\"}],\"title\":{\"id\":\"2079\"},\"toolbar\":{\"id\":\"2064\"},\"x_range\":{\"id\":\"2042\"},\"x_scale\":{\"id\":\"2046\"},\"y_range\":{\"id\":\"2044\"},\"y_scale\":{\"id\":\"2048\"}},\"id\":\"2041\",\"subtype\":\"Figure\",\"type\":\"Plot\"},{\"attributes\":{\"data\":{\"bottom\":{\"__ndarray__\":\"ZmZmZmYmUUBmZmZmZqZRQGZmZmZmJlJAZmZmZmZmUkBmZmZmZuZSQGZmZmZmJlRAZmZmZmZmU0BmZmZmZiZUQGZmZmZm5lJAZmZmZmamUUBmZmZmZiZUQGZmZmZmplRAZmZmZmZmU0BmZmZmZuZSQGZmZmZmplFAZmZmZmYmUkBmZmZmZmZSQGZmZmZmplRAZmZmZmYmVEBmZmZmZiZUQGZmZmZm5lJAZmZmZmZmUkBmZmZmZuZSQGZmZmZmZlJAZmZmZmYmUUBmZmZmZiZRQGZmZmZmJlFAZmZmZmZmU0BmZmZmZmZTQGZmZmZm5lJAZmZmZmZmUkBmZmZmZmZTQGZmZmZm5lJAZmZmZmZmU0A=\",\"dtype\":\"float64\",\"order\":\"little\",\"shape\":[34]},\"duration\":{\"__ndarray__\":\"AAAAAAAA4D8AAAAAAADgPwAAAAAAAOA/AAAAAAAA4D8AAAAAAADgPwAAAAAAAPA/AAAAAAAA8D8AAAAAAADwPwAAAAAAAABAAAAAAAAA4D8AAAAAAADgPwAAAAAAAOA/AAAAAAAA4D8AAAAAAADgPwAAAAAAAOA/AAAAAAAA4D8AAAAAAAD4PwAAAAAAAPA/AAAAAAAA8D8AAAAAAADgPwAAAAAAAOA/AAAAAAAA4D8AAAAAAADwPwAAAAAAAOA/AAAAAAAA4D8AAAAAAADgPwAAAAAAAOA/AAAAAAAA4D8AAAAAAADwPwAAAAAAAPA/AAAAAAAA4D8AAAAAAADgPwAAAAAAAOA/AAAAAAAABEA=\",\"dtype\":\"float64\",\"order\":\"little\",\"shape\":[34]},\"end_time\":{\"__ndarray__\":\"AAAAAAAA4D8AAAAAAADwPwAAAAAAAPg/AAAAAAAAAEAAAAAAAAAEQAAAAAAAABBAAAAAAAAAFEAAAAAAAAAYQAAAAAAAACBAAAAAAAAAIkAAAAAAAAAjQAAAAAAAACRAAAAAAAAAJUAAAAAAAAAmQAAAAAAAACdAAAAAAAAAKEAAAAAAAAArQAAAAAAAAC5AAAAAAAAAMEAAAAAAAIAwQAAAAAAAgDFAAAAAAAAAMkAAAAAAAAAzQAAAAAAAgDNAAAAAAACANEAAAAAAAIA1QAAAAAAAADZAAAAAAAAAN0AAAAAAAAA4QAAAAAAAADlAAAAAAACAOUAAAAAAAIA6QAAAAAAAgDtAAAAAAAAAPkA=\",\"dtype\":\"float64\",\"order\":\"little\",\"shape\":[34]},\"fill_alpha\":{\"__ndarray__\":\"AAAAAAAA8D8AAAAAAADwPwAAAAAAAPA/AAAAAAAA8D8AAAAAAADwPwAAAAAAAPA/AAAAAAAA8D8AAAAAAADwPwAAAAAAAPA/AAAAAAAA8D8AAAAAAADwPwAAAAAAAPA/AAAAAAAA8D8AAAAAAADwPwAAAAAAAPA/AAAAAAAA8D8AAAAAAADwPwAAAAAAAPA/AAAAAAAA8D8AAAAAAADwPwAAAAAAAPA/AAAAAAAA8D8AAAAAAADwPwAAAAAAAPA/AAAAAAAA8D8AAAAAAADwPwAAAAAAAPA/AAAAAAAA8D8AAAAAAADwPwAAAAAAAPA/AAAAAAAA8D8AAAAAAADwPwAAAAAAAPA/AAAAAAAA8D8=\",\"dtype\":\"float64\",\"order\":\"little\",\"shape\":[34]},\"index\":[0,1,2,3,4,5,6,7,8,9,10,11,12,13,14,15,16,17,18,19,20,21,22,23,24,25,26,27,28,29,30,31,32,33],\"instrument\":[0,0,0,0,0,0,0,0,0,0,0,0,0,0,0,0,0,0,0,0,0,0,0,0,0,0,0,0,0,0,0,0,0,0],\"pitch\":[69,71,73,74,76,81,78,81,76,71,81,83,78,76,71,73,74,83,81,81,76,74,76,74,69,69,69,78,78,76,74,78,76,78],\"program\":[0,0,0,0,0,0,0,0,0,0,0,0,0,0,0,0,0,0,0,0,0,0,0,0,0,0,0,0,0,0,0,0,0,0],\"start_time\":{\"__ndarray__\":\"AAAAAAAAAAAAAAAAAADgPwAAAAAAAPA/AAAAAAAA+D8AAAAAAAAAQAAAAAAAAAhAAAAAAAAAEEAAAAAAAAAUQAAAAAAAABhAAAAAAAAAIUAAAAAAAAAiQAAAAAAAACNAAAAAAAAAJEAAAAAAAAAlQAAAAAAAACZAAAAAAAAAJ0AAAAAAAAAoQAAAAAAAACxAAAAAAAAALkAAAAAAAAAwQAAAAAAAADFAAAAAAACAMUAAAAAAAAAyQAAAAAAAADNAAAAAAAAANEAAAAAAAAA1QAAAAAAAgDVAAAAAAACANkAAAAAAAAA3QAAAAAAAADhAAAAAAAAAOUAAAAAAAAA6QAAAAAAAADtAAAAAAACAO0A=\",\"dtype\":\"float64\",\"order\":\"little\",\"shape\":[34]},\"top\":{\"__ndarray__\":\"mpmZmZlZUUCamZmZmdlRQJqZmZmZWVJAmpmZmZmZUkCamZmZmRlTQJqZmZmZWVRAmpmZmZmZU0CamZmZmVlUQJqZmZmZGVNAmpmZmZnZUUCamZmZmVlUQJqZmZmZ2VRAmpmZmZmZU0CamZmZmRlTQJqZmZmZ2VFAmpmZmZlZUkCamZmZmZlSQJqZmZmZ2VRAmpmZmZlZVECamZmZmVlUQJqZmZmZGVNAmpmZmZmZUkCamZmZmRlTQJqZmZmZmVJAmpmZmZlZUUCamZmZmVlRQJqZmZmZWVFAmpmZmZmZU0CamZmZmZlTQJqZmZmZGVNAmpmZmZmZUkCamZmZmZlTQJqZmZmZGVNAmpmZmZmZU0A=\",\"dtype\":\"float64\",\"order\":\"little\",\"shape\":[34]},\"velocity\":[100,100,100,100,100,100,100,100,100,100,100,100,100,100,100,100,100,100,100,100,100,100,100,100,100,100,100,100,100,100,100,100,100,100]},\"selected\":{\"id\":\"2085\"},\"selection_policy\":{\"id\":\"2084\"}},\"id\":\"2073\",\"type\":\"ColumnDataSource\"},{\"attributes\":{\"axis_label\":\"time (sec)\",\"formatter\":{\"id\":\"2082\"},\"ticker\":{\"id\":\"2051\"}},\"id\":\"2050\",\"type\":\"LinearAxis\"},{\"attributes\":{},\"id\":\"2081\",\"type\":\"BasicTickFormatter\"},{\"attributes\":{\"axis\":{\"id\":\"2050\"},\"ticker\":null},\"id\":\"2053\",\"type\":\"Grid\"},{\"attributes\":{\"axis\":{\"id\":\"2054\"},\"dimension\":1,\"ticker\":{\"id\":\"2072\"}},\"id\":\"2057\",\"type\":\"Grid\"},{\"attributes\":{\"bottom_units\":\"screen\",\"fill_alpha\":0.5,\"fill_color\":\"lightgrey\",\"left_units\":\"screen\",\"level\":\"overlay\",\"line_alpha\":1.0,\"line_color\":\"black\",\"line_dash\":[4,4],\"line_width\":2,\"right_units\":\"screen\",\"top_units\":\"screen\"},\"id\":\"2063\",\"type\":\"BoxAnnotation\"},{\"attributes\":{\"interval\":12},\"id\":\"2070\",\"type\":\"SingleIntervalTicker\"},{\"attributes\":{\"bottom\":{\"field\":\"bottom\"},\"fill_alpha\":{\"value\":0.1},\"fill_color\":{\"value\":\"#d53e4f\"},\"left\":{\"field\":\"start_time\"},\"line_alpha\":{\"value\":0.1},\"right\":{\"field\":\"end_time\"},\"top\":{\"field\":\"top\"}},\"id\":\"2076\",\"type\":\"Quad\"},{\"attributes\":{},\"id\":\"2062\",\"type\":\"SaveTool\"},{\"attributes\":{},\"id\":\"2046\",\"type\":\"LinearScale\"},{\"attributes\":{},\"id\":\"2044\",\"type\":\"DataRange1d\"},{\"attributes\":{},\"id\":\"2061\",\"type\":\"ResetTool\"},{\"attributes\":{\"source\":{\"id\":\"2073\"}},\"id\":\"2078\",\"type\":\"CDSView\"},{\"attributes\":{\"overlay\":{\"id\":\"2063\"}},\"id\":\"2060\",\"type\":\"BoxZoomTool\"},{\"attributes\":{\"bottom\":{\"field\":\"bottom\"},\"fill_alpha\":{\"field\":\"fill_alpha\"},\"fill_color\":{\"value\":\"#d53e4f\"},\"left\":{\"field\":\"start_time\"},\"right\":{\"field\":\"end_time\"},\"top\":{\"field\":\"top\"}},\"id\":\"2075\",\"type\":\"Quad\"},{\"attributes\":{},\"id\":\"2042\",\"type\":\"DataRange1d\"},{\"attributes\":{\"active_drag\":\"auto\",\"active_inspect\":\"auto\",\"active_multi\":null,\"active_scroll\":\"auto\",\"active_tap\":\"auto\",\"tools\":[{\"id\":\"2058\"},{\"id\":\"2059\"},{\"id\":\"2060\"},{\"id\":\"2061\"},{\"id\":\"2062\"}]},\"id\":\"2064\",\"type\":\"Toolbar\"},{\"attributes\":{\"interval\":12},\"id\":\"2072\",\"type\":\"SingleIntervalTicker\"},{\"attributes\":{},\"id\":\"2084\",\"type\":\"UnionRenderers\"},{\"attributes\":{\"axis_label\":\"pitch (MIDI)\",\"formatter\":{\"id\":\"2081\"},\"ticker\":{\"id\":\"2070\"}},\"id\":\"2054\",\"type\":\"LinearAxis\"},{\"attributes\":{\"text\":\"\"},\"id\":\"2079\",\"type\":\"Title\"},{\"attributes\":{\"data_source\":{\"id\":\"2073\"},\"glyph\":{\"id\":\"2075\"},\"hover_glyph\":null,\"muted_glyph\":null,\"nonselection_glyph\":{\"id\":\"2076\"},\"selection_glyph\":null,\"view\":{\"id\":\"2078\"}},\"id\":\"2077\",\"type\":\"GlyphRenderer\"},{\"attributes\":{},\"id\":\"2085\",\"type\":\"Selection\"},{\"attributes\":{\"callback\":null,\"tooltips\":[[\"pitch\",\"@pitch\"],[\"program\",\"@program\"],[\"velo\",\"@velocity\"],[\"duration\",\"@duration\"],[\"start_time\",\"@start_time\"],[\"end_time\",\"@end_time\"],[\"velocity\",\"@velocity\"],[\"fill_alpha\",\"@fill_alpha\"]]},\"id\":\"2058\",\"type\":\"HoverTool\"},{\"attributes\":{},\"id\":\"2051\",\"type\":\"BasicTicker\"},{\"attributes\":{},\"id\":\"2059\",\"type\":\"PanTool\"},{\"attributes\":{},\"id\":\"2082\",\"type\":\"BasicTickFormatter\"},{\"attributes\":{},\"id\":\"2048\",\"type\":\"LinearScale\"}],\"root_ids\":[\"2041\"]},\"title\":\"Bokeh Application\",\"version\":\"2.1.1\"}};\n",
              "  var render_items = [{\"docid\":\"4fc0482d-72bd-4572-82dc-a0901ae82dd6\",\"root_ids\":[\"2041\"],\"roots\":{\"2041\":\"55c4df79-68bb-494e-a3d0-fb00f0428540\"}}];\n",
              "  root.Bokeh.embed.embed_items_notebook(docs_json, render_items);\n",
              "\n",
              "  }\n",
              "  if (root.Bokeh !== undefined) {\n",
              "    embed_document(root);\n",
              "  } else {\n",
              "    var attempts = 0;\n",
              "    var timer = setInterval(function(root) {\n",
              "      if (root.Bokeh !== undefined) {\n",
              "        clearInterval(timer);\n",
              "        embed_document(root);\n",
              "      } else {\n",
              "        attempts++;\n",
              "        if (attempts > 100) {\n",
              "          clearInterval(timer);\n",
              "          console.log(\"Bokeh: ERROR: Unable to run BokehJS code because BokehJS library is missing\");\n",
              "        }\n",
              "      }\n",
              "    }, 10, root)\n",
              "  }\n",
              "})(window);"
            ],
            "application/vnd.bokehjs_exec.v0+json": ""
          },
          "metadata": {
            "tags": [],
            "application/vnd.bokehjs_exec.v0+json": {
              "id": "2041"
            }
          }
        },
        {
          "output_type": "display_data",
          "data": {
            "text/html": [
              "<div id=\"id_9\"> </div>"
            ],
            "text/plain": [
              "<IPython.core.display.HTML object>"
            ]
          },
          "metadata": {
            "tags": []
          }
        }
      ]
    },
    {
      "cell_type": "code",
      "metadata": {
        "cellView": "both",
        "id": "FDW3h0cqUERq"
      },
      "source": [
        "# =========\n",
        "# MusicVAE\n",
        "# =========\n",
        "# https://arxiv.org/pdf/1803.05428.pdf\n",
        "\n",
        "\n",
        "# Загружаем один из вариантов предобученого VAE\n",
        "\n",
        "!gsutil -q -m cp -R gs://download.magenta.tensorflow.org/models/music_vae/colab2/checkpoints/mel_2bar_big.ckpt.* /content/\n",
        "from magenta.models.music_vae import configs\n",
        "from magenta.models.music_vae.trained_model import TrainedModel\n",
        "\n",
        "# Создаем модель\n",
        "\n",
        "music_vae = TrainedModel(\n",
        "      configs.CONFIG_MAP['cat-mel_2bar_big'], \n",
        "      batch_size=4, \n",
        "      checkpoint_dir_or_path='/content/mel_2bar_big.ckpt')\n",
        "clear_output()"
      ],
      "execution_count": null,
      "outputs": []
    },
    {
      "cell_type": "code",
      "metadata": {
        "cellView": "both",
        "colab": {
          "base_uri": "https://localhost:8080/",
          "height": 791
        },
        "id": "XKk8rGihUR6B",
        "outputId": "c0436349-efc6-43a8-aec2-ce95d87fe652"
      },
      "source": [
        "# Можем менять сколько новых последовательностей нужно сгенерировать\n",
        "# Количество шагов в новой последовательности\n",
        "# Также «температуру» результата - чем выше температура, тем более случайный (и менее похожий на ввод ) ваша последовательность будет\n",
        "\n",
        "\n",
        "generated_sequences = music_vae.sample(n=3, length=80, temperature=0.1)\n",
        "\n",
        "for ns in generated_sequences:\n",
        "  note_seq.plot_sequence(ns)\n",
        "  note_seq.play_sequence(ns, synth=note_seq.fluidsynth)"
      ],
      "execution_count": null,
      "outputs": [
        {
          "output_type": "display_data",
          "data": {
            "application/javascript": [
              "\n",
              "(function(root) {\n",
              "  function now() {\n",
              "    return new Date();\n",
              "  }\n",
              "\n",
              "  var force = true;\n",
              "\n",
              "  if (typeof root._bokeh_onload_callbacks === \"undefined\" || force === true) {\n",
              "    root._bokeh_onload_callbacks = [];\n",
              "    root._bokeh_is_loading = undefined;\n",
              "  }\n",
              "\n",
              "  var JS_MIME_TYPE = 'application/javascript';\n",
              "  var HTML_MIME_TYPE = 'text/html';\n",
              "  var EXEC_MIME_TYPE = 'application/vnd.bokehjs_exec.v0+json';\n",
              "  var CLASS_NAME = 'output_bokeh rendered_html';\n",
              "\n",
              "  /**\n",
              "   * Render data to the DOM node\n",
              "   */\n",
              "  function render(props, node) {\n",
              "    var script = document.createElement(\"script\");\n",
              "    node.appendChild(script);\n",
              "  }\n",
              "\n",
              "  /**\n",
              "   * Handle when an output is cleared or removed\n",
              "   */\n",
              "  function handleClearOutput(event, handle) {\n",
              "    var cell = handle.cell;\n",
              "\n",
              "    var id = cell.output_area._bokeh_element_id;\n",
              "    var server_id = cell.output_area._bokeh_server_id;\n",
              "    // Clean up Bokeh references\n",
              "    if (id != null && id in Bokeh.index) {\n",
              "      Bokeh.index[id].model.document.clear();\n",
              "      delete Bokeh.index[id];\n",
              "    }\n",
              "\n",
              "    if (server_id !== undefined) {\n",
              "      // Clean up Bokeh references\n",
              "      var cmd = \"from bokeh.io.state import curstate; print(curstate().uuid_to_server['\" + server_id + \"'].get_sessions()[0].document.roots[0]._id)\";\n",
              "      cell.notebook.kernel.execute(cmd, {\n",
              "        iopub: {\n",
              "          output: function(msg) {\n",
              "            var id = msg.content.text.trim();\n",
              "            if (id in Bokeh.index) {\n",
              "              Bokeh.index[id].model.document.clear();\n",
              "              delete Bokeh.index[id];\n",
              "            }\n",
              "          }\n",
              "        }\n",
              "      });\n",
              "      // Destroy server and session\n",
              "      var cmd = \"import bokeh.io.notebook as ion; ion.destroy_server('\" + server_id + \"')\";\n",
              "      cell.notebook.kernel.execute(cmd);\n",
              "    }\n",
              "  }\n",
              "\n",
              "  /**\n",
              "   * Handle when a new output is added\n",
              "   */\n",
              "  function handleAddOutput(event, handle) {\n",
              "    var output_area = handle.output_area;\n",
              "    var output = handle.output;\n",
              "\n",
              "    // limit handleAddOutput to display_data with EXEC_MIME_TYPE content only\n",
              "    if ((output.output_type != \"display_data\") || (!output.data.hasOwnProperty(EXEC_MIME_TYPE))) {\n",
              "      return\n",
              "    }\n",
              "\n",
              "    var toinsert = output_area.element.find(\".\" + CLASS_NAME.split(' ')[0]);\n",
              "\n",
              "    if (output.metadata[EXEC_MIME_TYPE][\"id\"] !== undefined) {\n",
              "      toinsert[toinsert.length - 1].firstChild.textContent = output.data[JS_MIME_TYPE];\n",
              "      // store reference to embed id on output_area\n",
              "      output_area._bokeh_element_id = output.metadata[EXEC_MIME_TYPE][\"id\"];\n",
              "    }\n",
              "    if (output.metadata[EXEC_MIME_TYPE][\"server_id\"] !== undefined) {\n",
              "      var bk_div = document.createElement(\"div\");\n",
              "      bk_div.innerHTML = output.data[HTML_MIME_TYPE];\n",
              "      var script_attrs = bk_div.children[0].attributes;\n",
              "      for (var i = 0; i < script_attrs.length; i++) {\n",
              "        toinsert[toinsert.length - 1].firstChild.setAttribute(script_attrs[i].name, script_attrs[i].value);\n",
              "        toinsert[toinsert.length - 1].firstChild.textContent = bk_div.children[0].textContent\n",
              "      }\n",
              "      // store reference to server id on output_area\n",
              "      output_area._bokeh_server_id = output.metadata[EXEC_MIME_TYPE][\"server_id\"];\n",
              "    }\n",
              "  }\n",
              "\n",
              "  function register_renderer(events, OutputArea) {\n",
              "\n",
              "    function append_mime(data, metadata, element) {\n",
              "      // create a DOM node to render to\n",
              "      var toinsert = this.create_output_subarea(\n",
              "        metadata,\n",
              "        CLASS_NAME,\n",
              "        EXEC_MIME_TYPE\n",
              "      );\n",
              "      this.keyboard_manager.register_events(toinsert);\n",
              "      // Render to node\n",
              "      var props = {data: data, metadata: metadata[EXEC_MIME_TYPE]};\n",
              "      render(props, toinsert[toinsert.length - 1]);\n",
              "      element.append(toinsert);\n",
              "      return toinsert\n",
              "    }\n",
              "\n",
              "    /* Handle when an output is cleared or removed */\n",
              "    events.on('clear_output.CodeCell', handleClearOutput);\n",
              "    events.on('delete.Cell', handleClearOutput);\n",
              "\n",
              "    /* Handle when a new output is added */\n",
              "    events.on('output_added.OutputArea', handleAddOutput);\n",
              "\n",
              "    /**\n",
              "     * Register the mime type and append_mime function with output_area\n",
              "     */\n",
              "    OutputArea.prototype.register_mime_type(EXEC_MIME_TYPE, append_mime, {\n",
              "      /* Is output safe? */\n",
              "      safe: true,\n",
              "      /* Index of renderer in `output_area.display_order` */\n",
              "      index: 0\n",
              "    });\n",
              "  }\n",
              "\n",
              "  // register the mime type if in Jupyter Notebook environment and previously unregistered\n",
              "  if (root.Jupyter !== undefined) {\n",
              "    var events = require('base/js/events');\n",
              "    var OutputArea = require('notebook/js/outputarea').OutputArea;\n",
              "\n",
              "    if (OutputArea.prototype.mime_types().indexOf(EXEC_MIME_TYPE) == -1) {\n",
              "      register_renderer(events, OutputArea);\n",
              "    }\n",
              "  }\n",
              "\n",
              "  \n",
              "  if (typeof (root._bokeh_timeout) === \"undefined\" || force === true) {\n",
              "    root._bokeh_timeout = Date.now() + 5000;\n",
              "    root._bokeh_failed_load = false;\n",
              "  }\n",
              "\n",
              "  var NB_LOAD_WARNING = {'data': {'text/html':\n",
              "     \"<div style='background-color: #fdd'>\\n\"+\n",
              "     \"<p>\\n\"+\n",
              "     \"BokehJS does not appear to have successfully loaded. If loading BokehJS from CDN, this \\n\"+\n",
              "     \"may be due to a slow or bad network connection. Possible fixes:\\n\"+\n",
              "     \"</p>\\n\"+\n",
              "     \"<ul>\\n\"+\n",
              "     \"<li>re-rerun `output_notebook()` to attempt to load from CDN again, or</li>\\n\"+\n",
              "     \"<li>use INLINE resources instead, as so:</li>\\n\"+\n",
              "     \"</ul>\\n\"+\n",
              "     \"<code>\\n\"+\n",
              "     \"from bokeh.resources import INLINE\\n\"+\n",
              "     \"output_notebook(resources=INLINE)\\n\"+\n",
              "     \"</code>\\n\"+\n",
              "     \"</div>\"}};\n",
              "\n",
              "  function display_loaded() {\n",
              "    var el = document.getElementById(null);\n",
              "    if (el != null) {\n",
              "      el.textContent = \"BokehJS is loading...\";\n",
              "    }\n",
              "    if (root.Bokeh !== undefined) {\n",
              "      if (el != null) {\n",
              "        el.textContent = \"BokehJS \" + root.Bokeh.version + \" successfully loaded.\";\n",
              "      }\n",
              "    } else if (Date.now() < root._bokeh_timeout) {\n",
              "      setTimeout(display_loaded, 100)\n",
              "    }\n",
              "  }\n",
              "\n",
              "\n",
              "  function run_callbacks() {\n",
              "    try {\n",
              "      root._bokeh_onload_callbacks.forEach(function(callback) {\n",
              "        if (callback != null)\n",
              "          callback();\n",
              "      });\n",
              "    } finally {\n",
              "      delete root._bokeh_onload_callbacks\n",
              "    }\n",
              "    console.debug(\"Bokeh: all callbacks have finished\");\n",
              "  }\n",
              "\n",
              "  function load_libs(css_urls, js_urls, callback) {\n",
              "    if (css_urls == null) css_urls = [];\n",
              "    if (js_urls == null) js_urls = [];\n",
              "\n",
              "    root._bokeh_onload_callbacks.push(callback);\n",
              "    if (root._bokeh_is_loading > 0) {\n",
              "      console.debug(\"Bokeh: BokehJS is being loaded, scheduling callback at\", now());\n",
              "      return null;\n",
              "    }\n",
              "    if (js_urls == null || js_urls.length === 0) {\n",
              "      run_callbacks();\n",
              "      return null;\n",
              "    }\n",
              "    console.debug(\"Bokeh: BokehJS not loaded, scheduling load and callback at\", now());\n",
              "    root._bokeh_is_loading = css_urls.length + js_urls.length;\n",
              "\n",
              "    function on_load() {\n",
              "      root._bokeh_is_loading--;\n",
              "      if (root._bokeh_is_loading === 0) {\n",
              "        console.debug(\"Bokeh: all BokehJS libraries/stylesheets loaded\");\n",
              "        run_callbacks()\n",
              "      }\n",
              "    }\n",
              "\n",
              "    function on_error() {\n",
              "      console.error(\"failed to load \" + url);\n",
              "    }\n",
              "\n",
              "    for (var i = 0; i < css_urls.length; i++) {\n",
              "      var url = css_urls[i];\n",
              "      const element = document.createElement(\"link\");\n",
              "      element.onload = on_load;\n",
              "      element.onerror = on_error;\n",
              "      element.rel = \"stylesheet\";\n",
              "      element.type = \"text/css\";\n",
              "      element.href = url;\n",
              "      console.debug(\"Bokeh: injecting link tag for BokehJS stylesheet: \", url);\n",
              "      document.body.appendChild(element);\n",
              "    }\n",
              "\n",
              "    const hashes = {\"https://cdn.bokeh.org/bokeh/release/bokeh-2.1.1.min.js\": \"kLr4fYcqcSpbuI95brIH3vnnYCquzzSxHPU6XGQCIkQRGJwhg0StNbj1eegrHs12\", \"https://cdn.bokeh.org/bokeh/release/bokeh-widgets-2.1.1.min.js\": \"xIGPmVtaOm+z0BqfSOMn4lOR6ciex448GIKG4eE61LsAvmGj48XcMQZtKcE/UXZe\", \"https://cdn.bokeh.org/bokeh/release/bokeh-tables-2.1.1.min.js\": \"Dc9u1wF/0zApGIWoBbH77iWEHtdmkuYWG839Uzmv8y8yBLXebjO9ZnERsde5Ln/P\", \"https://cdn.bokeh.org/bokeh/release/bokeh-gl-2.1.1.min.js\": \"cT9JaBz7GiRXdENrJLZNSC6eMNF3nh3fa5fTF51Svp+ukxPdwcU5kGXGPBgDCa2j\"};\n",
              "\n",
              "    for (var i = 0; i < js_urls.length; i++) {\n",
              "      var url = js_urls[i];\n",
              "      var element = document.createElement('script');\n",
              "      element.onload = on_load;\n",
              "      element.onerror = on_error;\n",
              "      element.async = false;\n",
              "      element.src = url;\n",
              "      if (url in hashes) {\n",
              "        element.crossOrigin = \"anonymous\";\n",
              "        element.integrity = \"sha384-\" + hashes[url];\n",
              "      }\n",
              "      console.debug(\"Bokeh: injecting script tag for BokehJS library: \", url);\n",
              "      document.head.appendChild(element);\n",
              "    }\n",
              "  };\n",
              "\n",
              "  function inject_raw_css(css) {\n",
              "    const element = document.createElement(\"style\");\n",
              "    element.appendChild(document.createTextNode(css));\n",
              "    document.body.appendChild(element);\n",
              "  }\n",
              "\n",
              "  \n",
              "  var js_urls = [\"https://cdn.bokeh.org/bokeh/release/bokeh-2.1.1.min.js\", \"https://cdn.bokeh.org/bokeh/release/bokeh-widgets-2.1.1.min.js\", \"https://cdn.bokeh.org/bokeh/release/bokeh-tables-2.1.1.min.js\", \"https://cdn.bokeh.org/bokeh/release/bokeh-gl-2.1.1.min.js\"];\n",
              "  var css_urls = [];\n",
              "  \n",
              "\n",
              "  var inline_js = [\n",
              "    function(Bokeh) {\n",
              "      Bokeh.set_log_level(\"info\");\n",
              "    },\n",
              "    function(Bokeh) {\n",
              "    \n",
              "    \n",
              "    }\n",
              "  ];\n",
              "\n",
              "  function run_inline_js() {\n",
              "    \n",
              "    if (root.Bokeh !== undefined || force === true) {\n",
              "      \n",
              "    for (var i = 0; i < inline_js.length; i++) {\n",
              "      inline_js[i].call(root, root.Bokeh);\n",
              "    }\n",
              "    } else if (Date.now() < root._bokeh_timeout) {\n",
              "      setTimeout(run_inline_js, 100);\n",
              "    } else if (!root._bokeh_failed_load) {\n",
              "      console.log(\"Bokeh: BokehJS failed to load within specified timeout.\");\n",
              "      root._bokeh_failed_load = true;\n",
              "    } else if (force !== true) {\n",
              "      var cell = $(document.getElementById(null)).parents('.cell').data().cell;\n",
              "      cell.output_area.append_execute_result(NB_LOAD_WARNING)\n",
              "    }\n",
              "\n",
              "  }\n",
              "\n",
              "  if (root._bokeh_is_loading === 0) {\n",
              "    console.debug(\"Bokeh: BokehJS loaded, going straight to plotting\");\n",
              "    run_inline_js();\n",
              "  } else {\n",
              "    load_libs(css_urls, js_urls, function() {\n",
              "      console.debug(\"Bokeh: BokehJS plotting callback run at\", now());\n",
              "      run_inline_js();\n",
              "    });\n",
              "  }\n",
              "}(window));"
            ],
            "application/vnd.bokehjs_load.v0+json": "\n(function(root) {\n  function now() {\n    return new Date();\n  }\n\n  var force = true;\n\n  if (typeof root._bokeh_onload_callbacks === \"undefined\" || force === true) {\n    root._bokeh_onload_callbacks = [];\n    root._bokeh_is_loading = undefined;\n  }\n\n  \n\n  \n  if (typeof (root._bokeh_timeout) === \"undefined\" || force === true) {\n    root._bokeh_timeout = Date.now() + 5000;\n    root._bokeh_failed_load = false;\n  }\n\n  var NB_LOAD_WARNING = {'data': {'text/html':\n     \"<div style='background-color: #fdd'>\\n\"+\n     \"<p>\\n\"+\n     \"BokehJS does not appear to have successfully loaded. If loading BokehJS from CDN, this \\n\"+\n     \"may be due to a slow or bad network connection. Possible fixes:\\n\"+\n     \"</p>\\n\"+\n     \"<ul>\\n\"+\n     \"<li>re-rerun `output_notebook()` to attempt to load from CDN again, or</li>\\n\"+\n     \"<li>use INLINE resources instead, as so:</li>\\n\"+\n     \"</ul>\\n\"+\n     \"<code>\\n\"+\n     \"from bokeh.resources import INLINE\\n\"+\n     \"output_notebook(resources=INLINE)\\n\"+\n     \"</code>\\n\"+\n     \"</div>\"}};\n\n  function display_loaded() {\n    var el = document.getElementById(null);\n    if (el != null) {\n      el.textContent = \"BokehJS is loading...\";\n    }\n    if (root.Bokeh !== undefined) {\n      if (el != null) {\n        el.textContent = \"BokehJS \" + root.Bokeh.version + \" successfully loaded.\";\n      }\n    } else if (Date.now() < root._bokeh_timeout) {\n      setTimeout(display_loaded, 100)\n    }\n  }\n\n\n  function run_callbacks() {\n    try {\n      root._bokeh_onload_callbacks.forEach(function(callback) {\n        if (callback != null)\n          callback();\n      });\n    } finally {\n      delete root._bokeh_onload_callbacks\n    }\n    console.debug(\"Bokeh: all callbacks have finished\");\n  }\n\n  function load_libs(css_urls, js_urls, callback) {\n    if (css_urls == null) css_urls = [];\n    if (js_urls == null) js_urls = [];\n\n    root._bokeh_onload_callbacks.push(callback);\n    if (root._bokeh_is_loading > 0) {\n      console.debug(\"Bokeh: BokehJS is being loaded, scheduling callback at\", now());\n      return null;\n    }\n    if (js_urls == null || js_urls.length === 0) {\n      run_callbacks();\n      return null;\n    }\n    console.debug(\"Bokeh: BokehJS not loaded, scheduling load and callback at\", now());\n    root._bokeh_is_loading = css_urls.length + js_urls.length;\n\n    function on_load() {\n      root._bokeh_is_loading--;\n      if (root._bokeh_is_loading === 0) {\n        console.debug(\"Bokeh: all BokehJS libraries/stylesheets loaded\");\n        run_callbacks()\n      }\n    }\n\n    function on_error() {\n      console.error(\"failed to load \" + url);\n    }\n\n    for (var i = 0; i < css_urls.length; i++) {\n      var url = css_urls[i];\n      const element = document.createElement(\"link\");\n      element.onload = on_load;\n      element.onerror = on_error;\n      element.rel = \"stylesheet\";\n      element.type = \"text/css\";\n      element.href = url;\n      console.debug(\"Bokeh: injecting link tag for BokehJS stylesheet: \", url);\n      document.body.appendChild(element);\n    }\n\n    const hashes = {\"https://cdn.bokeh.org/bokeh/release/bokeh-2.1.1.min.js\": \"kLr4fYcqcSpbuI95brIH3vnnYCquzzSxHPU6XGQCIkQRGJwhg0StNbj1eegrHs12\", \"https://cdn.bokeh.org/bokeh/release/bokeh-widgets-2.1.1.min.js\": \"xIGPmVtaOm+z0BqfSOMn4lOR6ciex448GIKG4eE61LsAvmGj48XcMQZtKcE/UXZe\", \"https://cdn.bokeh.org/bokeh/release/bokeh-tables-2.1.1.min.js\": \"Dc9u1wF/0zApGIWoBbH77iWEHtdmkuYWG839Uzmv8y8yBLXebjO9ZnERsde5Ln/P\", \"https://cdn.bokeh.org/bokeh/release/bokeh-gl-2.1.1.min.js\": \"cT9JaBz7GiRXdENrJLZNSC6eMNF3nh3fa5fTF51Svp+ukxPdwcU5kGXGPBgDCa2j\"};\n\n    for (var i = 0; i < js_urls.length; i++) {\n      var url = js_urls[i];\n      var element = document.createElement('script');\n      element.onload = on_load;\n      element.onerror = on_error;\n      element.async = false;\n      element.src = url;\n      if (url in hashes) {\n        element.crossOrigin = \"anonymous\";\n        element.integrity = \"sha384-\" + hashes[url];\n      }\n      console.debug(\"Bokeh: injecting script tag for BokehJS library: \", url);\n      document.head.appendChild(element);\n    }\n  };\n\n  function inject_raw_css(css) {\n    const element = document.createElement(\"style\");\n    element.appendChild(document.createTextNode(css));\n    document.body.appendChild(element);\n  }\n\n  \n  var js_urls = [\"https://cdn.bokeh.org/bokeh/release/bokeh-2.1.1.min.js\", \"https://cdn.bokeh.org/bokeh/release/bokeh-widgets-2.1.1.min.js\", \"https://cdn.bokeh.org/bokeh/release/bokeh-tables-2.1.1.min.js\", \"https://cdn.bokeh.org/bokeh/release/bokeh-gl-2.1.1.min.js\"];\n  var css_urls = [];\n  \n\n  var inline_js = [\n    function(Bokeh) {\n      Bokeh.set_log_level(\"info\");\n    },\n    function(Bokeh) {\n    \n    \n    }\n  ];\n\n  function run_inline_js() {\n    \n    if (root.Bokeh !== undefined || force === true) {\n      \n    for (var i = 0; i < inline_js.length; i++) {\n      inline_js[i].call(root, root.Bokeh);\n    }\n    } else if (Date.now() < root._bokeh_timeout) {\n      setTimeout(run_inline_js, 100);\n    } else if (!root._bokeh_failed_load) {\n      console.log(\"Bokeh: BokehJS failed to load within specified timeout.\");\n      root._bokeh_failed_load = true;\n    } else if (force !== true) {\n      var cell = $(document.getElementById(null)).parents('.cell').data().cell;\n      cell.output_area.append_execute_result(NB_LOAD_WARNING)\n    }\n\n  }\n\n  if (root._bokeh_is_loading === 0) {\n    console.debug(\"Bokeh: BokehJS loaded, going straight to plotting\");\n    run_inline_js();\n  } else {\n    load_libs(css_urls, js_urls, function() {\n      console.debug(\"Bokeh: BokehJS plotting callback run at\", now());\n      run_inline_js();\n    });\n  }\n}(window));"
          },
          "metadata": {
            "tags": []
          }
        },
        {
          "output_type": "display_data",
          "data": {
            "text/html": [
              "\n",
              "\n",
              "\n",
              "\n",
              "\n",
              "\n",
              "  <div class=\"bk-root\" id=\"239837d1-ec44-4011-aedf-89a668557079\" data-root-id=\"2563\"></div>\n"
            ]
          },
          "metadata": {
            "tags": []
          }
        },
        {
          "output_type": "display_data",
          "data": {
            "application/javascript": [
              "(function(root) {\n",
              "  function embed_document(root) {\n",
              "    \n",
              "  var docs_json = {\"c822fb38-7680-4c7e-a36a-f82abafd0782\":{\"roots\":{\"references\":[{\"attributes\":{\"below\":[{\"id\":\"2572\"}],\"center\":[{\"id\":\"2575\"},{\"id\":\"2579\"}],\"left\":[{\"id\":\"2576\"}],\"plot_height\":200,\"plot_width\":500,\"renderers\":[{\"id\":\"2599\"}],\"title\":{\"id\":\"2601\"},\"toolbar\":{\"id\":\"2586\"},\"x_range\":{\"id\":\"2564\"},\"x_scale\":{\"id\":\"2568\"},\"y_range\":{\"id\":\"2566\"},\"y_scale\":{\"id\":\"2570\"}},\"id\":\"2563\",\"subtype\":\"Figure\",\"type\":\"Plot\"},{\"attributes\":{\"axis\":{\"id\":\"2576\"},\"dimension\":1,\"ticker\":{\"id\":\"2594\"}},\"id\":\"2579\",\"type\":\"Grid\"},{\"attributes\":{},\"id\":\"2581\",\"type\":\"PanTool\"},{\"attributes\":{},\"id\":\"2564\",\"type\":\"DataRange1d\"},{\"attributes\":{\"text\":\"\"},\"id\":\"2601\",\"type\":\"Title\"},{\"attributes\":{},\"id\":\"2573\",\"type\":\"BasicTicker\"},{\"attributes\":{},\"id\":\"2604\",\"type\":\"BasicTickFormatter\"},{\"attributes\":{},\"id\":\"2584\",\"type\":\"SaveTool\"},{\"attributes\":{\"data\":{\"bottom\":{\"__ndarray__\":\"ZmZmZmbmWEBmZmZmZuZXQGZmZmZmplZAZmZmZmamVkBmZmZmZuZVQGZmZmZm5lVAZmZmZmZmWEBmZmZmZqZXQGZmZmZmplZAZmZmZmZmWEBmZmZmZmZYQA==\",\"dtype\":\"float64\",\"order\":\"little\",\"shape\":[11]},\"duration\":{\"__ndarray__\":\"AAAAAAAA4D8AAAAAAADoPwAAAAAAANA/AAAAAAAA4D8AAAAAAADgPwAAAAAAANA/AAAAAAAA0D8AAAAAAADoPwAAAAAAANA/AAAAAAAA8D8AAAAAAAARQA==\",\"dtype\":\"float64\",\"order\":\"little\",\"shape\":[11]},\"end_time\":{\"__ndarray__\":\"AAAAAAAA4D8AAAAAAAD0PwAAAAAAAPw/AAAAAAAABEAAAAAAAAAIQAAAAAAAAApAAAAAAAAADkAAAAAAAAASQAAAAAAAABNAAAAAAAAAF0AAAAAAAAAkQA==\",\"dtype\":\"float64\",\"order\":\"little\",\"shape\":[11]},\"fill_alpha\":{\"__ndarray__\":\"AAAAAAAA8D8AAAAAAADwPwAAAAAAAPA/AAAAAAAA8D8AAAAAAADwPwAAAAAAAPA/AAAAAAAA8D8AAAAAAADwPwAAAAAAAPA/AAAAAAAA8D8AAAAAAADwPw==\",\"dtype\":\"float64\",\"order\":\"little\",\"shape\":[11]},\"index\":[0,1,2,3,4,5,6,7,8,9,10],\"instrument\":[0,0,0,0,0,0,0,0,0,0,0],\"pitch\":[100,96,91,91,88,88,98,95,91,98,98],\"program\":[0,0,0,0,0,0,0,0,0,0,0],\"start_time\":{\"__ndarray__\":\"AAAAAAAAAAAAAAAAAADgPwAAAAAAAPg/AAAAAAAAAEAAAAAAAAAEQAAAAAAAAAhAAAAAAAAADEAAAAAAAAAOQAAAAAAAABJAAAAAAAAAE0AAAAAAAAAXQA==\",\"dtype\":\"float64\",\"order\":\"little\",\"shape\":[11]},\"top\":{\"__ndarray__\":\"mpmZmZkZWUCamZmZmRlYQJqZmZmZ2VZAmpmZmZnZVkCamZmZmRlWQJqZmZmZGVZAmpmZmZmZWECamZmZmdlXQJqZmZmZ2VZAmpmZmZmZWECamZmZmZlYQA==\",\"dtype\":\"float64\",\"order\":\"little\",\"shape\":[11]},\"velocity\":[80,80,80,80,80,80,80,80,80,80,80]},\"selected\":{\"id\":\"2607\"},\"selection_policy\":{\"id\":\"2606\"}},\"id\":\"2595\",\"type\":\"ColumnDataSource\"},{\"attributes\":{\"axis_label\":\"time (sec)\",\"formatter\":{\"id\":\"2604\"},\"ticker\":{\"id\":\"2573\"}},\"id\":\"2572\",\"type\":\"LinearAxis\"},{\"attributes\":{},\"id\":\"2566\",\"type\":\"DataRange1d\"},{\"attributes\":{},\"id\":\"2603\",\"type\":\"BasicTickFormatter\"},{\"attributes\":{\"interval\":12},\"id\":\"2594\",\"type\":\"SingleIntervalTicker\"},{\"attributes\":{\"bottom\":{\"field\":\"bottom\"},\"fill_alpha\":{\"value\":0.1},\"fill_color\":{\"value\":\"#d53e4f\"},\"left\":{\"field\":\"start_time\"},\"line_alpha\":{\"value\":0.1},\"right\":{\"field\":\"end_time\"},\"top\":{\"field\":\"top\"}},\"id\":\"2598\",\"type\":\"Quad\"},{\"attributes\":{\"overlay\":{\"id\":\"2585\"}},\"id\":\"2582\",\"type\":\"BoxZoomTool\"},{\"attributes\":{},\"id\":\"2570\",\"type\":\"LinearScale\"},{\"attributes\":{\"source\":{\"id\":\"2595\"}},\"id\":\"2600\",\"type\":\"CDSView\"},{\"attributes\":{\"axis\":{\"id\":\"2572\"},\"ticker\":null},\"id\":\"2575\",\"type\":\"Grid\"},{\"attributes\":{},\"id\":\"2568\",\"type\":\"LinearScale\"},{\"attributes\":{},\"id\":\"2606\",\"type\":\"UnionRenderers\"},{\"attributes\":{},\"id\":\"2607\",\"type\":\"Selection\"},{\"attributes\":{\"axis_label\":\"pitch (MIDI)\",\"formatter\":{\"id\":\"2603\"},\"ticker\":{\"id\":\"2592\"}},\"id\":\"2576\",\"type\":\"LinearAxis\"},{\"attributes\":{\"bottom\":{\"field\":\"bottom\"},\"fill_alpha\":{\"field\":\"fill_alpha\"},\"fill_color\":{\"value\":\"#d53e4f\"},\"left\":{\"field\":\"start_time\"},\"right\":{\"field\":\"end_time\"},\"top\":{\"field\":\"top\"}},\"id\":\"2597\",\"type\":\"Quad\"},{\"attributes\":{\"active_drag\":\"auto\",\"active_inspect\":\"auto\",\"active_multi\":null,\"active_scroll\":\"auto\",\"active_tap\":\"auto\",\"tools\":[{\"id\":\"2580\"},{\"id\":\"2581\"},{\"id\":\"2582\"},{\"id\":\"2583\"},{\"id\":\"2584\"}]},\"id\":\"2586\",\"type\":\"Toolbar\"},{\"attributes\":{\"callback\":null,\"tooltips\":[[\"pitch\",\"@pitch\"],[\"program\",\"@program\"],[\"velo\",\"@velocity\"],[\"duration\",\"@duration\"],[\"start_time\",\"@start_time\"],[\"end_time\",\"@end_time\"],[\"velocity\",\"@velocity\"],[\"fill_alpha\",\"@fill_alpha\"]]},\"id\":\"2580\",\"type\":\"HoverTool\"},{\"attributes\":{\"data_source\":{\"id\":\"2595\"},\"glyph\":{\"id\":\"2597\"},\"hover_glyph\":null,\"muted_glyph\":null,\"nonselection_glyph\":{\"id\":\"2598\"},\"selection_glyph\":null,\"view\":{\"id\":\"2600\"}},\"id\":\"2599\",\"type\":\"GlyphRenderer\"},{\"attributes\":{\"bottom_units\":\"screen\",\"fill_alpha\":0.5,\"fill_color\":\"lightgrey\",\"left_units\":\"screen\",\"level\":\"overlay\",\"line_alpha\":1.0,\"line_color\":\"black\",\"line_dash\":[4,4],\"line_width\":2,\"right_units\":\"screen\",\"top_units\":\"screen\"},\"id\":\"2585\",\"type\":\"BoxAnnotation\"},{\"attributes\":{\"interval\":12},\"id\":\"2592\",\"type\":\"SingleIntervalTicker\"},{\"attributes\":{},\"id\":\"2583\",\"type\":\"ResetTool\"}],\"root_ids\":[\"2563\"]},\"title\":\"Bokeh Application\",\"version\":\"2.1.1\"}};\n",
              "  var render_items = [{\"docid\":\"c822fb38-7680-4c7e-a36a-f82abafd0782\",\"root_ids\":[\"2563\"],\"roots\":{\"2563\":\"239837d1-ec44-4011-aedf-89a668557079\"}}];\n",
              "  root.Bokeh.embed.embed_items_notebook(docs_json, render_items);\n",
              "\n",
              "  }\n",
              "  if (root.Bokeh !== undefined) {\n",
              "    embed_document(root);\n",
              "  } else {\n",
              "    var attempts = 0;\n",
              "    var timer = setInterval(function(root) {\n",
              "      if (root.Bokeh !== undefined) {\n",
              "        clearInterval(timer);\n",
              "        embed_document(root);\n",
              "      } else {\n",
              "        attempts++;\n",
              "        if (attempts > 100) {\n",
              "          clearInterval(timer);\n",
              "          console.log(\"Bokeh: ERROR: Unable to run BokehJS code because BokehJS library is missing\");\n",
              "        }\n",
              "      }\n",
              "    }, 10, root)\n",
              "  }\n",
              "})(window);"
            ],
            "application/vnd.bokehjs_exec.v0+json": ""
          },
          "metadata": {
            "tags": [],
            "application/vnd.bokehjs_exec.v0+json": {
              "id": "2563"
            }
          }
        },
        {
          "output_type": "display_data",
          "data": {
            "text/html": [
              "<div id=\"id_12\"> </div>"
            ],
            "text/plain": [
              "<IPython.core.display.HTML object>"
            ]
          },
          "metadata": {
            "tags": []
          }
        },
        {
          "output_type": "display_data",
          "data": {
            "text/html": [
              "\n",
              "\n",
              "\n",
              "\n",
              "\n",
              "\n",
              "  <div class=\"bk-root\" id=\"c0b8983b-1c3f-41e8-a79c-837eb1b1695f\" data-root-id=\"2753\"></div>\n"
            ]
          },
          "metadata": {
            "tags": []
          }
        },
        {
          "output_type": "display_data",
          "data": {
            "application/javascript": [
              "(function(root) {\n",
              "  function embed_document(root) {\n",
              "    \n",
              "  var docs_json = {\"3801e9b3-e380-43ab-a804-5fd1e84a7e5f\":{\"roots\":{\"references\":[{\"attributes\":{\"below\":[{\"id\":\"2762\"}],\"center\":[{\"id\":\"2765\"},{\"id\":\"2769\"}],\"left\":[{\"id\":\"2766\"}],\"plot_height\":200,\"plot_width\":500,\"renderers\":[{\"id\":\"2789\"}],\"title\":{\"id\":\"2791\"},\"toolbar\":{\"id\":\"2776\"},\"x_range\":{\"id\":\"2754\"},\"x_scale\":{\"id\":\"2758\"},\"y_range\":{\"id\":\"2756\"},\"y_scale\":{\"id\":\"2760\"}},\"id\":\"2753\",\"subtype\":\"Figure\",\"type\":\"Plot\"},{\"attributes\":{\"data_source\":{\"id\":\"2785\"},\"glyph\":{\"id\":\"2787\"},\"hover_glyph\":null,\"muted_glyph\":null,\"nonselection_glyph\":{\"id\":\"2788\"},\"selection_glyph\":null,\"view\":{\"id\":\"2790\"}},\"id\":\"2789\",\"type\":\"GlyphRenderer\"},{\"attributes\":{},\"id\":\"2773\",\"type\":\"ResetTool\"},{\"attributes\":{},\"id\":\"2754\",\"type\":\"DataRange1d\"},{\"attributes\":{\"active_drag\":\"auto\",\"active_inspect\":\"auto\",\"active_multi\":null,\"active_scroll\":\"auto\",\"active_tap\":\"auto\",\"tools\":[{\"id\":\"2770\"},{\"id\":\"2771\"},{\"id\":\"2772\"},{\"id\":\"2773\"},{\"id\":\"2774\"}]},\"id\":\"2776\",\"type\":\"Toolbar\"},{\"attributes\":{},\"id\":\"2797\",\"type\":\"Selection\"},{\"attributes\":{\"interval\":12},\"id\":\"2784\",\"type\":\"SingleIntervalTicker\"},{\"attributes\":{\"text\":\"\"},\"id\":\"2791\",\"type\":\"Title\"},{\"attributes\":{},\"id\":\"2758\",\"type\":\"LinearScale\"},{\"attributes\":{\"interval\":12},\"id\":\"2782\",\"type\":\"SingleIntervalTicker\"},{\"attributes\":{},\"id\":\"2796\",\"type\":\"UnionRenderers\"},{\"attributes\":{},\"id\":\"2774\",\"type\":\"SaveTool\"},{\"attributes\":{},\"id\":\"2763\",\"type\":\"BasicTicker\"},{\"attributes\":{},\"id\":\"2793\",\"type\":\"BasicTickFormatter\"},{\"attributes\":{},\"id\":\"2756\",\"type\":\"DataRange1d\"},{\"attributes\":{\"data\":{\"bottom\":{\"__ndarray__\":\"zczMzMxMTkA=\",\"dtype\":\"float64\",\"order\":\"little\",\"shape\":[1]},\"duration\":{\"__ndarray__\":\"AAAAAAAAAUA=\",\"dtype\":\"float64\",\"order\":\"little\",\"shape\":[1]},\"end_time\":{\"__ndarray__\":\"AAAAAAAADUA=\",\"dtype\":\"float64\",\"order\":\"little\",\"shape\":[1]},\"fill_alpha\":{\"__ndarray__\":\"AAAAAAAA8D8=\",\"dtype\":\"float64\",\"order\":\"little\",\"shape\":[1]},\"index\":[0],\"instrument\":[0],\"pitch\":[61],\"program\":[0],\"start_time\":{\"__ndarray__\":\"AAAAAAAA+D8=\",\"dtype\":\"float64\",\"order\":\"little\",\"shape\":[1]},\"top\":{\"__ndarray__\":\"MzMzMzOzTkA=\",\"dtype\":\"float64\",\"order\":\"little\",\"shape\":[1]},\"velocity\":[80]},\"selected\":{\"id\":\"2797\"},\"selection_policy\":{\"id\":\"2796\"}},\"id\":\"2785\",\"type\":\"ColumnDataSource\"},{\"attributes\":{},\"id\":\"2771\",\"type\":\"PanTool\"},{\"attributes\":{},\"id\":\"2760\",\"type\":\"LinearScale\"},{\"attributes\":{\"axis_label\":\"pitch (MIDI)\",\"formatter\":{\"id\":\"2793\"},\"ticker\":{\"id\":\"2782\"}},\"id\":\"2766\",\"type\":\"LinearAxis\"},{\"attributes\":{\"overlay\":{\"id\":\"2775\"}},\"id\":\"2772\",\"type\":\"BoxZoomTool\"},{\"attributes\":{\"axis\":{\"id\":\"2766\"},\"dimension\":1,\"ticker\":{\"id\":\"2784\"}},\"id\":\"2769\",\"type\":\"Grid\"},{\"attributes\":{\"bottom_units\":\"screen\",\"fill_alpha\":0.5,\"fill_color\":\"lightgrey\",\"left_units\":\"screen\",\"level\":\"overlay\",\"line_alpha\":1.0,\"line_color\":\"black\",\"line_dash\":[4,4],\"line_width\":2,\"right_units\":\"screen\",\"top_units\":\"screen\"},\"id\":\"2775\",\"type\":\"BoxAnnotation\"},{\"attributes\":{\"axis_label\":\"time (sec)\",\"formatter\":{\"id\":\"2794\"},\"ticker\":{\"id\":\"2763\"}},\"id\":\"2762\",\"type\":\"LinearAxis\"},{\"attributes\":{},\"id\":\"2794\",\"type\":\"BasicTickFormatter\"},{\"attributes\":{\"source\":{\"id\":\"2785\"}},\"id\":\"2790\",\"type\":\"CDSView\"},{\"attributes\":{\"bottom\":{\"field\":\"bottom\"},\"fill_alpha\":{\"value\":0.1},\"fill_color\":{\"value\":\"#d53e4f\"},\"left\":{\"field\":\"start_time\"},\"line_alpha\":{\"value\":0.1},\"right\":{\"field\":\"end_time\"},\"top\":{\"field\":\"top\"}},\"id\":\"2788\",\"type\":\"Quad\"},{\"attributes\":{\"callback\":null,\"tooltips\":[[\"pitch\",\"@pitch\"],[\"program\",\"@program\"],[\"velo\",\"@velocity\"],[\"duration\",\"@duration\"],[\"start_time\",\"@start_time\"],[\"end_time\",\"@end_time\"],[\"velocity\",\"@velocity\"],[\"fill_alpha\",\"@fill_alpha\"]]},\"id\":\"2770\",\"type\":\"HoverTool\"},{\"attributes\":{\"bottom\":{\"field\":\"bottom\"},\"fill_alpha\":{\"field\":\"fill_alpha\"},\"fill_color\":{\"value\":\"#d53e4f\"},\"left\":{\"field\":\"start_time\"},\"right\":{\"field\":\"end_time\"},\"top\":{\"field\":\"top\"}},\"id\":\"2787\",\"type\":\"Quad\"},{\"attributes\":{\"axis\":{\"id\":\"2762\"},\"ticker\":null},\"id\":\"2765\",\"type\":\"Grid\"}],\"root_ids\":[\"2753\"]},\"title\":\"Bokeh Application\",\"version\":\"2.1.1\"}};\n",
              "  var render_items = [{\"docid\":\"3801e9b3-e380-43ab-a804-5fd1e84a7e5f\",\"root_ids\":[\"2753\"],\"roots\":{\"2753\":\"c0b8983b-1c3f-41e8-a79c-837eb1b1695f\"}}];\n",
              "  root.Bokeh.embed.embed_items_notebook(docs_json, render_items);\n",
              "\n",
              "  }\n",
              "  if (root.Bokeh !== undefined) {\n",
              "    embed_document(root);\n",
              "  } else {\n",
              "    var attempts = 0;\n",
              "    var timer = setInterval(function(root) {\n",
              "      if (root.Bokeh !== undefined) {\n",
              "        clearInterval(timer);\n",
              "        embed_document(root);\n",
              "      } else {\n",
              "        attempts++;\n",
              "        if (attempts > 100) {\n",
              "          clearInterval(timer);\n",
              "          console.log(\"Bokeh: ERROR: Unable to run BokehJS code because BokehJS library is missing\");\n",
              "        }\n",
              "      }\n",
              "    }, 10, root)\n",
              "  }\n",
              "})(window);"
            ],
            "application/vnd.bokehjs_exec.v0+json": ""
          },
          "metadata": {
            "tags": [],
            "application/vnd.bokehjs_exec.v0+json": {
              "id": "2753"
            }
          }
        },
        {
          "output_type": "display_data",
          "data": {
            "text/html": [
              "<div id=\"id_13\"> </div>"
            ],
            "text/plain": [
              "<IPython.core.display.HTML object>"
            ]
          },
          "metadata": {
            "tags": []
          }
        },
        {
          "output_type": "display_data",
          "data": {
            "text/html": [
              "\n",
              "\n",
              "\n",
              "\n",
              "\n",
              "\n",
              "  <div class=\"bk-root\" id=\"dffebc12-b99f-44e6-bb5e-cae00864e6ed\" data-root-id=\"2951\"></div>\n"
            ]
          },
          "metadata": {
            "tags": []
          }
        },
        {
          "output_type": "display_data",
          "data": {
            "application/javascript": [
              "(function(root) {\n",
              "  function embed_document(root) {\n",
              "    \n",
              "  var docs_json = {\"9853c57c-b0b4-440d-ba6d-1dea0a2212fc\":{\"roots\":{\"references\":[{\"attributes\":{\"below\":[{\"id\":\"2960\"}],\"center\":[{\"id\":\"2963\"},{\"id\":\"2967\"}],\"left\":[{\"id\":\"2964\"}],\"plot_height\":200,\"plot_width\":500,\"renderers\":[{\"id\":\"2987\"}],\"title\":{\"id\":\"2989\"},\"toolbar\":{\"id\":\"2974\"},\"x_range\":{\"id\":\"2952\"},\"x_scale\":{\"id\":\"2956\"},\"y_range\":{\"id\":\"2954\"},\"y_scale\":{\"id\":\"2958\"}},\"id\":\"2951\",\"subtype\":\"Figure\",\"type\":\"Plot\"},{\"attributes\":{},\"id\":\"2958\",\"type\":\"LinearScale\"},{\"attributes\":{},\"id\":\"2991\",\"type\":\"BasicTickFormatter\"},{\"attributes\":{},\"id\":\"2956\",\"type\":\"LinearScale\"},{\"attributes\":{\"axis\":{\"id\":\"2960\"},\"ticker\":null},\"id\":\"2963\",\"type\":\"Grid\"},{\"attributes\":{},\"id\":\"2954\",\"type\":\"DataRange1d\"},{\"attributes\":{},\"id\":\"2969\",\"type\":\"PanTool\"},{\"attributes\":{\"overlay\":{\"id\":\"2973\"}},\"id\":\"2970\",\"type\":\"BoxZoomTool\"},{\"attributes\":{\"axis_label\":\"time (sec)\",\"formatter\":{\"id\":\"2992\"},\"ticker\":{\"id\":\"2961\"}},\"id\":\"2960\",\"type\":\"LinearAxis\"},{\"attributes\":{\"bottom\":{\"field\":\"bottom\"},\"fill_alpha\":{\"field\":\"fill_alpha\"},\"fill_color\":{\"value\":\"#d53e4f\"},\"left\":{\"field\":\"start_time\"},\"right\":{\"field\":\"end_time\"},\"top\":{\"field\":\"top\"}},\"id\":\"2985\",\"type\":\"Quad\"},{\"attributes\":{\"axis_label\":\"pitch (MIDI)\",\"formatter\":{\"id\":\"2991\"},\"ticker\":{\"id\":\"2980\"}},\"id\":\"2964\",\"type\":\"LinearAxis\"},{\"attributes\":{},\"id\":\"2971\",\"type\":\"ResetTool\"},{\"attributes\":{\"text\":\"\"},\"id\":\"2989\",\"type\":\"Title\"},{\"attributes\":{},\"id\":\"2992\",\"type\":\"BasicTickFormatter\"},{\"attributes\":{},\"id\":\"2972\",\"type\":\"SaveTool\"},{\"attributes\":{},\"id\":\"2952\",\"type\":\"DataRange1d\"},{\"attributes\":{\"axis\":{\"id\":\"2964\"},\"dimension\":1,\"ticker\":{\"id\":\"2982\"}},\"id\":\"2967\",\"type\":\"Grid\"},{\"attributes\":{\"data_source\":{\"id\":\"2983\"},\"glyph\":{\"id\":\"2985\"},\"hover_glyph\":null,\"muted_glyph\":null,\"nonselection_glyph\":{\"id\":\"2986\"},\"selection_glyph\":null,\"view\":{\"id\":\"2988\"}},\"id\":\"2987\",\"type\":\"GlyphRenderer\"},{\"attributes\":{\"active_drag\":\"auto\",\"active_inspect\":\"auto\",\"active_multi\":null,\"active_scroll\":\"auto\",\"active_tap\":\"auto\",\"tools\":[{\"id\":\"2968\"},{\"id\":\"2969\"},{\"id\":\"2970\"},{\"id\":\"2971\"},{\"id\":\"2972\"}]},\"id\":\"2974\",\"type\":\"Toolbar\"},{\"attributes\":{},\"id\":\"2961\",\"type\":\"BasicTicker\"},{\"attributes\":{\"bottom_units\":\"screen\",\"fill_alpha\":0.5,\"fill_color\":\"lightgrey\",\"left_units\":\"screen\",\"level\":\"overlay\",\"line_alpha\":1.0,\"line_color\":\"black\",\"line_dash\":[4,4],\"line_width\":2,\"right_units\":\"screen\",\"top_units\":\"screen\"},\"id\":\"2973\",\"type\":\"BoxAnnotation\"},{\"attributes\":{\"source\":{\"id\":\"2983\"}},\"id\":\"2988\",\"type\":\"CDSView\"},{\"attributes\":{\"bottom\":{\"field\":\"bottom\"},\"fill_alpha\":{\"value\":0.1},\"fill_color\":{\"value\":\"#d53e4f\"},\"left\":{\"field\":\"start_time\"},\"line_alpha\":{\"value\":0.1},\"right\":{\"field\":\"end_time\"},\"top\":{\"field\":\"top\"}},\"id\":\"2986\",\"type\":\"Quad\"},{\"attributes\":{\"interval\":12},\"id\":\"2980\",\"type\":\"SingleIntervalTicker\"},{\"attributes\":{\"interval\":12},\"id\":\"2982\",\"type\":\"SingleIntervalTicker\"},{\"attributes\":{\"data\":{\"bottom\":{\"__ndarray__\":\"ZmZmZmYmUEBmZmZmZqZQQGZmZmZmJlBAZmZmZmYmUEBmZmZmZiZQQGZmZmZmJlFAZmZmZmamUEBmZmZmZiZRQGZmZmZmplBAZmZmZmYmUUBmZmZmZqZQQGZmZmZmJlFAZmZmZmamUEBmZmZmZiZRQGZmZmZmplBAZmZmZmYmUUBmZmZmZqZQQGZmZmZmJlFA\",\"dtype\":\"float64\",\"order\":\"little\",\"shape\":[18]},\"duration\":{\"__ndarray__\":\"AAAAAAAA4D8AAAAAAAD6PwAAAAAAANg/AAAAAAAA2D8AAAAAAADAPwAAAAAAAOA/AAAAAAAA4D8AAAAAAADgPwAAAAAAAOA/AAAAAAAA4D8AAAAAAADgPwAAAAAAAOA/AAAAAAAA4D8AAAAAAADgPwAAAAAAAOA/AAAAAAAA4D8AAAAAAADgPwAAAAAAAMA/\",\"dtype\":\"float64\",\"order\":\"little\",\"shape\":[18]},\"end_time\":{\"__ndarray__\":\"AAAAAAAA6D8AAAAAAAADQAAAAAAAAAtAAAAAAAAADkAAAAAAAAAPQAAAAAAAgBFAAAAAAACAE0AAAAAAAIAVQAAAAAAAgBdAAAAAAACAGUAAAAAAAIAbQAAAAAAAgB1AAAAAAACAH0AAAAAAAMAgQAAAAAAAwCFAAAAAAADAIkAAAAAAAMAjQAAAAAAAACRA\",\"dtype\":\"float64\",\"order\":\"little\",\"shape\":[18]},\"fill_alpha\":{\"__ndarray__\":\"AAAAAAAA8D8AAAAAAADwPwAAAAAAAPA/AAAAAAAA8D8AAAAAAADwPwAAAAAAAPA/AAAAAAAA8D8AAAAAAADwPwAAAAAAAPA/AAAAAAAA8D8AAAAAAADwPwAAAAAAAPA/AAAAAAAA8D8AAAAAAADwPwAAAAAAAPA/AAAAAAAA8D8AAAAAAADwPwAAAAAAAPA/\",\"dtype\":\"float64\",\"order\":\"little\",\"shape\":[18]},\"index\":[0,1,2,3,4,5,6,7,8,9,10,11,12,13,14,15,16,17],\"instrument\":[0,0,0,0,0,0,0,0,0,0,0,0,0,0,0,0,0,0],\"pitch\":[65,67,65,65,65,69,67,69,67,69,67,69,67,69,67,69,67,69],\"program\":[0,0,0,0,0,0,0,0,0,0,0,0,0,0,0,0,0,0],\"start_time\":{\"__ndarray__\":\"AAAAAAAA0D8AAAAAAADoPwAAAAAAAAhAAAAAAAAAC0AAAAAAAAAOQAAAAAAAAA9AAAAAAACAEUAAAAAAAIATQAAAAAAAgBVAAAAAAACAF0AAAAAAAIAZQAAAAAAAgBtAAAAAAACAHUAAAAAAAIAfQAAAAAAAwCBAAAAAAADAIUAAAAAAAMAiQAAAAAAAwCNA\",\"dtype\":\"float64\",\"order\":\"little\",\"shape\":[18]},\"top\":{\"__ndarray__\":\"mpmZmZlZUECamZmZmdlQQJqZmZmZWVBAmpmZmZlZUECamZmZmVlQQJqZmZmZWVFAmpmZmZnZUECamZmZmVlRQJqZmZmZ2VBAmpmZmZlZUUCamZmZmdlQQJqZmZmZWVFAmpmZmZnZUECamZmZmVlRQJqZmZmZ2VBAmpmZmZlZUUCamZmZmdlQQJqZmZmZWVFA\",\"dtype\":\"float64\",\"order\":\"little\",\"shape\":[18]},\"velocity\":[80,80,80,80,80,80,80,80,80,80,80,80,80,80,80,80,80,80]},\"selected\":{\"id\":\"2995\"},\"selection_policy\":{\"id\":\"2994\"}},\"id\":\"2983\",\"type\":\"ColumnDataSource\"},{\"attributes\":{},\"id\":\"2994\",\"type\":\"UnionRenderers\"},{\"attributes\":{\"callback\":null,\"tooltips\":[[\"pitch\",\"@pitch\"],[\"program\",\"@program\"],[\"velo\",\"@velocity\"],[\"duration\",\"@duration\"],[\"start_time\",\"@start_time\"],[\"end_time\",\"@end_time\"],[\"velocity\",\"@velocity\"],[\"fill_alpha\",\"@fill_alpha\"]]},\"id\":\"2968\",\"type\":\"HoverTool\"},{\"attributes\":{},\"id\":\"2995\",\"type\":\"Selection\"}],\"root_ids\":[\"2951\"]},\"title\":\"Bokeh Application\",\"version\":\"2.1.1\"}};\n",
              "  var render_items = [{\"docid\":\"9853c57c-b0b4-440d-ba6d-1dea0a2212fc\",\"root_ids\":[\"2951\"],\"roots\":{\"2951\":\"dffebc12-b99f-44e6-bb5e-cae00864e6ed\"}}];\n",
              "  root.Bokeh.embed.embed_items_notebook(docs_json, render_items);\n",
              "\n",
              "  }\n",
              "  if (root.Bokeh !== undefined) {\n",
              "    embed_document(root);\n",
              "  } else {\n",
              "    var attempts = 0;\n",
              "    var timer = setInterval(function(root) {\n",
              "      if (root.Bokeh !== undefined) {\n",
              "        clearInterval(timer);\n",
              "        embed_document(root);\n",
              "      } else {\n",
              "        attempts++;\n",
              "        if (attempts > 100) {\n",
              "          clearInterval(timer);\n",
              "          console.log(\"Bokeh: ERROR: Unable to run BokehJS code because BokehJS library is missing\");\n",
              "        }\n",
              "      }\n",
              "    }, 10, root)\n",
              "  }\n",
              "})(window);"
            ],
            "application/vnd.bokehjs_exec.v0+json": ""
          },
          "metadata": {
            "tags": [],
            "application/vnd.bokehjs_exec.v0+json": {
              "id": "2951"
            }
          }
        },
        {
          "output_type": "display_data",
          "data": {
            "text/html": [
              "<div id=\"id_14\"> </div>"
            ],
            "text/plain": [
              "<IPython.core.display.HTML object>"
            ]
          },
          "metadata": {
            "tags": []
          }
        }
      ]
    },
    {
      "cell_type": "code",
      "metadata": {
        "id": "ha4bRu_EeiQ6"
      },
      "source": [
        "# https://salu133445.github.io/muspy/doc/metrics.html\n",
        "\n",
        "# https://github.com/magenta/magenta/tree/master/magenta/models\n",
        "\n",
        "# https://magenta.tensorflow.org/gansynth"
      ],
      "execution_count": null,
      "outputs": []
    }
  ]
}