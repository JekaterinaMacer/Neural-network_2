{
  "nbformat": 4,
  "nbformat_minor": 0,
  "metadata": {
    "colab": {
      "name": " Pytorch. Часть 1. Разбор ДЗ Ultra Light",
      "provenance": [],
      "collapsed_sections": []
    },
    "kernelspec": {
      "name": "python3",
      "display_name": "Python 3"
    },
    "accelerator": "GPU"
  },
  "cells": [
    {
      "cell_type": "markdown",
      "metadata": {
        "id": "NEPpOGpGCcDd"
      },
      "source": [
        "## Ultra Light задание\n",
        "Проведите эксперименты по классификации MNIST для различных значений гиперпараметров:\n",
        "\n",
        "learningRate : [0.01,0.001]\n",
        "\n",
        "размер скрытого слоя  : [128,256,512]\n",
        "\n",
        "batchSizes : [32,64,128]\n",
        "\n",
        "Результаты занесите в таблицу\n",
        "\n",
        "\n",
        "\n"
      ]
    },
    {
      "cell_type": "code",
      "metadata": {
        "id": "7AowGFGi8Oah"
      },
      "source": [
        "# Этим блоком будем визуализировать\n",
        "import numpy as np\n",
        "import matplotlib.pyplot as plt\n",
        "%matplotlib inline\n",
        "from PIL import Image\n",
        "import scipy\n",
        "\n",
        "# Библиотеки Pytorch\n",
        "import torch \n",
        "import torchvision # здесь лежит mnist, cifar и много других датасетов и трансформаций для картинок\n",
        "import torch.nn as nn # здесь лежат все слои\n",
        "import torch.utils.data as data # работа с загрузчиком данных\n",
        "import torchvision.transforms as transforms\n",
        "import torchvision.datasets as dsets #работа с классом Датасет\n",
        "from torch.autograd import Variable # для автоматического дифференциатора\n",
        "import pandas as pd\n",
        "# Визуализации графа\n",
        "from torch.utils.tensorboard import SummaryWriter \n",
        "import datetime,os\n",
        "import time"
      ],
      "execution_count": null,
      "outputs": []
    },
    {
      "cell_type": "code",
      "metadata": {
        "id": "ea8-XOOWtn_O",
        "colab": {
          "base_uri": "https://localhost:8080/",
          "height": 35
        },
        "outputId": "e65368a1-a71c-491b-923a-9f79cd21b680"
      },
      "source": [
        "scipy.__version__\n",
        "\n",
        "# Если версия меньше 1.2.0, то:\n",
        "# pip uninstall scipy==**ваша версия**\n",
        "# pip install scipy==1.3.1 "
      ],
      "execution_count": null,
      "outputs": [
        {
          "output_type": "execute_result",
          "data": {
            "application/vnd.google.colaboratory.intrinsic+json": {
              "type": "string"
            },
            "text/plain": [
              "'1.4.1'"
            ]
          },
          "metadata": {
            "tags": []
          },
          "execution_count": 2
        }
      ]
    },
    {
      "cell_type": "code",
      "metadata": {
        "id": "hRGETiVsiI5b",
        "colab": {
          "base_uri": "https://localhost:8080/"
        },
        "outputId": "3cfee21b-78db-4230-a890-56b4f1568040"
      },
      "source": [
        "from google.colab import drive\n",
        "drive.mount('/content/drive')"
      ],
      "execution_count": null,
      "outputs": [
        {
          "output_type": "stream",
          "text": [
            "Mounted at /content/drive\n"
          ],
          "name": "stdout"
        }
      ]
    },
    {
      "cell_type": "code",
      "metadata": {
        "id": "T4C0cx0otXAI",
        "colab": {
          "base_uri": "https://localhost:8080/"
        },
        "outputId": "913f8dc5-115f-400e-e2c1-19372bdbb224"
      },
      "source": [
        "pip install Pillow"
      ],
      "execution_count": null,
      "outputs": [
        {
          "output_type": "stream",
          "text": [
            "Requirement already satisfied: Pillow in /usr/local/lib/python3.6/dist-packages (7.0.0)\n"
          ],
          "name": "stdout"
        }
      ]
    },
    {
      "cell_type": "code",
      "metadata": {
        "id": "PzYqcWmS8OeN"
      },
      "source": [
        "# Создаем класс для собственных данных, наследуя свойства стандартного датасета\n",
        "class CustomDataset(data.Dataset):\n",
        "    def __init__(self, listID, labels, path, transforms = None): \n",
        "        # Инициализируем атрибуты (они абсолютно производные. У вас они могут быть совсем другими)\n",
        "        self.listID = listID # listID список имен каждого экземпляра\n",
        "        self.labels = labels # labels - то, что скормим как yTrain\n",
        "        self.transforms = transforms # если нужны какие-то преобразования\n",
        "        self.path = path # путь, где лежат данные\n",
        "        \n",
        "\n",
        "    def __getitem__(self, index):        \n",
        "        # Открываем папку с данными (можно использовать numpy.fromfile, PIL.Image.open)\n",
        "        ID = self.listID[index] # итерируем по каждому элементу в списке\n",
        "        image = Image.open(path+ID) # извлекаем картинку по его ID\n",
        "\n",
        "        # Если transforms заполнено, то:\n",
        "        if self.transforms:\n",
        "            image = self.transforms(image) # то, что лежит в transforms применяем к картинку\n",
        "        trainX = image # наша картинка уходит в xTrain для этой итерации\n",
        "        trainY = self.labels[index] # лейбл для этой картинки уходит в yTrain\n",
        "        \n",
        "\n",
        "        # Возвращаем пару экзмепляр-метка\n",
        "        return trainX, trainY\n",
        "\n",
        "    def __len__(self):\n",
        "        # Здесь общий размер вашего датасета\n",
        "        return len(listID)"
      ],
      "execution_count": null,
      "outputs": []
    },
    {
      "cell_type": "code",
      "metadata": {
        "id": "_I_TTnEc8T0x"
      },
      "source": [
        "inputSize = 784\n",
        "numClasses = 10\n",
        "numEpochs = 10"
      ],
      "execution_count": null,
      "outputs": []
    },
    {
      "cell_type": "markdown",
      "metadata": {
        "id": "Ba2SL_ub8T04"
      },
      "source": [
        "Загружаем данные "
      ]
    },
    {
      "cell_type": "code",
      "metadata": {
        "id": "gVSCXosz8T3o"
      },
      "source": [
        "# Создаем класс\n",
        "class Classification(nn.Module):\n",
        "    def __init__(self, input_size, hidden_size, num_classes):\n",
        "        super().__init__() # наследуе все свойства + добавляем свое\n",
        "        self.layer1 = nn.Linear(inputSize, hidden_size) # первый слой - линейный\n",
        "        self.relu = nn.ReLU() \n",
        "        self.layer2 = nn.Linear(hidden_size, num_classes)\n",
        "        self.softmax = nn.Softmax() # Поскольку задача классификации, то функция активации softmax\n",
        "\n",
        "    def forward(self, x): # Здесь мы прописываем принципы, по которым данные будут проходить через сеть\n",
        "        out = self.layer1(x)  # выход первого слоя\n",
        "        out = self.relu(out) # применяем функцию активации к выходу первого слоя\n",
        "        out = self.layer2(out) # передаем это во второй слой\n",
        "        out = self.softmax(out) # применяем функцию активации ко второму слою\n",
        "        return out\n",
        "\n",
        "model = Classification(inputSize, hidden, numClasses) # Создаем объект нашей полносвязной сети"
      ],
      "execution_count": null,
      "outputs": []
    },
    {
      "cell_type": "code",
      "metadata": {
        "id": "3VmEfJ1gRve2"
      },
      "source": [
        "class Static_model(nn.Module):\n",
        "  def __init__(self):\n",
        "    super().__init__()\n",
        "    self.layer1 = nn.Linear(784, 200)\n",
        "    self.layer2 = nn.Linear(200, 10)\n",
        "    self.relu = nn.ReLU()\n",
        "    self.softmax = nn.Softmax()\n",
        "    self.tanh = nn.Tanh()\n",
        "\n",
        "  def forward(self, x):\n",
        "\n",
        "    x = self.layer1(x)\n",
        "    x = self.relu(x)\n",
        "    x = self.softmax(self.layer2(x))\n",
        "    return x"
      ],
      "execution_count": null,
      "outputs": []
    },
    {
      "cell_type": "code",
      "metadata": {
        "id": "7ilFKNqoJvT8",
        "colab": {
          "base_uri": "https://localhost:8080/"
        },
        "outputId": "610bee2c-f93c-4405-fc63-86d4fc012372"
      },
      "source": [
        "criterion = nn.CrossEntropyLoss() \n",
        "optimizer = torch.optim.SGD(model.parameters(), lr=learningRate)  # оптимизатор\n",
        "losses = [] # сюда будет добавляться средняя ошибка. Список будем использовать для построения графика\n",
        "model.train() # переход в режим обучения (опционально)"
      ],
      "execution_count": null,
      "outputs": [
        {
          "output_type": "execute_result",
          "data": {
            "text/plain": [
              "Classification(\n",
              "  (layer1): Linear(in_features=784, out_features=500, bias=True)\n",
              "  (relu): ReLU()\n",
              "  (layer2): Linear(in_features=500, out_features=10, bias=True)\n",
              "  (softmax): Softmax(dim=None)\n",
              ")"
            ]
          },
          "metadata": {
            "tags": []
          },
          "execution_count": 30
        }
      ]
    },
    {
      "cell_type": "code",
      "metadata": {
        "id": "KE8ZX0kASmk3",
        "colab": {
          "base_uri": "https://localhost:8080/",
          "height": 1000
        },
        "outputId": "afc5f8ac-9fa1-48b1-fd7f-29fde3003a80"
      },
      "source": [
        "learningRates = [0.01,0.001]\n",
        "hiddens = [128,256,512]\n",
        "batchSizes = [32,64,128]\n",
        "df=pd.DataFrame(columns=['train score'])\n",
        "for learningRate in learningRates:\n",
        "  for hidden in hiddens:\n",
        "    for batchSize in batchSizes:\n",
        "        NAME = \"{}-learningRate-{}-hidden-{}-batchSize\".format( learningRate,hidden, batchSize)\n",
        "        print(NAME)\n",
        "        # Обучающая выборка\n",
        "        trainDataset = dsets.MNIST(root='./data', \n",
        "                                    train=True, \n",
        "                                    transform=transforms.ToTensor(),\n",
        "                                    download=True)\n",
        "        # Тестовая выборка\n",
        "        testDataset = dsets.MNIST(root='./data', \n",
        "                                  train=False, \n",
        "                                  transform=transforms.ToTensor())\n",
        "\n",
        "        # Dataset Loader (подготовка данных для сети)\n",
        "        trainLoader = torch.utils.data.DataLoader(dataset=trainDataset, # Какой датасет\n",
        "                                                  batch_size=batchSize, # На сколько batch разделен\n",
        "                                                  shuffle=True) \n",
        "\n",
        "        testLoader = torch.utils.data.DataLoader(dataset=testDataset, #  Какой датасет\n",
        "                                                  batch_size=batchSize, # На сколько batch разделен\n",
        "                                                  shuffle=False)\n",
        "                # Посмотрим на нашу выборку\n",
        "        dataIter = iter(trainLoader) # По какой выборке пройдемся\n",
        "        trainX, trainY = dataIter.next() # Присваиваем текущий batch\n",
        "        criterion = nn.CrossEntropyLoss() \n",
        "        optimizer = torch.optim.SGD(model.parameters(), lr=learningRate)  # оптимизатор\n",
        "        losses = [] # сюда будет добавляться средняя ошибка. Список будем использовать для построения графика\n",
        "        model.train() # переход в режим обучения (опционально)\n",
        "        for epoch in range(numEpochs): # количество эпох\n",
        "        # for epoch in range(2): # количество эпох\n",
        "            lossTot = 0 # потери в совокупности\n",
        "\n",
        "            for i, (images, labels) in enumerate(trainLoader): # проходимся по всем данным в batch\n",
        "                images = images.view(-1, 28*28) # приводим к правильному формату для сетки\n",
        "                optimizer.zero_grad() # обнуляем градиент\n",
        "                outputs = model(images) # здесь наше предсказание\n",
        "                loss = criterion(outputs.log(), labels) # считаем ошибку \n",
        "                loss.backward()  # обратное распространение. \n",
        "                                # x.grad += dloss/dx для всех параметров x\n",
        "\n",
        "                lossTot +=loss.detach().data # инкремент ошибки\n",
        "                \n",
        "                optimizer.step() # следующий шаг спуска\n",
        "\n",
        "            losses.append(lossTot/len(trainDataset)) # вычисляем среднюю ошибку и добавляем в список\n",
        "            print('Эпоха: [%d/%d], Ошибка: %.4f' \n",
        "                  % (epoch+1, numEpochs, loss))\n",
        "        plt.plot(losses) # График нашего обучения\n",
        "        # проверка\n",
        "        correct = 0\n",
        "        total = 0\n",
        "\n",
        "        model.eval() # режим проверки\n",
        "\n",
        "        for images, labels in testLoader: # итерируем по проверочному датасету\n",
        "            images = images.view(-1, 28*28) # приводим к нужному формату\n",
        "            result = labels\n",
        "            outputs = model(images) # делаем прогноз\n",
        "            _, predicted = torch.max(outputs.data, 1) # _ максимальное значение пропускаем, нас интересует, что это за цифра\n",
        "            total += labels.size(0) # 0 - первое/единственное значение\n",
        "            correct += (predicted == labels).sum() \n",
        "            \n",
        "        # print( (100 * correct.item() / total))\n",
        "        df=df.append(pd.DataFrame(data={'train score':100 * correct.item() / total},index=[NAME]))\n"
      ],
      "execution_count": null,
      "outputs": [
        {
          "output_type": "stream",
          "text": [
            "0.01-learningRate-128-hidden-32-batchSize\n"
          ],
          "name": "stdout"
        },
        {
          "output_type": "stream",
          "text": [
            "/usr/local/lib/python3.6/dist-packages/ipykernel_launcher.py:14: UserWarning: Implicit dimension choice for softmax has been deprecated. Change the call to include dim=X as an argument.\n",
            "  \n"
          ],
          "name": "stderr"
        },
        {
          "output_type": "stream",
          "text": [
            "Эпоха: [1/10], Ошибка: 0.0250\n",
            "Эпоха: [2/10], Ошибка: 0.0298\n",
            "Эпоха: [3/10], Ошибка: 0.0250\n",
            "Эпоха: [4/10], Ошибка: 0.0283\n",
            "Эпоха: [5/10], Ошибка: 0.0160\n",
            "Эпоха: [6/10], Ошибка: 0.0370\n",
            "Эпоха: [7/10], Ошибка: 0.0285\n",
            "Эпоха: [8/10], Ошибка: 0.0030\n",
            "Эпоха: [9/10], Ошибка: 0.0086\n",
            "Эпоха: [10/10], Ошибка: 0.0093\n",
            "0.01-learningRate-128-hidden-64-batchSize\n",
            "Эпоха: [1/10], Ошибка: 0.0017\n",
            "Эпоха: [2/10], Ошибка: 0.0394\n",
            "Эпоха: [3/10], Ошибка: 0.0032\n",
            "Эпоха: [4/10], Ошибка: 0.0095\n",
            "Эпоха: [5/10], Ошибка: 0.0438\n",
            "Эпоха: [6/10], Ошибка: 0.0018\n",
            "Эпоха: [7/10], Ошибка: 0.0739\n",
            "Эпоха: [8/10], Ошибка: 0.0278\n",
            "Эпоха: [9/10], Ошибка: 0.0027\n",
            "Эпоха: [10/10], Ошибка: 0.0148\n",
            "0.01-learningRate-128-hidden-128-batchSize\n",
            "Эпоха: [1/10], Ошибка: 0.0418\n",
            "Эпоха: [2/10], Ошибка: 0.0321\n",
            "Эпоха: [3/10], Ошибка: 0.0126\n",
            "Эпоха: [4/10], Ошибка: 0.0360\n",
            "Эпоха: [5/10], Ошибка: 0.0085\n",
            "Эпоха: [6/10], Ошибка: 0.0279\n",
            "Эпоха: [7/10], Ошибка: 0.0181\n",
            "Эпоха: [8/10], Ошибка: 0.0089\n",
            "Эпоха: [9/10], Ошибка: 0.0311\n",
            "Эпоха: [10/10], Ошибка: 0.0369\n",
            "0.01-learningRate-256-hidden-32-batchSize\n",
            "Эпоха: [1/10], Ошибка: 0.0124\n",
            "Эпоха: [2/10], Ошибка: 0.0226\n",
            "Эпоха: [3/10], Ошибка: 0.0086\n",
            "Эпоха: [4/10], Ошибка: 0.0044\n",
            "Эпоха: [5/10], Ошибка: 0.0204\n",
            "Эпоха: [6/10], Ошибка: 0.0103\n",
            "Эпоха: [7/10], Ошибка: 0.0090\n",
            "Эпоха: [8/10], Ошибка: 0.0094\n",
            "Эпоха: [9/10], Ошибка: 0.0360\n",
            "Эпоха: [10/10], Ошибка: 0.0102\n",
            "0.01-learningRate-256-hidden-64-batchSize\n",
            "Эпоха: [1/10], Ошибка: 0.0022\n",
            "Эпоха: [2/10], Ошибка: 0.0115\n",
            "Эпоха: [3/10], Ошибка: 0.0030\n",
            "Эпоха: [4/10], Ошибка: 0.0098\n",
            "Эпоха: [5/10], Ошибка: 0.0274\n",
            "Эпоха: [6/10], Ошибка: 0.0091\n",
            "Эпоха: [7/10], Ошибка: 0.0056\n",
            "Эпоха: [8/10], Ошибка: 0.0105\n",
            "Эпоха: [9/10], Ошибка: 0.0056\n",
            "Эпоха: [10/10], Ошибка: 0.0134\n",
            "0.01-learningRate-256-hidden-128-batchSize\n",
            "Эпоха: [1/10], Ошибка: 0.0105\n",
            "Эпоха: [2/10], Ошибка: 0.0110\n",
            "Эпоха: [3/10], Ошибка: 0.0118\n",
            "Эпоха: [4/10], Ошибка: 0.0395\n",
            "Эпоха: [5/10], Ошибка: 0.0163\n",
            "Эпоха: [6/10], Ошибка: 0.0081\n",
            "Эпоха: [7/10], Ошибка: 0.0095\n",
            "Эпоха: [8/10], Ошибка: 0.0222\n",
            "Эпоха: [9/10], Ошибка: 0.0054\n",
            "Эпоха: [10/10], Ошибка: 0.0097\n",
            "0.01-learningRate-512-hidden-32-batchSize\n",
            "Эпоха: [1/10], Ошибка: 0.0170\n",
            "Эпоха: [2/10], Ошибка: 0.0068\n",
            "Эпоха: [3/10], Ошибка: 0.0121\n",
            "Эпоха: [4/10], Ошибка: 0.0041\n",
            "Эпоха: [5/10], Ошибка: 0.0205\n",
            "Эпоха: [6/10], Ошибка: 0.0084\n",
            "Эпоха: [7/10], Ошибка: 0.0066\n",
            "Эпоха: [8/10], Ошибка: 0.0076\n",
            "Эпоха: [9/10], Ошибка: 0.0059\n",
            "Эпоха: [10/10], Ошибка: 0.0343\n",
            "0.01-learningRate-512-hidden-64-batchSize\n",
            "Эпоха: [1/10], Ошибка: 0.0060\n",
            "Эпоха: [2/10], Ошибка: 0.0098\n",
            "Эпоха: [3/10], Ошибка: 0.0297\n",
            "Эпоха: [4/10], Ошибка: 0.0238\n",
            "Эпоха: [5/10], Ошибка: 0.0099\n",
            "Эпоха: [6/10], Ошибка: 0.0109\n",
            "Эпоха: [7/10], Ошибка: 0.0016\n",
            "Эпоха: [8/10], Ошибка: 0.0049\n",
            "Эпоха: [9/10], Ошибка: 0.0455\n",
            "Эпоха: [10/10], Ошибка: 0.0039\n",
            "0.01-learningRate-512-hidden-128-batchSize\n",
            "Эпоха: [1/10], Ошибка: 0.0050\n",
            "Эпоха: [2/10], Ошибка: 0.0080\n",
            "Эпоха: [3/10], Ошибка: 0.0131\n",
            "Эпоха: [4/10], Ошибка: 0.0115\n",
            "Эпоха: [5/10], Ошибка: 0.0157\n",
            "Эпоха: [6/10], Ошибка: 0.0103\n",
            "Эпоха: [7/10], Ошибка: 0.0058\n",
            "Эпоха: [8/10], Ошибка: 0.0050\n",
            "Эпоха: [9/10], Ошибка: 0.0050\n",
            "Эпоха: [10/10], Ошибка: 0.0064\n",
            "0.001-learningRate-128-hidden-32-batchSize\n",
            "Эпоха: [1/10], Ошибка: 0.0086\n",
            "Эпоха: [2/10], Ошибка: 0.0012\n",
            "Эпоха: [3/10], Ошибка: 0.0004\n",
            "Эпоха: [4/10], Ошибка: 0.0068\n",
            "Эпоха: [5/10], Ошибка: 0.0162\n",
            "Эпоха: [6/10], Ошибка: 0.0053\n",
            "Эпоха: [7/10], Ошибка: 0.0219\n",
            "Эпоха: [8/10], Ошибка: 0.0221\n",
            "Эпоха: [9/10], Ошибка: 0.0017\n",
            "Эпоха: [10/10], Ошибка: 0.0033\n",
            "0.001-learningRate-128-hidden-64-batchSize\n",
            "Эпоха: [1/10], Ошибка: 0.0099\n",
            "Эпоха: [2/10], Ошибка: 0.0125\n",
            "Эпоха: [3/10], Ошибка: 0.0132\n",
            "Эпоха: [4/10], Ошибка: 0.0046\n",
            "Эпоха: [5/10], Ошибка: 0.0065\n",
            "Эпоха: [6/10], Ошибка: 0.0067\n",
            "Эпоха: [7/10], Ошибка: 0.0016\n",
            "Эпоха: [8/10], Ошибка: 0.0067\n",
            "Эпоха: [9/10], Ошибка: 0.0166\n",
            "Эпоха: [10/10], Ошибка: 0.0109\n",
            "0.001-learningRate-128-hidden-128-batchSize\n",
            "Эпоха: [1/10], Ошибка: 0.0074\n",
            "Эпоха: [2/10], Ошибка: 0.0063\n",
            "Эпоха: [3/10], Ошибка: 0.0197\n",
            "Эпоха: [4/10], Ошибка: 0.0176\n",
            "Эпоха: [5/10], Ошибка: 0.0057\n",
            "Эпоха: [6/10], Ошибка: 0.0072\n",
            "Эпоха: [7/10], Ошибка: 0.0073\n",
            "Эпоха: [8/10], Ошибка: 0.0050\n",
            "Эпоха: [9/10], Ошибка: 0.0066\n",
            "Эпоха: [10/10], Ошибка: 0.0071\n",
            "0.001-learningRate-256-hidden-32-batchSize\n",
            "Эпоха: [1/10], Ошибка: 0.0040\n",
            "Эпоха: [2/10], Ошибка: 0.0024\n",
            "Эпоха: [3/10], Ошибка: 0.0069\n",
            "Эпоха: [4/10], Ошибка: 0.0061\n",
            "Эпоха: [5/10], Ошибка: 0.0106\n",
            "Эпоха: [6/10], Ошибка: 0.0102\n",
            "Эпоха: [7/10], Ошибка: 0.0077\n",
            "Эпоха: [8/10], Ошибка: 0.0052\n",
            "Эпоха: [9/10], Ошибка: 0.0012\n",
            "Эпоха: [10/10], Ошибка: 0.0013\n",
            "0.001-learningRate-256-hidden-64-batchSize\n",
            "Эпоха: [1/10], Ошибка: 0.0019\n",
            "Эпоха: [2/10], Ошибка: 0.0277\n",
            "Эпоха: [3/10], Ошибка: 0.0019\n",
            "Эпоха: [4/10], Ошибка: 0.0101\n",
            "Эпоха: [5/10], Ошибка: 0.0083\n",
            "Эпоха: [6/10], Ошибка: 0.0020\n",
            "Эпоха: [7/10], Ошибка: 0.0041\n",
            "Эпоха: [8/10], Ошибка: 0.0147\n",
            "Эпоха: [9/10], Ошибка: 0.0118\n",
            "Эпоха: [10/10], Ошибка: 0.0118\n",
            "0.001-learningRate-256-hidden-128-batchSize\n",
            "Эпоха: [1/10], Ошибка: 0.0074\n",
            "Эпоха: [2/10], Ошибка: 0.0089\n",
            "Эпоха: [3/10], Ошибка: 0.0046\n",
            "Эпоха: [4/10], Ошибка: 0.0131\n",
            "Эпоха: [5/10], Ошибка: 0.0080\n",
            "Эпоха: [6/10], Ошибка: 0.0068\n",
            "Эпоха: [7/10], Ошибка: 0.0109\n",
            "Эпоха: [8/10], Ошибка: 0.0184\n",
            "Эпоха: [9/10], Ошибка: 0.0036\n",
            "Эпоха: [10/10], Ошибка: 0.0090\n",
            "0.001-learningRate-512-hidden-32-batchSize\n",
            "Эпоха: [1/10], Ошибка: 0.0163\n",
            "Эпоха: [2/10], Ошибка: 0.0039\n",
            "Эпоха: [3/10], Ошибка: 0.0006\n",
            "Эпоха: [4/10], Ошибка: 0.0065\n",
            "Эпоха: [5/10], Ошибка: 0.0013\n",
            "Эпоха: [6/10], Ошибка: 0.0103\n",
            "Эпоха: [7/10], Ошибка: 0.0037\n",
            "Эпоха: [8/10], Ошибка: 0.0188\n",
            "Эпоха: [9/10], Ошибка: 0.0083\n",
            "Эпоха: [10/10], Ошибка: 0.0177\n",
            "0.001-learningRate-512-hidden-64-batchSize\n",
            "Эпоха: [1/10], Ошибка: 0.0225\n",
            "Эпоха: [2/10], Ошибка: 0.0036\n",
            "Эпоха: [3/10], Ошибка: 0.0164\n",
            "Эпоха: [4/10], Ошибка: 0.0023\n",
            "Эпоха: [5/10], Ошибка: 0.0142\n",
            "Эпоха: [6/10], Ошибка: 0.0181\n",
            "Эпоха: [7/10], Ошибка: 0.0066\n",
            "Эпоха: [8/10], Ошибка: 0.0099\n",
            "Эпоха: [9/10], Ошибка: 0.0049\n",
            "Эпоха: [10/10], Ошибка: 0.0019\n",
            "0.001-learningRate-512-hidden-128-batchSize\n",
            "Эпоха: [1/10], Ошибка: 0.0212\n",
            "Эпоха: [2/10], Ошибка: 0.0040\n",
            "Эпоха: [3/10], Ошибка: 0.0072\n",
            "Эпоха: [4/10], Ошибка: 0.0101\n",
            "Эпоха: [5/10], Ошибка: 0.0092\n",
            "Эпоха: [6/10], Ошибка: 0.0165\n",
            "Эпоха: [7/10], Ошибка: 0.0145\n",
            "Эпоха: [8/10], Ошибка: 0.0063\n",
            "Эпоха: [9/10], Ошибка: 0.0097\n",
            "Эпоха: [10/10], Ошибка: 0.0083\n"
          ],
          "name": "stdout"
        },
        {
          "output_type": "display_data",
          "data": {
            "image/png": "[encoded data removed]",
            "text/plain": [
              "<Figure size 432x288 with 1 Axes>"
            ]
          },
          "metadata": {
            "tags": [],
            "needs_background": "light"
          }
        }
      ]
    },
    {
      "cell_type": "code",
      "metadata": {
        "id": "7BPY_ouWZmuN",
        "colab": {
          "base_uri": "https://localhost:8080/",
          "height": 580
        },
        "outputId": "e2f4e256-feac-46ca-80a7-a1267e6363f1"
      },
      "source": [
        "df"
      ],
      "execution_count": null,
      "outputs": [
        {
          "output_type": "execute_result",
          "data": {
            "text/html": [
              "<div>\n",
              "<style scoped>\n",
              "    .dataframe tbody tr th:only-of-type {\n",
              "        vertical-align: middle;\n",
              "    }\n",
              "\n",
              "    .dataframe tbody tr th {\n",
              "        vertical-align: top;\n",
              "    }\n",
              "\n",
              "    .dataframe thead th {\n",
              "        text-align: right;\n",
              "    }\n",
              "</style>\n",
              "<table border=\"1\" class=\"dataframe\">\n",
              "  <thead>\n",
              "    <tr style=\"text-align: right;\">\n",
              "      <th></th>\n",
              "      <th>train score</th>\n",
              "    </tr>\n",
              "  </thead>\n",
              "  <tbody>\n",
              "    <tr>\n",
              "      <th>0.01-learningRate-128-hidden-32-batchSize</th>\n",
              "      <td>98.00</td>\n",
              "    </tr>\n",
              "    <tr>\n",
              "      <th>0.01-learningRate-128-hidden-64-batchSize</th>\n",
              "      <td>98.01</td>\n",
              "    </tr>\n",
              "    <tr>\n",
              "      <th>0.01-learningRate-128-hidden-128-batchSize</th>\n",
              "      <td>98.02</td>\n",
              "    </tr>\n",
              "    <tr>\n",
              "      <th>0.01-learningRate-256-hidden-32-batchSize</th>\n",
              "      <td>98.04</td>\n",
              "    </tr>\n",
              "    <tr>\n",
              "      <th>0.01-learningRate-256-hidden-64-batchSize</th>\n",
              "      <td>98.06</td>\n",
              "    </tr>\n",
              "    <tr>\n",
              "      <th>0.01-learningRate-256-hidden-128-batchSize</th>\n",
              "      <td>98.05</td>\n",
              "    </tr>\n",
              "    <tr>\n",
              "      <th>0.01-learningRate-512-hidden-32-batchSize</th>\n",
              "      <td>98.09</td>\n",
              "    </tr>\n",
              "    <tr>\n",
              "      <th>0.01-learningRate-512-hidden-64-batchSize</th>\n",
              "      <td>98.09</td>\n",
              "    </tr>\n",
              "    <tr>\n",
              "      <th>0.01-learningRate-512-hidden-128-batchSize</th>\n",
              "      <td>98.09</td>\n",
              "    </tr>\n",
              "    <tr>\n",
              "      <th>0.001-learningRate-128-hidden-32-batchSize</th>\n",
              "      <td>98.10</td>\n",
              "    </tr>\n",
              "    <tr>\n",
              "      <th>0.001-learningRate-128-hidden-64-batchSize</th>\n",
              "      <td>98.10</td>\n",
              "    </tr>\n",
              "    <tr>\n",
              "      <th>0.001-learningRate-128-hidden-128-batchSize</th>\n",
              "      <td>98.10</td>\n",
              "    </tr>\n",
              "    <tr>\n",
              "      <th>0.001-learningRate-256-hidden-32-batchSize</th>\n",
              "      <td>98.10</td>\n",
              "    </tr>\n",
              "    <tr>\n",
              "      <th>0.001-learningRate-256-hidden-64-batchSize</th>\n",
              "      <td>98.11</td>\n",
              "    </tr>\n",
              "    <tr>\n",
              "      <th>0.001-learningRate-256-hidden-128-batchSize</th>\n",
              "      <td>98.10</td>\n",
              "    </tr>\n",
              "    <tr>\n",
              "      <th>0.001-learningRate-512-hidden-32-batchSize</th>\n",
              "      <td>98.10</td>\n",
              "    </tr>\n",
              "    <tr>\n",
              "      <th>0.001-learningRate-512-hidden-64-batchSize</th>\n",
              "      <td>98.09</td>\n",
              "    </tr>\n",
              "    <tr>\n",
              "      <th>0.001-learningRate-512-hidden-128-batchSize</th>\n",
              "      <td>98.09</td>\n",
              "    </tr>\n",
              "  </tbody>\n",
              "</table>\n",
              "</div>"
            ],
            "text/plain": [
              "                                             train score\n",
              "0.01-learningRate-128-hidden-32-batchSize          98.00\n",
              "0.01-learningRate-128-hidden-64-batchSize          98.01\n",
              "0.01-learningRate-128-hidden-128-batchSize         98.02\n",
              "0.01-learningRate-256-hidden-32-batchSize          98.04\n",
              "0.01-learningRate-256-hidden-64-batchSize          98.06\n",
              "0.01-learningRate-256-hidden-128-batchSize         98.05\n",
              "0.01-learningRate-512-hidden-32-batchSize          98.09\n",
              "0.01-learningRate-512-hidden-64-batchSize          98.09\n",
              "0.01-learningRate-512-hidden-128-batchSize         98.09\n",
              "0.001-learningRate-128-hidden-32-batchSize         98.10\n",
              "0.001-learningRate-128-hidden-64-batchSize         98.10\n",
              "0.001-learningRate-128-hidden-128-batchSize        98.10\n",
              "0.001-learningRate-256-hidden-32-batchSize         98.10\n",
              "0.001-learningRate-256-hidden-64-batchSize         98.11\n",
              "0.001-learningRate-256-hidden-128-batchSize        98.10\n",
              "0.001-learningRate-512-hidden-32-batchSize         98.10\n",
              "0.001-learningRate-512-hidden-64-batchSize         98.09\n",
              "0.001-learningRate-512-hidden-128-batchSize        98.09"
            ]
          },
          "metadata": {
            "tags": []
          },
          "execution_count": 61
        }
      ]
    },
    {
      "cell_type": "code",
      "metadata": {
        "id": "3IyGT6uIezDS",
        "colab": {
          "base_uri": "https://localhost:8080/",
          "height": 77
        },
        "outputId": "3bf370d7-e3ad-466f-cad9-108296917125"
      },
      "source": [
        "df[df['train score'] == df['train score'].max()]"
      ],
      "execution_count": null,
      "outputs": [
        {
          "output_type": "execute_result",
          "data": {
            "text/html": [
              "<div>\n",
              "<style scoped>\n",
              "    .dataframe tbody tr th:only-of-type {\n",
              "        vertical-align: middle;\n",
              "    }\n",
              "\n",
              "    .dataframe tbody tr th {\n",
              "        vertical-align: top;\n",
              "    }\n",
              "\n",
              "    .dataframe thead th {\n",
              "        text-align: right;\n",
              "    }\n",
              "</style>\n",
              "<table border=\"1\" class=\"dataframe\">\n",
              "  <thead>\n",
              "    <tr style=\"text-align: right;\">\n",
              "      <th></th>\n",
              "      <th>train score</th>\n",
              "    </tr>\n",
              "  </thead>\n",
              "  <tbody>\n",
              "    <tr>\n",
              "      <th>0.001-learningRate-256-hidden-64-batchSize</th>\n",
              "      <td>98.11</td>\n",
              "    </tr>\n",
              "  </tbody>\n",
              "</table>\n",
              "</div>"
            ],
            "text/plain": [
              "                                            train score\n",
              "0.001-learningRate-256-hidden-64-batchSize        98.11"
            ]
          },
          "metadata": {
            "tags": []
          },
          "execution_count": 62
        }
      ]
    }
  ]
}