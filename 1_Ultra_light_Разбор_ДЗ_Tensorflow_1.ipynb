{
  "nbformat": 4,
  "nbformat_minor": 0,
  "metadata": {
    "colab": {
      "name": "Ultra light. Разбор ДЗ Tensorflow #1",
      "provenance": [],
      "collapsed_sections": []
    },
    "kernelspec": {
      "name": "python3",
      "display_name": "Python 3"
    },
    "accelerator": "GPU"
  },
  "cells": [
    {
      "cell_type": "code",
      "metadata": {
        "id": "N4EDUvvegaVM"
      },
      "source": [
        "import tensorflow as tf\n",
        "import numpy as np"
      ],
      "execution_count": null,
      "outputs": []
    },
    {
      "cell_type": "markdown",
      "metadata": {
        "id": "suKdj99NhxUA"
      },
      "source": [
        "**Создайте трехмерный тензор из массива случайных чисел.**"
      ]
    },
    {
      "cell_type": "code",
      "metadata": {
        "id": "fofMcJvpgbxf",
        "outputId": "50b5bda5-1b33-418c-f847-19358c538ed6",
        "colab": {
          "base_uri": "https://localhost:8080/"
        }
      },
      "source": [
        "# Создаем трехмерный массив\n",
        "my_array = np.random.randint(0, 10, (3, 2, 3))\n",
        "\n",
        "# Создаем трехмерный тензор\n",
        "my_tensor = tf.constant(my_array)\n",
        "print('Трехмерный тензор: ')\n",
        "print(my_tensor)"
      ],
      "execution_count": null,
      "outputs": [
        {
          "output_type": "stream",
          "name": "stdout",
          "text": [
            "Трехмерный тензор: \n",
            "tf.Tensor(\n",
            "[[[8 5 6]\n",
            "  [4 7 8]]\n",
            "\n",
            " [[3 5 8]\n",
            "  [7 0 9]]\n",
            "\n",
            " [[5 5 3]\n",
            "  [7 1 0]]], shape=(3, 2, 3), dtype=int64)\n"
          ]
        }
      ]
    },
    {
      "cell_type": "markdown",
      "metadata": {
        "id": "FHKwHwsQhzMH"
      },
      "source": [
        "**Создайте два тензора: один 2х3, второй 3х4. Умножьте их с помощью функции, затем с помощью оператора матричного умножения сравните результаты.**"
      ]
    },
    {
      "cell_type": "code",
      "metadata": {
        "id": "Zja75jS6g0rd",
        "outputId": "586aec09-75ca-4213-fd60-45fbeee74dc3",
        "colab": {
          "base_uri": "https://localhost:8080/"
        }
      },
      "source": [
        "# Первый тензор размерностью 2х3\n",
        "first_tensor = tf.constant(np.random.randint(0, 10, (2, 3)))\n",
        "print(first_tensor, '\\n')\n",
        "\n",
        "# Второй тензор размерностью 3х4\n",
        "second_tensor = tf.constant(np.random.randint(0, 10, (3, 4)))\n",
        "print(second_tensor)"
      ],
      "execution_count": null,
      "outputs": [
        {
          "output_type": "stream",
          "name": "stdout",
          "text": [
            "tf.Tensor(\n",
            "[[1 6 1]\n",
            " [9 4 0]], shape=(2, 3), dtype=int64) \n",
            "\n",
            "tf.Tensor(\n",
            "[[8 3 0 7]\n",
            " [8 3 2 2]\n",
            " [5 2 5 8]], shape=(3, 4), dtype=int64)\n"
          ]
        }
      ]
    },
    {
      "cell_type": "code",
      "metadata": {
        "id": "_y4k8y0iieGt",
        "outputId": "dc11d361-13cb-4027-e664-77c7f18e199b",
        "colab": {
          "base_uri": "https://localhost:8080/"
        }
      },
      "source": [
        "# Перемножение при помощи функции\n",
        "print(tf.matmul(first_tensor, second_tensor), '\\n')\n",
        "\n",
        "# Перемножение при помощи оператора матричного умножения\n",
        "print(first_tensor @ second_tensor)"
      ],
      "execution_count": null,
      "outputs": [
        {
          "output_type": "stream",
          "name": "stdout",
          "text": [
            "tf.Tensor(\n",
            "[[ 61  23  17  27]\n",
            " [104  39   8  71]], shape=(2, 4), dtype=int64) \n",
            "\n",
            "tf.Tensor(\n",
            "[[ 61  23  17  27]\n",
            " [104  39   8  71]], shape=(2, 4), dtype=int64)\n"
          ]
        }
      ]
    },
    {
      "cell_type": "markdown",
      "metadata": {
        "id": "vePenkn9maRr"
      },
      "source": [
        "**Создайте ragged тензор. Выведите, на каком устройстве он располагается.**"
      ]
    },
    {
      "cell_type": "code",
      "metadata": {
        "id": "KvvhVuFRnLx8",
        "outputId": "b30c136f-431d-4512-ae8b-cfa84947063e",
        "colab": {
          "base_uri": "https://localhost:8080/"
        }
      },
      "source": [
        "# Создаем ragged тензор\n",
        "ragged_tensor = tf.ragged.constant([[1, 2], [2, 3, 4], [3]])\n",
        "print(ragged_tensor)"
      ],
      "execution_count": null,
      "outputs": [
        {
          "output_type": "stream",
          "name": "stdout",
          "text": [
            "<tf.RaggedTensor [[1, 2], [2, 3, 4], [3]]>\n"
          ]
        }
      ]
    },
    {
      "cell_type": "code",
      "metadata": {
        "id": "BYK6uTuUl3ZC",
        "outputId": "2e990d6e-b47b-45c3-bfaa-1cbdd0cc362b",
        "colab": {
          "base_uri": "https://localhost:8080/"
        }
      },
      "source": [
        "# Создаем тензор 3х3\n",
        "valid_tensor = tf.constant([[1, 2, 0], [2, 3, 4], [0, 0, 3]])\n",
        "print(valid_tensor)"
      ],
      "execution_count": null,
      "outputs": [
        {
          "output_type": "stream",
          "name": "stdout",
          "text": [
            "tf.Tensor(\n",
            "[[1 2 0]\n",
            " [2 3 4]\n",
            " [0 0 3]], shape=(3, 3), dtype=int32)\n"
          ]
        }
      ]
    },
    {
      "cell_type": "code",
      "metadata": {
        "id": "IfpOuGGNngXV",
        "outputId": "583f1e04-ea42-4ac4-9bb1-130838d47c12",
        "colab": {
          "base_uri": "https://localhost:8080/"
        }
      },
      "source": [
        "# Проверяем, какие есть устройства\n",
        "tf.config.experimental.list_physical_devices()"
      ],
      "execution_count": null,
      "outputs": [
        {
          "output_type": "execute_result",
          "data": {
            "text/plain": [
              "[PhysicalDevice(name='/physical_device:CPU:0', device_type='CPU'),\n",
              " PhysicalDevice(name='/physical_device:GPU:0', device_type='GPU')]"
            ]
          },
          "metadata": {},
          "execution_count": 7
        }
      ]
    },
    {
      "cell_type": "code",
      "metadata": {
        "id": "oXr5kbH8oPAJ",
        "outputId": "ff33aca7-473d-4494-f91e-0fc146b4721a",
        "colab": {
          "base_uri": "https://localhost:8080/"
        }
      },
      "source": [
        "# Проверяем, на каком устройстве он располагается\n",
        "ragged_tensor.values.device.endswith('CPU:0')"
      ],
      "execution_count": null,
      "outputs": [
        {
          "output_type": "execute_result",
          "data": {
            "text/plain": [
              "False"
            ]
          },
          "metadata": {},
          "execution_count": 8
        }
      ]
    },
    {
      "cell_type": "code",
      "metadata": {
        "id": "W1ARRi7Yjqdl"
      },
      "source": [
        ""
      ],
      "execution_count": null,
      "outputs": []
    }
  ]
}